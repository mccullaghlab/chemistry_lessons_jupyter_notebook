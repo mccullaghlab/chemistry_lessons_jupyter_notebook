{
 "cells": [
  {
   "cell_type": "markdown",
   "id": "19c7929a",
   "metadata": {
    "slideshow": {
     "slide_type": "slide"
    }
   },
   "source": [
    "# The First Law of Thermodynamics"
   ]
  },
  {
   "cell_type": "markdown",
   "id": "3fd04b27",
   "metadata": {
    "slideshow": {
     "slide_type": "fragment"
    }
   },
   "source": [
    "Thermodynamics is the study of how heat moves.  It tells us nothing about the time it takes for a process to happen but the laws of Thermodynamics have proven to govern whether things happen.  Things can be anything from macroscopic phenomenon to biochemical processes.  "
   ]
  },
  {
   "cell_type": "markdown",
   "id": "cd0d8aca",
   "metadata": {
    "slideshow": {
     "slide_type": "slide"
    }
   },
   "source": [
    "## Learning goals for today:"
   ]
  },
  {
   "cell_type": "markdown",
   "id": "0986f265",
   "metadata": {
    "slideshow": {
     "slide_type": "fragment"
    }
   },
   "source": [
    "After these notes, you should be able to:\n",
    "\n",
    "1. Be able to state the first law of Thermodynamics\n",
    "2. Define the internal energy of a chemical system\n",
    "3. Define how a state function differs from a non-state function\n",
    "4. Give at least three examples of state functions\n",
    "5. Define a Thermodynamic system"
   ]
  },
  {
   "cell_type": "markdown",
   "id": "3ba55896",
   "metadata": {},
   "source": [
    "## Coding Concepts\n",
    "\n",
    "The following coding concepts are used in this notebook:\n",
    "\n",
    "1. Numeric integration\n",
    "2. Plotting with matplotlib"
   ]
  },
  {
   "cell_type": "markdown",
   "id": "e6ad7a29",
   "metadata": {
    "slideshow": {
     "slide_type": "slide"
    }
   },
   "source": [
    "## Statement of the first law"
   ]
  },
  {
   "cell_type": "markdown",
   "id": "0a5b1e63",
   "metadata": {
    "slideshow": {
     "slide_type": "fragment"
    }
   },
   "source": [
    "1. The internal energy of an *isolated system*, $U_{sys}$, is a *state function* and subject to conservation ($\\Delta U_{sys} = 0$ if the initial and final states are the same).  \n",
    "\n",
    "where an *isolated system* is one that cannot exchange heat or matter with surroundings, a *state function* has values that do not depend on the path taken, and $\\Delta U_{sys} = U_{sys}^{final} - U_{sys}^{initial}$"
   ]
  },
  {
   "cell_type": "markdown",
   "id": "dc369c48",
   "metadata": {
    "slideshow": {
     "slide_type": "slide"
    }
   },
   "source": [
    "## Internal energy"
   ]
  },
  {
   "cell_type": "markdown",
   "id": "b7121341",
   "metadata": {
    "slideshow": {
     "slide_type": "fragment"
    }
   },
   "source": [
    "The internal energy of a chemical system is a measure of the chemical (potential) and thermal (kinetic) energy in the system.  It is denoted *internal* because it does not include the kinetic and potential energies of the system moving as a whole or the interaction with the system and the surroundings.  Within the context of chemistry, things like bond energies and the non-bonded interactions that we have discussed would be included in the internal energy."
   ]
  },
  {
   "cell_type": "markdown",
   "id": "d97424dd",
   "metadata": {
    "slideshow": {
     "slide_type": "slide"
    }
   },
   "source": [
    "## State function"
   ]
  },
  {
   "cell_type": "markdown",
   "id": "3c59863e",
   "metadata": {
    "slideshow": {
     "slide_type": "fragment"
    }
   },
   "source": [
    "State functions are important in Thermodynamics.  These functions do not depend on path but only the initial and final position.  Examples in Thermodynamics include change in internal energy ($\\Delta U$), change in enthalpy ($\\Delta H$), change in entropy ($\\Delta S$), change in free energy ($\\Delta G$ or $\\Delta A$), and others.  State functions have the mathematical property of having an exact differential which will be important later on."
   ]
  },
  {
   "cell_type": "markdown",
   "id": "4350dd0e",
   "metadata": {
    "slideshow": {
     "slide_type": "fragment"
    }
   },
   "source": [
    "Examples of things that are not state functions: work, heat, and other specific forms of energy.  "
   ]
  },
  {
   "cell_type": "markdown",
   "id": "e85e47db",
   "metadata": {
    "slideshow": {
     "slide_type": "slide"
    }
   },
   "source": [
    "### Example of a state function"
   ]
  },
  {
   "cell_type": "markdown",
   "id": "d8027f33",
   "metadata": {
    "slideshow": {
     "slide_type": "fragment"
    }
   },
   "source": [
    "Consider going from point $A$ to point $B$ anywhere on the globe.  \n",
    "\n",
    "1. Elevation, $Z$, is a state function: the elevations at points $A$ and $B$ only depend on where those points not how you got from point $A$ to point $B$.  The change in elevation, $\\Delta Z$, is also then a state function.  \n",
    "\n",
    "2. Distance traveled is not a state function. There may be many different ways to get from point $A$ to point $B$ some of which will require traveling a greater distance.  We say that distance traveled is path dependent.  "
   ]
  },
  {
   "cell_type": "markdown",
   "id": "1f296a51",
   "metadata": {
    "slideshow": {
     "slide_type": "slide"
    }
   },
   "source": [
    "### Example of a State Function"
   ]
  },
  {
   "cell_type": "markdown",
   "id": "c1ac1dc5",
   "metadata": {
    "slideshow": {
     "slide_type": "fragment"
    }
   },
   "source": [
    "Consider going from and elevation of $E(0) = 0$ to $E(1)=10$ using two different paths:\n",
    "\n",
    "1. $E(x) = 10x$\n",
    "2. $E(x) = 10x^2$\n",
    "\n",
    "Compute the change in elevation and distance traveled along these two paths."
   ]
  },
  {
   "cell_type": "code",
   "execution_count": 1,
   "id": "2701b883",
   "metadata": {},
   "outputs": [
    {
     "data": {
      "text/plain": [
       "[<matplotlib.lines.Line2D at 0x7f79226ef100>]"
      ]
     },
     "execution_count": 1,
     "metadata": {},
     "output_type": "execute_result"
    },
    {
     "data": {
      "image/png": "[encoded data removed]",
      "text/plain": [
       "<Figure size 320x320 with 1 Axes>"
      ]
     },
     "metadata": {},
     "output_type": "display_data"
    }
   ],
   "source": [
    "# We start by plotting the two different paths\n",
    "import numpy as np\n",
    "import matplotlib.pyplot as plt\n",
    "%matplotlib inline\n",
    "# setup plot parameters\n",
    "fontsize=12\n",
    "fig = plt.figure(figsize=(4,4), dpi= 80, facecolor='w', edgecolor='k')\n",
    "ax = plt.subplot(111)\n",
    "ax.grid(b=True, which='major', axis='both', color='#808080', linestyle='--')\n",
    "ax.set_xlabel(\"$x$\",size=fontsize)\n",
    "ax.set_ylabel(\"$E(x)$\",size=fontsize)\n",
    "plt.tick_params(axis='both',labelsize=fontsize)\n",
    "# plot two curves\n",
    "x = np.arange(0,1,0.0001)\n",
    "plt.plot(x,10*x,lw=2)\n",
    "plt.plot(x,10*x**2,lw=2)"
   ]
  },
  {
   "cell_type": "markdown",
   "id": "7baf430d",
   "metadata": {
    "slideshow": {
     "slide_type": "slide"
    }
   },
   "source": [
    "The change in elevation is clearly 10 in both cases but we will show that here.  \n",
    "\n",
    "For the first path:\n",
    "\\begin{eqnarray}\n",
    "\\Delta E_1 &=& \\int_{0}^{1}\\frac{dE_1}{dx}dx \\\\\n",
    "&=& E_1(1) - E_1(0) \\\\\n",
    "&=& 10 - 0 =10\n",
    "\\end{eqnarray}\n",
    "\n",
    "For the second path:\n",
    "\\begin{eqnarray}\n",
    "\\Delta E_2 &=& \\int_{0}^{1}\\frac{dE_2}{dx}dx \\\\\n",
    "&=& E_2(1) - E_2(0) \\\\\n",
    "&=& 10 - 0 =10\n",
    "\\end{eqnarray}\n",
    "\n",
    "For distance traveled, we need to compute path/arc length. This is easy enough for $E_1$:\n",
    "\n",
    "For the first path:\n",
    "\\begin{eqnarray}\n",
    "L_1 &=& \\int_{0}^{1} \\sqrt{1+\\left(\\frac{dE_1}{dx}\\right)^2}dx \\\\\n",
    "&=& \\int_{0}^{1} \\sqrt{1+\\left(10\\right)^2}dx \\\\\n",
    "&=& \\sqrt{101} \\\\\n",
    "&\\approx& 10.05\n",
    "\\end{eqnarray}\n",
    "where we could also determine this using Pythagorean's theorem.\n",
    "\n",
    "For $E_2$:\n",
    "\\begin{eqnarray}\n",
    "L_2 &=& \\int_{0}^{1} \\sqrt{1+\\left(\\frac{dE_2}{dx}\\right)^2}dx \\\\\n",
    "&=& \\int_{0}^{1} \\sqrt{1+\\left(20x\\right)^2}dx \\\\\n",
    "&=& \\int_{0}^{1} \\sqrt{1+400x^2}dx \\\\\n",
    "&\\approx& 10.10\n",
    "\\end{eqnarray}\n",
    "where I used numeric integration to estimate the last integral (see code below)."
   ]
  },
  {
   "cell_type": "code",
   "execution_count": 5,
   "id": "7d314ea2",
   "metadata": {},
   "outputs": [
    {
     "name": "stdout",
     "output_type": "stream",
     "text": [
      "10.10472979397512\n"
     ]
    }
   ],
   "source": [
    "from scipy.integrate import quad\n",
    "def integrand(x):\n",
    "    return np.sqrt(1+400*x**2)\n",
    "numeric_integral = quad(integrand,0,1)[0]\n",
    "print(numeric_integral)"
   ]
  },
  {
   "cell_type": "markdown",
   "id": "d93c1754",
   "metadata": {
    "slideshow": {
     "slide_type": "slide"
    }
   },
   "source": [
    "## Thermodynamic system"
   ]
  },
  {
   "cell_type": "markdown",
   "id": "04d02927",
   "metadata": {
    "slideshow": {
     "slide_type": "fragment"
    }
   },
   "source": [
    "The concept of a *system* in Thermodynamics is somewhat vague but important.  A system can be defined as anything but is typically the substance/volume of interest.  This might be, for example, the beaker with the solution of interest during an experiment.  Key concepts regarding a system are: definition of the system, surroundings and types of barriers between system and surroundings."
   ]
  },
  {
   "cell_type": "markdown",
   "id": "468ca9f8",
   "metadata": {
    "slideshow": {
     "slide_type": "slide"
    }
   },
   "source": [
    "<img src=\"Thermo_system.png\" width=\"750\" align=\"center\">"
   ]
  },
  {
   "cell_type": "markdown",
   "id": "163c6100",
   "metadata": {
    "slideshow": {
     "slide_type": "slide"
    }
   },
   "source": [
    "### Types of Thermodynamic systems"
   ]
  },
  {
   "cell_type": "markdown",
   "id": "79c92e2a",
   "metadata": {
    "slideshow": {
     "slide_type": "fragment"
    }
   },
   "source": [
    "***Isolated:*** An isolated system cannot transfer heat or mass between system and surroundings."
   ]
  },
  {
   "cell_type": "markdown",
   "id": "2a5bf873",
   "metadata": {
    "slideshow": {
     "slide_type": "fragment"
    }
   },
   "source": [
    "***Closed:*** A closed system is one that cannot transfer mass between the system and the surroundings."
   ]
  },
  {
   "cell_type": "markdown",
   "id": "4aa4fd0c",
   "metadata": {
    "slideshow": {
     "slide_type": "fragment"
    }
   },
   "source": [
    "***Open:*** An open system can transfer both heat and mass between the system and the surroundings."
   ]
  }
 ],
 "metadata": {
  "celltoolbar": "Slideshow",
  "kernelspec": {
   "display_name": "Python 3",
   "language": "python",
   "name": "python3"
  },
  "language_info": {
   "codemirror_mode": {
    "name": "ipython",
    "version": 3
   },
   "file_extension": ".py",
   "mimetype": "text/x-python",
   "name": "python",
   "nbconvert_exporter": "python",
   "pygments_lexer": "ipython3",
   "version": "3.8.8"
  }
 },
 "nbformat": 4,
 "nbformat_minor": 5
}
