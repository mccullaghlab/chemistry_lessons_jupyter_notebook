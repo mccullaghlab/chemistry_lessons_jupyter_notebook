{
 "cells": [
  {
   "cell_type": "markdown",
   "metadata": {
    "slideshow": {
     "slide_type": "slide"
    }
   },
   "source": [
    "# The Carnot Cycle"
   ]
  },
  {
   "cell_type": "markdown",
   "metadata": {
    "slideshow": {
     "slide_type": "fragment"
    }
   },
   "source": [
    "We have discussed, briefly, the idea of gasses expanding and contracting and how to compute internal energy, work, and heat along different expansion/contraction paths.  Today we will discuss combining multiple steps into a cycle and computing internal energy, enthalpy, work and heat along this cycle."
   ]
  },
  {
   "cell_type": "markdown",
   "metadata": {
    "slideshow": {
     "slide_type": "slide"
    }
   },
   "source": [
    "## Learning goals:"
   ]
  },
  {
   "cell_type": "markdown",
   "metadata": {
    "slideshow": {
     "slide_type": "fragment"
    }
   },
   "source": [
    "After this lesson, students should be able to:\n",
    "1. Define what an adiabatic expansion/contraction of an ideal gas is\n",
    "2. Compute $\\Delta U$, $\\Delta H$, $q$ and $w$ for an adiabatic expansion/contraction of an ideal gas\n",
    "3. Compute $\\Delta U$, $\\Delta H$, $q$ and $w$ along the steps of the Carnot Cycle\n",
    "4. Compute $\\Delta U$, $\\Delta H$, $q$ and $w$ for the overall Carnot Cycle\n",
    "5. Draw a Carnot cycle on a PV diagram\n",
    "6. Relate volumes along Carnot cycle\n",
    "7. Compute efficiency of a heat engine following Carnot cycle"
   ]
  },
  {
   "cell_type": "markdown",
   "metadata": {},
   "source": [
    "## Coding Concepts\n",
    "\n",
    "1. Variables\n",
    "2. Plotting with matplotlib"
   ]
  },
  {
   "cell_type": "markdown",
   "metadata": {
    "slideshow": {
     "slide_type": "slide"
    }
   },
   "source": [
    "## The Carnot Cycle"
   ]
  },
  {
   "cell_type": "markdown",
   "metadata": {
    "slideshow": {
     "slide_type": "fragment"
    }
   },
   "source": [
    "The Carnot cycle is a special four point Thermodynamic cycle of an ideal gas.  It is the most efficient (can be shown when we learn about the second Law) cycle possible. It involves two types of reversible processes: (1) isothermal expansion/contration and (2) adiabatic expansion/contration.  We will derive some equations for (2) and use what we already know about (1)."
   ]
  },
  {
   "cell_type": "markdown",
   "metadata": {
    "slideshow": {
     "slide_type": "slide"
    }
   },
   "source": [
    "### Adiabatic expansion/contration"
   ]
  },
  {
   "cell_type": "markdown",
   "metadata": {
    "slideshow": {
     "slide_type": "fragment"
    }
   },
   "source": [
    "Adiabatic expansion/contraction is defined as a process for which there is not heat exhange.  Meaning $q=0$.  This yields simple expressions for $w$ and $\\Delta U$ and $\\Delta H$:\n",
    "\n",
    "$\\Delta U = C_V\\Delta T$\n",
    "\n",
    "$\\Delta H = C_P\\Delta T$\n",
    "\n",
    "$w = \\Delta U = C_V\\Delta T$"
   ]
  },
  {
   "cell_type": "markdown",
   "metadata": {
    "slideshow": {
     "slide_type": "slide"
    }
   },
   "source": [
    "### Adiabatic expansion/contraction on a PV diagram"
   ]
  },
  {
   "cell_type": "markdown",
   "metadata": {
    "slideshow": {
     "slide_type": "fragment"
    }
   },
   "source": [
    "But what does an adiabat look like on a PV diagram?   To determine this, we need to know what the restriction $q=0$ puts on $P$ as a function of $V$.  \n",
    "\n",
    "$P = \\frac{nRT}{V}$ \n",
    "\n",
    "The restriction of $q=0$ puts restrictions on $\\frac{T}{V}$.  Let's see what this will look like."
   ]
  },
  {
   "cell_type": "markdown",
   "metadata": {
    "slideshow": {
     "slide_type": "slide"
    }
   },
   "source": [
    "We start by writing out the differential form of the internal energy equation\n",
    "\n",
    "\\begin{align}\n",
    "dU &= \\delta q + \\delta w \\\\\n",
    "&= \\delta w\n",
    "\\end{align}\n",
    "\n",
    "since no heat transfer in an adiabatic process.  We now plug in for internal energy of an ideal gas $\\delta w = -PdV$ (reversible):\n",
    "\n",
    "\\begin{align}\n",
    "dU &= \\delta w \\\\\n",
    "C_V dT &= -PdV \\\\\n",
    "C_V dT & -\\frac{nRT}{V}dV\n",
    "\\end{align}\n",
    "\n",
    "where the last line I have used the ideal gas law (equation of state).  At this juncture we can integrate both sides.  But note that we cannot assume $T$ is constant because the process is ***not*** isothermal.\n",
    "\n",
    "\\begin{align}\n",
    "\\int_{T_1}^{T_2}C_V dT &= -\\int_{V_1}^{V_2}\\frac{nRT}{V}dV\n",
    "\\end{align}"
   ]
  },
  {
   "cell_type": "markdown",
   "metadata": {
    "slideshow": {
     "slide_type": "slide"
    }
   },
   "source": [
    "Note that the left hand side of the previous equation is integrating over temperature and the right hand side is integrating over volume.  There is a $T$ on the right hand side so we divide both sides of the equation to get it to the left hand side.\n",
    "\n",
    "\\begin{align}\n",
    "\\int_{T_1}^{T_2}C_V dT &= -\\int_{V_1}^{V_2}\\frac{nRT}{V}dV \\\\\n",
    "\\Rightarrow \\int_{T_1}^{T_2}\\frac{C_V}{T} dT &= -\\int_{V_1}^{V_2}\\frac{nR}{V}dV \\\\\n",
    "\\Rightarrow C_V\\ln\\left( \\frac{T_2}{T_1} \\right) &= -nR\\ln\\left( \\frac{V_2}{V_1} \\right) \\\\\n",
    "\\Rightarrow \\ln\\left( \\frac{T_2}{T_1} \\right)^{C_V} &= \\ln\\left( \\frac{V_2}{V_1} \\right)^{-nR} \\\\\n",
    "\\Rightarrow \\left( \\frac{T_2}{T_1} \\right)^{C_V} &= \\left( \\frac{V_2}{V_1} \\right)^{-nR} \\\\\n",
    "\\Rightarrow \\left( \\frac{P_2V_2}{P_1V_1} \\right)^{C_V} &= \\left( \\frac{V_2}{V_1} \\right)^{-nR}\\\\\n",
    "\\Rightarrow \\left( \\frac{P_2}{P_1} \\right)^{C_V} &= \\left( \\frac{V_2}{V_1} \\right)^{-nR-C_V}\\\\\n",
    "\\Rightarrow \\left( \\frac{P_2}{P_1} \\right)^{C_V} &= \\left( \\frac{V_1}{V_2} \\right)^{nR+C_V}\\\\\n",
    "\\Rightarrow PV^{5/3} &= const\n",
    "\\end{align}"
   ]
  },
  {
   "cell_type": "code",
   "execution_count": 3,
   "metadata": {
    "slideshow": {
     "slide_type": "skip"
    },
    "tags": [
     "hide_input"
    ]
   },
   "outputs": [],
   "source": [
    "import numpy as np\n",
    "import matplotlib.pyplot as plt\n",
    "%matplotlib notebook\n",
    "\n",
    "def plot_PV_diagram_adiabat(n=1,R=0.08206,V=np.arange(0.5,7.1,0.1),pUnit=\"atm\",vUnit=\"L\",T1=100,T2=200,fontsize=16):\n",
    "    xlabel = \"V (\" + vUnit + \")\"\n",
    "    ylabel = \"P (\" + pUnit + \")\"\n",
    "    # setup plot parameters\n",
    "    fig = plt.figure(figsize=(8,6), dpi= 80, facecolor='w', edgecolor='k')\n",
    "    ax = plt.subplot(111)\n",
    "    ax.grid(b=True, which='major', axis='both', color='#808080', linestyle='--')\n",
    "    ax.set_xlabel(xlabel,size=fontsize)\n",
    "    ax.set_ylabel(ylabel,size=fontsize)\n",
    "    plt.tick_params(axis='both',labelsize=fontsize)\n",
    "    # plot isotherms\n",
    "    label = \"T$_1$=\" + str(T1)+\" K\"\n",
    "    ax.plot(V,n*R*T1/V,label=label,lw=4)\n",
    "    label = \"T$_2$=\" + str(T2)+\" K\"\n",
    "    ax.plot(V,n*R*T2/V,label=label,lw=4)\n",
    "    # adiabat 1\n",
    "    lowV = (T1*1.5**(2/3)/T2)**(3/2)\n",
    "    highV = 1.5\n",
    "    Vadiabat1 = np.arange(lowV,highV+0.1,0.1)\n",
    "    ax.plot(V,n*R*T1*1.5**(2/3)/V**(5/3),label=\"Adiabat 1\",lw=4)\n",
    "    ax.plot(Vadiabat1,n*R*T1*1.5**(2/3)/Vadiabat1**(5/3),lw=1,c=\"k\")\n",
    "    label = \"(\" + str(1.5) +\",\"+ str(np.round(n*R*T1/1.5,decimals=1)) + \",\" +str(T1)+\")\"\n",
    "    label = \"(V$_1$,P$_1$,T$_1$)\"\n",
    "    ax.annotate(label,xy=(0.5,n*R*T1/1.5-1),fontsize=fontsize)\n",
    "    plt.scatter(1.5,n*R*T1/1.5,s=50,color=\"tab:blue\")\n",
    "    label = \"(\" + str(1.5) +\",\"+ str(np.round(n*R*T2/1.5,decimals=1)) + \",\" +str(T2)+\")\"\n",
    "    label = \"(V$_2$,P$_2$,T$_2$)\"\n",
    "    plt.scatter(lowV,n*R*T2/lowV,s=50,color=\"tab:orange\")\n",
    "    ax.annotate(label,xy=(lowV+0.05,n*R*T2/lowV),fontsize=fontsize)\n",
    "    ax.annotate(\"A\",xy=(0.4,n*R*T1/1.5+ 0.5*(n*R*T2/lowV-n*R*T1/1.5)),fontsize=fontsize*1.5)\n",
    "    label = \"(\" + str(2.5) +\",\"+ str(np.round(n*R*T2/2.5,decimals=1)) + \",\" +str(T2)+\")\"\n",
    "    label = \"(V$_3$,P$_3$,T$_2$)\"\n",
    "    # adiabat 2\n",
    "    lowV2 = 2.5\n",
    "    highV2 = (T2*2.5**(2/3)/T1)**(3/2)\n",
    "    Vadiabat2 = np.arange(lowV2,highV2+0.1,0.1)\n",
    "    ax.plot(V,n*R*T2*2.5**(2/3)/V**(5/3),label=\"Adiabat 2\",lw=4)\n",
    "    ax.plot(Vadiabat2,n*R*T2*2.5**(2/3)/Vadiabat2**(5/3),lw=1,c=\"k\")\n",
    "    plt.scatter(2.5,n*R*T2/2.5,s=50,color=\"tab:orange\")\n",
    "    ax.annotate(label,xy=(2.6,n*R*T2/2.5),fontsize=fontsize)\n",
    "    ax.annotate(\"B\",xy=(1.5,n*R*T2/2+3),fontsize=24)\n",
    "    label = \"(\" + str(2.5) +\",\"+ str(np.round(n*R*T1/2.5,decimals=1)) + \",\" +str(T1)+\")\"\n",
    "    label = \"(V$_4$,P$_4$,T$_1$)\"\n",
    "    plt.scatter(highV2,n*R*T1/highV2,s=50,color=\"tab:blue\")\n",
    "    ax.annotate(label,xy=(highV2,n*R*T1/highV2),fontsize=fontsize)\n",
    "    ax.annotate(\"C\",xy=(4.25,3.0),fontsize=fontsize*1.5)\n",
    "    ax.annotate(\"D\",xy=(3,n*R*T1/2-3.0),fontsize=fontsize*1.5)\n",
    "    vsub = np.arange(lowV,2.51,0.01)\n",
    "    ax.plot(vsub,n*R*T2/vsub,lw=1,c=\"k\")\n",
    "    vsub = np.arange(1.5,highV2+0.01,0.01)\n",
    "    ax.plot(vsub,n*R*T1/vsub,lw=1,c=\"k\")\n",
    "    ax.fill_between(np.arange(1.5,2.51,0.01),n*R*T1/np.arange(1.5,2.51,0.01),n*R*T2/np.arange(1.5,2.51,0.01),facecolor=\"purple\",alpha=0.5,interpolate=True)\n",
    "    ax.fill_between(np.arange(lowV,1.51,0.01),n*R*T2/np.arange(lowV,1.51,0.01),n*R*T1*1.5**(2/3)/np.arange(lowV,1.51,0.01)**(5/3),facecolor=\"purple\",alpha=0.5,interpolate=True)\n",
    "    ax.fill_between(np.arange(2.5,highV2+0.01,0.01),n*R*T2*2.5**(2/3)/np.arange(2.5,highV2+0.01,0.01)**(5/3),n*R*T1/np.arange(2.5,highV2+0.01,0.01),facecolor=\"purple\",alpha=0.5,interpolate=True)\n",
    "    ax.set_ylim(0,35)\n",
    "    plt.legend(fontsize=fontsize)"
   ]
  },
  {
   "cell_type": "code",
   "execution_count": 4,
   "metadata": {
    "slideshow": {
     "slide_type": "slide"
    }
   },
   "outputs": [
    {
     "data": {
      "application/javascript": [
       "/* Put everything inside the global mpl namespace */\n",
       "window.mpl = {};\n",
       "\n",
       "\n",
       "mpl.get_websocket_type = function() {\n",
       "    if (typeof(WebSocket) !== 'undefined') {\n",
       "        return WebSocket;\n",
       "    } else if (typeof(MozWebSocket) !== 'undefined') {\n",
       "        return MozWebSocket;\n",
       "    } else {\n",
       "        alert('Your browser does not have WebSocket support. ' +\n",
       "              'Please try Chrome, Safari or Firefox ≥ 6. ' +\n",
       "              'Firefox 4 and 5 are also supported but you ' +\n",
       "              'have to enable WebSockets in about:config.');\n",
       "    };\n",
       "}\n",
       "\n",
       "mpl.figure = function(figure_id, websocket, ondownload, parent_element) {\n",
       "    this.id = figure_id;\n",
       "\n",
       "    this.ws = websocket;\n",
       "\n",
       "    this.supports_binary = (this.ws.binaryType != undefined);\n",
       "\n",
       "    if (!this.supports_binary) {\n",
       "        var warnings = document.getElementById(\"mpl-warnings\");\n",
       "        if (warnings) {\n",
       "            warnings.style.display = 'block';\n",
       "            warnings.textContent = (\n",
       "                \"This browser does not support binary websocket messages. \" +\n",
       "                    \"Performance may be slow.\");\n",
       "        }\n",
       "    }\n",
       "\n",
       "    this.imageObj = new Image();\n",
       "\n",
       "    this.context = undefined;\n",
       "    this.message = undefined;\n",
       "    this.canvas = undefined;\n",
       "    this.rubberband_canvas = undefined;\n",
       "    this.rubberband_context = undefined;\n",
       "    this.format_dropdown = undefined;\n",
       "\n",
       "    this.image_mode = 'full';\n",
       "\n",
       "    this.root = $('<div/>');\n",
       "    this._root_extra_style(this.root)\n",
       "    this.root.attr('style', 'display: inline-block');\n",
       "\n",
       "    $(parent_element).append(this.root);\n",
       "\n",
       "    this._init_header(this);\n",
       "    this._init_canvas(this);\n",
       "    this._init_toolbar(this);\n",
       "\n",
       "    var fig = this;\n",
       "\n",
       "    this.waiting = false;\n",
       "\n",
       "    this.ws.onopen =  function () {\n",
       "            fig.send_message(\"supports_binary\", {value: fig.supports_binary});\n",
       "            fig.send_message(\"send_image_mode\", {});\n",
       "            if (mpl.ratio != 1) {\n",
       "                fig.send_message(\"set_dpi_ratio\", {'dpi_ratio': mpl.ratio});\n",
       "            }\n",
       "            fig.send_message(\"refresh\", {});\n",
       "        }\n",
       "\n",
       "    this.imageObj.onload = function() {\n",
       "            if (fig.image_mode == 'full') {\n",
       "                // Full images could contain transparency (where diff images\n",
       "                // almost always do), so we need to clear the canvas so that\n",
       "                // there is no ghosting.\n",
       "                fig.context.clearRect(0, 0, fig.canvas.width, fig.canvas.height);\n",
       "            }\n",
       "            fig.context.drawImage(fig.imageObj, 0, 0);\n",
       "        };\n",
       "\n",
       "    this.imageObj.onunload = function() {\n",
       "        fig.ws.close();\n",
       "    }\n",
       "\n",
       "    this.ws.onmessage = this._make_on_message_function(this);\n",
       "\n",
       "    this.ondownload = ondownload;\n",
       "}\n",
       "\n",
       "mpl.figure.prototype._init_header = function() {\n",
       "    var titlebar = $(\n",
       "        '<div class=\"ui-dialog-titlebar ui-widget-header ui-corner-all ' +\n",
       "        'ui-helper-clearfix\"/>');\n",
       "    var titletext = $(\n",
       "        '<div class=\"ui-dialog-title\" style=\"width: 100%; ' +\n",
       "        'text-align: center; padding: 3px;\"/>');\n",
       "    titlebar.append(titletext)\n",
       "    this.root.append(titlebar);\n",
       "    this.header = titletext[0];\n",
       "}\n",
       "\n",
       "\n",
       "\n",
       "mpl.figure.prototype._canvas_extra_style = function(canvas_div) {\n",
       "\n",
       "}\n",
       "\n",
       "\n",
       "mpl.figure.prototype._root_extra_style = function(canvas_div) {\n",
       "\n",
       "}\n",
       "\n",
       "mpl.figure.prototype._init_canvas = function() {\n",
       "    var fig = this;\n",
       "\n",
       "    var canvas_div = $('<div/>');\n",
       "\n",
       "    canvas_div.attr('style', 'position: relative; clear: both; outline: 0');\n",
       "\n",
       "    function canvas_keyboard_event(event) {\n",
       "        return fig.key_event(event, event['data']);\n",
       "    }\n",
       "\n",
       "    canvas_div.keydown('key_press', canvas_keyboard_event);\n",
       "    canvas_div.keyup('key_release', canvas_keyboard_event);\n",
       "    this.canvas_div = canvas_div\n",
       "    this._canvas_extra_style(canvas_div)\n",
       "    this.root.append(canvas_div);\n",
       "\n",
       "    var canvas = $('<canvas/>');\n",
       "    canvas.addClass('mpl-canvas');\n",
       "    canvas.attr('style', \"left: 0; top: 0; z-index: 0; outline: 0\")\n",
       "\n",
       "    this.canvas = canvas[0];\n",
       "    this.context = canvas[0].getContext(\"2d\");\n",
       "\n",
       "    var backingStore = this.context.backingStorePixelRatio ||\n",
       "\tthis.context.webkitBackingStorePixelRatio ||\n",
       "\tthis.context.mozBackingStorePixelRatio ||\n",
       "\tthis.context.msBackingStorePixelRatio ||\n",
       "\tthis.context.oBackingStorePixelRatio ||\n",
       "\tthis.context.backingStorePixelRatio || 1;\n",
       "\n",
       "    mpl.ratio = (window.devicePixelRatio || 1) / backingStore;\n",
       "\n",
       "    var rubberband = $('<canvas/>');\n",
       "    rubberband.attr('style', \"position: absolute; left: 0; top: 0; z-index: 1;\")\n",
       "\n",
       "    var pass_mouse_events = true;\n",
       "\n",
       "    canvas_div.resizable({\n",
       "        start: function(event, ui) {\n",
       "            pass_mouse_events = false;\n",
       "        },\n",
       "        resize: function(event, ui) {\n",
       "            fig.request_resize(ui.size.width, ui.size.height);\n",
       "        },\n",
       "        stop: function(event, ui) {\n",
       "            pass_mouse_events = true;\n",
       "            fig.request_resize(ui.size.width, ui.size.height);\n",
       "        },\n",
       "    });\n",
       "\n",
       "    function mouse_event_fn(event) {\n",
       "        if (pass_mouse_events)\n",
       "            return fig.mouse_event(event, event['data']);\n",
       "    }\n",
       "\n",
       "    rubberband.mousedown('button_press', mouse_event_fn);\n",
       "    rubberband.mouseup('button_release', mouse_event_fn);\n",
       "    // Throttle sequential mouse events to 1 every 20ms.\n",
       "    rubberband.mousemove('motion_notify', mouse_event_fn);\n",
       "\n",
       "    rubberband.mouseenter('figure_enter', mouse_event_fn);\n",
       "    rubberband.mouseleave('figure_leave', mouse_event_fn);\n",
       "\n",
       "    canvas_div.on(\"wheel\", function (event) {\n",
       "        event = event.originalEvent;\n",
       "        event['data'] = 'scroll'\n",
       "        if (event.deltaY < 0) {\n",
       "            event.step = 1;\n",
       "        } else {\n",
       "            event.step = -1;\n",
       "        }\n",
       "        mouse_event_fn(event);\n",
       "    });\n",
       "\n",
       "    canvas_div.append(canvas);\n",
       "    canvas_div.append(rubberband);\n",
       "\n",
       "    this.rubberband = rubberband;\n",
       "    this.rubberband_canvas = rubberband[0];\n",
       "    this.rubberband_context = rubberband[0].getContext(\"2d\");\n",
       "    this.rubberband_context.strokeStyle = \"#000000\";\n",
       "\n",
       "    this._resize_canvas = function(width, height) {\n",
       "        // Keep the size of the canvas, canvas container, and rubber band\n",
       "        // canvas in synch.\n",
       "        canvas_div.css('width', width)\n",
       "        canvas_div.css('height', height)\n",
       "\n",
       "        canvas.attr('width', width * mpl.ratio);\n",
       "        canvas.attr('height', height * mpl.ratio);\n",
       "        canvas.attr('style', 'width: ' + width + 'px; height: ' + height + 'px;');\n",
       "\n",
       "        rubberband.attr('width', width);\n",
       "        rubberband.attr('height', height);\n",
       "    }\n",
       "\n",
       "    // Set the figure to an initial 600x600px, this will subsequently be updated\n",
       "    // upon first draw.\n",
       "    this._resize_canvas(600, 600);\n",
       "\n",
       "    // Disable right mouse context menu.\n",
       "    $(this.rubberband_canvas).bind(\"contextmenu\",function(e){\n",
       "        return false;\n",
       "    });\n",
       "\n",
       "    function set_focus () {\n",
       "        canvas.focus();\n",
       "        canvas_div.focus();\n",
       "    }\n",
       "\n",
       "    window.setTimeout(set_focus, 100);\n",
       "}\n",
       "\n",
       "mpl.figure.prototype._init_toolbar = function() {\n",
       "    var fig = this;\n",
       "\n",
       "    var nav_element = $('<div/>');\n",
       "    nav_element.attr('style', 'width: 100%');\n",
       "    this.root.append(nav_element);\n",
       "\n",
       "    // Define a callback function for later on.\n",
       "    function toolbar_event(event) {\n",
       "        return fig.toolbar_button_onclick(event['data']);\n",
       "    }\n",
       "    function toolbar_mouse_event(event) {\n",
       "        return fig.toolbar_button_onmouseover(event['data']);\n",
       "    }\n",
       "\n",
       "    for(var toolbar_ind in mpl.toolbar_items) {\n",
       "        var name = mpl.toolbar_items[toolbar_ind][0];\n",
       "        var tooltip = mpl.toolbar_items[toolbar_ind][1];\n",
       "        var image = mpl.toolbar_items[toolbar_ind][2];\n",
       "        var method_name = mpl.toolbar_items[toolbar_ind][3];\n",
       "\n",
       "        if (!name) {\n",
       "            // put a spacer in here.\n",
       "            continue;\n",
       "        }\n",
       "        var button = $('<button/>');\n",
       "        button.addClass('ui-button ui-widget ui-state-default ui-corner-all ' +\n",
       "                        'ui-button-icon-only');\n",
       "        button.attr('role', 'button');\n",
       "        button.attr('aria-disabled', 'false');\n",
       "        button.click(method_name, toolbar_event);\n",
       "        button.mouseover(tooltip, toolbar_mouse_event);\n",
       "\n",
       "        var icon_img = $('<span/>');\n",
       "        icon_img.addClass('ui-button-icon-primary ui-icon');\n",
       "        icon_img.addClass(image);\n",
       "        icon_img.addClass('ui-corner-all');\n",
       "\n",
       "        var tooltip_span = $('<span/>');\n",
       "        tooltip_span.addClass('ui-button-text');\n",
       "        tooltip_span.html(tooltip);\n",
       "\n",
       "        button.append(icon_img);\n",
       "        button.append(tooltip_span);\n",
       "\n",
       "        nav_element.append(button);\n",
       "    }\n",
       "\n",
       "    var fmt_picker_span = $('<span/>');\n",
       "\n",
       "    var fmt_picker = $('<select/>');\n",
       "    fmt_picker.addClass('mpl-toolbar-option ui-widget ui-widget-content');\n",
       "    fmt_picker_span.append(fmt_picker);\n",
       "    nav_element.append(fmt_picker_span);\n",
       "    this.format_dropdown = fmt_picker[0];\n",
       "\n",
       "    for (var ind in mpl.extensions) {\n",
       "        var fmt = mpl.extensions[ind];\n",
       "        var option = $(\n",
       "            '<option/>', {selected: fmt === mpl.default_extension}).html(fmt);\n",
       "        fmt_picker.append(option);\n",
       "    }\n",
       "\n",
       "    // Add hover states to the ui-buttons\n",
       "    $( \".ui-button\" ).hover(\n",
       "        function() { $(this).addClass(\"ui-state-hover\");},\n",
       "        function() { $(this).removeClass(\"ui-state-hover\");}\n",
       "    );\n",
       "\n",
       "    var status_bar = $('<span class=\"mpl-message\"/>');\n",
       "    nav_element.append(status_bar);\n",
       "    this.message = status_bar[0];\n",
       "}\n",
       "\n",
       "mpl.figure.prototype.request_resize = function(x_pixels, y_pixels) {\n",
       "    // Request matplotlib to resize the figure. Matplotlib will then trigger a resize in the client,\n",
       "    // which will in turn request a refresh of the image.\n",
       "    this.send_message('resize', {'width': x_pixels, 'height': y_pixels});\n",
       "}\n",
       "\n",
       "mpl.figure.prototype.send_message = function(type, properties) {\n",
       "    properties['type'] = type;\n",
       "    properties['figure_id'] = this.id;\n",
       "    this.ws.send(JSON.stringify(properties));\n",
       "}\n",
       "\n",
       "mpl.figure.prototype.send_draw_message = function() {\n",
       "    if (!this.waiting) {\n",
       "        this.waiting = true;\n",
       "        this.ws.send(JSON.stringify({type: \"draw\", figure_id: this.id}));\n",
       "    }\n",
       "}\n",
       "\n",
       "\n",
       "mpl.figure.prototype.handle_save = function(fig, msg) {\n",
       "    var format_dropdown = fig.format_dropdown;\n",
       "    var format = format_dropdown.options[format_dropdown.selectedIndex].value;\n",
       "    fig.ondownload(fig, format);\n",
       "}\n",
       "\n",
       "\n",
       "mpl.figure.prototype.handle_resize = function(fig, msg) {\n",
       "    var size = msg['size'];\n",
       "    if (size[0] != fig.canvas.width || size[1] != fig.canvas.height) {\n",
       "        fig._resize_canvas(size[0], size[1]);\n",
       "        fig.send_message(\"refresh\", {});\n",
       "    };\n",
       "}\n",
       "\n",
       "mpl.figure.prototype.handle_rubberband = function(fig, msg) {\n",
       "    var x0 = msg['x0'] / mpl.ratio;\n",
       "    var y0 = (fig.canvas.height - msg['y0']) / mpl.ratio;\n",
       "    var x1 = msg['x1'] / mpl.ratio;\n",
       "    var y1 = (fig.canvas.height - msg['y1']) / mpl.ratio;\n",
       "    x0 = Math.floor(x0) + 0.5;\n",
       "    y0 = Math.floor(y0) + 0.5;\n",
       "    x1 = Math.floor(x1) + 0.5;\n",
       "    y1 = Math.floor(y1) + 0.5;\n",
       "    var min_x = Math.min(x0, x1);\n",
       "    var min_y = Math.min(y0, y1);\n",
       "    var width = Math.abs(x1 - x0);\n",
       "    var height = Math.abs(y1 - y0);\n",
       "\n",
       "    fig.rubberband_context.clearRect(\n",
       "        0, 0, fig.canvas.width / mpl.ratio, fig.canvas.height / mpl.ratio);\n",
       "\n",
       "    fig.rubberband_context.strokeRect(min_x, min_y, width, height);\n",
       "}\n",
       "\n",
       "mpl.figure.prototype.handle_figure_label = function(fig, msg) {\n",
       "    // Updates the figure title.\n",
       "    fig.header.textContent = msg['label'];\n",
       "}\n",
       "\n",
       "mpl.figure.prototype.handle_cursor = function(fig, msg) {\n",
       "    var cursor = msg['cursor'];\n",
       "    switch(cursor)\n",
       "    {\n",
       "    case 0:\n",
       "        cursor = 'pointer';\n",
       "        break;\n",
       "    case 1:\n",
       "        cursor = 'default';\n",
       "        break;\n",
       "    case 2:\n",
       "        cursor = 'crosshair';\n",
       "        break;\n",
       "    case 3:\n",
       "        cursor = 'move';\n",
       "        break;\n",
       "    }\n",
       "    fig.rubberband_canvas.style.cursor = cursor;\n",
       "}\n",
       "\n",
       "mpl.figure.prototype.handle_message = function(fig, msg) {\n",
       "    fig.message.textContent = msg['message'];\n",
       "}\n",
       "\n",
       "mpl.figure.prototype.handle_draw = function(fig, msg) {\n",
       "    // Request the server to send over a new figure.\n",
       "    fig.send_draw_message();\n",
       "}\n",
       "\n",
       "mpl.figure.prototype.handle_image_mode = function(fig, msg) {\n",
       "    fig.image_mode = msg['mode'];\n",
       "}\n",
       "\n",
       "mpl.figure.prototype.updated_canvas_event = function() {\n",
       "    // Called whenever the canvas gets updated.\n",
       "    this.send_message(\"ack\", {});\n",
       "}\n",
       "\n",
       "// A function to construct a web socket function for onmessage handling.\n",
       "// Called in the figure constructor.\n",
       "mpl.figure.prototype._make_on_message_function = function(fig) {\n",
       "    return function socket_on_message(evt) {\n",
       "        if (evt.data instanceof Blob) {\n",
       "            /* FIXME: We get \"Resource interpreted as Image but\n",
       "             * transferred with MIME type text/plain:\" errors on\n",
       "             * Chrome.  But how to set the MIME type?  It doesn't seem\n",
       "             * to be part of the websocket stream */\n",
       "            evt.data.type = \"image/png\";\n",
       "\n",
       "            /* Free the memory for the previous frames */\n",
       "            if (fig.imageObj.src) {\n",
       "                (window.URL || window.webkitURL).revokeObjectURL(\n",
       "                    fig.imageObj.src);\n",
       "            }\n",
       "\n",
       "            fig.imageObj.src = (window.URL || window.webkitURL).createObjectURL(\n",
       "                evt.data);\n",
       "            fig.updated_canvas_event();\n",
       "            fig.waiting = false;\n",
       "            return;\n",
       "        }\n",
       "        else if (typeof evt.data === 'string' && evt.data.slice(0, 21) == \"data:image/png;base64\") {\n",
       "            fig.imageObj.src = evt.data;\n",
       "            fig.updated_canvas_event();\n",
       "            fig.waiting = false;\n",
       "            return;\n",
       "        }\n",
       "\n",
       "        var msg = JSON.parse(evt.data);\n",
       "        var msg_type = msg['type'];\n",
       "\n",
       "        // Call the  \"handle_{type}\" callback, which takes\n",
       "        // the figure and JSON message as its only arguments.\n",
       "        try {\n",
       "            var callback = fig[\"handle_\" + msg_type];\n",
       "        } catch (e) {\n",
       "            console.log(\"No handler for the '\" + msg_type + \"' message type: \", msg);\n",
       "            return;\n",
       "        }\n",
       "\n",
       "        if (callback) {\n",
       "            try {\n",
       "                // console.log(\"Handling '\" + msg_type + \"' message: \", msg);\n",
       "                callback(fig, msg);\n",
       "            } catch (e) {\n",
       "                console.log(\"Exception inside the 'handler_\" + msg_type + \"' callback:\", e, e.stack, msg);\n",
       "            }\n",
       "        }\n",
       "    };\n",
       "}\n",
       "\n",
       "// from http://stackoverflow.com/questions/1114465/getting-mouse-location-in-canvas\n",
       "mpl.findpos = function(e) {\n",
       "    //this section is from http://www.quirksmode.org/js/events_properties.html\n",
       "    var targ;\n",
       "    if (!e)\n",
       "        e = window.event;\n",
       "    if (e.target)\n",
       "        targ = e.target;\n",
       "    else if (e.srcElement)\n",
       "        targ = e.srcElement;\n",
       "    if (targ.nodeType == 3) // defeat Safari bug\n",
       "        targ = targ.parentNode;\n",
       "\n",
       "    // jQuery normalizes the pageX and pageY\n",
       "    // pageX,Y are the mouse positions relative to the document\n",
       "    // offset() returns the position of the element relative to the document\n",
       "    var x = e.pageX - $(targ).offset().left;\n",
       "    var y = e.pageY - $(targ).offset().top;\n",
       "\n",
       "    return {\"x\": x, \"y\": y};\n",
       "};\n",
       "\n",
       "/*\n",
       " * return a copy of an object with only non-object keys\n",
       " * we need this to avoid circular references\n",
       " * http://stackoverflow.com/a/24161582/3208463\n",
       " */\n",
       "function simpleKeys (original) {\n",
       "  return Object.keys(original).reduce(function (obj, key) {\n",
       "    if (typeof original[key] !== 'object')\n",
       "        obj[key] = original[key]\n",
       "    return obj;\n",
       "  }, {});\n",
       "}\n",
       "\n",
       "mpl.figure.prototype.mouse_event = function(event, name) {\n",
       "    var canvas_pos = mpl.findpos(event)\n",
       "\n",
       "    if (name === 'button_press')\n",
       "    {\n",
       "        this.canvas.focus();\n",
       "        this.canvas_div.focus();\n",
       "    }\n",
       "\n",
       "    var x = canvas_pos.x * mpl.ratio;\n",
       "    var y = canvas_pos.y * mpl.ratio;\n",
       "\n",
       "    this.send_message(name, {x: x, y: y, button: event.button,\n",
       "                             step: event.step,\n",
       "                             guiEvent: simpleKeys(event)});\n",
       "\n",
       "    /* This prevents the web browser from automatically changing to\n",
       "     * the text insertion cursor when the button is pressed.  We want\n",
       "     * to control all of the cursor setting manually through the\n",
       "     * 'cursor' event from matplotlib */\n",
       "    event.preventDefault();\n",
       "    return false;\n",
       "}\n",
       "\n",
       "mpl.figure.prototype._key_event_extra = function(event, name) {\n",
       "    // Handle any extra behaviour associated with a key event\n",
       "}\n",
       "\n",
       "mpl.figure.prototype.key_event = function(event, name) {\n",
       "\n",
       "    // Prevent repeat events\n",
       "    if (name == 'key_press')\n",
       "    {\n",
       "        if (event.which === this._key)\n",
       "            return;\n",
       "        else\n",
       "            this._key = event.which;\n",
       "    }\n",
       "    if (name == 'key_release')\n",
       "        this._key = null;\n",
       "\n",
       "    var value = '';\n",
       "    if (event.ctrlKey && event.which != 17)\n",
       "        value += \"ctrl+\";\n",
       "    if (event.altKey && event.which != 18)\n",
       "        value += \"alt+\";\n",
       "    if (event.shiftKey && event.which != 16)\n",
       "        value += \"shift+\";\n",
       "\n",
       "    value += 'k';\n",
       "    value += event.which.toString();\n",
       "\n",
       "    this._key_event_extra(event, name);\n",
       "\n",
       "    this.send_message(name, {key: value,\n",
       "                             guiEvent: simpleKeys(event)});\n",
       "    return false;\n",
       "}\n",
       "\n",
       "mpl.figure.prototype.toolbar_button_onclick = function(name) {\n",
       "    if (name == 'download') {\n",
       "        this.handle_save(this, null);\n",
       "    } else {\n",
       "        this.send_message(\"toolbar_button\", {name: name});\n",
       "    }\n",
       "};\n",
       "\n",
       "mpl.figure.prototype.toolbar_button_onmouseover = function(tooltip) {\n",
       "    this.message.textContent = tooltip;\n",
       "};\n",
       "mpl.toolbar_items = [[\"Home\", \"Reset original view\", \"fa fa-home icon-home\", \"home\"], [\"Back\", \"Back to previous view\", \"fa fa-arrow-left icon-arrow-left\", \"back\"], [\"Forward\", \"Forward to next view\", \"fa fa-arrow-right icon-arrow-right\", \"forward\"], [\"\", \"\", \"\", \"\"], [\"Pan\", \"Pan axes with left mouse, zoom with right\", \"fa fa-arrows icon-move\", \"pan\"], [\"Zoom\", \"Zoom to rectangle\", \"fa fa-square-o icon-check-empty\", \"zoom\"], [\"\", \"\", \"\", \"\"], [\"Download\", \"Download plot\", \"fa fa-floppy-o icon-save\", \"download\"]];\n",
       "\n",
       "mpl.extensions = [\"eps\", \"jpeg\", \"pdf\", \"png\", \"ps\", \"raw\", \"svg\", \"tif\"];\n",
       "\n",
       "mpl.default_extension = \"png\";var comm_websocket_adapter = function(comm) {\n",
       "    // Create a \"websocket\"-like object which calls the given IPython comm\n",
       "    // object with the appropriate methods. Currently this is a non binary\n",
       "    // socket, so there is still some room for performance tuning.\n",
       "    var ws = {};\n",
       "\n",
       "    ws.close = function() {\n",
       "        comm.close()\n",
       "    };\n",
       "    ws.send = function(m) {\n",
       "        //console.log('sending', m);\n",
       "        comm.send(m);\n",
       "    };\n",
       "    // Register the callback with on_msg.\n",
       "    comm.on_msg(function(msg) {\n",
       "        //console.log('receiving', msg['content']['data'], msg);\n",
       "        // Pass the mpl event to the overridden (by mpl) onmessage function.\n",
       "        ws.onmessage(msg['content']['data'])\n",
       "    });\n",
       "    return ws;\n",
       "}\n",
       "\n",
       "mpl.mpl_figure_comm = function(comm, msg) {\n",
       "    // This is the function which gets called when the mpl process\n",
       "    // starts-up an IPython Comm through the \"matplotlib\" channel.\n",
       "\n",
       "    var id = msg.content.data.id;\n",
       "    // Get hold of the div created by the display call when the Comm\n",
       "    // socket was opened in Python.\n",
       "    var element = $(\"#\" + id);\n",
       "    var ws_proxy = comm_websocket_adapter(comm)\n",
       "\n",
       "    function ondownload(figure, format) {\n",
       "        window.open(figure.imageObj.src);\n",
       "    }\n",
       "\n",
       "    var fig = new mpl.figure(id, ws_proxy,\n",
       "                           ondownload,\n",
       "                           element.get(0));\n",
       "\n",
       "    // Call onopen now - mpl needs it, as it is assuming we've passed it a real\n",
       "    // web socket which is closed, not our websocket->open comm proxy.\n",
       "    ws_proxy.onopen();\n",
       "\n",
       "    fig.parent_element = element.get(0);\n",
       "    fig.cell_info = mpl.find_output_cell(\"<div id='\" + id + \"'></div>\");\n",
       "    if (!fig.cell_info) {\n",
       "        console.error(\"Failed to find cell for figure\", id, fig);\n",
       "        return;\n",
       "    }\n",
       "\n",
       "    var output_index = fig.cell_info[2]\n",
       "    var cell = fig.cell_info[0];\n",
       "\n",
       "};\n",
       "\n",
       "mpl.figure.prototype.handle_close = function(fig, msg) {\n",
       "    var width = fig.canvas.width/mpl.ratio\n",
       "    fig.root.unbind('remove')\n",
       "\n",
       "    // Update the output cell to use the data from the current canvas.\n",
       "    fig.push_to_output();\n",
       "    var dataURL = fig.canvas.toDataURL();\n",
       "    // Re-enable the keyboard manager in IPython - without this line, in FF,\n",
       "    // the notebook keyboard shortcuts fail.\n",
       "    IPython.keyboard_manager.enable()\n",
       "    $(fig.parent_element).html('<img src=\"' + dataURL + '\" width=\"' + width + '\">');\n",
       "    fig.close_ws(fig, msg);\n",
       "}\n",
       "\n",
       "mpl.figure.prototype.close_ws = function(fig, msg){\n",
       "    fig.send_message('closing', msg);\n",
       "    // fig.ws.close()\n",
       "}\n",
       "\n",
       "mpl.figure.prototype.push_to_output = function(remove_interactive) {\n",
       "    // Turn the data on the canvas into data in the output cell.\n",
       "    var width = this.canvas.width/mpl.ratio\n",
       "    var dataURL = this.canvas.toDataURL();\n",
       "    this.cell_info[1]['text/html'] = '<img src=\"' + dataURL + '\" width=\"' + width + '\">';\n",
       "}\n",
       "\n",
       "mpl.figure.prototype.updated_canvas_event = function() {\n",
       "    // Tell IPython that the notebook contents must change.\n",
       "    IPython.notebook.set_dirty(true);\n",
       "    this.send_message(\"ack\", {});\n",
       "    var fig = this;\n",
       "    // Wait a second, then push the new image to the DOM so\n",
       "    // that it is saved nicely (might be nice to debounce this).\n",
       "    setTimeout(function () { fig.push_to_output() }, 1000);\n",
       "}\n",
       "\n",
       "mpl.figure.prototype._init_toolbar = function() {\n",
       "    var fig = this;\n",
       "\n",
       "    var nav_element = $('<div/>');\n",
       "    nav_element.attr('style', 'width: 100%');\n",
       "    this.root.append(nav_element);\n",
       "\n",
       "    // Define a callback function for later on.\n",
       "    function toolbar_event(event) {\n",
       "        return fig.toolbar_button_onclick(event['data']);\n",
       "    }\n",
       "    function toolbar_mouse_event(event) {\n",
       "        return fig.toolbar_button_onmouseover(event['data']);\n",
       "    }\n",
       "\n",
       "    for(var toolbar_ind in mpl.toolbar_items){\n",
       "        var name = mpl.toolbar_items[toolbar_ind][0];\n",
       "        var tooltip = mpl.toolbar_items[toolbar_ind][1];\n",
       "        var image = mpl.toolbar_items[toolbar_ind][2];\n",
       "        var method_name = mpl.toolbar_items[toolbar_ind][3];\n",
       "\n",
       "        if (!name) { continue; };\n",
       "\n",
       "        var button = $('<button class=\"btn btn-default\" href=\"#\" title=\"' + name + '\"><i class=\"fa ' + image + ' fa-lg\"></i></button>');\n",
       "        button.click(method_name, toolbar_event);\n",
       "        button.mouseover(tooltip, toolbar_mouse_event);\n",
       "        nav_element.append(button);\n",
       "    }\n",
       "\n",
       "    // Add the status bar.\n",
       "    var status_bar = $('<span class=\"mpl-message\" style=\"text-align:right; float: right;\"/>');\n",
       "    nav_element.append(status_bar);\n",
       "    this.message = status_bar[0];\n",
       "\n",
       "    // Add the close button to the window.\n",
       "    var buttongrp = $('<div class=\"btn-group inline pull-right\"></div>');\n",
       "    var button = $('<button class=\"btn btn-mini btn-primary\" href=\"#\" title=\"Stop Interaction\"><i class=\"fa fa-power-off icon-remove icon-large\"></i></button>');\n",
       "    button.click(function (evt) { fig.handle_close(fig, {}); } );\n",
       "    button.mouseover('Stop Interaction', toolbar_mouse_event);\n",
       "    buttongrp.append(button);\n",
       "    var titlebar = this.root.find($('.ui-dialog-titlebar'));\n",
       "    titlebar.prepend(buttongrp);\n",
       "}\n",
       "\n",
       "mpl.figure.prototype._root_extra_style = function(el){\n",
       "    var fig = this\n",
       "    el.on(\"remove\", function(){\n",
       "\tfig.close_ws(fig, {});\n",
       "    });\n",
       "}\n",
       "\n",
       "mpl.figure.prototype._canvas_extra_style = function(el){\n",
       "    // this is important to make the div 'focusable\n",
       "    el.attr('tabindex', 0)\n",
       "    // reach out to IPython and tell the keyboard manager to turn it's self\n",
       "    // off when our div gets focus\n",
       "\n",
       "    // location in version 3\n",
       "    if (IPython.notebook.keyboard_manager) {\n",
       "        IPython.notebook.keyboard_manager.register_events(el);\n",
       "    }\n",
       "    else {\n",
       "        // location in version 2\n",
       "        IPython.keyboard_manager.register_events(el);\n",
       "    }\n",
       "\n",
       "}\n",
       "\n",
       "mpl.figure.prototype._key_event_extra = function(event, name) {\n",
       "    var manager = IPython.notebook.keyboard_manager;\n",
       "    if (!manager)\n",
       "        manager = IPython.keyboard_manager;\n",
       "\n",
       "    // Check for shift+enter\n",
       "    if (event.shiftKey && event.which == 13) {\n",
       "        this.canvas_div.blur();\n",
       "        // select the cell after this one\n",
       "        var index = IPython.notebook.find_cell_index(this.cell_info[0]);\n",
       "        IPython.notebook.select(index + 1);\n",
       "    }\n",
       "}\n",
       "\n",
       "mpl.figure.prototype.handle_save = function(fig, msg) {\n",
       "    fig.ondownload(fig, null);\n",
       "}\n",
       "\n",
       "\n",
       "mpl.find_output_cell = function(html_output) {\n",
       "    // Return the cell and output element which can be found *uniquely* in the notebook.\n",
       "    // Note - this is a bit hacky, but it is done because the \"notebook_saving.Notebook\"\n",
       "    // IPython event is triggered only after the cells have been serialised, which for\n",
       "    // our purposes (turning an active figure into a static one), is too late.\n",
       "    var cells = IPython.notebook.get_cells();\n",
       "    var ncells = cells.length;\n",
       "    for (var i=0; i<ncells; i++) {\n",
       "        var cell = cells[i];\n",
       "        if (cell.cell_type === 'code'){\n",
       "            for (var j=0; j<cell.output_area.outputs.length; j++) {\n",
       "                var data = cell.output_area.outputs[j];\n",
       "                if (data.data) {\n",
       "                    // IPython >= 3 moved mimebundle to data attribute of output\n",
       "                    data = data.data;\n",
       "                }\n",
       "                if (data['text/html'] == html_output) {\n",
       "                    return [cell, data, j];\n",
       "                }\n",
       "            }\n",
       "        }\n",
       "    }\n",
       "}\n",
       "\n",
       "// Register the function which deals with the matplotlib target/channel.\n",
       "// The kernel may be null if the page has been refreshed.\n",
       "if (IPython.notebook.kernel != null) {\n",
       "    IPython.notebook.kernel.comm_manager.register_target('matplotlib', mpl.mpl_figure_comm);\n",
       "}\n"
      ],
      "text/plain": [
       "<IPython.core.display.Javascript object>"
      ]
     },
     "metadata": {},
     "output_type": "display_data"
    },
    {
     "data": {
      "text/html": [
       "<img src=\"data:image/png;base64,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\" width=\"640\">"
      ],
      "text/plain": [
       "<IPython.core.display.HTML object>"
      ]
     },
     "metadata": {},
     "output_type": "display_data"
    }
   ],
   "source": [
    "plot_PV_diagram_adiabat()"
   ]
  },
  {
   "cell_type": "markdown",
   "metadata": {
    "slideshow": {
     "slide_type": "slide"
    }
   },
   "source": [
    "There are four points and four processes on the above plot.  We will define them as:\n",
    "\n",
    "$A$ : adiabatic contraction from $(V_1,P_1,T_1)$ to $(V_2,P_2,T_2)$\n",
    "\n",
    "$B$ : isothermal expansion from $(V_2,P_2,T_2)$ to $(V_3,P_3,T_2)$\n",
    "\n",
    "$C$ : adiabatic expansion from $(V_3,P_3,T_2)$ to $(V_4,P_4,T_1)$\n",
    "\n",
    "$D$ : isothermal contraction from $(V_4,P_4,T_1)$ to $(V_1,P_1,T_1)$"
   ]
  },
  {
   "cell_type": "markdown",
   "metadata": {
    "slideshow": {
     "slide_type": "slide"
    }
   },
   "source": [
    "### $A$: Adiabatic Contraction"
   ]
  },
  {
   "cell_type": "markdown",
   "metadata": {
    "slideshow": {
     "slide_type": "fragment"
    }
   },
   "source": [
    "We want to compute $w_A$, $q_A$, $\\Delta U_A$, and $\\Delta H_A$ for a reversible adiabatic contraction from $(V_1,P_1,T_1)$ to $(V_2,P_2,T_2)$.  "
   ]
  },
  {
   "cell_type": "markdown",
   "metadata": {
    "slideshow": {
     "slide_type": "slide"
    }
   },
   "source": [
    "Equations and results are from above derivation but one must be careful that we are starting at $(V_1,P_1,T_1)$ and ending at $(V_2,P_2,T_2)$.  \n",
    "\n",
    "$\\Delta U_C = C_V \\Delta T = \\frac{3}{2}nR(T_2-T_1)$\n",
    "\n",
    "$\\Delta H_C = C_P \\Delta T = \\frac{5}{2}nR(T_2-T_1)$\n",
    "\n",
    "$w_C = C_V \\Delta T = \\frac{3}{2}nR(T_2-T_1)$\n",
    "\n",
    "$q_C = 0$"
   ]
  },
  {
   "cell_type": "markdown",
   "metadata": {
    "slideshow": {
     "slide_type": "slide"
    }
   },
   "source": [
    "### $B$: Isothermal Expansion"
   ]
  },
  {
   "cell_type": "markdown",
   "metadata": {
    "slideshow": {
     "slide_type": "fragment"
    }
   },
   "source": [
    "We want to compute $w_B$, $q_B$, $\\Delta U_B$, and $\\Delta H_B$ for a reversible isothermal expansion from $(V_2,P_2,T_2)$ to $(V_3,P_3,T_2)$.    "
   ]
  },
  {
   "cell_type": "markdown",
   "metadata": {
    "slideshow": {
     "slide_type": "slide"
    }
   },
   "source": [
    "For an isothermal expansion/contraction of an ideal gas from $(V_2,P_2,T_2)$ to $(V_3,P_3,T_2)$:\n",
    "\n",
    "$\\Delta U_B = 0$\n",
    "\n",
    "$\\Delta H_B = 0$\n",
    "\n",
    "$w_B = nRT_2\\ln\\left(\\frac{V_2}{V_3}\\right)$\n",
    "\n",
    "$q_B = nRT_2\\ln\\left(\\frac{V_3}{V_2}\\right)$"
   ]
  },
  {
   "cell_type": "markdown",
   "metadata": {
    "slideshow": {
     "slide_type": "slide"
    }
   },
   "source": [
    "### $C$: Adiabatic Expansion"
   ]
  },
  {
   "cell_type": "markdown",
   "metadata": {
    "slideshow": {
     "slide_type": "fragment"
    }
   },
   "source": [
    "Compute $w_C$, $q_C$, $\\Delta U_C$, and $\\Delta H_C$ for adiabatic expansion starting from $(V_3,P_3,T_2)$ and ending at $(V_4,P_4,T_1)$.  "
   ]
  },
  {
   "cell_type": "markdown",
   "metadata": {
    "slideshow": {
     "slide_type": "slide"
    }
   },
   "source": [
    "Equations and results are very comparable to process $A$ but one must be careful that we are starting at $(V_3,P_3,T_2)$ and ending at $(V_4,P_4,T_1)$.  \n",
    "\n",
    "$\\Delta U_C = C_V \\Delta T = \\frac{3}{2}nR(T_1-T_2)$\n",
    "\n",
    "$\\Delta H_C = C_P \\Delta T = \\frac{5}{2}nR(T_1-T_2)$\n",
    "\n",
    "$w_C = C_V \\Delta T = \\frac{3}{2}nR(T_1-T_2)$\n",
    "\n",
    "$q_C = 0$"
   ]
  },
  {
   "cell_type": "markdown",
   "metadata": {
    "slideshow": {
     "slide_type": "slide"
    }
   },
   "source": [
    "### $D$: Isothermal Contraction"
   ]
  },
  {
   "cell_type": "markdown",
   "metadata": {
    "slideshow": {
     "slide_type": "fragment"
    }
   },
   "source": [
    "We want to compute $w_D$, $q_D$, $\\Delta U_D$, and $\\Delta H_D$ for a reversible isothermal expansion from $(V_4,P_4,T_1)$ to $(V_1,P_1,T_1)$.  "
   ]
  },
  {
   "cell_type": "markdown",
   "metadata": {
    "slideshow": {
     "slide_type": "slide"
    }
   },
   "source": [
    "We will use the same equations as the isothermal expansion process but take care about the beginning and end points.\n",
    "\n",
    "$\\Delta U_D = 0$\n",
    "\n",
    "$\\Delta H_D = 0$\n",
    "\n",
    "$w_D = nRT_1\\ln\\left(\\frac{V_4}{V_1}\\right)$\n",
    "\n",
    "$q_D = nRT_1\\ln\\left(\\frac{V_1}{V_4}\\right)$"
   ]
  },
  {
   "cell_type": "markdown",
   "metadata": {
    "slideshow": {
     "slide_type": "slide"
    }
   },
   "source": [
    "### Summary"
   ]
  },
  {
   "cell_type": "markdown",
   "metadata": {
    "slideshow": {
     "slide_type": "fragment"
    }
   },
   "source": [
    "| Process                    | $w$                            | $q$                 | $\\Delta U$                 | $\\Delta H$\n",
    "| :------------------------- | :------------------------------------- | :------------------------------------- | :------------------------------------- | :------------------------------------- |\n",
    "| A - Adiabatic Contraction      | $\\frac{3}{2}nR(T_2-T_1)$                                    | $0$ | $\\frac{3}{2}nR(T_2-T_1)$             | $\\frac{5}{2}nR(T_2-T_1)$ |\n",
    "| B - Isothermal Expansion   | $nRT_2\\ln\\left(\\frac{V_2}{V_3}\\right)$ | $nRT_2\\ln\\left(\\frac{V_3}{V_2}\\right)$ | $0$                 | $0$ |\n",
    "| C - Adiabatic Expansion      | $\\frac{3}{2}nR(T_1-T_2)$                                     | $0$ | $\\frac{3}{2}nR(T_1-T_2)$                   | $\\frac{5}{2}nR(T_1-T_2)$ |\n",
    "| D - Isothermal Contraction | $nRT_1\\ln\\left(\\frac{V_4}{V_1}\\right)$ | $nRT_1\\ln\\left(\\frac{V_1}{V_4}\\right)$ | $0$ | $0$ |"
   ]
  },
  {
   "cell_type": "markdown",
   "metadata": {
    "slideshow": {
     "slide_type": "slide"
    }
   },
   "source": [
    "Totals:\n",
    "\n",
    "$w_{total} = \\frac{3}{2}nR(T_2-T_1) + nRT_2\\ln\\left(\\frac{V_2}{V_3}\\right)  + \\frac{3}{2}nR(T_1-T_2) +nRT_1\\ln\\left(\\frac{V_4}{V_1}\\right) $\n",
    "\n",
    "$ = nRT_2\\ln\\left(\\frac{V_2}{V_3}\\right)  + nRT_1\\ln\\left(\\frac{V_4}{V_1}\\right) $\n",
    "\n",
    "$q_{total} = nRT_2\\ln\\left(\\frac{V_3}{V_2}\\right)  + nRT_1\\ln\\left(\\frac{V_1}{V_4}\\right) $\n",
    "\n",
    "$\\Delta U_{total} = \\frac{3}{2}nR(T_2-T_1) + \\frac{3}{2}nR(T_1-T_2) =0 $\n",
    "\n",
    "$\\Delta H_{total} = \\frac{5}{2}nR(T_2-T_1) + \\frac{5}{2}nR(T_1-T_2) =0 $\n",
    "\n"
   ]
  },
  {
   "cell_type": "markdown",
   "metadata": {
    "slideshow": {
     "slide_type": "slide"
    }
   },
   "source": [
    "### Relationship between $V_1$, $V_2$, $V_3$, $V_4$ "
   ]
  },
  {
   "cell_type": "markdown",
   "metadata": {
    "slideshow": {
     "slide_type": "fragment"
    }
   },
   "source": [
    "We would like to know sign of $q$ and $w$.  In order to combine the two terms in each, we need to figure out the relationship between the ratios in the logarithms.  Because this cycle involves *isothermal* and *adiabatic* process, there are restrictions on the relationships between the four volumes.  We will attempt to determine the relationship between\n",
    "\n",
    "$\\frac{V_2}{V_3}$ and $\\frac{V_4}{V_1}$.  "
   ]
  },
  {
   "cell_type": "markdown",
   "metadata": {
    "slideshow": {
     "slide_type": "slide"
    }
   },
   "source": [
    "The fact that processes $A$ and $D$ are adiabats puts restrictions on pressure and volume along those processes:\n",
    "\n",
    "$P_1V_1^{5/3} = P_2V_2^{5/3}$\n",
    "\n",
    "and\n",
    "\n",
    "$P_3V_3^{5/3} = P_4V_4^{5/3}$\n",
    "\n",
    "These equations can be rearragned to get\n",
    "\n",
    "$\\frac{P_1V_1^{5/3}}{P_2V_2^{5/3}} = \\frac{P_4V_4^{5/3}}{P_3V_3^{5/3}}$"
   ]
  },
  {
   "cell_type": "markdown",
   "metadata": {
    "slideshow": {
     "slide_type": "slide"
    }
   },
   "source": [
    "Now rearrange to get the isothermal terms on same sides:\n",
    "\n",
    "$\\frac{P_1V_1^{5/3}}{P_4V_4^{5/3}} = \\frac{P_2V_2^{5/3}}{P_3V_3^{5/3}}$\n",
    "\n",
    "Because process $B$ is isothermal, we have $P_2V_2 = P_3V_3$ and because process $D$ is isothermal we have $P_1V_1 = P_4V_4$.\n",
    "\n",
    "$\\frac{P_1V_1V_1^{2/3}}{P_4V_4V_4^{2/3}} = \\frac{P_2V_2V_2^{2/3}}{P_3V_3V_3^{2/3}}$\n",
    "\n",
    "$\\Rightarrow \\frac{V_1^{2/3}}{V_4^{2/3}} = \\frac{V_2^{2/3}}{V_3^{2/3}}$\n",
    "\n",
    "or, simply,\n",
    "\n",
    "$\\frac{V_1}{V_4} = \\frac{V_2}{V_3}$"
   ]
  },
  {
   "cell_type": "markdown",
   "metadata": {
    "slideshow": {
     "slide_type": "slide"
    }
   },
   "source": [
    "Now to plug back into $w_{total}$ and $q_{total}$:\n",
    "\n",
    "\\begin{align}\n",
    "w_{total} =& nRT_2\\ln\\left(\\frac{V_2}{V_3}\\right)  + nRT_1\\ln\\left(\\frac{V_4}{V_1}\\right)\\\\\n",
    "& = nRT_2\\ln\\left(\\frac{V_1}{V_4}\\right)  + nRT_1\\ln\\left(\\frac{V_4}{V_1}\\right)\\\\ \n",
    "& = nR\\ln\\left(\\frac{V_1}{V_4}\\right)\\Delta T\n",
    "\\end{align}\n",
    "\n",
    "\\begin{align}\n",
    "q_{total} =& nRT_2\\ln\\left(\\frac{V_3}{V_2}\\right)  + nRT_1\\ln\\left(\\frac{V_1}{V_4}\\right) \\\\\n",
    " = & nRT_2\\ln\\left(\\frac{V_4}{V_1}\\right)  + nRT_1\\ln\\left(\\frac{V_1}{V_4}\\right) \\\\\n",
    " = & - nR\\ln\\left(\\frac{V_1}{V_4}\\right)\\Delta T \n",
    "\\end{align}"
   ]
  },
  {
   "cell_type": "markdown",
   "metadata": {
    "slideshow": {
     "slide_type": "slide"
    }
   },
   "source": [
    "### Sign of heat and work"
   ]
  },
  {
   "cell_type": "markdown",
   "metadata": {
    "slideshow": {
     "slide_type": "fragment"
    }
   },
   "source": [
    "$w_{total} < 0$ if ($\\Delta T < 0$ and $\\frac{V_1}{V_4} > 1$) OR ($\\Delta T > 0$ and $\\frac{V_1}{V_4} < 1$) $\\Rightarrow$ clockwise on PV diagram\n",
    "\n",
    "$w_{total} > 0$ if ($\\Delta T < 0$ and $\\frac{V_1}{V_4} < 1$) OR ($\\Delta T > 0$ and $\\frac{V_1}{V_4} > 1$) $\\Rightarrow$ counter-clockwise on PV diagram"
   ]
  },
  {
   "cell_type": "markdown",
   "metadata": {
    "slideshow": {
     "slide_type": "slide"
    }
   },
   "source": [
    "### Efficiency"
   ]
  },
  {
   "cell_type": "markdown",
   "metadata": {},
   "source": [
    "For a heat engine ($w_{total}<0$), the efficiency is the amount of work extracted, $w_{total}$, divided by the energy in put, $q_{in}$.\n",
    "\n",
    "$\\varepsilon = \\frac{w_{total}}{q_{in}}$\n",
    "\n",
    "For the Carnot cycle, this becomes:\n",
    "\n",
    "$\\varepsilon = \\frac{T_h-T_c}{T_h}$"
   ]
  },
  {
   "cell_type": "code",
   "execution_count": 3,
   "metadata": {},
   "outputs": [
    {
     "data": {
      "text/plain": [
       "10.666666666666666"
      ]
     },
     "execution_count": 3,
     "metadata": {},
     "output_type": "execute_result"
    }
   ],
   "source": [
    "2*16/3"
   ]
  }
 ],
 "metadata": {
  "celltoolbar": "Tags",
  "kernelspec": {
   "display_name": "Python 3",
   "language": "python",
   "name": "python3"
  },
  "language_info": {
   "codemirror_mode": {
    "name": "ipython",
    "version": 3
   },
   "file_extension": ".py",
   "mimetype": "text/x-python",
   "name": "python",
   "nbconvert_exporter": "python",
   "pygments_lexer": "ipython3",
   "version": "3.8.3"
  }
 },
 "nbformat": 4,
 "nbformat_minor": 5
}
