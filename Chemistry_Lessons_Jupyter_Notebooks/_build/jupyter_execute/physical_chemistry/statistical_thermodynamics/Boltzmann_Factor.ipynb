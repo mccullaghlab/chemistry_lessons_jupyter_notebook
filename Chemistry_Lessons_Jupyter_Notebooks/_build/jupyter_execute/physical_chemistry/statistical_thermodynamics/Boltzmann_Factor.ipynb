{
 "cells": [
  {
   "cell_type": "markdown",
   "id": "27b6d0a5",
   "metadata": {},
   "source": [
    "# Boltzmann Factor"
   ]
  },
  {
   "cell_type": "markdown",
   "id": "3b63c4bf",
   "metadata": {},
   "source": [
    "## Learning Goals"
   ]
  },
  {
   "cell_type": "markdown",
   "id": "7a738747",
   "metadata": {},
   "source": [
    "After going through these notes, you should be able to:\n",
    "\n",
    "1. Write out the Boltzmann factor for a given state of a system,\n",
    "2. Define all of the terms/variables in a Boltzmann factor,\n",
    "3. Determine the relative probability of two or more states given distributions and energies,\n",
    "4. Determine the partition function for a system given complete set of states."
   ]
  },
  {
   "cell_type": "markdown",
   "id": "81980a00",
   "metadata": {},
   "source": [
    "## Coding Concepts\n",
    "\n",
    "The following coding concepts are used in this notebook:\n",
    "1. [Variables](../../coding_concepts/variables.ipynb)\n",
    "2. [Functions](../../coding_concepts/functions.ipynb)\n",
    "3. [Plotting with matplotlib](../../coding_concepts/plotting_with_matplotlib.ipynb)"
   ]
  },
  {
   "cell_type": "markdown",
   "id": "5bd7ee7d",
   "metadata": {},
   "source": [
    "## Introduction and Motivation"
   ]
  },
  {
   "cell_type": "markdown",
   "id": "c92c081b",
   "metadata": {},
   "source": [
    "Our goal for learning Thermodynamics is to be able to predict if a process (e.g. chemical reaction) occurs under certain conditions.  The tools/laws of Thermodynamics will help us do this but classical Thermodynamics deals with macroscopic quantities (e.g. temperature, heat, or work for a mole of a substance).  As chemists, we are more used to thinking about chemicals and chemical reactions on the molecular level so first we must come up with a way to going from molecular properties to macroscopic properties.  This is the field of statistical Thermodynamics and the Boltzmann factor is one of the most fundamental concepts in this discipline.  "
   ]
  },
  {
   "cell_type": "markdown",
   "id": "84a5634f",
   "metadata": {},
   "source": [
    "## The Energy of a Macroscopic System"
   ]
  },
  {
   "cell_type": "markdown",
   "id": "018a81e3",
   "metadata": {},
   "source": [
    "Consider a macroscopic system such a liter of gas with a fixed number of particles, $N$, and volume, $V$.  Even though there may be almost a mole of molecules of this gas, we can still consider determining the energy of the system.  This can be done either using the Schrodinger equation if we want to model the system quantum mechanically,\n",
    "\\begin{equation}\n",
    "\\hat{H}_N \\Psi_j = E_j \\Psi_j\n",
    "\\end{equation}\n",
    "where $j$ denotes the energy level and the energy is a function of $N$ and $V$ ($E(N,V)$), or we can define a classic $N$-body Hamiltoninan/energy function\n",
    "\\begin{equation}\n",
    "H(R^N, p^N) = \\sum_{i}^N \\frac{p_i^2}{2m_i} + \\sum_{i}^N U_1(R_i) + \\sum_{i,j>i}^N U_2(R_{i},R_j) + ...\n",
    "\\end{equation}\n",
    "where $R^N$ are the 3D coordinates of the $N$ particles and $p^N$ are the momenta of the $N$ particles.\n",
    "\n",
    "In the special case that the gas in an ideal gas, the energy of the system will simply be a sum of individual particle energies.  Quantum mechanically that would be\n",
    "\\begin{equation}\n",
    "E_j(N,V) = \\sum_{i}^N \\epsilon_i,\n",
    "\\end{equation}\n",
    "where $\\epsilon_i$ is the energy of particle $i$.  If the gas is monatomic (no internal potential energy terms) then $\\epsilon_i$ is solution to the particle in the 3D box\n",
    "\\begin{equation}\n",
    "\\epsilon_{n_x,n_y,n_z} = \\frac{h^2}{8ma^2}\\left(n_x^2+n_y^2+n_z^2\\right),\n",
    "\\end{equation}\n",
    "where $n_x, n_y, n_z = 1, 2, ...$ are the quantum numbers in the three directions, $h$ is Planck's constant, $m$ is the mass of the particle, and $a = V^{1/3}$ is related to the volume of the box.\n",
    "\n",
    "\n",
    "In classical mechanics, the energy of a monatomic ideal gas is simply the kinetic energy.  Each particle has a kinetic energy and that is it, thus the classical Hamiltonian is\n",
    "\\begin{equation}\n",
    "H(R^N,p^N) = \\sum_{i}^N \\frac{p_i^2}{2m_i}\n",
    "\\end{equation}"
   ]
  },
  {
   "cell_type": "markdown",
   "id": "575cbcf2",
   "metadata": {},
   "source": [
    "## An Ensemble of Systems"
   ]
  },
  {
   "cell_type": "markdown",
   "id": "c6ea7932",
   "metadata": {},
   "source": [
    "We now consider the question, what is the probability that my system has a particular energy?  Quantum mechanically, this would be what is the probability of observing a particular value for $E_j(N,V)$.  Classically, it would be what the probability of observing a particular value of $H(R^N)$.  To address this question, we consider an ensemble of identical systems.  Each of these systems is in contact with the same thermal bath and thus it can be considered that each system maintains a constant $N$, $V$, and $T$.  \n",
    "\n",
    "We start by asking a related but slighly simpler question: what is the probability that a system takes on an energy $E_1$ compared to probability the system takes on an energy $E_2$?  We denote the total number of systems with energy $E_1$ as $a_1$ and the total number of systems with energy $E_2$ as $a_2$.  The relative number of systems in these two states is\n",
    "\\begin{equation}\n",
    "\\frac{a_2}{a_1} = f(E_1,E_2) = f(E_1-E_2),\n",
    "\\end{equation}\n",
    "where $f$ is some function of both energies and the last equality must hold because only differences in energies matter.\n",
    "\n",
    "We can also compare a state 3 to states 1 and 2 to get:\n",
    "\\begin{eqnarray}\n",
    "\\frac{a_3}{a_1} &=& f(E_1-E_3) \\\\\n",
    "\\frac{a_3}{a_2} &=& f(E_2-E_3).\n",
    "\\end{eqnarray}\n",
    "We can combine these results with above to demonstrate\n",
    "\\begin{equation}\n",
    "\\frac{a_3}{a_1} = \\frac{a_2}{a_1}\\cdot\\frac{a_3}{a_2},\n",
    "\\end{equation}\n",
    "or \n",
    "\\begin{equation}\n",
    "f(E_1-E_3) = f(E_1-E_2)f(E_2-E_3).\n",
    "\\end{equation}\n",
    "\n",
    "We see that multiplication of $f$ functions leads to addition of their arguments ($E_1-E_2 + E_2-E_3 = E_1-E_3$).  A function for which this is true is the exponential function. Thus, we can see that\n",
    "\\begin{equation}\n",
    "f(E) = e^{\\beta E},\n",
    "\\end{equation}\n",
    "where $\\beta$ is an arbitrary constant.  And\n",
    "\\begin{equation}\n",
    "a_j = Ce^{-\\beta E_j},\n",
    "\\end{equation}\n",
    "where $C$ is an arbitrary constant.\n",
    "\n",
    "In this form, $a_j$ is known as the Boltzmann factor for state $j$."
   ]
  },
  {
   "cell_type": "markdown",
   "id": "921eafe4",
   "metadata": {},
   "source": [
    "## Partition Function"
   ]
  },
  {
   "cell_type": "markdown",
   "id": "1a4b444a",
   "metadata": {},
   "source": [
    "The Boltzmann factor given above has two components that need to be defined: $\\beta$ and $C$.  Presented without derivation,\n",
    "\\begin{equation}\n",
    "\\beta = \\frac{1}{k_BT},\n",
    "\\end{equation}\n",
    "where $k_B$ is the Boltzmann constant and $T$ is the temperature in Kelvin.  \n",
    "\n",
    "$C$ is determined by summing (integrating in classical mechanics) over all possible states\n",
    "\\begin{equation}\n",
    "\\sum_i a_i = C\\sum_i e^{-\\beta E_i}.\n",
    "\\end{equation}\n",
    "The sum of all states/systems must be equal to the total number of systems, $A$, thus we have\n",
    "\\begin{eqnarray}\n",
    "A &=& C\\sum_i e^{-\\beta E_i} \\\\\n",
    "\\Rightarrow C &=& \\frac{A}{\\sum_i e^{-\\beta E_i}}\n",
    "\\end{eqnarray}\n",
    "\n",
    "Plugging this back into the equation for $a_j$ we get\n",
    "\\begin{equation}\n",
    "\\frac{a_j}{A} = \\frac{e^{-\\beta E_j}}{\\sum_i e^{-\\beta E_i}}\n",
    "\\end{equation}\n",
    "\n",
    "$\\frac{a_j}{A}$ is the fraction of systems with energy $E_j$ and thus we recognize this as a probability, or written as \n",
    "\\begin{equation}\n",
    "P_j = \\frac{e^{-\\beta E_j}}{\\sum_i e^{-\\beta E_i}}\n",
    "\\end{equation}\n",
    "where $P_j$ is now the probability of observing a system with energy $E_j$.  "
   ]
  },
  {
   "cell_type": "markdown",
   "id": "034904bd",
   "metadata": {},
   "source": [
    "The denominator of the probability equation, $\\sum_i e^{-\\beta E_i}$, is referred to as the Canoncial partition function and is denoted $Q$.  This function is depdent on $N$, $V$ and $T$ and is often written as \n",
    "\\begin{equation}\n",
    "Q(N,V,T) = \\sum_i e^{-\\frac{E_i}{k_B T}},\n",
    "\\end{equation}\n",
    "or \n",
    "\\begin{equation}\n",
    "Q(N,V,\\beta) = \\sum_i e^{-\\beta E_i},\n",
    "\\end{equation}"
   ]
  },
  {
   "cell_type": "markdown",
   "id": "03890429",
   "metadata": {},
   "source": [
    "## Example: Quantized States"
   ]
  },
  {
   "cell_type": "markdown",
   "id": "71a46ffd",
   "metadata": {},
   "source": [
    "Consider a single monoatomic ideal gas particle with the mass of helium.  The system is kept at a temperature that allows it to populate two states: $(n_x, n_y, n_z) = (1,1,1)$ and $(n_x, n_y, n_z) = (2,1,1)$. Compute the Boltzmann factors and relative probability of these two states.  Leave your answers in terms of $\\beta$, $a$, and $m$."
   ]
  },
  {
   "cell_type": "markdown",
   "id": "76ac0791",
   "metadata": {},
   "source": [
    "We start by writing out the energy of the system from above:\n",
    "\n",
    "\\begin{equation}\n",
    "E_j(N,V) = \\epsilon_i,\n",
    "\\end{equation}\n",
    "\n",
    "where \n",
    "\n",
    "\\begin{equation}\n",
    "\\epsilon_{n_x,n_y,n_z} = \\frac{h^2}{8ma^2}\\left(n_x^2+n_y^2+n_z^2\\right).\n",
    "\\end{equation}\n",
    "\n",
    "Plugging in the two allowed sets of quantum numbers we get two possible total energies of the system:\n",
    "\n",
    "\\begin{eqnarray}\n",
    "E_1 &=& \\frac{3h^2}{8ma^2} \\\\\n",
    "E_2 &=& \\frac{6h^2}{8ma^2}\n",
    "\\end{eqnarray}\n",
    "\n",
    "The partition function is:\n",
    "\\begin{eqnarray}\n",
    "Q &=& e^{-\\beta E_1} + e^{-\\beta E_2} \\\\\n",
    "&=& e^{-\\beta \\frac{3h^2}{8ma^2}} + e^{-\\beta\\frac{6h^2}{8ma^2}} \\\\\n",
    "&=& e^{-\\beta \\frac{3h^2}{8ma^2}} \\left(e + e^{2} \\right)\n",
    "\\end{eqnarray}\n",
    "\n",
    "The Boltzmann factors are:\n",
    "\\begin{eqnarray}\n",
    "e^{-\\beta E_1} &=& e^{-\\beta \\frac{3h^2}{8ma^2}} \\\\\n",
    "e^{-\\beta E_2} &=& e^{-\\beta \\frac{6h^2}{8ma^2}}\n",
    "\\end{eqnarray}\n",
    "\n",
    "Relative probability is:\n",
    "\\begin{eqnarray}\n",
    "\\frac{a_1}{a_2} &=& \\frac{e^{-\\beta E_1}}{e^{-\\beta E_2}} \\\\\n",
    "&=& \\frac{e^{-\\beta \\frac{3h^2}{8ma^2}}}{e^{-\\beta \\frac{6h^2}{8ma^2}}} \\\\\n",
    "&=& e^{\\beta \\frac{3h^2}{8ma^2}}\n",
    "\\end{eqnarray}"
   ]
  },
  {
   "cell_type": "markdown",
   "id": "810caec3",
   "metadata": {},
   "source": [
    "We see that the ratio of the first two translational states is an exponential function that depends on temperature, mass of the particle, and size of the box.  If we consider the particle to have the mass of a Helium atom (4.002 amu) and to be constrained in a micrometer length box, we get the following ratio of these as a function of temperature. "
   ]
  },
  {
   "cell_type": "code",
   "execution_count": 1,
   "id": "e383aeba",
   "metadata": {},
   "outputs": [
    {
     "data": {
      "text/plain": [
       "[<matplotlib.lines.Line2D at 0x7f7da6eb2040>]"
      ]
     },
     "execution_count": 1,
     "metadata": {},
     "output_type": "execute_result"
    },
    {
     "data": {
      "image/png": "[encoded data removed]",
      "text/plain": [
       "<Figure size 432x288 with 1 Axes>"
      ]
     },
     "metadata": {
      "filenames": {
       "image/png": "/Users/mmccull/Dropbox/work/chemistry_lessons_jupyter_notebook/Chemistry_Lessons_Jupyter_Notebooks/_build/jupyter_execute/physical_chemistry/statistical_thermodynamics/Boltzmann_Factor_17_1.png"
      },
      "needs_background": "light"
     },
     "output_type": "display_data"
    }
   ],
   "source": [
    "# import numpy library for use later\n",
    "import numpy as np\n",
    "import matplotlib.pyplot as plt\n",
    "%matplotlib inline\n",
    "# define a function of a1/a2\n",
    "k = 1.38e-23\n",
    "h = 6.626e-34\n",
    "def a1_a2(T,m,a):\n",
    "    return np.exp(-3*h**2/(k*T*8*m*a**2))\n",
    "\n",
    "# define variables from the problem\n",
    "a = 1e-6             # in m\n",
    "m = 4.002*1.66e-27   # in kg\n",
    "# define temperature domain\n",
    "T = np.arange(1.0,100,0.1)\n",
    "# make a plot\n",
    "plt.plot(T,a1_a2(T,m,a))"
   ]
  },
  {
   "cell_type": "code",
   "execution_count": null,
   "id": "3e41e107",
   "metadata": {},
   "outputs": [],
   "source": []
  }
 ],
 "metadata": {
  "kernelspec": {
   "display_name": "Python 3",
   "language": "python",
   "name": "python3"
  },
  "language_info": {
   "codemirror_mode": {
    "name": "ipython",
    "version": 3
   },
   "file_extension": ".py",
   "mimetype": "text/x-python",
   "name": "python",
   "nbconvert_exporter": "python",
   "pygments_lexer": "ipython3",
   "version": "3.8.8"
  }
 },
 "nbformat": 4,
 "nbformat_minor": 5
}