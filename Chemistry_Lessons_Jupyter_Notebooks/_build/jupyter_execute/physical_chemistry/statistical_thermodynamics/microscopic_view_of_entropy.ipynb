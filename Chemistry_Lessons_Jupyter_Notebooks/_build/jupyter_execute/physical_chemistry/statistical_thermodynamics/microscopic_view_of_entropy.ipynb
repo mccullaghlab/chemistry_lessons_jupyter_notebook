{
 "cells": [
  {
   "cell_type": "markdown",
   "id": "3d6c0359",
   "metadata": {},
   "source": [
    "# Microscopic View of Entropy"
   ]
  },
  {
   "cell_type": "markdown",
   "id": "7c85ffcd",
   "metadata": {},
   "source": [
    "## Motivation\n",
    "\n",
    "In classical Thermodynamics, entropy is introduced as another state function and/or as a partial derivative of the internal energy, or as something that can be used to indicate spontaneous processes.  Here we look at a more molecular/statistical explanation of what entropy is."
   ]
  },
  {
   "cell_type": "markdown",
   "id": "3fa5ff79",
   "metadata": {},
   "source": [
    "## Learning goals\n",
    "\n",
    "After this class, students should be able to:\n",
    "\n",
    "1. Describe what how entropy can drive certain outcomes\n",
    "2. Compute entropy of a simple lattice gas\n",
    "3. Compute the entropy of mixing lattice gasses"
   ]
  },
  {
   "cell_type": "markdown",
   "id": "84d47441",
   "metadata": {},
   "source": [
    "## Coding Concepts\n",
    "\n",
    "1. Functions\n",
    "2. Numpy\n",
    "3. Scipy"
   ]
  },
  {
   "cell_type": "markdown",
   "id": "e5e4e62c",
   "metadata": {},
   "source": [
    "## Example: Galton Board\n",
    "\n",
    "To see how entropy, or disorder, plays a role in determining outcome let us consider the example of a galton board.  In a Galton Board, balls are dropped from the top, through a peg board, finally landing in different bins on the bottom.  This is likely familiar to you as a gameshow style game. \n",
    "\n",
    "In the case of a Galton board, it is the gravitational potential energy difference between the top and the bottom that causes the balls to fall.  There is no difference in potential energy, however, between any of the bins at the bottom.  So why are certain bins (middle ones) favored?\n",
    "\n",
    "<img src=\"GaltonPuzzle_8Bin-Board.jpg\" width=\"250\" align=\"center\">"
   ]
  },
  {
   "cell_type": "markdown",
   "id": "c9e0cb02",
   "metadata": {},
   "source": [
    "The reason is because the are more paths for the balls to get to the central bins than to the bins on the edge.  You might recognize this as a bionomial process or the Fibonacci triangle.  Regardless, the probability of the bins follow the binomial distribution.\n",
    "\n",
    "If we consider a Galton board with just one peg and two bins, the probability of each bin is simple $0.5$.  More generally, the probability can be computed as:\n",
    "\n",
    "$P_{bin} = \\frac{\\text{Number of paths to that bin}}{\\text{Total number of paths}}$\n",
    "\n",
    "In the case of a single peg, the are a total of two paths (left and right) and one path goes to the left (thus $P_{left} = \\frac{1}{2}$ and one path goes to the right.\n",
    "\n",
    "<img src=\"GaltonPuzzle_8Bin-Board.jpg\" width=\"250\" align=\"center\">"
   ]
  },
  {
   "cell_type": "markdown",
   "id": "36b12368",
   "metadata": {},
   "source": [
    "If we go to the next level, there are two additional pegs followed by three bins at the bottom.  The probability of each bin is:\n",
    "\n",
    "\\begin{align}\n",
    "P_{left} =& \\frac{1}{4} \\\\\n",
    "P_{left} =& \\frac{2}{4} = \\frac{1}{2} \\\\\n",
    "P_{left} =& \\frac{1}{4} \n",
    "\\end{align}\n",
    "\n",
    "Now, more generally, since these follow the binomal distribution, we can compute the probability of bin $i$ given that there are $n$ rows in the \n",
    "\n",
    "\\begin{equation}\n",
    "P^n_i = \\frac{nCi}{\\sum_j^n nCj}\n",
    "\\end{equation}\n",
    "\n",
    "where $nCi$ is said as \"$n$ choose $i$\" and $nCi = \\frac{n!}{(n-i)!i!}$."
   ]
  },
  {
   "cell_type": "markdown",
   "id": "ad9ed379",
   "metadata": {},
   "source": [
    "## Entropy and Counting\n",
    "\n",
    "So how does this relate to entropy?  Entropy is not just the number of ways to get a certain outcome nor is it the probability of a certain outcome.   It is, however, related to these quantities via the Boltzmann equation:\n",
    "\n",
    "$S = k\\ln\\Omega$\n",
    "\n",
    "where $k$ is the Boltzmann constant and $\\Omega$ is the number of ways of arranging the system.\n",
    "\n",
    "As a note, it is somtimes written $S=k\\ln W$ where $W$ is substituted for $\\Omega$.  There is no substantive difference between these equations."
   ]
  },
  {
   "cell_type": "markdown",
   "id": "f538864b",
   "metadata": {},
   "source": [
    "## Lattice Gas\n",
    "\n",
    "A lattice gas is a common example to see how the ideas of counting can be used to compute/estimate entropy for a molecular system.  We will uses these examples to estimate entropy of mixing, for example.  But we start by simply describing the lattice gas model."
   ]
  },
  {
   "cell_type": "markdown",
   "id": "e57d07be",
   "metadata": {},
   "source": [
    "Estimate the entropy of two molecules of an excluded volume gas in a fixed volume.\n",
    "\n",
    "We currently have no tools that allow us to estimate the absolute entropy of a system (we might be able to compute change in entropy during a process)...\n",
    "\n",
    "To estimate this, we consider the two molecules fixed in a 2D box (square):\n",
    "\n",
    "<img src=\"gas.png\" width=\"350\" align=\"center\">"
   ]
  },
  {
   "cell_type": "markdown",
   "id": "aa4110e7",
   "metadata": {},
   "source": [
    "The gas particles can move around but cannot overlap (finite volume).  So how many ways can we arrange them?  Currently, their motion is on a continuous space and not possible to count.  Instead, we discretize the space in some manner and say that the gas particles can occupy a single grid (or lattice) position\n",
    "\n",
    "<img src=\"gas_lattice_gas.png\" width=\"700\" align=\"center\">"
   ]
  },
  {
   "cell_type": "markdown",
   "id": "43dcbb98",
   "metadata": {},
   "source": [
    "Now, the number of ways of arranging the gas particles ($W$ or $\\Omega$ in the Boltzmann equation) can be computed using the binomial coefficient\n",
    "\n",
    "\\begin{equation}\n",
    "W = 16C2 = \\frac{16!}{14! 2!} = 8\\cdot15 = 120\n",
    "\\end{equation}\n",
    "\n",
    "\\begin{equation}\n",
    "S = k\\ln120\n",
    "\\end{equation}"
   ]
  },
  {
   "cell_type": "code",
   "execution_count": 1,
   "id": "00702740",
   "metadata": {},
   "outputs": [
    {
     "name": "stdout",
     "output_type": "stream",
     "text": [
      "6.606738605039223e-23\n"
     ]
    }
   ],
   "source": [
    "import scipy.special\n",
    "import numpy as np\n",
    "scipy.special.binom(16,2)\n",
    "k = 1.38e-23 # this is in units of J/K\n",
    "print(k*np.log(scipy.special.binom(16,2)))"
   ]
  },
  {
   "cell_type": "markdown",
   "id": "e590c8ca",
   "metadata": {},
   "source": [
    "### A Note on Units of $k$ (Boltzmann constant)\n",
    "\n",
    "$k = 1.38\\times10^{-23}$ $J/K$ is a typical value and units of $k$.  Note that this is an extremely small value and that it is on the order of magnitude of a single particle/molecule.  i.e. $10^{-23}$ when Avogadro's number is $10^{23}$.  \n",
    "\n",
    "$k$ can be thought of as the molecular value of the gas constant.  So, if you want to compute a molar quantity, i.e. $J/(K\\cdot mol)$, you would use $R = 8.314$ $J/(K\\cdot mol)$ for $k$."
   ]
  },
  {
   "cell_type": "markdown",
   "id": "e9144f29",
   "metadata": {},
   "source": [
    "### Entropy of Mixing of Two (or more) Lattice Gasses"
   ]
  },
  {
   "cell_type": "markdown",
   "id": "45f1559c",
   "metadata": {},
   "source": [
    "Given that we can now estimate the entropy of a lattice gas in a given volume, we can compute the change in entropy upon expansion, contraction or mixing of lattice gasses.\n",
    "\n",
    "\\begin{equation}\n",
    "\\Delta S = S_f - S_i = k\\ln W_f - k \\ln W_i = k\\ln\\left(\\frac{W_f}{W_i}\\right)\n",
    "\\end{equation}"
   ]
  },
  {
   "cell_type": "markdown",
   "id": "3cec175b",
   "metadata": {},
   "source": [
    "### Example\n",
    "\n",
    "Consider the system of two distinguishable excluded volume gasses initially separated by a barrier indicated by the dashed line.  Compute the change in entropy for the following system if the dashed line is made to be:\n",
    "\n",
    "1. Permeable only to solid colored particles (semi-permeable)\n",
    "2. Fully permeable\n",
    "\n",
    "<img src=\"gas_mix.png\" width=\"500\" align=\"center\">"
   ]
  },
  {
   "cell_type": "markdown",
   "id": "a383ada5",
   "metadata": {},
   "source": [
    "Permeable only to solid particles from Side L.\n",
    "\n",
    "We start writing the entropy of mixing as:\n",
    "\n",
    "\\begin{equation}\n",
    "\\Delta S = S_f - S_i = k\\ln W_f - k\\ln W_i = k\\ln\\left(\\frac{W_f}{W_i}\\right)\n",
    "\\end{equation}\n",
    "\n",
    "So we need to compute $W_f$ and $W_i$.  We start with $W_i$:\n",
    "\n",
    "\\begin{align}\n",
    "W_i =& W_L \\cdot W_R \\\\\n",
    "=& 12C6 \\cdot 8C4 \\\\\n",
    "=& 924 \\cdot 70 = 64680\n",
    "\\end{align}"
   ]
  },
  {
   "cell_type": "code",
   "execution_count": 2,
   "id": "41f6db77",
   "metadata": {},
   "outputs": [
    {
     "name": "stdout",
     "output_type": "stream",
     "text": [
      "924.0\n",
      "70.0\n",
      "64680.0\n"
     ]
    }
   ],
   "source": [
    "print(scipy.special.binom(12,6))\n",
    "print(scipy.special.binom(8,4))\n",
    "print(scipy.special.binom(12,6)*scipy.special.binom(8,4))"
   ]
  },
  {
   "cell_type": "markdown",
   "id": "95231114",
   "metadata": {},
   "source": [
    "Now for $W_f$.  There are many ways to correctly think about and compute the number of ways to arrange this system.  Here, I will consider the following decomposition\n",
    "\n",
    "\\begin{align}\n",
    "W_f =& W_{solid} \\cdot W_{open} \n",
    "\\end{align}\n",
    "\n",
    "$W_{open}$ is the number of ways to arrange the open circles.  Since the open circles cannot diffuse across the barrier, this is identical to the initial situation.  Thus, \n",
    "\n",
    "\\begin{equation}\n",
    "W_{open} = 8C4 = 70\n",
    "\\end{equation}\n",
    "\n",
    "$W_{solid}$ is only slighty more complicated.  Since the barrier is permeable to the solid particles, they can diffuse across it.  Thus, nominally, the solid circles can be in any one of the 20 lattice positions.  But, we know that the open circles are occupying four of these lattice positions, so really the solid circles have 16 lattice positions to choose from. Thus, \n",
    "\n",
    "\\begin{equation}\n",
    "W_{solid} = 16C6 = 8008\n",
    "\\end{equation}\n",
    "\n",
    "and\n",
    "\n",
    "\\begin{equation}\n",
    "W_f = 560560\n",
    "\\end{equation}"
   ]
  },
  {
   "cell_type": "code",
   "execution_count": 3,
   "id": "420101db",
   "metadata": {},
   "outputs": [
    {
     "name": "stdout",
     "output_type": "stream",
     "text": [
      "8008.0\n",
      "560560.0\n"
     ]
    }
   ],
   "source": [
    "print(scipy.special.binom(16,6))\n",
    "print(scipy.special.binom(16,6)*scipy.special.binom(8,4))"
   ]
  },
  {
   "cell_type": "markdown",
   "id": "74950645",
   "metadata": {},
   "source": [
    "Finally, we compute $\\Delta S_{mix}$:\n",
    "\n",
    "\\begin{align}\n",
    "\\Delta S_{mix} &= k\\ln\\left(\\frac{W_f}{W_i}\\right) \\\\\n",
    "&= k\\ln\\left(\\frac{560560}{64680}\\right)\\\\\n",
    "&= k\\ln\\left(8.6666\\right)\\\\\n",
    "&\\approx k\\cdot 2.1595\\\\\n",
    "&\\approx 17.95 \\quad J/(K\\cdot mol)\n",
    "\\end{align}"
   ]
  },
  {
   "cell_type": "code",
   "execution_count": 4,
   "id": "3e0a625b",
   "metadata": {},
   "outputs": [
    {
     "name": "stdout",
     "output_type": "stream",
     "text": [
      "8.666666666666666\n",
      "2.159484249353372\n",
      "17.953952049123934\n"
     ]
    }
   ],
   "source": [
    "print(560560/64680)\n",
    "print(np.log(560560/64680))\n",
    "print(8.314*np.log(560560/64680))"
   ]
  },
  {
   "cell_type": "code",
   "execution_count": 5,
   "id": "53f65293",
   "metadata": {},
   "outputs": [
    {
     "name": "stdout",
     "output_type": "stream",
     "text": [
      "18.90269008158828\n"
     ]
    }
   ],
   "source": [
    "print(8.314*np.log(scipy.special.binom(18,3)/(scipy.special.binom(9,3))))"
   ]
  },
  {
   "cell_type": "code",
   "execution_count": 6,
   "id": "3a20f878",
   "metadata": {},
   "outputs": [
    {
     "data": {
      "text/plain": [
       "12.0"
      ]
     },
     "execution_count": 6,
     "metadata": {},
     "output_type": "execute_result"
    }
   ],
   "source": [
    "import scipy.special as sc\n",
    "1/sc.beta(2, 3)"
   ]
  },
  {
   "cell_type": "code",
   "execution_count": 7,
   "id": "efeee3d3",
   "metadata": {},
   "outputs": [
    {
     "name": "stdout",
     "output_type": "stream",
     "text": [
      "1.0\n"
     ]
    }
   ],
   "source": [
    "from scipy.integrate import quad\n",
    "def beta_dist(x,alpha,beta):\n",
    "    return 1/sc.beta(alpha,beta)*x**(alpha-1)*(1-x)**(beta-1)\n",
    "numeric_integral = quad(beta_dist,0,1,args=(2,3))[0]\n",
    "print(numeric_integral)"
   ]
  },
  {
   "cell_type": "code",
   "execution_count": 8,
   "id": "e3b41557",
   "metadata": {},
   "outputs": [
    {
     "name": "stdout",
     "output_type": "stream",
     "text": [
      "0.64\n"
     ]
    }
   ],
   "source": [
    "def x_beta_dist(x,alpha,beta):\n",
    "    return 1/sc.beta(alpha,beta)*x**(alpha-1)*(1-x)**(beta-1)\n",
    "numeric_integral = quad(x_beta_dist,0.2,0.6,args=(2,3))[0]\n",
    "print(numeric_integral)"
   ]
  },
  {
   "cell_type": "code",
   "execution_count": null,
   "id": "14bcdfe6",
   "metadata": {},
   "outputs": [],
   "source": []
  }
 ],
 "metadata": {
  "kernelspec": {
   "display_name": "Python 3",
   "language": "python",
   "name": "python3"
  },
  "language_info": {
   "codemirror_mode": {
    "name": "ipython",
    "version": 3
   },
   "file_extension": ".py",
   "mimetype": "text/x-python",
   "name": "python",
   "nbconvert_exporter": "python",
   "pygments_lexer": "ipython3",
   "version": "3.8.16"
  }
 },
 "nbformat": 4,
 "nbformat_minor": 5
}