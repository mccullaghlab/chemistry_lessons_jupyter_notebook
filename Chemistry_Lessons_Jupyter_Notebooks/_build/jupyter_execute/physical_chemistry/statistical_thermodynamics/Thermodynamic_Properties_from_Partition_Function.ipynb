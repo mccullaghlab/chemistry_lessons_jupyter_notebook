{
 "cells": [
  {
   "cell_type": "markdown",
   "id": "93195cfa",
   "metadata": {},
   "source": [
    "# Thermodynamic Properties from the Partition Function"
   ]
  },
  {
   "cell_type": "markdown",
   "id": "715868c5",
   "metadata": {},
   "source": [
    "## Motivation"
   ]
  },
  {
   "cell_type": "markdown",
   "id": "ed5f602a",
   "metadata": {},
   "source": [
    "Thermoydnamic properties of a system, such as total internal energy, pressure and heat capacity, can be determined from the partition function for the system.  These notes will discuss how to do that."
   ]
  },
  {
   "cell_type": "markdown",
   "id": "ab93f70a",
   "metadata": {},
   "source": [
    "## Learning Goals"
   ]
  },
  {
   "cell_type": "markdown",
   "id": "16f7d4ce",
   "metadata": {},
   "source": [
    "After reading these notes and attending lecture, students should be able to:\n",
    "1. Write out the expression for internal energy as a function of the Canonical partition function,\n",
    "2. Write out the expression for pressure in terms of the Canonical partition function,\n",
    "3. Write out the expression for heat capacity at constant volumne in terms of the Canonical partition function."
   ]
  },
  {
   "cell_type": "markdown",
   "id": "b3be308c",
   "metadata": {},
   "source": [
    "## Overview"
   ]
  },
  {
   "cell_type": "markdown",
   "id": "44e100e8",
   "metadata": {},
   "source": [
    "For a system with fixed number of particles, $N$, volume, $V$, and temperature $T$, the partition function is a sum of the Boltzmann factors for all possible energy levels:\n",
    "\n",
    "\\begin{equation}\n",
    "Q(N,V,T) = \\sum_i e^{-\\beta E_i}.\n",
    "\\end{equation}\n",
    "\n",
    "where $\\beta = \\frac{1}{k_BT}$.\n",
    "\n",
    "Various macroscopic properties of the system can be determined from partition function, $Q(N,V,T)$.  In these notes we will show that \n",
    "\n",
    "\\begin{eqnarray}\n",
    "\\langle E \\rangle &=& -\\left( \\frac{\\partial \\ln Q}{\\partial \\beta} \\right) \\\\\n",
    "P &=& k_BT \\left( \\frac{\\partial \\ln Q}{\\partial V} \\right) \\\\\n",
    "C_V &=& k_B\\beta^2\\left( \\frac{\\partial^2 \\ln Q}{\\partial \\beta^2} \\right)\n",
    "\\end{eqnarray}"
   ]
  },
  {
   "cell_type": "markdown",
   "id": "89377016",
   "metadata": {},
   "source": [
    "## Internal Energy"
   ]
  },
  {
   "cell_type": "markdown",
   "id": "71d8d698",
   "metadata": {},
   "source": [
    "The internal energy for a system, often referred to by the symbol $U$ in classical Thermodynamics, can be determined from the partition function for a system.  The first step is to accept that the internal energy, $U$, is equivalent to the average energy of the system, $\\langle E \\rangle$.  \n",
    "\n",
    "The average energy can be expressed as a weighted average over a given probabilty distribution in the standard way,\n",
    "\\begin{equation}\n",
    "\\langle E \\rangle = \\sum_i E_i P_i.\n",
    "\\end{equation}\n",
    "Recall that, in the context of a system with constant $N$, $V$, and $T$, the probability of state $i$ is given as a ratio of the Boltzmann factor for that state and the partition function,\n",
    "\\begin{equation}\n",
    "P_i = \\frac{e^{-\\beta E_i}}{Q}.\n",
    "\\end{equation}\n",
    "Substituting this in to the equation for $\\langle E \\rangle$ gives\n",
    "\\begin{equation}\n",
    "\\langle E \\rangle = \\frac{\\sum_i E_ie^{-\\beta E_i}}{Q}.\n",
    "\\end{equation}"
   ]
  },
  {
   "cell_type": "markdown",
   "id": "b2a03f97",
   "metadata": {},
   "source": [
    "The key step in simplifying this equation is to recognize that the term $E_ie^{-\\beta E_i}$ looks like $xe^{\\alpha x}$ where the prefactor of the exponent happens to be the derivative of the argument of the exponent with respect to $\\alpha$.  In terms of the energy, this means\n",
    "\\begin{equation}\n",
    "E_ie^{-\\beta E_i} = -\\frac{\\partial}{\\partial \\beta} \\left(e^{-\\beta E_i}\\right).\n",
    "\\end{equation}\n",
    "In this equation, the symbol $\\partial$ refers to the partial derivative, instead of the total derivative denoted by a straight-backed $d$.  Partial derivatives show-up when we consider derivatives of functions of more than one variable.  $Q$, for instance, we refer to as $Q(N,V,T)$ meaning that it is a function of $N$, $V$ and $T$.  This is analagous to writing a function, $f(x,y,z)$, as a function of $x$, $y$, and $z$.  If we consider taking the derivative of $f$ we must consider which variable ($x$, $y$, or $z$) to differentiate by.  \n",
    "\n"
   ]
  },
  {
   "cell_type": "markdown",
   "id": "6600ec43",
   "metadata": {},
   "source": [
    "We now substitute the key relationshop into the average energy equation to get\n",
    "\\begin{eqnarray}\n",
    "\\langle E \\rangle &=& \\frac{\\sum_i E_ie^{-\\beta E_i}}{Q} \\\\\n",
    "&=& \\frac{\\sum_i -\\frac{\\partial}{\\partial \\beta} \\left(e^{-\\beta E_i}\\right)}{Q} \\\\\n",
    "&=& \\frac{-\\frac{\\partial}{\\partial \\beta} \\sum_i e^{-\\beta E_i}}{Q},\n",
    "\\end{eqnarray}\n",
    "where in the last step we recognize that the derivative operator can be distributed over the sum.  Now we recognized that $Q = \\sum_i e^{-\\beta E_i}$ to get\n",
    "\\begin{eqnarray}\n",
    "\\langle E \\rangle &=& \\frac{-\\frac{\\partial}{\\partial \\beta} Q}{Q} \\\\\n",
    "&=& -\\frac{1}{Q} \\frac{\\partial Q}{\\partial \\beta}.\n",
    "\\end{eqnarray}\n",
    "\n",
    "The final step in the derivation is to recognize that $\\frac{1}{Q} \\frac{\\partial Q}{\\partial \\beta} = \\frac{\\partial \\ln Q}{\\partial \\beta}$.  This can be hard to recognize but it should follow if you do it in the reverse.  That is, ask \n",
    "\\begin{equation}\n",
    "\\frac{\\partial \\ln f(x)}{\\partial x} = ?\n",
    "\\end{equation}\n",
    "Using the chain rule for differentiation, this becomes\n",
    "\\begin{equation}\n",
    "\\frac{\\partial \\ln f(x)}{\\partial x} = \\frac{1}{f(x)} \\frac{\\partial f(x)}{\\partial x}\n",
    "\\end{equation}"
   ]
  },
  {
   "cell_type": "markdown",
   "id": "247217a8",
   "metadata": {},
   "source": [
    "So, finally, we get that\n",
    "\\begin{eqnarray}\n",
    "\\langle E \\rangle &=&  -\\frac{1}{Q} \\frac{\\partial Q}{\\partial \\beta} \\\\\n",
    "&=& - \\frac{\\partial \\ln Q}{\\partial \\beta}.\n",
    "\\end{eqnarray}"
   ]
  },
  {
   "cell_type": "markdown",
   "id": "523d614b",
   "metadata": {},
   "source": [
    "## Pressure"
   ]
  },
  {
   "cell_type": "markdown",
   "id": "74e2b469",
   "metadata": {},
   "source": [
    "To get the pressure from the partition function we will use the average energy expression derived above.  Addtionally, we will need to employ a fact from classical Thermodynamics that we haven't yet seen.  Namely that\n",
    "\\begin{equation}\n",
    "p = -\\left(\\frac{\\partial U}{\\partial V}\\right)_{N}.\n",
    "\\end{equation}\n",
    "We will show why this is true in a few weeks when we discuss the interal energy from a classical Thermodynamics perspective.\n",
    "\n",
    "We start in an analogous manner as for $\\langle E \\rangle$\n",
    "\\begin{eqnarray}\n",
    "p &=& \\frac{\\sum_i p_i e^{-\\beta E_i}}{Q} \\\\\n",
    "&=&-\\frac{\\sum_i \\frac{\\partial E_i}{\\partial V} e^{-\\beta E_i}}{Q},\n",
    "\\end{eqnarray}\n",
    "where I have plugged in that $p_i = -\\frac{\\partial E_i}{\\partial V}$ in the last step.  \n",
    "\n",
    "We now investigate the volume derivate of the parition function:\n",
    "\\begin{eqnarray}\n",
    "\\frac{\\partial Q}{\\partial V} &=& \\frac{\\partial }{\\partial V} \\sum_i e^{-\\beta E_i} \\\\\n",
    "&=& \\sum_i \\frac{\\partial e^{-\\beta E_i} }{\\partial V}  \\\\\n",
    "&=& \\sum_i \\frac{\\partial (-\\beta E_i)}{\\partial V} e^{-\\beta E_i}  \\\\\n",
    "&=& -\\beta \\sum_i \\frac{\\partial  E_i}{\\partial V} e^{-\\beta E_i},\n",
    "\\end{eqnarray}\n",
    "or\n",
    "\\begin{eqnarray}\n",
    "\\sum_i \\frac{\\partial  E_i}{\\partial V} e^{-\\beta E_i} = -\\frac{1}{\\beta}\\frac{\\partial Q}{\\partial V}.\n",
    "\\end{eqnarray}\n",
    "\n",
    "We can plug this result into the previous expression for $p$ to get\n",
    "\\begin{eqnarray}\n",
    "p &=& -\\frac{\\sum_i \\frac{\\partial E_i}{\\partial V} e^{-\\beta E_i}}{Q} \\\\\n",
    "&=& -\\frac{-\\frac{1}{\\beta}\\frac{\\partial Q}{\\partial V}}{Q} \\\\\n",
    "&=& \\frac{1}{\\beta}\\frac{\\frac{\\partial Q}{\\partial V}}{Q} \\\\\n",
    "&=& \\frac{1}{\\beta}\\frac{\\partial \\ln Q}{\\partial V}\n",
    "\\end{eqnarray}"
   ]
  },
  {
   "cell_type": "markdown",
   "id": "586c2165",
   "metadata": {},
   "source": [
    "## Heat Capacity"
   ]
  },
  {
   "cell_type": "markdown",
   "id": "bde420db",
   "metadata": {},
   "source": [
    "The heat capacity for a system measures the amount of energy it takes to raise the system by one Kelvin (or, equivalently, one degree Celsius).  Heat capacity can be determined under constant volume condidtions, denoted $C_V$, or constant pressure conditions, denoted $C_P$.  Here, we will concern ourselves with $C_V$.  From classical Thermodynamics we know that the heat capacity at constant volume is\n",
    "\\begin{equation}\n",
    "C_V = \\left(\\frac{\\partial U}{\\partial T}\\right)_V.\n",
    "\\end{equation}\n",
    "\n",
    "In order to determine this quantity from a partition function, we recognize that $U = \\langle E \\rangle$ yielding\n",
    "\\begin{eqnarray}\n",
    "C_V &=& \\left(\\frac{\\partial \\langle E \\rangle}{\\partial T}\\right)_V \\\\\n",
    "&=& \\left(\\frac{\\partial}{\\partial T} \\left(- \\frac{\\partial \\ln Q}{\\partial \\beta}\\right)\\right)_V\n",
    "\\end{eqnarray}\n",
    "\n",
    "The difficultly here is resolving the issue of $\\beta$ vs $T$.  We do this by starting with the equation for $\\beta$ in terms of $T$ and differentiating both sides\n",
    "\\begin{eqnarray}\n",
    "\\beta &=& \\frac{1}{k_BT} \\\\\n",
    "\\Rightarrow d\\beta &=& - \\frac{1}{k_BT^2}dT \\\\\n",
    "&=& -k_B \\beta^2 dT \\\\\n",
    "\\Rightarrow dT &=& -\\frac{d\\beta}{k_B \\beta^2}\n",
    "\\end{eqnarray}\n",
    "\n",
    "Substituting this into the above equation for $C_V$ yields\n",
    "\\begin{eqnarray}\n",
    "C_V &=& -k_B \\beta^2 \\left(\\frac{\\partial}{\\partial \\beta} \\left(- \\frac{\\partial \\ln Q}{\\partial \\beta}\\right)\\right)_V \\\\\n",
    "&=&k_B \\beta^2 \\left( \\frac{\\partial^2 \\ln Q}{\\partial \\beta^2}\\right)_V\n",
    "\\end{eqnarray}"
   ]
  },
  {
   "cell_type": "markdown",
   "id": "4ea9ed82",
   "metadata": {},
   "source": [
    "## Example 1: Average Energy of a Monatomic Ideal Gas"
   ]
  },
  {
   "cell_type": "markdown",
   "id": "0be5ea5e",
   "metadata": {},
   "source": [
    "The partition function for an ideal gas is with fixed number of particles, $N$, volume, $V$, and temperature, $T$, is\n",
    "\n",
    "\\begin{equation}\n",
    "Q=\\frac{q^N}{N!}.\n",
    "\\end{equation}\n",
    "\n",
    "For a monatomic gas, we have that\n",
    "\n",
    "\\begin{equation}\n",
    "q=\\left(\\frac{2\\pi mk_BT}{h^2}\\right)^{\\frac{3}{2}}V\n",
    "\\end{equation}\n",
    "\n",
    "What is the average energy, $\\langle E \\rangle$, of a monatomic ideal gas?"
   ]
  },
  {
   "cell_type": "markdown",
   "id": "45f6ecd4",
   "metadata": {},
   "source": [
    "From the notes above, we know that\n",
    "\\begin{equation}\n",
    "\\langle E \\rangle = -\\left( \\frac{\\partial \\ln Q}{\\partial \\beta}\\right)\n",
    "\\end{equation}\n",
    "So, the strategy to solve this problem will be:\n",
    "\n",
    "1. get an equation for $\\ln Q$ in terms of $\\beta$ \n",
    "2. differentiate that equation with respect to $\\beta$.  \n",
    "\n",
    "\n",
    "Doing this problem stepwise, in particular taking the $\\ln Q$ outside of the derivative can really help simplify things as we will have quite a few terms that do not dependend on $\\beta$"
   ]
  },
  {
   "cell_type": "markdown",
   "id": "f9d1ee67",
   "metadata": {},
   "source": [
    "### 1. Equation for $\\ln Q$"
   ]
  },
  {
   "cell_type": "markdown",
   "id": "a9ef94e3",
   "metadata": {},
   "source": [
    "We start by getting an overall equation for $Q$ and then taking the natural log\n",
    "\n",
    "\\begin{eqnarray}\n",
    "Q &=& \\frac{q^N}{N!} \\\\\n",
    "&=&\\frac{\\left[ \\left(\\frac{2\\pi mk_BT}{h^2}\\right)^{\\frac{3}{2}}V \\right]^N}{N!} \\\\\n",
    "&=& \\frac{\\left[ \\left(\\frac{2\\pi m}{\\beta h^2}\\right)^{\\frac{3}{2}}V \\right]^N}{N!} \\\\\n",
    "&=& \\frac{ \\left(\\frac{2\\pi m}{\\beta h^2}\\right)^{\\frac{3N}{2}}V^N }{N!},\n",
    "\\end{eqnarray}\n",
    "where I substituted that $k_BT = \\frac{1}{\\beta}$ to get Q in terms of $\\beta$ and then distributed the power of $N$.  Now we take the natural log and isolate term(s) that depend on $\\beta$ (we will make heavy use of the rules of logarithms $\\ln(A\\cdot B) = \\ln A + \\ln B$ and $\\ln(A^N) = N\\ln A$)\n",
    "\\begin{eqnarray}\n",
    "\\ln Q &=& \\ln \\left[\\frac{\\left(\\frac{2\\pi m}{\\beta h^2}\\right)^{\\frac{3N}{2}}V^N }{N!}\\right] \\\\\n",
    "&=& \\ln\\left[ \\left(\\frac{2\\pi m}{\\beta h^2}\\right)^{\\frac{3N}{2}}\\right] + \\ln V^N - \\ln N! \\\\\n",
    "&=& \\frac{3N}{2}\\ln \\left(\\frac{2\\pi m}{\\beta h^2}\\right) + \\ln V^N - \\ln N! \\\\\n",
    "&=& \\frac{3N}{2}\\ln\\frac{1}{\\beta} + \\frac{3N}{2}\\ln \\left(\\frac{2\\pi m}{h^2}\\right)+ \\ln V^N - \\ln N! \\\\\n",
    "&=& -\\frac{3N}{2}\\ln\\beta + \\frac{3N}{2}\\ln \\left(\\frac{2\\pi m}{h^2}\\right)+ \\ln V^N - \\ln N!\n",
    "\\end{eqnarray}\n",
    "\n",
    "Notice that only the first term of the last equation for $\\ln Q$ depends on $\\beta$.  Thus, when we differentiate with respect to (w.r.t) $\\beta$ the last three terms will all yield zeros.  "
   ]
  },
  {
   "cell_type": "markdown",
   "id": "8b314e7c",
   "metadata": {},
   "source": [
    "### 2. Differentiate with respect to $\\beta$"
   ]
  },
  {
   "cell_type": "markdown",
   "id": "fd69c378",
   "metadata": {},
   "source": [
    "\\begin{eqnarray}\n",
    "\\langle E \\rangle &=& - \\left( \\frac{\\partial \\ln Q}{\\partial \\beta}\\right) \\\\\n",
    "&=& -\\frac{\\partial}{\\partial \\beta} \\left[ -\\frac{3N}{2}\\ln\\beta + \\frac{3N}{2}\\ln \\left(\\frac{2\\pi m}{h^2}\\right)+ \\ln V^N - \\ln N! \\right] \\\\\n",
    "&=& \\frac{3N}{2}\\frac{\\partial}{\\partial \\beta} \\ln\\beta \\\\\n",
    "&=& \\frac{3N}{2}\\frac{1}{\\beta} \\\\\n",
    "&=& \\frac{3Nk_BT}{2}\n",
    "\\end{eqnarray}"
   ]
  },
  {
   "cell_type": "markdown",
   "id": "2db6013e",
   "metadata": {},
   "source": [
    "## Example 2: Heat Capacity of a Monatomic Ideal Gas\n",
    "<div class=\"alert alert-block alert-info\">\n",
    "What is the heat capacity at constant volume, $C_V$, of a monoatomic ideal gas?\n",
    "</div>"
   ]
  },
  {
   "cell_type": "markdown",
   "id": "7b8b9289",
   "metadata": {},
   "source": [
    "## Example 3: Pressure of a Monatomic Ideal Gas\n",
    "<div class=\"alert alert-block alert-info\">\n",
    "What is the pressure, $p$, of a monoatomic ideal gas?\n",
    "</div>"
   ]
  }
 ],
 "metadata": {
  "kernelspec": {
   "display_name": "Python 3",
   "language": "python",
   "name": "python3"
  },
  "language_info": {
   "codemirror_mode": {
    "name": "ipython",
    "version": 3
   },
   "file_extension": ".py",
   "mimetype": "text/x-python",
   "name": "python",
   "nbconvert_exporter": "python",
   "pygments_lexer": "ipython3",
   "version": "3.8.3"
  }
 },
 "nbformat": 4,
 "nbformat_minor": 5
}