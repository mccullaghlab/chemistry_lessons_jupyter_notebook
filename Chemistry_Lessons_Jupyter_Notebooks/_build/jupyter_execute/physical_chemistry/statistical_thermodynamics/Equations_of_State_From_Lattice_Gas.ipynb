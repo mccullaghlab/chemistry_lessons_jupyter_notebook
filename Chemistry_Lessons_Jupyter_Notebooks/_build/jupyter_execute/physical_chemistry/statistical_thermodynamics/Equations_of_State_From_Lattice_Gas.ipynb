{
 "cells": [
  {
   "cell_type": "markdown",
   "id": "a8eb38d6",
   "metadata": {},
   "source": [
    "# Equations of State from Lattice Gas Models"
   ]
  },
  {
   "cell_type": "markdown",
   "id": "225c2b94",
   "metadata": {},
   "source": [
    "## Motivation\n",
    "\n",
    "The finite volume lattice gas model can be used to estimate entropies of mixing.  In these notes we will address how different lattice gas models can be used to derive equations of state."
   ]
  },
  {
   "cell_type": "markdown",
   "id": "4a688017",
   "metadata": {},
   "source": [
    "## Learning goals\n",
    "\n",
    "After these notes, students should be able to:\n",
    "1. Use the Sterling approximation for natural logarithms of a factorial\n",
    "2. Derive the ideal gas law from no-volume lattice gas model\n",
    "3. Derive the equation of state for a fintie volume lattice gas model"
   ]
  },
  {
   "cell_type": "markdown",
   "id": "355e0ceb",
   "metadata": {},
   "source": [
    "## Coding Concepts\n",
    "\n",
    "The following coding concepts are used to illustrate aspects of this lesson:\n",
    "\n",
    "1. Variables\n",
    "2. Functions\n",
    "3. Arrays\n",
    "4. Numpy\n",
    "5. Plotting with matplotlib"
   ]
  },
  {
   "cell_type": "markdown",
   "id": "b99b9448",
   "metadata": {},
   "source": [
    "## Introduction\n",
    "\n"
   ]
  },
  {
   "cell_type": "markdown",
   "id": "a52cd285",
   "metadata": {},
   "source": [
    "## Ideal Gas Lattice Gas"
   ]
  },
  {
   "cell_type": "markdown",
   "id": "d5e8f39f",
   "metadata": {},
   "source": [
    "We have previously seen the finite volume lattice gas.  The ideal gas lattice gas is even easier.  The number of ways of arranging $N$ gas particles in $M$ lattice sites ($M>N$) is\n",
    "\\begin{equation}\n",
    "W = \\frac{M^N}{N!}.\n",
    "\\end{equation}\n",
    "This is because every gas particle can be place in any of the lattice sites.  The $N!$ in the denominator corrects for the indistinguishable nature of these particles.  \n",
    "\n",
    "Thus, the entropy of an ideal gas with $N$ particles in  $M$ lattice sites is\n",
    "\\begin{eqnarray}\n",
    "S &=& k_B \\ln\\left( \\frac{M^N}{N!}\\right) \\\\\n",
    "&=& Nk_B\\ln M - k_B\\ln N!\n",
    "\\end{eqnarray}"
   ]
  },
  {
   "cell_type": "markdown",
   "id": "0091e4b6",
   "metadata": {},
   "source": [
    "### Example 1: Entropy of Lattice Gas\n",
    "\n",
    "Compute the molar entropy of a lattice gas with 5 particles and 16 lattice sites for the (a) ideal gas model and (b) finite gas model.\n",
    "\n",
    "(a) Ideal gas model:\n",
    "For this model the entropy is given as the formula above\n",
    "\\begin{eqnarray}\n",
    "\\bar{S} &=& NR\\ln M - R\\ln N! \\\\\n",
    "&=& 5R\\ln 16 - R\\ln 5! \\\\\n",
    "&=& 8.314(5\\ln16 - ln120) \\\\\n",
    "&=& 75.45 \\quad J\\cdot K^{-1}\\cdot mol^{-1}\n",
    "\\end{eqnarray}"
   ]
  },
  {
   "cell_type": "code",
   "execution_count": 3,
   "id": "74545e20",
   "metadata": {},
   "outputs": [
    {
     "data": {
      "text/plain": [
       "75.45330683401777"
      ]
     },
     "execution_count": 3,
     "metadata": {},
     "output_type": "execute_result"
    }
   ],
   "source": [
    "import numpy as np\n",
    "from scipy.special import factorial\n",
    "8.314*(5*np.log(16)-np.log(factorial(5)))"
   ]
  },
  {
   "cell_type": "markdown",
   "id": "abc576bd",
   "metadata": {},
   "source": [
    "(b) Finite gas model: for this model the entropy is given as\n",
    "\\begin{eqnarray}\n",
    "\\bar{S} &=& R\\ln\\left(\\frac{M!}{(M-N)!N!}\\right) \\\\\n",
    "&=& R\\ln\\left(\\frac{16!}{11!5!}\\right) \\\\\n",
    "&=& 69.69 \\quad J\\cdot K^{-1}\\cdot mol^{-1}\n",
    "\\end{eqnarray}"
   ]
  },
  {
   "cell_type": "code",
   "execution_count": 4,
   "id": "6ebf18c5",
   "metadata": {},
   "outputs": [
    {
     "data": {
      "text/plain": [
       "69.6884511418693"
      ]
     },
     "execution_count": 4,
     "metadata": {},
     "output_type": "execute_result"
    }
   ],
   "source": [
    "import numpy as np\n",
    "from scipy.special import factorial\n",
    "8.314*np.log(factorial(16)/(factorial(11)*factorial(5)))"
   ]
  },
  {
   "cell_type": "markdown",
   "id": "3d76264e",
   "metadata": {},
   "source": [
    "### Equation of State for an Ideal Lattice Gas\n",
    "\n",
    "We can derive the equation of state for an ideal gas lattice gas model using the relationship\n",
    "\\begin{equation}\n",
    "p = T \\left( \\frac{\\partial S}{\\partial V}\\right)_N.\n",
    "\\end{equation}\n",
    "We will see where this relationship comes from during the section on classical Thermodynamics.  \n",
    "\n",
    "In order to use this relationship, we need to have an equation for $S$ in terms of the volume of the system, $V$.  For this, we recognize that, for uniformly size grids/lattices, the volume of the system is proportional to the number of lattice sites\n",
    "\\begin{equation}\n",
    "V \\propto M.\n",
    "\\end{equation}\n",
    "The proportionality constant is the volume of each lattice site which we will denote $v$.  This yields\n",
    "\\begin{equation}\n",
    "V = vM\n",
    "\\end{equation}\n",
    "or\n",
    "\\begin{equation}\n",
    "M = \\frac{V}{v}\n",
    "\\end{equation}\n",
    "\n",
    "Subbing this into the ideal gas lattice gas entropy equation yields\n",
    "\\begin{eqnarray}\n",
    "S &=& Nk_B\\ln \\frac{V}{v} - k_B\\ln N! \\\\\n",
    " &=& Nk_B\\ln V -  Nk_B\\ln v- k_B\\ln N! \\\\\n",
    "\\end{eqnarray}\n",
    "\n",
    "Now differentiating the above equation with respect to $V$ and multiplying by $T$ yields\n",
    "\\begin{eqnarray}\n",
    "p &=& T \\left( \\frac{\\partial S}{\\partial V}\\right)_N \\\\\n",
    "&=& T \\left( \\frac{\\partial( Nk_B\\ln V -  Nk_B\\ln v- k_B\\ln N!)}{\\partial V}\\right)_N\\\\\n",
    "&=& T \\cdot Nk_B\\frac{1}{V} \\\\\n",
    "&=&  \\frac{Nk_BT}{V} \\\\\n",
    "\\end{eqnarray}"
   ]
  },
  {
   "cell_type": "markdown",
   "id": "0f6a91c2",
   "metadata": {},
   "source": [
    "## Finite Volume Lattice Gas"
   ]
  },
  {
   "cell_type": "markdown",
   "id": "1545dcf9",
   "metadata": {},
   "source": [
    "For a fintie volume lattice gas, the number of ways of arranging $N$ gas particles in $M$ lattice sites ($M>N$) is\n",
    "\\begin{equation}\n",
    "W = \\frac{M!}{(M-N)!N!} = _MC_N.\n",
    "\\end{equation}\n",
    " \n",
    "Thus, the entropy of an finite volume gas with $N$ particles in $M$ lattice sites is\n",
    "\\begin{eqnarray}\n",
    "S &=& k_B \\ln\\left( \\frac{M!}{(M-N)!N!} \\right) \\\\\n",
    "&=& k_B\\ln M! - k_B\\ln(M-N)! - k_B\\ln N!\n",
    "\\end{eqnarray}"
   ]
  },
  {
   "cell_type": "markdown",
   "id": "114ead76",
   "metadata": {},
   "source": [
    "### The Sterling Approximation\n",
    "\n",
    "A common approximation that comes up is Statistical Mechanics is the Sterling Approximation.  This approximates the natural log of a factorial as\n",
    "\\begin{equation}\n",
    "\\ln N! = N\\ln N - N\n",
    "\\end{equation}\n",
    "\n",
    "Let's see how good of an approximation this is"
   ]
  },
  {
   "cell_type": "code",
   "execution_count": 19,
   "id": "c53635a8",
   "metadata": {},
   "outputs": [
    {
     "name": "stderr",
     "output_type": "stream",
     "text": [
      "<ipython-input-19-57d9286cb562>:11: RuntimeWarning: divide by zero encountered in log\n",
      "  return N*np.log(N)-N\n",
      "<ipython-input-19-57d9286cb562>:11: RuntimeWarning: invalid value encountered in multiply\n",
      "  return N*np.log(N)-N\n",
      "<ipython-input-19-57d9286cb562>:11: RuntimeWarning: divide by zero encountered in log\n",
      "  return N*np.log(N)-N\n",
      "<ipython-input-19-57d9286cb562>:11: RuntimeWarning: invalid value encountered in multiply\n",
      "  return N*np.log(N)-N\n",
      "<ipython-input-19-57d9286cb562>:25: RuntimeWarning: divide by zero encountered in true_divide\n",
      "  ax2.plot(N,np.abs(ln_N_factorial(N)-sterling_N(N))/ln_N_factorial(N)*100,lw=2,label=\"% error\",color='C3')\n"
     ]
    },
    {
     "data": {
      "image/png": "[encoded data removed]",
      "text/plain": [
       "<Figure size 480x480 with 2 Axes>"
      ]
     },
     "metadata": {
      "filenames": {
       "image/png": "/Users/mmccull/Dropbox/work/chemistry_lessons_jupyter_notebook/Chemistry_Lessons_Jupyter_Notebooks/_build/jupyter_execute/physical_chemistry/statistical_thermodynamics/Equations_of_State_From_Lattice_Gas_15_1.png"
      }
     },
     "output_type": "display_data"
    }
   ],
   "source": [
    "# import libraries\n",
    "import numpy as np\n",
    "from scipy.special import factorial\n",
    "import matplotlib.pyplot as plt\n",
    "%matplotlib inline\n",
    "# setup problem\n",
    "N = np.arange(0,100,1)\n",
    "def ln_N_factorial(N):\n",
    "    return np.log(factorial(N))\n",
    "def sterling_N(N):\n",
    "    return N*np.log(N)-N\n",
    "# setup plot \n",
    "fontsize=14\n",
    "fig = plt.figure(figsize=(6,6), dpi= 80, facecolor='w', edgecolor='k')\n",
    "ax = plt.subplot(111)\n",
    "ax.grid(b=True, which='major', axis='both', color='#808080', linestyle='--')\n",
    "ax.set_xlabel(\"$N$\",size=fontsize)\n",
    "ax.set_ylabel(\"$\\ln N!$\",size=fontsize)\n",
    "ax.plot(N,ln_N_factorial(N),lw=3,label=\"$\\ln N!$\")\n",
    "ax.plot(N,sterling_N(N),'--',lw=3,label=\"Sterling Approximation\")\n",
    "ax2.set_ylabel('% Error', color='C3',fontsize=fontsize)\n",
    "plt.tick_params(axis='both',labelsize=fontsize)\n",
    "plt.legend(fontsize=fontsize)\n",
    "ax2 = ax.twinx()\n",
    "ax2.plot(N,np.abs(ln_N_factorial(N)-sterling_N(N))/ln_N_factorial(N)*100,lw=2,label=\"% error\",color='C3')\n",
    "ax2.tick_params(axis='y', labelcolor='C3',labelsize=fontsize)"
   ]
  },
  {
   "cell_type": "markdown",
   "id": "b68fc523",
   "metadata": {},
   "source": [
    "From the above plot, specifically from the rapid decay of the percent error with increasing $N$, we can see that the Sterling approximation is a good approximation in particular for large $N$."
   ]
  },
  {
   "cell_type": "markdown",
   "id": "2bfb9dd9",
   "metadata": {},
   "source": [
    "### Equation of State for a Finite Volume Lattice Gas\n",
    "\n",
    "We can derive the equation of state for an ideal gas lattice gas model using the relationship\n",
    "\\begin{equation}\n",
    "p = T \\left( \\frac{\\partial S}{\\partial V}\\right)_N.\n",
    "\\end{equation}\n",
    "We will see where this relationship comes from during the section on classical Thermodynamics.  \n",
    "\n",
    "To derive an expression for $S$ in terms of $V$ for a finite volume lattice gas, we will start be employing the Sterling approximation to the equation for $S$\n",
    "\\begin{eqnarray}\n",
    "S &=& k_B\\ln M! - k_B\\ln(M-N)! - k_B\\ln N! \\\\\n",
    "&=& k_B \\left( M\\ln M - M - (M-N)\\ln(M-N) + (M-N) - N\\ln N + N\\right) \\\\\n",
    "&=& k_B \\left( M\\ln M - M\\ln(M-N) + N\\ln(M-N) - N\\ln N \\right)\n",
    "\\end{eqnarray} \n",
    "Now substituting that $M=\\frac{V}{v}$ yields\n",
    "\\begin{eqnarray}\n",
    "S &=& k_B \\left( \\frac{V}{v}\\ln \\frac{V}{v} - \\frac{V}{v}\\ln(\\frac{V}{v}-N) + N\\ln(\\frac{V}{v}-N) - N\\ln N \\right)\\\\\n",
    "&=& k_B \\left( \\frac{V}{v}\\ln V - \\frac{V}{v}\\ln v - \\frac{V}{v}\\ln(\\frac{V}{v}-N) + N\\ln(\\frac{V}{v}-N) - N\\ln N \\right)\n",
    "\\end{eqnarray} \n",
    "\n",
    "Now differentiating the above equation with respect to $V$ and multiplying by $T$ yields\n",
    "\\begin{eqnarray}\n",
    "p &=& T \\left( \\frac{\\partial S}{\\partial V}\\right)_N \\\\\n",
    "&=& k_B T \\left( \\frac{1}{v}\\ln V + \\frac{V}{v}\\frac{1}{V} - \\frac{1}{v}\\ln v - \\frac{1}{v}\\ln(\\frac{V}{v}-N) - \\frac{V}{v}\\frac{1}{\\frac{V}{v}-N}\\frac{1}{v} + N\\frac{1}{\\frac{V}{v}-N}\\frac{1}{v} \\right)\\\\\n",
    "&=& \\frac{k_B T}{v} \\left( \\ln V + 1 - \\ln v - \\ln(\\frac{V}{v}-N) - \\frac{V}{v}\\frac{1}{\\frac{V}{v}-N} + N\\frac{1}{\\frac{V}{v}-N} \\right) \\\\\n",
    "&=& \\frac{k_B T}{v} \\left( \\ln \\frac{V}{v} + 1 - \\ln(\\frac{V}{v}-N) - \\frac{V}{V-vN} + \\frac{vN}{V-vN} \\right) \\\\\n",
    "&=& \\frac{k_B T}{v} \\left( \\ln M + 1 - \\ln(M-N) - \\frac{V}{V-vN} + \\frac{vN}{V-vN} \\right)\n",
    "\\end{eqnarray}\n",
    "At this point we need to make another approximation/assumption in order to simplify further.  If we assume that the gas is dilute then the number of lattice sites $M$ will be much much larger than the number of gas particles $N$.  This has the implication that $M-N \\approx M$ and $\\frac{V}{V-vN}\\approx 1$.  Applying this assumption yields\n",
    "\\begin{eqnarray}\n",
    "p &=& \\frac{k_B T}{v} \\left( \\ln M + 1 - \\ln M - 1 + \\frac{vN}{V-vN} \\right) \\\\\n",
    "&=& \\frac{Nk_B T}{V-vN}\n",
    "\\end{eqnarray}\n",
    "which is a somewhat standard correction to the ideal gas law for finite volume particles."
   ]
  }
 ],
 "metadata": {
  "kernelspec": {
   "display_name": "Python 3",
   "language": "python",
   "name": "python3"
  },
  "language_info": {
   "codemirror_mode": {
    "name": "ipython",
    "version": 3
   },
   "file_extension": ".py",
   "mimetype": "text/x-python",
   "name": "python",
   "nbconvert_exporter": "python",
   "pygments_lexer": "ipython3",
   "version": "3.8.8"
  }
 },
 "nbformat": 4,
 "nbformat_minor": 5
}