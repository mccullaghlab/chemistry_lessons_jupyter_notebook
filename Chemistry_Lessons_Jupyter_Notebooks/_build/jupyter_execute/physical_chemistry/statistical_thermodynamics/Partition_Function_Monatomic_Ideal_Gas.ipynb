{
 "cells": [
  {
   "cell_type": "markdown",
   "metadata": {},
   "source": [
    "# Partition Function for a Monatomic Ideal Gas"
   ]
  },
  {
   "cell_type": "markdown",
   "metadata": {},
   "source": [
    "## Motivation"
   ]
  },
  {
   "cell_type": "markdown",
   "metadata": {},
   "source": [
    "We have already seen and used the partition function for an ideal gas in practice problems.  Here, we will derive the form of the partition function for a monatomic ideal gas given the quantized translational energy."
   ]
  },
  {
   "cell_type": "markdown",
   "metadata": {},
   "source": [
    "## Learning Goals"
   ]
  },
  {
   "cell_type": "markdown",
   "metadata": {},
   "source": [
    "After reading these notes, students should be able to:\n",
    "1. Recognize that whenever you can write the energy of a system as a sum of independent contributions, the partition function is separable as a product of these same contributions\n",
    "2. Recognize the translational molecular partition function\n",
    "3. Understand the steps to go from translational energy to a translational partition function"
   ]
  },
  {
   "cell_type": "markdown",
   "metadata": {},
   "source": [
    "## Coding Concepts"
   ]
  },
  {
   "cell_type": "markdown",
   "metadata": {},
   "source": [
    "The following coding concepts are used in this notebook:\n",
    "1. [Variables](../../coding_concepts/variables.ipynb)\n",
    "2. [Functions](../../coding_concepts/functions.ipynb)\n",
    "3. [Plotting with matplotlib](../../coding_concepts/plotting_with_matplotlib.ipynb)\n",
    "4. [Numeric Integration](../../coding_concepts/numeric_integration.ipynb)"
   ]
  },
  {
   "cell_type": "markdown",
   "metadata": {},
   "source": [
    "## Energy of a Monatomic Ideal Gas"
   ]
  },
  {
   "cell_type": "markdown",
   "metadata": {},
   "source": [
    "The energy of an ideal gas with constant number of particles, $N$, volume, $V$, and temperature, $T$, is a sum of energies of individual ideal gas particles.  A macroscopic state, $j$, is a sum of particle energies in that particular macroscopic state\n",
    "\\begin{equation}\n",
    "E_j = \\sum_{i=1}^N \\epsilon_{i,j},\n",
    "\\end{equation}\n",
    "where $\\epsilon_{i,j}$ denotes the energy of particle $i$ in macroscopic state $j$.\n",
    "\n",
    "Given that we are considering our system to be a monatomic ideal gas, only the translational energy of each particle matters.  Quantum mechanics gives this to be\n",
    "\\begin{equation}\n",
    "\\epsilon_{i,j} = \\frac{h^2}{8ma^2}\\left(n_{x,i,j}^2+n_{y,i,j}^2+n_{z,i,j}^2\\right),\n",
    "\\end{equation}\n",
    "where $h$ is Planck's constant, $m$ is the mass of the particle and $a=V^{1/3}$.  Each macroscopic state will be differentiated by a the values of $n_x, n_y, n_z$ taken on for each particle, so $j$ is actually a list of specific values of $(n_{x,1},n_{y,1},n_{z,1},n_{x,2},..,n_{z,N})$.  All macroscopic states will be accounted for by all possible combinations of $n_x, n_y, n_z$ for each particle.  Obviously, the number of possible states will thus be infinitely large."
   ]
  },
  {
   "cell_type": "markdown",
   "metadata": {},
   "source": [
    "## The Canonical Partition Function of an Ideal Gas"
   ]
  },
  {
   "cell_type": "markdown",
   "metadata": {},
   "source": [
    "The canonical partition function for a monatomic ideal gas is\n",
    "\\begin{eqnarray}\n",
    "Q &=& \\sum_{n_{x,1} = 1,2.., n_{y,1} = 1,2.., .., n_{z,N}=1,2..} e^{-\\beta E_{n_{x,1},n_{y,1},..,n_{z,N}}} \\\\\n",
    "&=& \\sum_j e^{-\\beta E_j} \\\\\n",
    "&=& \\sum_j e^{-\\beta \\sum_{i=1}^N \\epsilon_{i,j}} \\\\\n",
    "&=& \\sum_j e^{-\\beta \\epsilon_{1,j}}e^{-\\beta \\epsilon_{2,j}}...e^{-\\beta \\epsilon_{N,j}}\n",
    "\\end{eqnarray}\n",
    "\n",
    "This can be further simplified by recognizing that the sum can be distributed over the product.  Here I will just do it but we will see an example of this later.\n",
    "\n",
    "\\begin{eqnarray}\n",
    "Q &=& \\sum_{n_{x,1},n_{y,1},n_{z,1}} e^{-\\beta \\epsilon_{1,n_{x,1},n_{y,1},n_{z,1}}}\\sum_{n_{x,2},n_{y,2},n_{z,2}}e^{-\\beta \\epsilon_{2,n_{x,1},n_{y,1},n_{z,1}}}...\\sum_{n_{x,N},n_{y,N},n_{z,N}}e^{-\\beta \\epsilon_{N,n_{x,1},n_{y,1},n_{z,1}}} \\\\\n",
    " &=& \\prod_{i=1}^N \\sum_{n_{x,i},n_{y,i},n_{z,i}} e^{-\\beta \\epsilon_{1,n_{x,i},n_{y,i},n_{z,i}}} \\\\\n",
    " &=& \\prod_{i=1}^N q_i,\n",
    "\\end{eqnarray}\n",
    "where the notation $\\prod_{i=1}^N$ denotes the product of the argument in analogy to $\\sum$ indicating a sum and $q_i=\\sum_{n_{x,i},n_{y,i},n_{z,i}} e^{-\\beta \\epsilon_{1,j}}$ denotes a molecular partition function for particle $i$.\n",
    "\n",
    "The final steps in the derivation arise from the stiplulation that all particles be identical and indistinguishable.  This has the following two results:\n",
    "1. All $q_i$ are identical and thus $\\prod_{i=1}^N q_i = q^N$\n",
    "2. The particle index $i$ is arbitrary and thus swapping two particles (e.g. particles 2 and 4) should have no affect on the final result.  This leads to an overcounting of $N!$ per state.\n",
    "\n",
    "Taking these two aspects into account we get:\n",
    "\\begin{eqnarray}\n",
    "Q &=& \\frac{q^N}{N!}\n",
    "\\end{eqnarray}"
   ]
  },
  {
   "cell_type": "markdown",
   "metadata": {},
   "source": [
    "## Example: Three Ideal Gas Particles"
   ]
  },
  {
   "cell_type": "markdown",
   "metadata": {},
   "source": [
    "Consider a system of three indistinguishable ideal gas particles held at constant $V$ and $T$.  Each particle can take on two energy levels denoted $\\epsilon_1$ and $\\epsilon_2$.\n",
    "\n",
    "1. Write out all possible energy levels of the system.\n",
    "2. Demonstrate that $Q \\approx \\frac{q^N}{N!}$ for this system."
   ]
  },
  {
   "cell_type": "markdown",
   "metadata": {},
   "source": [
    "### 1.  Write out all possible energy levels"
   ]
  },
  {
   "cell_type": "markdown",
   "metadata": {},
   "source": [
    "The energy of the system is given as\n",
    "\\begin{eqnarray}\n",
    "E_j &=& \\sum_i \\epsilon_{j,i} \\\\ \n",
    "&=& \\epsilon_{j,1} + \\epsilon_{j,2} + \\epsilon_{j,3},\n",
    "\\end{eqnarray}\n",
    "where here $j$ is as an ordered triplet, $j = (1,2,2)$ for example, denoting the states of the three particles.\n",
    "\n",
    "Each particle can take on one of two energy levels thus yielding a total of $2^3=8$ possibilities\n",
    "\\begin{eqnarray}\n",
    "E_1 = \\epsilon_{1,1} + \\epsilon_{1,2} + \\epsilon_{1,3} &=& 3\\epsilon_1 \\\\\n",
    "E_2 = \\epsilon_{2,1} + \\epsilon_{1,2} + \\epsilon_{1,3} &=& 2\\epsilon_1 + \\epsilon_2 \\\\\n",
    "E_3 = \\epsilon_{1,1} + \\epsilon_{2,2} + \\epsilon_{1,3} &=& 2\\epsilon_1 + \\epsilon_2 \\\\\n",
    "E_4 = \\epsilon_{1,1} + \\epsilon_{1,2} + \\epsilon_{2,3} &=& 2\\epsilon_1 + \\epsilon_2 \\\\\n",
    "E_5 = \\epsilon_{2,1} + \\epsilon_{2,2} + \\epsilon_{1,3} &=& \\epsilon_1 + 2\\epsilon_2 \\\\\n",
    "E_6 = \\epsilon_{2,1} + \\epsilon_{1,2} + \\epsilon_{2,3} &=& \\epsilon_1 + 2\\epsilon_2 \\\\\n",
    "E_7 = \\epsilon_{1,1} + \\epsilon_{2,2} + \\epsilon_{2,3} &=& \\epsilon_1 + 2\\epsilon_2 \\\\\n",
    "E_8 = \\epsilon_{2,1} + \\epsilon_{2,2} + \\epsilon_{2,3} &=& 3\\epsilon_2 \\\\\n",
    "\\end{eqnarray}\n",
    "\n",
    "Notice, however, that there are really only four different values for the total energy.  Additionally, since the particles are indistinguishable, each of the substates of the four different energy levels are indistinguishable.  So really we have the following four system energy levels:\n",
    "\\begin{eqnarray}\n",
    "E_1 &=& 3\\epsilon_1 \\\\\n",
    "E_2 &=& 2\\epsilon_1 + \\epsilon_2 \\\\\n",
    "E_3 &=& \\epsilon_1 + 2\\epsilon_2 \\\\\n",
    "E_4 &=& 3\\epsilon_2 \\\\\n",
    "\\end{eqnarray}\n"
   ]
  },
  {
   "cell_type": "markdown",
   "metadata": {},
   "source": [
    "### 2. Demonstrate $Q \\approx \\frac{q^N}{N!}$."
   ]
  },
  {
   "cell_type": "markdown",
   "metadata": {},
   "source": [
    "We have four system energy levels and can thus just write out the overall partition function for this system\n",
    "\\begin{eqnarray}\n",
    "Q &=& e^{-\\beta 3\\epsilon_1} + e^{-\\beta (2\\epsilon_1 + \\epsilon_2)} + e^{-\\beta (\\epsilon_1 + 2\\epsilon_2)} + e^{-\\beta 3\\epsilon_2} \\\\\n",
    "&=& e^{-\\beta (\\epsilon_{1,1} + \\epsilon_{1,2} + \\epsilon_{1,3})} + \\frac{1}{3}\\left( e^{-\\beta (\\epsilon_{2,1} + \\epsilon_{1,2} + \\epsilon_{1,3})} + e^{-\\beta (\\epsilon_{1,1} + \\epsilon_{2,2} + \\epsilon_{1,3})} + e^{-\\beta (\\epsilon_{1,1} + \\epsilon_{1,2} + \\epsilon_{2,3})}\\right) + \\frac{1}{3}\\left( e^{-\\beta (\\epsilon_{2,1} + \\epsilon_{2,2} + \\epsilon_{1,3})} + e^{-\\beta (\\epsilon_{2,1} + \\epsilon_{1,2} + \\epsilon_{2,3})} + e^{-\\beta (\\epsilon_{1,1} + \\epsilon_{2,2} + \\epsilon_{2,3})}\\right) + e^{-\\beta (\\epsilon_{2,1} + \\epsilon_{2,2} + \\epsilon_{2,3})} \\\\\n",
    "&=& \\frac{1}{3}\\left(e^{-\\beta \\epsilon_{1,1}} + e^{-\\beta \\epsilon_{2,1}}\\right) \\left(e^{-\\beta \\epsilon_{1,2}} + e^{-\\beta \\epsilon_{2,2}}\\right)\\left(e^{-\\beta \\epsilon_{1,3}} + e^{-\\beta \\epsilon_{2,3}}\\right) + \\frac{2}{3}\\left(e^{-\\beta (\\epsilon_{1,1} + \\epsilon_{1,2} + \\epsilon_{1,3})} + e^{-\\beta (\\epsilon_{2,1} + \\epsilon_{2,2} + \\epsilon_{2,3})}\\right)\\\\\n",
    "&\\approx& \\frac{1}{3}\\sum_{j=1}^{2} e^{-\\beta \\epsilon_{j,1}}\\sum_{j=1}^{2} e^{-\\beta \\epsilon_{j,2}}\\sum_{j=1}^{2} e^{-\\beta \\epsilon_{j,3}} \\\\\n",
    "&=& \\frac{1}{3}q_1 \\cdot q_2 \\cdot q_3 \\\\\n",
    "&=& \\frac{1}{3}q^3 \\\\\n",
    "&\\approx& \\frac{q^N}{N!}\n",
    "\\end{eqnarray}"
   ]
  },
  {
   "cell_type": "markdown",
   "metadata": {},
   "source": [
    "A few comments on this.  First, we see that we do not get, exactly, $Q = q^N/N!$.   That is because the factorial correction for indistinguishable particles is an approximation.  It is technically only valid for states in which all particles occupy different states (not possible in this particular example).  This is deemed a good approximation because at high enough temperature (or small enough spaced energy levels), it is likely that the particles will occupy different states."
   ]
  },
  {
   "cell_type": "markdown",
   "metadata": {},
   "source": [
    "## Achieving an Analytic Solution for the Translational Partition Function"
   ]
  },
  {
   "cell_type": "markdown",
   "metadata": {},
   "source": [
    "So far we have demonstrated that, for an ideal gas, we have a Canonical partition function of the form\n",
    "\\begin{equation}\n",
    "Q = \\frac{q^N}{N!},\n",
    "\\end{equation}\n",
    "where $q = \\sum_je^{-\\beta \\epsilon_j}$ is termed the molecular partition function with molecular energy $\\epsilon_j$ for molecular state $j$.  For a monatomic ideal gas only the translational energy of each particle comes into play and thus\n",
    "\\begin{equation}\n",
    "\\epsilon_{n_x,n_y,n_z} = \\frac{h^2}{8ma^2}\\left(n_x^2 + n_y^2 + n_z^2\\right), \\quad n_x,n_y,n_z=1, 2, ...\n",
    "\\end{equation}\n",
    "\n",
    "The goal now is to plug in the energy equation into $q$ and derive an analytic expression for the resulting sum (and ultimately plug this result back into the above equation for $Q$).  \n",
    "\n",
    "We start by simply plugging in the energy into $q$\n",
    "\\begin{eqnarray}\n",
    "q_{trans} &=& \\sum_{n_x,n_y,n_z} e^{-\\beta \\epsilon_{n_x,n_y,n_z}} \\\\\n",
    "&=& \\sum_{n_x=1}^{\\infty}\\sum_{n_y=1}^{\\infty}\\sum_{n_z=1}^{\\infty} \\exp\\left[ \\frac{-\\beta h^2}{8ma^2}\\left(n_x^2 + n_y^2 + n_z^2\\right) \\right] \\\\\n",
    "&=& \\sum_{n_x=1}^{\\infty}\\exp\\left(\\frac{-\\beta h^2n_x^2}{8ma^2}\\right)\\sum_{n_y=1}^{\\infty}\\exp\\left(\\frac{-\\beta h^2n_y^2}{8ma^2}\\right)\\sum_{n_z=1}^{\\infty} \\exp\\left(\\frac{-\\beta h^2n_z^2}{8ma^2} \\right) \\\\\n",
    "&=& \\left[ \\sum_{n=1}^{\\infty}\\exp\\left(\\frac{-\\beta h^2n^2}{8ma^2}\\right) \\right]^3\n",
    "\\end{eqnarray}\n",
    "Where I have now labeled the molecular partition function $q_{trans}$ to denote that it is for the translational component of the energy.  We now need to evaluate the sum inside the square brackets.\n",
    "\n",
    "In order to evaluate this sum we will make the approximation that the spacing of the translational energy levels is very small relative to $k_BT$ and thus we can approximate the sum of quantum number $n$ as an integral over continuous variable $n$:\n",
    "\\begin{eqnarray}\n",
    "\\sum_{n=1}^{\\infty}\\exp\\left(\\frac{-\\beta h^2n^2}{8ma^2}\\right) \\approx \\int_0^{\\infty} e^{\\frac{-\\beta h^2n^2}.{8ma^2}}dn\n",
    "\\end{eqnarray}\n",
    "Recall from our section on continuous probability that \n",
    "\\begin{eqnarray}\n",
    "\\int_0^\\infty e^{-\\alpha x^2}dx = \\sqrt{\\frac{\\pi}{4\\alpha}}\n",
    "\\end{eqnarray}\n",
    "Thus we get that\n",
    "\\begin{eqnarray}\n",
    "\\int_0^{\\infty} e^{\\frac{-\\beta h^2n^2}{8ma^2}}dn &=& \\left( \\frac{8\\pi m a^2}{4\\beta h^2} \\right)^{1/2} \\\\\n",
    "&=& \\left( \\frac{2\\pi m k_BT}{ h^2} \\right)^{1/2}a\n",
    "\\end{eqnarray}\n",
    "\n",
    "Plugging this back into $q_{trans}$ yields\n",
    "\\begin{eqnarray}\n",
    "q_{trans} &=& \\left[ \\left( \\frac{2\\pi m k_BT}{ h^2} \\right)^{1/2}a \\right]^3\\\\\n",
    "&=& \\left( \\frac{2\\pi m k_BT}{ h^2} \\right)^{3/2}a^3 \\\\\n",
    "&=& \\left( \\frac{2\\pi m k_BT}{ h^2} \\right)^{3/2}V\n",
    "\\end{eqnarray}\n",
    "where the last equality comes from the fact that $a=V^{1/3}$.\n",
    "\n",
    "Finally, we can plug this back into the equation for $Q$ to get the final expression for the partition function of a monatomic ideal gas\n",
    "\\begin{equation}\n",
    "Q = \\frac{\\left( \\frac{2\\pi m k_BT}{ h^2} \\right)^{3N/2}V^N}{N!}\n",
    "\\end{equation}"
   ]
  },
  {
   "cell_type": "markdown",
   "metadata": {},
   "source": [
    "## Example 1: Integration vs Summation"
   ]
  },
  {
   "cell_type": "markdown",
   "metadata": {},
   "source": [
    "Consider the following function of $n$:\n",
    "\\begin{equation}\n",
    "f(n) = \\exp\\left( \\frac{-\\beta h^2n^2}{8ma^2} \\right)\n",
    "\\end{equation}\n",
    "\n",
    "Evaluate the following two functions over domain $1\\times10^9 \\leq n \\leq 1.001\\times10^9$ and with $m=1$ amu, $T=300$ K, and $a=1$ dm.\n",
    "\n",
    "\\begin{equation}\n",
    "\\sum_{n=1\\times10^9}^{1.001\\times10^9} f(n)\n",
    "\\end{equation}\n",
    "\n",
    "and \n",
    "\n",
    "\\begin{equation}\n",
    "\\int_{1\\times10^9}^{1.001\\times10^9} f(n)dn\n",
    "\\end{equation}"
   ]
  },
  {
   "cell_type": "code",
   "execution_count": 5,
   "metadata": {},
   "outputs": [
    {
     "name": "stdout",
     "output_type": "stream",
     "text": [
      "7.981958150357973e-20\n"
     ]
    }
   ],
   "source": [
    "import numpy as np\n",
    "T = 300\n",
    "kB = 1.380649e-23 # m2 kg s-2 K-1 \n",
    "m = 1.66e-26  # Kg \n",
    "a = 1e-1 # m \n",
    "h = 6.62607015e-34 # m2 kg / s \n",
    "prefactor = h**2/(8*m*a**2*kB*T)\n",
    "print(prefactor)\n",
    "def f(n):\n",
    "    return np.exp(-prefactor * n**2)"
   ]
  },
  {
   "cell_type": "code",
   "execution_count": 6,
   "metadata": {},
   "outputs": [
    {
     "name": "stdout",
     "output_type": "stream",
     "text": [
      "Sum: 923209.1920522513\n",
      "Integral: 923209.1919785243\n",
      "Percent Error: 7.985945991538972e-09\n"
     ]
    }
   ],
   "source": [
    "from scipy.integrate import quad\n",
    "n = np.arange(1e9,1.001e9,1)\n",
    "summation = np.sum(f(n))\n",
    "numeric_integral = quad(f,1e9,1.001e9)[0]\n",
    "print(\"Sum:\", summation)\n",
    "print(\"Integral:\", numeric_integral)\n",
    "print(\"Percent Error:\", np.abs(summation-numeric_integral)/summation*100)"
   ]
  },
  {
   "cell_type": "code",
   "execution_count": 7,
   "metadata": {},
   "outputs": [
    {
     "data": {
      "text/plain": [
       "[<matplotlib.lines.Line2D at 0x7facf27bdf40>]"
      ]
     },
     "execution_count": 7,
     "metadata": {},
     "output_type": "execute_result"
    },
    {
     "data": {
      "image/png": "[encoded data removed]",
      "text/plain": [
       "<Figure size 480x480 with 1 Axes>"
      ]
     },
     "metadata": {
      "filenames": {
       "image/png": "/Users/mmccull/Dropbox/work/chemistry_lessons_jupyter_notebook/Chemistry_Lessons_Jupyter_Notebooks/_build/jupyter_execute/physical_chemistry/statistical_thermodynamics/Partition_Function_Monatomic_Ideal_Gas_24_1.png"
      }
     },
     "output_type": "display_data"
    }
   ],
   "source": [
    "import matplotlib.pyplot as plt\n",
    "%matplotlib inline\n",
    "# setup plot \n",
    "fontsize=14\n",
    "fig = plt.figure(figsize=(6,6), dpi= 80, facecolor='w', edgecolor='k')\n",
    "ax = plt.subplot(111)\n",
    "ax.grid(b=True, which='major', axis='both', color='#808080', linestyle='--')\n",
    "ax.set_xlabel(\"$n$\",size=fontsize)\n",
    "ax.set_ylabel(\"$P(n)$\",size=fontsize)\n",
    "plt.plot(n,f(n))"
   ]
  },
  {
   "cell_type": "markdown",
   "metadata": {},
   "source": [
    "## Example 2: Average $n$"
   ]
  },
  {
   "cell_type": "markdown",
   "metadata": {},
   "source": [
    "Consider a monatomic ideal gas particle in 1D with m = 1.66x10$^{-26}$ kg, a = 1x10$^{-6}$ m, and T=10 K.  What is the average value of the translational quantum number $n$ assuming that it is continuous. \n",
    "\n",
    "Some relevant equations, first the translational partition function in 1D\n",
    "\n",
    "\\begin{equation}\n",
    "q_{}\\left(a,T\\right)=\\left(\\frac{2\\pi mk_{B}T}{h^2}\\right)^{\\frac{1}{2}}a\n",
    "\\end{equation}\n",
    "\n",
    "Next a potentially useful integral\n",
    "\n",
    "\\begin{equation}\n",
    "\\int_0^{\\infty}ne^{-\\alpha n^2}dn=\\frac{1}{2\\alpha}\n",
    "\\end{equation}"
   ]
  },
  {
   "cell_type": "markdown",
   "metadata": {},
   "source": [
    "We will also need that:\n",
    "\n",
    "\\begin{eqnarray}\n",
    "h &=& 6.626\\times10^{-34} \\quad m^2\\cdot kg \\cdot s^{-1}\\\\\n",
    "k_B &=& 1.381 \\times10^{-23} \\quad m^2\\cdot kg \\cdot s^{-2} \\cdot K^{-1}\\\\\n",
    "\\epsilon_n &=& \\frac{h^2n^2}{8ma^2}\n",
    "\\end{eqnarray}\n",
    "\n",
    "where the equation for $\\epsilon_n$ is the particle in a box energy for 1D."
   ]
  },
  {
   "cell_type": "markdown",
   "metadata": {},
   "source": [
    "The problem asks for the average $n$, for continuous variable $n$.  This can be written as a standard weighted average\n",
    "\\begin{equation}\n",
    "\\langle n \\rangle = \\int_0^\\infty nP(n)dn,\n",
    "\\end{equation}\n",
    "where $P(n)$ is the probability density of variable $n$.  $P(n)$ can be determined as the ratio of the Boltzmann factor of a particular $n$ releative to the parition function, $q$,\n",
    "\\begin{eqnarray}\n",
    "P(n) &=& \\frac{e^{-\\beta \\epsilon_n}}{q} \\\\\n",
    "   &=& \\frac{e^{-\\beta \\frac{h^2n^2}{8ma^2}}}{q}\n",
    "\\end{eqnarray}\n",
    "\n",
    "Plug this equation into the integral for $\\langle n \\rangle$ yields\n",
    "\\begin{eqnarray}\n",
    "\\langle n \\rangle &=& \\int_0^\\infty nP(n)dn \\\\\n",
    "&=& \\int_0^\\infty n frac{e^{-\\beta \\frac{h^2n^2}{8ma^2}}}{q} dn \\\\\n",
    "&=& \\frac{1}{q} \\int_0^\\infty n e^{-\\beta \\frac{h^2n^2}{8ma^2}} dn\n",
    "\\end{eqnarray}\n",
    "\n",
    "Now, let $\\alpha = \\beta \\frac{h^2}{8ma^2}$ yields\n",
    "\\begin{eqnarray}\n",
    "\\langle n \\rangle &=& \\frac{1}{q} \\int_0^\\infty n e^{-\\alpha n^2} dn \\\\\n",
    "&=& \\frac{1}{q} \\frac{1}{2\\alpha} \\\\\n",
    "&=& \\frac{1}{q} \\frac{8ma^2}{2\\beta h^2} \\\\\n",
    "&=& \\frac{1}{q} \\frac{4ma^2k_BT}{ h^2}\n",
    "\\end{eqnarray}\n",
    "\n",
    "Now we can either plug in numbers or put in $q$ as variables, simplify and then plug in numbers.  Here I will do that latter:\n",
    "\n",
    "\\begin{eqnarray}\n",
    "\\langle n \\rangle &=& \\frac{1}{q} \\frac{4ma^2k_BT}{ h^2} \\\\\n",
    "&=& \\left(\\frac{2\\pi mk_{B}T}{h^2}\\right)^{\\frac{-1}{2}}a^{-1} \\frac{4ma^2k_BT}{ h^2} \\\\\n",
    "&=& \\frac{4\\sqrt{mk_BT}a}{ \\sqrt{2\\pi}h} \\\\\n",
    "&=& \\frac{4a}{h}\\sqrt{\\frac{mk_BT}{2\\pi}}\n",
    "\\end{eqnarray}"
   ]
  },
  {
   "cell_type": "code",
   "execution_count": 9,
   "metadata": {},
   "outputs": [
    {
     "name": "stdout",
     "output_type": "stream",
     "text": [
      "<n> =  3645.94\n"
     ]
    }
   ],
   "source": [
    "T = 10\n",
    "kB = 1.380649e-23 # m2 kg s-2 K-1 \n",
    "m = 1.66e-26  # Kg \n",
    "a = 1e-6 # m \n",
    "h = 6.62607015e-34 # m2 kg / s \n",
    "print(\"<n> = \", np.round(4*a/h*np.sqrt(m*kB*T/(2*np.pi)),2))"
   ]
  },
  {
   "cell_type": "markdown",
   "metadata": {},
   "source": [
    "## Example 3: Order of magnitude of $n$"
   ]
  },
  {
   "cell_type": "markdown",
   "metadata": {},
   "source": [
    "Consider a monatomic ideal gas particle in 1D with m = 1.66x10$^{-26}$ kg, a = 1x10$^{-6}$ m, and T=10 K.  What is the order of magnitude of the typical of the translational quantum number $n$ assuming that it is continuous? \n",
    "\n",
    "Additional information you will need: \n",
    "\\begin{eqnarray}\n",
    "h &=& 6.626\\times10^{-34} \\quad m^2\\cdot kg \\cdot s^{-1}\\\\\n",
    "k_B &=& 1.381 \\times10^{-23} \\quad m^2\\cdot kg \\cdot s^{-2} \\cdot K^{-1}\\\\\n",
    "\\epsilon_n &=& \\frac{h^2n^2}{8ma^2} \\\\\n",
    "\\langle \\epsilon_{1D} \\rangle &=& \\frac{1}{2}k_BT\n",
    "\\end{eqnarray}"
   ]
  },
  {
   "cell_type": "markdown",
   "metadata": {},
   "source": [
    "To address this problem one could:\n",
    "\n",
    "1. Compute $\\langle n \\rangle$ as we did in the previous example\n",
    "2. Determine the value of $n$ that corresponds to $\\langle \\epsilon \\rangle$.\n",
    "\n",
    "We will do option 2 here.  \n",
    "\n",
    "\\begin{eqnarray}\n",
    "\\langle \\epsilon_{1D} \\rangle &=& \\frac{1}{2}k_BT \\\\\n",
    "&=& \\frac{h^2n_{typical}^2}{8ma^2} \\\\\n",
    "\\Rightarrow n_{typical} &=& \\sqrt{\\frac{4ma^2k_BT}{h^2}}\n",
    "\\end{eqnarray}\n",
    "\n",
    "We plug-in numbers below using a code snippet."
   ]
  },
  {
   "cell_type": "code",
   "execution_count": 12,
   "metadata": {},
   "outputs": [
    {
     "name": "stdout",
     "output_type": "stream",
     "text": [
      "n_typical =  4569.51\n"
     ]
    }
   ],
   "source": [
    "T = 10 # K\n",
    "kB = 1.380649e-23 # m2 kg s-2 K-1 \n",
    "m = 1.66e-26  # Kg \n",
    "a = 1e-6 # m \n",
    "h = 6.62607015e-34 # m2 kg / s \n",
    "print(\"n_typical = \", np.round(np.sqrt(4*m*a**2*kB*T/h**2),2))"
   ]
  }
 ],
 "metadata": {
  "kernelspec": {
   "display_name": "Python 3",
   "language": "python",
   "name": "python3"
  },
  "language_info": {
   "codemirror_mode": {
    "name": "ipython",
    "version": 3
   },
   "file_extension": ".py",
   "mimetype": "text/x-python",
   "name": "python",
   "nbconvert_exporter": "python",
   "pygments_lexer": "ipython3",
   "version": "3.8.3"
  }
 },
 "nbformat": 4,
 "nbformat_minor": 4
}