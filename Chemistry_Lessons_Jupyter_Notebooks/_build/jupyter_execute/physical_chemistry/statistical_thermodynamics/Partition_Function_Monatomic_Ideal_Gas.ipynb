{
 "cells": [
  {
   "cell_type": "markdown",
   "metadata": {},
   "source": [
    "# Partition Function for a Monatomic Ideal Gas"
   ]
  },
  {
   "cell_type": "markdown",
   "metadata": {},
   "source": [
    "## Motivation"
   ]
  },
  {
   "cell_type": "markdown",
   "metadata": {},
   "source": [
    "We have already seen and used the partition function for an ideal gas in practice problems.  Here, we will derive the form of the partition function for a monatomic ideal gas given the quantized translational energy."
   ]
  },
  {
   "cell_type": "markdown",
   "metadata": {},
   "source": [
    "## Learning Goals"
   ]
  },
  {
   "cell_type": "markdown",
   "metadata": {},
   "source": [
    "After reading these notes, students should be able to:\n",
    "1. Recognize that whenever you can write the energy of a system as a sum of independent contributions, the partition function is separable as a product of these same contributions\n",
    "2. Recognize the translational molecular partition function\n",
    "3. Understand the steps to go from translational energy to a translational partition function"
   ]
  },
  {
   "cell_type": "markdown",
   "metadata": {},
   "source": [
    "## Energy of a Monatomic Ideal Gas"
   ]
  },
  {
   "cell_type": "markdown",
   "metadata": {},
   "source": [
    "The energy of an ideal gas with constant number of particles, $N$, volume, $V$, and temperature, $T$, is a sum of energies of individual ideal gas particles.  A macroscopic state, $j$, is a sum of particle energies in that particular macroscopic state\n",
    "\\begin{equation}\n",
    "E_j = \\sum_{i=1}^N \\epsilon_{i,j},\n",
    "\\end{equation}\n",
    "where $\\epsilon_{i,j}$ denotes the energy of particle $i$ in macroscopic state $j$.\n",
    "\n",
    "Given that we are considering our system to be a monatomic ideal gas, only the translational energy of each particle matters.  Quantum mechanics gives this to be\n",
    "\\begin{equation}\n",
    "\\epsilon_{i,j} = \\frac{h^2}{8ma^2}\\left(n_{x,i,j}^2+n_{y,i,j}^2+n_{z,i,j}^2\\right),\n",
    "\\end{equation}\n",
    "where $h$ is Planck's constant, $m$ is the mass of the particle and $a=V^{1/3}$.  Each macroscopic state will be differentiated by a the values of $n_x, n_y, n_z$ taken on for each particle, so $j$ is actually a list of specific values of $(n_{x,1},n_{y,1},n_{z,1},n_{x,2},..,n_{z,N})$.  All macroscopic states will be accounted for by all possible combinations of $n_x, n_y, n_z$ for each particle.  Obviously, the number of possible states will thus be infinitely large."
   ]
  },
  {
   "cell_type": "markdown",
   "metadata": {},
   "source": [
    "## The Canonical Partition Function of an Ideal Gas"
   ]
  },
  {
   "cell_type": "markdown",
   "metadata": {},
   "source": [
    "The canonical partition function for a monatomic ideal gas is\n",
    "\\begin{eqnarray}\n",
    "Q &=& \\sum_{n_{x,1} = 1,2.., n_{y,1} = 1,2.., .., n_{z,N}=1,2..} e^{-\\beta E_{n_{x,1},n_{y,1},..,n_{z,N}}} \\\\\n",
    "&=& \\sum_j e^{-\\beta E_j} \\\\\n",
    "&=& \\sum_j e^{-\\beta \\sum_{i=1}^N \\epsilon_{i,j}} \\\\\n",
    "&=& \\sum_j e^{-\\beta \\epsilon_{1,j}}e^{-\\beta \\epsilon_{2,j}}...e^{-\\beta \\epsilon_{N,j}}\n",
    "\\end{eqnarray}\n",
    "\n",
    "This can be further simplified by recognizing that the sum can be distributed over the product.  Here I will just do it but we will see an example of this later.\n",
    "\n",
    "\\begin{eqnarray}\n",
    "Q &=& \\sum_{n_{x,1},n_{y,1},n_{z,1}} e^{-\\beta \\epsilon_{1,n_{x,1},n_{y,1},n_{z,1}}}\\sum_{n_{x,2},n_{y,2},n_{z,2}}e^{-\\beta \\epsilon_{2,n_{x,1},n_{y,1},n_{z,1}}}...\\sum_{n_{x,N},n_{y,N},n_{z,N}}e^{-\\beta \\epsilon_{N,n_{x,1},n_{y,1},n_{z,1}}} \\\\\n",
    " &=& \\prod_{i=1}^N \\sum_{n_{x,i},n_{y,i},n_{z,i}} e^{-\\beta \\epsilon_{1,n_{x,i},n_{y,i},n_{z,i}}} \\\\\n",
    " &=& \\prod_{i=1}^N q_i,\n",
    "\\end{eqnarray}\n",
    "where the notation $\\prod_{i=1}^N$ denotes the product of the argument in analogy to $\\sum$ indicating a sum and $q_i=\\sum_{n_{x,i},n_{y,i},n_{z,i}} e^{-\\beta \\epsilon_{1,j}}$ denotes a molecular partition function for particle $i$.\n",
    "\n",
    "The final steps in the derivation arise from the stiplulation that all particles be identical and indistinguishable.  This has the following two results:\n",
    "1. All $q_i$ are identical and thus $\\prod_{i=1}^N q_i = q^N$\n",
    "2. The particle index $i$ is arbitrary and thus swapping two particles (e.g. particles 2 and 4) should have no affect on the final result.  This leads to an overcounting of $N!$ per state.\n",
    "\n",
    "Taking these two aspects into account we get:\n",
    "\\begin{eqnarray}\n",
    "Q &=& \\frac{q^N}{N!}\n",
    "\\end{eqnarray}"
   ]
  },
  {
   "cell_type": "markdown",
   "metadata": {},
   "source": [
    "## Example: Three Ideal Gas Particles"
   ]
  },
  {
   "cell_type": "markdown",
   "metadata": {},
   "source": [
    "Consider a system of three indistinguishable ideal gas particles held at constant $V$ and $T$.  Each particle can take on two energy levels denoted $\\epsilon_1$ and $\\epsilon_2$.\n",
    "\n",
    "1. Write out all possible energy levels of the system.\n",
    "2. Demonstrate that $Q \\approx \\frac{q^N}{N!}$ for this system."
   ]
  },
  {
   "cell_type": "markdown",
   "metadata": {},
   "source": [
    "### 1.  Write out all possible energy levels"
   ]
  },
  {
   "cell_type": "markdown",
   "metadata": {},
   "source": [
    "The energy of the system is given as\n",
    "\\begin{eqnarray}\n",
    "E_j &=& \\sum_i \\epsilon_{j,i} \\\\ \n",
    "&=& \\epsilon_{j,1} + \\epsilon_{j,2} + \\epsilon_{j,3},\n",
    "\\end{eqnarray}\n",
    "where here $j$ is as an ordered triplet, $j = (1,2,2)$ for example, denoting the states of the three particles.\n",
    "\n",
    "Each particle can take on one of two energy levels thus yielding a total of $2^3=8$ possibilities\n",
    "\\begin{eqnarray}\n",
    "E_1 = \\epsilon_{1,1} + \\epsilon_{1,2} + \\epsilon_{1,3} &=& 3\\epsilon_1 \\\\\n",
    "E_2 = \\epsilon_{2,1} + \\epsilon_{1,2} + \\epsilon_{1,3} &=& 2\\epsilon_1 + \\epsilon_2 \\\\\n",
    "E_3 = \\epsilon_{1,1} + \\epsilon_{2,2} + \\epsilon_{1,3} &=& 2\\epsilon_1 + \\epsilon_2 \\\\\n",
    "E_4 = \\epsilon_{1,1} + \\epsilon_{1,2} + \\epsilon_{2,3} &=& 2\\epsilon_1 + \\epsilon_2 \\\\\n",
    "E_5 = \\epsilon_{2,1} + \\epsilon_{2,2} + \\epsilon_{1,3} &=& \\epsilon_1 + 2\\epsilon_2 \\\\\n",
    "E_6 = \\epsilon_{2,1} + \\epsilon_{1,2} + \\epsilon_{2,3} &=& \\epsilon_1 + 2\\epsilon_2 \\\\\n",
    "E_7 = \\epsilon_{1,1} + \\epsilon_{2,2} + \\epsilon_{2,3} &=& \\epsilon_1 + 2\\epsilon_2 \\\\\n",
    "E_8 = \\epsilon_{2,1} + \\epsilon_{2,2} + \\epsilon_{2,3} &=& 3\\epsilon_2 \\\\\n",
    "\\end{eqnarray}\n",
    "\n",
    "Notice, however, that there are really only four different values for the total energy.  Additionally, since the particles are indistinguishable, each of the substates of the four different energy levels are indistinguishable.  So really we have the following four system energy levels:\n",
    "\\begin{eqnarray}\n",
    "E_1 &=& 3\\epsilon_1 \\\\\n",
    "E_2 &=& 2\\epsilon_1 + \\epsilon_2 \\\\\n",
    "E_3 &=& \\epsilon_1 + 2\\epsilon_2 \\\\\n",
    "E_4 &=& 3\\epsilon_2 \\\\\n",
    "\\end{eqnarray}\n"
   ]
  },
  {
   "cell_type": "markdown",
   "metadata": {},
   "source": [
    "### 2. Demonstrate $Q \\approx \\frac{q^N}{N!}$."
   ]
  },
  {
   "cell_type": "markdown",
   "metadata": {},
   "source": [
    "We have four system energy levels and can thus just write out the overall partition function for this system\n",
    "\\begin{eqnarray}\n",
    "Q &=& e^{-\\beta 3\\epsilon_1} + e^{-\\beta (2\\epsilon_1 + \\epsilon_2)} + e^{-\\beta (\\epsilon_1 + 2\\epsilon_2)} + e^{-\\beta 3\\epsilon_2} \\\\\n",
    "&=& e^{-\\beta (\\epsilon_{1,1} + \\epsilon_{1,2} + \\epsilon_{1,3})} + \\frac{1}{3}\\left( e^{-\\beta (\\epsilon_{2,1} + \\epsilon_{1,2} + \\epsilon_{1,3})} + e^{-\\beta (\\epsilon_{1,1} + \\epsilon_{2,2} + \\epsilon_{1,3})} + e^{-\\beta (\\epsilon_{1,1} + \\epsilon_{1,2} + \\epsilon_{2,3})}\\right) + \\frac{1}{3}\\left( e^{-\\beta (\\epsilon_{2,1} + \\epsilon_{2,2} + \\epsilon_{1,3})} + e^{-\\beta (\\epsilon_{2,1} + \\epsilon_{1,2} + \\epsilon_{2,3})} + e^{-\\beta (\\epsilon_{1,1} + \\epsilon_{2,2} + \\epsilon_{2,3})}\\right) + e^{-\\beta (\\epsilon_{2,1} + \\epsilon_{2,2} + \\epsilon_{2,3})} \\\\\n",
    "&=& \\frac{1}{3}\\left(e^{-\\beta \\epsilon_{1,1}} + e^{-\\beta \\epsilon_{2,1}}\\right) \\left(e^{-\\beta \\epsilon_{1,2}} + e^{-\\beta \\epsilon_{2,2}}\\right)\\left(e^{-\\beta \\epsilon_{1,3}} + e^{-\\beta \\epsilon_{2,3}}\\right) + \\frac{2}{3}\\left(e^{-\\beta (\\epsilon_{1,1} + \\epsilon_{1,2} + \\epsilon_{1,3})} + e^{-\\beta (\\epsilon_{2,1} + \\epsilon_{2,2} + \\epsilon_{2,3})}\\right)\\\\\n",
    "&\\approx& \\frac{1}{3}\\sum_{j=1}^{2} e^{-\\beta \\epsilon_{j,1}}\\sum_{j=1}^{2} e^{-\\beta \\epsilon_{j,2}}\\sum_{j=1}^{2} e^{-\\beta \\epsilon_{j,3}} \\\\\n",
    "&=& \\frac{1}{3}q_1 \\cdot q_2 \\cdot q_3 \\\\\n",
    "&=& \\frac{1}{3}q^3 \\\\\n",
    "&\\approx& \\frac{q^N}{N!}\n",
    "\\end{eqnarray}"
   ]
  },
  {
   "cell_type": "markdown",
   "metadata": {},
   "source": [
    "A few comments on this.  First, we see that we do not get, exactly, $Q = q^N/N!$.   That is because the factorial correction for indistinguishable particles is an approximation.  It is technically only valid for states in which all particles occupy different states (not possible in this particular example).  This is deemed a good approximation because at high enough temperature (or small enough spaced energy levels), it is likely that the particles will occupy different states."
   ]
  },
  {
   "cell_type": "markdown",
   "metadata": {},
   "source": [
    "## Achieving an Analytic Solution for the Translational Partition Function"
   ]
  },
  {
   "cell_type": "markdown",
   "metadata": {},
   "source": [
    "So far we have demonstrated that, for an ideal gas, we have a Canonical partition function of the form\n",
    "\\begin{equation}\n",
    "Q = \\frac{q^N}{N!},\n",
    "\\end{equation}\n",
    "where $q = \\sum_je^{-\\beta \\epsilon_j}$ is termed the molecular partition function with molecular energy $\\epsilon_j$ for molecular state $j$.  For a monatomic ideal gas only the translational energy of each particle comes into play and thus\n",
    "\\begin{equation}\n",
    "\\epsilon_{n_x,n_y,n_z} = \\frac{h^2}{8ma^2}\\left(n_x^2 + n_y^2 + n_z^2\\right), \\quad n_x,n_y,n_z=1, 2, ...\n",
    "\\end{equation}\n",
    "\n",
    "The goal now is to plug in the energy equation into $q$ and derive an analytic expression for the resulting sum (and ultimately plug this result back into the above equation for $Q$).  \n",
    "\n",
    "We start by simply plugging in the energy into $q$\n",
    "\\begin{eqnarray}\n",
    "q_{trans} &=& \\sum_{n_x,n_y,n_z} e^{-\\beta \\epsilon_{n_x,n_y,n_z}} \\\\\n",
    "&=& \\sum_{n_x=1}^{\\infty}\\sum_{n_y=1}^{\\infty}\\sum_{n_z=1}^{\\infty} \\exp\\left[ \\frac{-\\beta h^2}{8ma^2}\\left(n_x^2 + n_y^2 + n_z^2\\right) \\right] \\\\\n",
    "&=& \\sum_{n_x=1}^{\\infty}\\exp\\left(\\frac{-\\beta h^2n_x^2}{8ma^2}\\right)\\sum_{n_y=1}^{\\infty}\\exp\\left(\\frac{-\\beta h^2n_y^2}{8ma^2}\\right)\\sum_{n_z=1}^{\\infty} \\exp\\left(\\frac{-\\beta h^2n_z^2}{8ma^2} \\right) \\\\\n",
    "&=& \\left[ \\sum_{n=1}^{\\infty}\\exp\\left(\\frac{-\\beta h^2n^2}{8ma^2}\\right) \\right]^3\n",
    "\\end{eqnarray}\n",
    "Where I have now labeled the molecular partition function $q_{trans}$ to denote that it is for the translational component of the energy.  We now need to evaluate the sum inside the square brackets.\n",
    "\n",
    "In order to evaluate this sum we will make the approximation that the spacing of the translational energy levels is very small relative to $k_BT$ and thus we can approximate the sum of quantum number $n$ as an integral over continuous variable $n$:\n",
    "\\begin{eqnarray}\n",
    "\\sum_{n=1}^{\\infty}\\exp\\left(\\frac{-\\beta h^2n^2}{8ma^2}\\right) \\approx \\int_0^{\\infty} e^{\\frac{-\\beta h^2n^2}.{8ma^2}}dn\n",
    "\\end{eqnarray}\n",
    "Recall from our section on continuous probability that \n",
    "\\begin{eqnarray}\n",
    "\\int_0^\\infty e^{-\\alpha x^2}dx = \\sqrt{\\frac{\\pi}{4\\alpha}}\n",
    "\\end{eqnarray}\n",
    "Thus we get that\n",
    "\\begin{eqnarray}\n",
    "\\int_0^{\\infty} e^{\\frac{-\\beta h^2n^2}{8ma^2}}dn &=& \\left( \\frac{8\\pi m a^2}{4\\beta h^2} \\right)^{1/2} \\\\\n",
    "&=& \\left( \\frac{2\\pi m k_BT}{ h^2} \\right)^{1/2}a\n",
    "\\end{eqnarray}\n",
    "\n",
    "Plugging this back into $q_{trans}$ yields\n",
    "\\begin{eqnarray}\n",
    "q_{trans} &=& \\left[ \\left( \\frac{2\\pi m k_BT}{ h^2} \\right)^{1/2}a \\right]^3\\\\\n",
    "&=& \\left( \\frac{2\\pi m k_BT}{ h^2} \\right)^{3/2}a^3 \\\\\n",
    "&=& \\left( \\frac{2\\pi m k_BT}{ h^2} \\right)^{3/2}V\n",
    "\\end{eqnarray}\n",
    "where the last equality comes from the fact that $a=V^{1/3}$.\n",
    "\n",
    "Finally, we can plug this back into the equation for $Q$ to get the final expression for the partition function of a monatomic ideal gas\n",
    "\\begin{equation}\n",
    "Q = \\frac{\\left( \\frac{2\\pi m k_BT}{ h^2} \\right)^{3N/2}V^N}{N!}\n",
    "\\end{equation}"
   ]
  },
  {
   "cell_type": "markdown",
   "metadata": {},
   "source": [
    "## Example: Integration vs Summation"
   ]
  },
  {
   "cell_type": "markdown",
   "metadata": {},
   "source": [
    "Consider the following function of $n$:\n",
    "\\begin{equation}\n",
    "f(n) = \\exp\\left( \\frac{-\\beta h^2n^2}{8ma^2} \\right)\n",
    "\\end{equation}\n",
    "\n",
    "Evaluate the following two functions over domain $1\\times10^9 \\leq n \\leq 1.001\\times10^9$ and with $m=1$ amu, $T=300$ K, and $a=1$ dm.\n",
    "\n",
    "\\begin{equation}\n",
    "\\sum_{n=1\\times10^9}^{1.001\\times10^9} f(n)\n",
    "\\end{equation}\n",
    "\n",
    "and \n",
    "\n",
    "\\begin{equation}\n",
    "\\int_{1\\times10^9}^{1.001\\times10^9} f(n)dn\n",
    "\\end{equation}"
   ]
  },
  {
   "cell_type": "code",
   "execution_count": 1,
   "metadata": {},
   "outputs": [
    {
     "name": "stdout",
     "output_type": "stream",
     "text": [
      "7.981958150357973e-20\n"
     ]
    }
   ],
   "source": [
    "import numpy as np\n",
    "T = 300\n",
    "kB = 1.380649e-23 # m2 kg s-2 K-1 \n",
    "m = 1.66e-26  # Kg \n",
    "a = 1e-1 # m \n",
    "h = 6.62607015e-34 # m2 kg / s \n",
    "prefactor = h**2/(8*m*a**2*kB*T)\n",
    "print(prefactor)\n",
    "def f(n):\n",
    "    return np.exp(-prefactor * n**2)"
   ]
  },
  {
   "cell_type": "code",
   "execution_count": 2,
   "metadata": {},
   "outputs": [
    {
     "name": "stdout",
     "output_type": "stream",
     "text": [
      "Sum: 923209.1920522513\n",
      "Integral: 923209.1919785243\n",
      "Percent Error: 7.985945991538972e-09\n"
     ]
    }
   ],
   "source": [
    "from scipy.integrate import quad\n",
    "n = np.arange(1e9,1.001e9,1)\n",
    "summation = np.sum(f(n))\n",
    "numeric_integral = quad(f,1e9,1.001e9)[0]\n",
    "print(\"Sum:\", summation)\n",
    "print(\"Integral:\", numeric_integral)\n",
    "print(\"Percent Error:\", np.abs(summation-numeric_integral)/summation*100)"
   ]
  },
  {
   "cell_type": "code",
   "execution_count": 3,
   "metadata": {},
   "outputs": [
    {
     "data": {
      "text/plain": [
       "[<matplotlib.lines.Line2D at 0x7fb091c52730>]"
      ]
     },
     "execution_count": 3,
     "metadata": {},
     "output_type": "execute_result"
    },
    {
     "data": {
      "image/png": "[encoded data removed]",
      "text/plain": [
       "<Figure size 432x288 with 1 Axes>"
      ]
     },
     "metadata": {
      "filenames": {
       "image/png": "/Users/mmccull/Dropbox/work/chemistry_lessons_jupyter_notebook/Chemistry_Lessons_Jupyter_Notebooks/_build/jupyter_execute/physical_chemistry/statistical_thermodynamics/Partition_Function_Monatomic_Ideal_Gas_22_1.png"
      },
      "needs_background": "light"
     },
     "output_type": "display_data"
    }
   ],
   "source": [
    "import matplotlib.pyplot as plt\n",
    "%matplotlib inline\n",
    "plt.plot(n,f(n))"
   ]
  },
  {
   "cell_type": "code",
   "execution_count": null,
   "metadata": {},
   "outputs": [],
   "source": []
  }
 ],
 "metadata": {
  "kernelspec": {
   "display_name": "Python 3",
   "language": "python",
   "name": "python3"
  },
  "language_info": {
   "codemirror_mode": {
    "name": "ipython",
    "version": 3
   },
   "file_extension": ".py",
   "mimetype": "text/x-python",
   "name": "python",
   "nbconvert_exporter": "python",
   "pygments_lexer": "ipython3",
   "version": "3.8.8"
  }
 },
 "nbformat": 4,
 "nbformat_minor": 4
}