{
 "cells": [
  {
   "cell_type": "markdown",
   "id": "13e47159",
   "metadata": {},
   "source": [
    "# Transition State Theory and Temperature Dependence of the Rate Constant"
   ]
  },
  {
   "cell_type": "markdown",
   "id": "3903a6c9",
   "metadata": {},
   "source": [
    "## Motivation\n",
    "\n",
    "In these notes we will start to investigate some of the quantities that affect the rate constant.  We will start by deriving the Transition State Theory version of the rate constant and then look at how this equation depends on temperature."
   ]
  },
  {
   "cell_type": "markdown",
   "id": "4bed98a8",
   "metadata": {},
   "source": [
    "## Learning Goals\n",
    "\n",
    "After working through these notes, you should be able to:\n",
    "\n",
    "1. Derive Transition State Theory expressions for the rate constant\n",
    "2. Describe how a rate constant depends on temperature\n",
    "3. Identify the correspondence between activation energy and the TST rate constant expression\n",
    "4. Compute the activation energy for a reaction from rate constant vs temperature data\n",
    "5. Compute the Arhenius prefactor from rate constant vs temperature data"
   ]
  },
  {
   "cell_type": "markdown",
   "id": "fb45e1c8",
   "metadata": {},
   "source": [
    "## Coding Concepts\n",
    "\n",
    "The following coding concepts are used in this notebook:\n",
    "\n",
    "1. [Variables](../../coding_concepts/variables.ipynb)\n",
    "2. [Functions](../../coding_concepts/functions.ipynb)\n",
    "3. [Plotting with matplotlib](../../coding_concepts/plotting_with_matplotlib.ipynb)"
   ]
  },
  {
   "cell_type": "markdown",
   "id": "d78b1ab8",
   "metadata": {},
   "source": [
    "## Transition State Theory Expression for the Rate Constant"
   ]
  },
  {
   "cell_type": "markdown",
   "id": "47189c6c",
   "metadata": {},
   "source": [
    "So far we have more or less ignored the rate constants and yet the values of these constants has a dramatic effect on the rate of reaction.  What are the molecular origins oof these values and why are some reactions faster than others?\n",
    "\n",
    "Transition State Theory, first developed by Henry Eyring in the early 20th century, provides a model for the rate constant that matches experimental data.  This result provides us with some insight into why certain reaction are faster than others.\n",
    "\n",
    "For this derivation we consider a generic reaction\n",
    "\\begin{equation}\n",
    "A + B \\rightarrow P\n",
    "\\end{equation}\n",
    "where the rate law is given as\n",
    "\\begin{equation}\n",
    "\\frac{d[P]}{dt} = k[A][B]\n",
    "\\end{equation}\n",
    "\n",
    "Transition State Theory postulates the existence of an activated complex (or transition state species) that must be populated before the product is formed.  That is, $A$ and $B$ are in an initial equilibrium with a high energy intermediate, or transition state, before forming the product, $P$.  The proposed mechanism is written as \n",
    "\\begin{equation}\n",
    "A + B \\overset{k_1}{\\underset{k_{-1}}{\\rightleftharpoons}} AB^{\\ddagger} \\overset{k_2}{\\rightarrow} P\n",
    "\\end{equation}\n",
    "\n",
    "The species $AB^\\ddagger$ denotes the transition state and is a considered the molecular \"species\" at the saddle point in the free energy surface between reactants and products.  The initial equilibrium has equilibrium constant\n",
    "\\begin{equation}\n",
    "K_C^\\ddagger = \\frac{[AB^\\ddagger]c^\\circ}{[A][B]}\n",
    "\\end{equation}\n",
    "\n",
    "The rate of product formation, under the current proposed mechanism, is\n",
    "\\begin{equation}\n",
    "\\frac{d[P]}{dt} = k_2[AB^\\ddagger]\n",
    "\\end{equation}\n",
    "When developing rate laws from mechanisms, we avoid writing the overall rate law in terms of intermediates.  Thus, we replace $[AB^\\ddagger]$ with the equilibrium constant expression above to get\n",
    "\\begin{equation}\n",
    "\\frac{d[P]}{dt} = k_2K_C^\\ddagger(c^\\circ)^{-1}[A][B]\n",
    "\\end{equation}\n",
    "\n",
    "If we compare this to the overall rate law we see that or TST mechanism suggests that\n",
    "\\begin{equation}\n",
    "k = k_2K_C^\\ddagger(c^\\circ)^{-1}\n",
    "\\end{equation}\n",
    "\n",
    "To further investigate the physical underpinnings of $k_2$ and $K_C^\\ddagger$ we will use aspects of Statistical Thermodynamics.  First, we recognize that $k_2$ is related to the frequency of motion along the reaction coordinate (rc), $\\nu_{rc}$:\n",
    "\\begin{equation}\n",
    "k_2 = \\nu_{rc}\n",
    "\\end{equation}\n",
    "Sometimes it is stated that $k_2 = \\kappa \\nu_{rc}$ where $\\kappa$ is the transmission coefficient that dictates the fraction of vibrations in this direction that lead to product formation.  Here will will simply use that $\\kappa = 1$.  \n",
    "\n",
    "Second, we will express the equilibrium constant in terms of partition functions\n",
    "\\begin{eqnarray}\n",
    "K_C^\\ddagger = \\frac{\\left(\\frac{q_{AB^\\ddagger}}{V}\\right)c^\\circ}{\\left(\\frac{q_{A}}{V}\\right)\\left(\\frac{q_{B}}{V}\\right)}\n",
    "\\end{eqnarray}\n",
    "we will then extract from $q_{AB^\\ddagger}$ the motion along the reaction coordinate.  That is we will dictate that $q_{AB^\\ddagger} = q_{rc}q_{int}$ yielding\n",
    "\\begin{eqnarray}\n",
    "K_C^\\ddagger = q_{rc}\\frac{\\left(\\frac{q_{int}}{V}\\right)c^\\circ}{\\left(\\frac{q_{A}}{V}\\right)\\left(\\frac{q_{B}}{V}\\right)} = q_{rc} K_C^{\\ddagger*}\n",
    "\\end{eqnarray}\n",
    "where $K_C^{\\ddagger*}$ is the equilibrium constant between TS and reactants with the 1D motion along the reaction coordinate of the TS removed.  It can be shown that\n",
    "\\begin{equation}\n",
    "\\nu_{rc}q_{rc} = \\frac{k_BT}{h}\n",
    "\\end{equation}\n",
    "Thus yielding \n",
    "\\begin{equation}\n",
    "k_{TST} = \\frac{k_BT}{h}K_C^{\\ddagger*}(c^\\circ)^{-1}\n",
    "\\end{equation}\n",
    "\n",
    "Recall that the equlibrium constant can be expressed as $K^\\ddagger = e^{-\\Delta G^{\\ddagger\\circ}/RT}$ yielding\n",
    "\\begin{eqnarray}\n",
    "k &=& k_2e^{-\\Delta G^{\\ddagger\\circ}RT} \\\\\n",
    "&=& k_2e^{\\Delta S^{\\ddagger\\circ}/R}e^{-\\Delta H^{\\ddagger\\circ}/RT}\n",
    "\\end{eqnarray}\n",
    "\n",
    "$k_2$, the rate constant of the second step in the TST mechanism, is related to the frequency that the complexes cross over the barrier.  It can be shown that, under consideration of one dimensional motion at the TS, that \n",
    "\\begin{equation}\n",
    "k_2 = \\frac{k_BT}{hc^\\circ}\n",
    "\\end{equation}\n",
    "Thus yielding the final expression for the TST rate constant of\n",
    "\\begin{equation}\n",
    "k = \\frac{k_BT}{hc^\\circ}e^{\\Delta S^{\\ddagger\\circ}/R}e^{-\\Delta H^{\\ddagger\\circ}/RT}\n",
    "\\end{equation}\n",
    "\n",
    "This form of the TST rate constant expression is for a second order reaction.  More generally, we can write\n",
    "\\begin{equation}\n",
    "k = \\frac{k_BT}{h}(c^\\circ)^{1-m}e^{\\Delta S^{\\ddagger\\circ}/R}e^{-\\Delta H^{\\ddagger\\circ}/RT},\n",
    "\\end{equation}\n",
    "where $m$ is the order of the reaction."
   ]
  },
  {
   "cell_type": "markdown",
   "id": "1b158891",
   "metadata": {},
   "source": [
    "The TST expression for the rate constant indicates that the overall rate constant will increase with:\n",
    "\n",
    "1. Increasing temperature\n",
    "2. Decreasing $\\Delta H^\\ddagger$\n",
    "3. Increasing $\\Delta S^\\ddagger$.\n",
    "\n",
    "$\\Delta H^\\ddagger$ is related to the activation energy of the reaction and $\\Delta S^\\ddagger$ is related to the relative disorder of the TS and reactants.  "
   ]
  },
  {
   "cell_type": "markdown",
   "id": "d0aafd70",
   "metadata": {},
   "source": [
    "## The Temperature Depedence of the Rate Constant"
   ]
  },
  {
   "cell_type": "markdown",
   "id": "87520a24",
   "metadata": {},
   "source": [
    "### Arhenius Expression"
   ]
  },
  {
   "cell_type": "markdown",
   "id": "f26cbafc",
   "metadata": {},
   "source": [
    "A simpler expression for the rate constant come from Arhenius.  He expressed the rate constant as \n",
    "\\begin{equation}\n",
    "k = Ae^{-\\frac{E_a}{RT}}\n",
    "\\end{equation}\n",
    "where $A$ is the Arhenius prefactor and assumed to be temperature independent and $E_a$ is the activation energy of the reaction.  The linear form of the Arhenius equation is\n",
    "\\begin{equation}\n",
    "\\ln k = -\\frac{E_a}{RT} + \\ln A.\n",
    "\\end{equation}\n",
    "This expression demonstrates that the log of a rate constant following the Arhenius expression will be linear with respect to $1/T$.  \n",
    "\n",
    "Arhenius plots can be used to estimate the activation energy for a reaction."
   ]
  },
  {
   "cell_type": "markdown",
   "id": "8b758935",
   "metadata": {},
   "source": [
    "### Example: Activation Energy from Arhenius Plot\n",
    "\n",
    "The rate constant for the first order reaction\n",
    "\\begin{equation}\n",
    "N_2O_5(g) \\rightarrow 2NO_2(g) + \\frac{1}{2}O_2(g)\n",
    "\\end{equation}\n",
    "is measured as a function of temperature.  From the table blelow determine the activation and Arhenius prexponential factor assuming Arhenius behavior.\n",
    "\n",
    "| T/K | 273 | 298 | 308 | 318 | 328 | 338 |\n",
    "| :---- | :---- | :---- | :---- | :---- | :---- | :---- |\n",
    "k/$10^{-5}$ s$^{-1}$ | 0.0787 | 3.46 | 13.5 | 49.8 | 150 | 487 |"
   ]
  },
  {
   "cell_type": "markdown",
   "id": "ceb371a9",
   "metadata": {},
   "source": [
    "To determine the activation energy, $E_a$, and the Arhenius prefactor, $A$, we will fit the following linear equation\n",
    "\\begin{equation}\n",
    "\\ln k = -\\frac{E_a}{RT} + \\ln A.\n",
    "\\end{equation}\n",
    "\n",
    "To do so, we will plot $\\ln k$ vs $1/T$"
   ]
  },
  {
   "cell_type": "code",
   "execution_count": 13,
   "id": "82b48925",
   "metadata": {},
   "outputs": [
    {
     "name": "stdout",
     "output_type": "stream",
     "text": [
      "1/T: [0.003663   0.0033557  0.00324675 0.00314465 0.00304878 0.00295858]\n",
      "ln(k): [-14.05503759 -10.27165688  -8.91023578  -7.60491048  -6.50229017\n",
      "  -5.32466134]\n"
     ]
    }
   ],
   "source": [
    "import numpy as np\n",
    "T = np.array([273, 298, 308, 318, 328, 338])\n",
    "k = np.array([0.0787,3.46,13.5,49.8,150,487])*1e-5\n",
    "print(\"1/T:\", 1/T)\n",
    "print(\"ln(k):\",np.log(k))"
   ]
  },
  {
   "cell_type": "code",
   "execution_count": 14,
   "id": "6e7ba819",
   "metadata": {
    "tags": [
     "hide_input"
    ]
   },
   "outputs": [
    {
     "data": {
      "text/plain": [
       "<matplotlib.legend.Legend at 0x7fe6e1ec72b0>"
      ]
     },
     "execution_count": 14,
     "metadata": {},
     "output_type": "execute_result"
    },
    {
     "data": {
      "image/png": "[encoded data removed]",
      "text/plain": [
       "<Figure size 640x640 with 1 Axes>"
      ]
     },
     "metadata": {
      "filenames": {
       "image/png": "/Users/mmccull/Dropbox/work/chemistry_lessons_jupyter_notebook/Chemistry_Lessons_Jupyter_Notebooks/_build/jupyter_execute/physical_chemistry/kinetics/Transition_State_Theory_and_Temperature_Dependence_of_the_Rate_Constant_13_1.png"
      }
     },
     "output_type": "display_data"
    }
   ],
   "source": [
    "import numpy as np\n",
    "import matplotlib.pyplot as plt\n",
    "%matplotlib inline\n",
    "from sklearn.linear_model import LinearRegression \n",
    "# setup plot parameters\n",
    "fontsize=16\n",
    "fig = plt.figure(figsize=(8,8), dpi= 80, facecolor='w', edgecolor='k')\n",
    "ax = plt.subplot(111)\n",
    "ax.grid(b=True, which='major', axis='both', color='#808080', linestyle='--')\n",
    "ax.set_xlabel(\"$100/T$ K$^{-1}$\",size=fontsize)\n",
    "ax.set_ylabel(\"$ln(k)$\",size=fontsize)\n",
    "plt.tick_params(axis='both',labelsize=fontsize)\n",
    "# plot data\n",
    "plt.plot(100/T,np.log(k),'o')\n",
    "# fit line\n",
    "# Manipulate data to perform fit\n",
    "X = (1/T).reshape((T.size,1))\n",
    "# Fit linear model:\n",
    "reg = LinearRegression().fit(X, np.log(k))\n",
    "label = \"y = \" + str(np.round(reg.coef_[0],3)) + \"x + \" + str(np.round(reg.intercept_,3)) + \"  R$^2=$\" + str(np.round(reg.score(X,np.log(k)),3)) \n",
    "plt.plot(100/T,reg.predict(X),lw=2, label=label)\n",
    "plt.legend(fontsize=fontsize)"
   ]
  },
  {
   "cell_type": "code",
   "execution_count": 18,
   "id": "7d7b2e7b",
   "metadata": {},
   "outputs": [
    {
     "name": "stdout",
     "output_type": "stream",
     "text": [
      "Activation energy: 103.0 kJ/mol\n",
      "Prefactor: 38163368393980.85 1/s\n"
     ]
    }
   ],
   "source": [
    "print(\"Activation energy:\", np.round(-reg.coef_[0]*8.314/1000,0), \"kJ/mol\")\n",
    "print(\"Prefactor:\", np.exp(reg.intercept_), \"1/s\")"
   ]
  },
  {
   "cell_type": "markdown",
   "id": "eedd25f3",
   "metadata": {},
   "source": [
    "From the fit to the line we have that\n",
    "\\begin{eqnarray}\n",
    "\\text{slope} = -12375.768 &=& -\\frac{E_a}{R} \\\\\n",
    "\\Rightarrow E_a &=& 12375.768\\cdot R = 103 \\text{ kJ}\\cdot\\text{mol}^{-1}\n",
    "\\end{eqnarray}\n",
    "and\n",
    "\\begin{eqnarray}\n",
    "\\text{intercept} = 31.273 &=& \\ln A \\\\\n",
    "\\Rightarrow A &=& e^{31.273} = 3.82\\times10^{13} \\text{ s}^{-1}\n",
    "\\end{eqnarray}"
   ]
  },
  {
   "cell_type": "markdown",
   "id": "a93ed3a5",
   "metadata": {},
   "source": [
    "### TST and Arhenius"
   ]
  },
  {
   "cell_type": "markdown",
   "id": "10829af9",
   "metadata": {},
   "source": [
    "The TST expression for the rate constant demonstrates a temperature dependence of both the exponential term and the prefactor.  To demonstrate this we must start with a definition of activation energy from the Arhenius equation.  That is\n",
    "\\begin{equation}\n",
    "E_a = RT^2\\frac{d\\ln k}{dT}\n",
    "\\end{equation}\n",
    "Now let's determine $\\frac{d\\ln k_{TST}}{dT}$\n",
    "\\begin{eqnarray}\n",
    "\\ln k_{TST} &=& \\ln T - \\frac{\\Delta H^{\\ddagger\\circ}}{RT} + \\ln\\frac{k_B}{hc^\\circ} + \\frac{\\Delta S^{\\ddagger\\circ}}{R} \\\\\n",
    "\\Rightarrow \\frac{d \\ln k_{TST}}{dT} &=& \\frac{1}{T} + \\frac{\\Delta H^{\\ddagger\\circ}}{RT^2} \\\\\n",
    "\\Rightarrow E_{a,TST} &=& RT + \\Delta H^{\\ddagger\\circ}\n",
    "\\end{eqnarray}\n",
    "\n",
    "By analogy we can also say that\n",
    "\\begin{equation}\n",
    "A_{TST} = \\frac{k_BT}{h}(c^\\circ)^{1-m}e^{\\Delta S^{\\ddagger\\circ}/R}\n",
    "\\end{equation}"
   ]
  }
 ],
 "metadata": {
  "celltoolbar": "Tags",
  "kernelspec": {
   "display_name": "Python 3",
   "language": "python",
   "name": "python3"
  },
  "language_info": {
   "codemirror_mode": {
    "name": "ipython",
    "version": 3
   },
   "file_extension": ".py",
   "mimetype": "text/x-python",
   "name": "python",
   "nbconvert_exporter": "python",
   "pygments_lexer": "ipython3",
   "version": "3.8.3"
  }
 },
 "nbformat": 4,
 "nbformat_minor": 5
}