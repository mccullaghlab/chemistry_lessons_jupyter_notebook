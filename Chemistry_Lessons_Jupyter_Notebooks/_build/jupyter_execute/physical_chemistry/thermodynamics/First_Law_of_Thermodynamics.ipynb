{
 "cells": [
  {
   "cell_type": "markdown",
   "id": "ff1649df",
   "metadata": {
    "slideshow": {
     "slide_type": "slide"
    }
   },
   "source": [
    "# The First Law of Thermodynamics"
   ]
  },
  {
   "cell_type": "markdown",
   "id": "067b02e3",
   "metadata": {
    "slideshow": {
     "slide_type": "fragment"
    }
   },
   "source": [
    "Thermodynamics is the study of how heat moves.  It tells us nothing about the time it takes for a process to happen but the laws of Thermodynamics have proven to govern whether things happen.  Things can be anything from macroscopic phenomenon to biochemical processes.  "
   ]
  },
  {
   "cell_type": "markdown",
   "id": "3afc9bd4",
   "metadata": {
    "slideshow": {
     "slide_type": "slide"
    }
   },
   "source": [
    "## Learning goals for today:"
   ]
  },
  {
   "cell_type": "markdown",
   "id": "70317d54",
   "metadata": {
    "slideshow": {
     "slide_type": "fragment"
    }
   },
   "source": [
    "1. Be able to state the first law of Thermodynamics\n",
    "2. Define the internal energy of a chemical system\n",
    "3. Define how a state function differs from a non-state function\n",
    "4. Give at least three examples of state functions\n",
    "5. Define a Thermodynamic system"
   ]
  },
  {
   "cell_type": "markdown",
   "id": "87d8c81d",
   "metadata": {
    "slideshow": {
     "slide_type": "slide"
    }
   },
   "source": [
    "## Statement of the first law"
   ]
  },
  {
   "cell_type": "markdown",
   "id": "843ed58e",
   "metadata": {
    "slideshow": {
     "slide_type": "fragment"
    }
   },
   "source": [
    "1. The internal energy of an *isolated system*, $U_{sys}$, is a *state function* and subject to conservation ($\\Delta U_{sys} = 0$ if the initial and final states are the same).  \n",
    "\n",
    "where an *isolated system* is one that cannot exchange heat or matter with surroundings, a *state function* has values that do not depend on the path taken, and $\\Delta U_{sys} = U_{sys}^{final} - U_{sys}^{initial}$"
   ]
  },
  {
   "cell_type": "markdown",
   "id": "31746494",
   "metadata": {
    "slideshow": {
     "slide_type": "slide"
    }
   },
   "source": [
    "## Internal energy"
   ]
  },
  {
   "cell_type": "markdown",
   "id": "142c9140",
   "metadata": {
    "slideshow": {
     "slide_type": "fragment"
    }
   },
   "source": [
    "The internal energy of a chemical system is a measure of the chemical (potential) and thermal (kinetic) energy in the system.  It is denoted *internal* because it does not include the kinetic and potential energies of the system moving as a whole or the interaction with the system and the surroundings.  Within the context of chemistry, things like bond energies and the non-bonded interactions that we have discussed would be included in the internal energy."
   ]
  },
  {
   "cell_type": "markdown",
   "id": "9de1b65f",
   "metadata": {
    "slideshow": {
     "slide_type": "slide"
    }
   },
   "source": [
    "## State function"
   ]
  },
  {
   "cell_type": "markdown",
   "id": "f44f645c",
   "metadata": {
    "slideshow": {
     "slide_type": "fragment"
    }
   },
   "source": [
    "State functions are important in Thermodynamics.  These functions do not depend on path but only the initial and final position.  Examples in Thermodynamics include change in internal energy ($\\Delta U$), change in enthalpy ($\\Delta H$), change in entropy ($\\Delta S$), change in free energy ($\\Delta G$ or $\\Delta A$), and others.  State functions have the mathematical property of having an exact differential which will be important later on."
   ]
  },
  {
   "cell_type": "markdown",
   "id": "e40759c5",
   "metadata": {
    "slideshow": {
     "slide_type": "fragment"
    }
   },
   "source": [
    "Examples of things that are not state functions: work, heat, and other specific forms of energy.  "
   ]
  },
  {
   "cell_type": "markdown",
   "id": "450fdc35",
   "metadata": {
    "slideshow": {
     "slide_type": "slide"
    }
   },
   "source": [
    "### Example of a state function"
   ]
  },
  {
   "cell_type": "markdown",
   "id": "139bf9e0",
   "metadata": {
    "slideshow": {
     "slide_type": "fragment"
    }
   },
   "source": [
    "Consider going from point $A$ to point $B$ anywhere on the globe.  \n",
    "\n",
    "1. Elevation, $Z$, is a state function: the elevations at points $A$ and $B$ only depend on where those points not how you got from point $A$ to point $B$.  The change in elevation, $\\Delta Z$, is also then a state function.  \n",
    "\n",
    "2. Distance traveled is not a state function. There may be many different ways to get from point $A$ to point $B$ some of which will require traveling a greater distance.  We say that distance traveled is path dependent.  "
   ]
  },
  {
   "cell_type": "markdown",
   "id": "68892289",
   "metadata": {
    "slideshow": {
     "slide_type": "slide"
    }
   },
   "source": [
    "## Thermodynamic system"
   ]
  },
  {
   "cell_type": "markdown",
   "id": "4d18c03b",
   "metadata": {
    "slideshow": {
     "slide_type": "fragment"
    }
   },
   "source": [
    "The concept of a *system* in Thermodynamics is somewhat vague but important.  A system can be defined as anything but is typically the substance/volume of interest.  This might be, for example, the beaker with the solution of interest during an experiment.  Key concepts regarding a system are: definition of the system, surroundings and types of barriers between system and surroundings."
   ]
  },
  {
   "cell_type": "markdown",
   "id": "a4bfda96",
   "metadata": {
    "slideshow": {
     "slide_type": "slide"
    }
   },
   "source": [
    "<img src=\"Thermo_system.png\" width=\"750\" align=\"center\">"
   ]
  },
  {
   "cell_type": "markdown",
   "id": "1900f826",
   "metadata": {
    "slideshow": {
     "slide_type": "slide"
    }
   },
   "source": [
    "### Types of Thermodynamic systems"
   ]
  },
  {
   "cell_type": "markdown",
   "id": "af5fa6a4",
   "metadata": {
    "slideshow": {
     "slide_type": "fragment"
    }
   },
   "source": [
    "***Isolated:*** An isolated system cannot transfer heat or mass between system and surroundings."
   ]
  },
  {
   "cell_type": "markdown",
   "id": "69507eeb",
   "metadata": {
    "slideshow": {
     "slide_type": "fragment"
    }
   },
   "source": [
    "***Closed:*** A closed system is one that cannot transfer mass between the system and the surroundings."
   ]
  },
  {
   "cell_type": "markdown",
   "id": "535c4644",
   "metadata": {
    "slideshow": {
     "slide_type": "fragment"
    }
   },
   "source": [
    "***Open:*** An open system can transfer both heat and mass between the system and the surroundings."
   ]
  }
 ],
 "metadata": {
  "celltoolbar": "Slideshow",
  "kernelspec": {
   "display_name": "Python 3",
   "language": "python",
   "name": "python3"
  },
  "language_info": {
   "codemirror_mode": {
    "name": "ipython",
    "version": 3
   },
   "file_extension": ".py",
   "mimetype": "text/x-python",
   "name": "python",
   "nbconvert_exporter": "python",
   "pygments_lexer": "ipython3",
   "version": "3.8.3"
  }
 },
 "nbformat": 4,
 "nbformat_minor": 5
}