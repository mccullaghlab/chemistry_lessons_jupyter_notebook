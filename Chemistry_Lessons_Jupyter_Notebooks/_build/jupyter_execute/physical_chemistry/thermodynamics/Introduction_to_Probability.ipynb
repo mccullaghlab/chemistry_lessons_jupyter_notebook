{
 "cells": [
  {
   "cell_type": "markdown",
   "metadata": {},
   "source": [
    "# Introduction to Probability"
   ]
  },
  {
   "cell_type": "markdown",
   "metadata": {},
   "source": [
    "## Motivation"
   ]
  },
  {
   "cell_type": "markdown",
   "metadata": {},
   "source": [
    "We have seen that the concepts of statistical Thermodynamics, such as the Boltzmann factor and the partition function, require the use of probability.  These notes will introduce some fundamental concepts of discrete and continuous probability that we have/will use."
   ]
  },
  {
   "cell_type": "markdown",
   "metadata": {},
   "source": [
    "## Learning Goals:"
   ]
  },
  {
   "cell_type": "markdown",
   "metadata": {},
   "source": [
    "After using these notes (/attending lecture), students should be able to:\n",
    "\n",
    "1. Plot continuous and discrete probability densities of one variable.\n",
    "2. Normalize continuous and discrete probability densities.\n",
    "3. Compute average quantities from probability densities."
   ]
  },
  {
   "cell_type": "markdown",
   "metadata": {},
   "source": [
    "## Discrete Probability"
   ]
  },
  {
   "cell_type": "markdown",
   "metadata": {},
   "source": [
    "Discrete probability or the probability of discrete events describes the likelihood of observing events such as flipping a coin or rolling a dice.  Consider flipping a coin.  We have intuition into this that, assuming the coin is \"fair\", we should have \n",
    "\\begin{equation}\n",
    "P_{Heads} = P_{Tails} = 0.5.\n",
    "\\end{equation}\n",
    "\n",
    "More generally, for a discrete event $j$ (e.g. getting heads when flipping a coin), we have that\n",
    "\\begin{equation}\n",
    "P_j = \\lim_{N\\rightarrow\\infty} \\frac{N_j}{N},\n",
    "\\end{equation}\n",
    "where $N_j$ is the number of $j$ events and $N$ is the total number of events.\n",
    "\n",
    "For example, if we flipped a coin nine times we might get:"
   ]
  },
  {
   "cell_type": "code",
   "execution_count": 1,
   "metadata": {},
   "outputs": [
    {
     "name": "stdout",
     "output_type": "stream",
     "text": [
      "['H', 'H', 'T', 'T', 'T', 'T', 'H', 'T', 'H']\n",
      "Number of Heads: 4\n",
      "Number of Tails: 5\n"
     ]
    }
   ],
   "source": [
    "import random  # library to generate random integer\n",
    "def coinToss(number):\n",
    "    recordList, heads, tails = [], 0, 0 # multiple assignment\n",
    "    for i in range(number): # do this 'number' amount of times\n",
    "        flip = random.randint(0, 1)\n",
    "        if (flip == 0):\n",
    "            recordList.append(\"H\")\n",
    "            heads += 1\n",
    "        else:\n",
    "            recordList.append(\"T\")\n",
    "            tails += 1\n",
    "    print(str(recordList))\n",
    "    print(\"Number of Heads:\", heads)\n",
    "    print(\"Number of Tails:\", tails)\n",
    "coinToss(9)"
   ]
  },
  {
   "cell_type": "markdown",
   "metadata": {},
   "source": [
    "From this data we would say that:\n",
    "\\begin{eqnarray}\n",
    "P_{Heads} &=& \\frac{5}{9} \\\\\n",
    "P_{Tails} &=& \\frac{4}{9}.\n",
    "\\end{eqnarray}\n",
    "In this case we don't quite get the expected $P_{Heads} = P_{Tails} = 0.5$ but that value is only guaranteed from a sample of infinite coin flips."
   ]
  },
  {
   "cell_type": "markdown",
   "metadata": {},
   "source": [
    "Some notes on general discrete probabilites.  We say that\n",
    "\\begin{equation}\n",
    "P_j = 1\n",
    "\\end{equation}\n",
    "indicates that event $j$ will happen with complete certainty.  Similarly,\n",
    "\\begin{equation}\n",
    "P_j = 0\n",
    "\\end{equation}\n",
    "implies that event $j$ is impossible.\n",
    "\n",
    "Additionally, the following must be true\n",
    "\\begin{equation}\n",
    "\\sum_j N_j = N\n",
    "\\end{equation}\n",
    "and\n",
    "\\begin{equation}\n",
    "\\sum_j P_j = 1.\n",
    "\\end{equation}\n",
    "The first of these statements simply says that the sum over all events of the number of events of each type must be equal to the total number of events. The second states that the probabilities of events must sum to 1.  This is equivalent to the normalization condition."
   ]
  },
  {
   "cell_type": "markdown",
   "metadata": {},
   "source": [
    "### Computing Average Quantities from Discrete Probability Densities"
   ]
  },
  {
   "cell_type": "markdown",
   "metadata": {},
   "source": [
    "If we consider discrete events for which a number if an outcome, we can compute the expected average value of this outcome.  Events like this could be rolling a dice or measuring quantized energy levels.  In this case, we can compute an average value of the discrete quantity, $x$, as\n",
    "\\begin{equation}\n",
    "\\langle x \\rangle = \\sum_{j=1}^n x_jP_j = \\sum_{j=1}^n x_jP(x_j),\n",
    "\\end{equation}\n",
    "where there are a total of $n$ possible outcomes and the $j$th outcome has probability $P_j$ or $P_j = P(x_j)$.  The last version of $P$, $P(x_j)$, introduces the idea that $P$ is a function of $x$ that returns the probabilty of observing that outcome.  $P(x)$ is referred to as a probability density.  "
   ]
  },
  {
   "cell_type": "markdown",
   "metadata": {},
   "source": [
    "### Example of a Discrete Probability Density"
   ]
  },
  {
   "cell_type": "markdown",
   "metadata": {},
   "source": [
    "Consider the following data:\n",
    "\n",
    "| x      |     P(x)    |\n",
    "|--------|-------------|\n",
    "| -2     |  0.3        |\n",
    "| -1     |  0.3        |\n",
    "| 1      |  0.2        |\n",
    "| 2      |  0.2        |\n",
    "\n",
    "1. Is $P$ normalized? \n",
    "2. Plot P(x).\n",
    "2. Compute $\\langle x \\rangle$.\n",
    "3. Compute $\\langle x^2 \\rangle$."
   ]
  },
  {
   "cell_type": "markdown",
   "metadata": {},
   "source": [
    "1. Is $P$ normalized?  To address this, we compute \n",
    "\\begin{eqnarray}\n",
    "\\sum_{j=1}^4 P(x_j) &=& 0.3 + 0.3 + 0.2 + 0.2 \\\\\n",
    "&=& 1\n",
    "\\end{eqnarray}\n",
    "Since $\\sum P = 1$, the probability distribution is normalized."
   ]
  },
  {
   "cell_type": "code",
   "execution_count": 2,
   "metadata": {},
   "outputs": [
    {
     "name": "stdout",
     "output_type": "stream",
     "text": [
      "1.0\n"
     ]
    }
   ],
   "source": [
    "import numpy as np\n",
    "x = np.array([-2,-1,1,2])\n",
    "p = np.array([0.3,0.3,0.2,0.2])\n",
    "\n",
    "norm = np.sum(p)\n",
    "print(norm)"
   ]
  },
  {
   "cell_type": "markdown",
   "metadata": {},
   "source": [
    "2. Plot P(x).  See plot below."
   ]
  },
  {
   "cell_type": "code",
   "execution_count": 3,
   "metadata": {},
   "outputs": [
    {
     "data": {
      "text/plain": [
       "<matplotlib.collections.LineCollection at 0x7ff6702d9430>"
      ]
     },
     "execution_count": 3,
     "metadata": {},
     "output_type": "execute_result"
    },
    {
     "data": {
      "image/png": "[encoded data removed]",
      "text/plain": [
       "<Figure size 320x320 with 1 Axes>"
      ]
     },
     "metadata": {
      "filenames": {
       "image/png": "/Users/mmccull/Dropbox/work/chemistry_lessons_jupyter_notebook/Chemistry_Lessons_Jupyter_Notebooks/_build/jupyter_execute/physical_chemistry/thermodynamics/Introduction_to_Probability_17_1.png"
      }
     },
     "output_type": "display_data"
    }
   ],
   "source": [
    "import matplotlib.pyplot as plt\n",
    "%matplotlib inline\n",
    "# setup plot parameters\n",
    "fontsize=12\n",
    "fig = plt.figure(figsize=(4,4), dpi= 80, facecolor='w', edgecolor='k')\n",
    "ax = plt.subplot(111)\n",
    "ax.grid(b=True, which='major', axis='both', color='#808080', linestyle='--')\n",
    "ax.set_xlabel(\"$x$\",size=fontsize)\n",
    "ax.set_ylabel(\"$P(x)$\",size=fontsize)\n",
    "plt.tick_params(axis='both',labelsize=fontsize)\n",
    "# plot distribution\n",
    "plt.vlines(x,0,p,lw=3)"
   ]
  },
  {
   "cell_type": "markdown",
   "metadata": {},
   "source": [
    "3. Compute $\\langle x \\rangle$:\n",
    "    \\begin{eqnarray}\n",
    "    \\langle x \\rangle &=& \\sum_{j=1}^4 x_jP(x_j) = (-2)\\cdot 0.3 + (-1)\\cdot 0.3 + (1)\\cdot 0.2 + (2)\\cdot 0.2 \\\\\n",
    "    &=& -0.3\n",
    "    \\end{eqnarray}"
   ]
  },
  {
   "cell_type": "code",
   "execution_count": 4,
   "metadata": {},
   "outputs": [
    {
     "name": "stdout",
     "output_type": "stream",
     "text": [
      "-0.3\n"
     ]
    }
   ],
   "source": [
    "print(np.round(np.sum(p*x),2))"
   ]
  },
  {
   "cell_type": "markdown",
   "metadata": {},
   "source": [
    "3. Compute $\\langle x^2 \\rangle$:\n",
    "    \\begin{eqnarray}\n",
    "    \\langle x \\rangle &=& \\sum_{j=1}^4 x_j^2P(x_j) = (-2)^2\\cdot 0.3 + (-1)^2\\cdot 0.3 + (1)^2\\cdot 0.2 + (2)^2\\cdot 0.2 \\\\\n",
    "    &=& 2.5\n",
    "    \\end{eqnarray}"
   ]
  },
  {
   "cell_type": "code",
   "execution_count": 5,
   "metadata": {},
   "outputs": [
    {
     "name": "stdout",
     "output_type": "stream",
     "text": [
      "2.5\n"
     ]
    }
   ],
   "source": [
    "print(np.round(np.sum(x**2*p),2))"
   ]
  },
  {
   "cell_type": "markdown",
   "metadata": {},
   "source": [
    "## Continuous Probability "
   ]
  },
  {
   "cell_type": "markdown",
   "metadata": {},
   "source": [
    "If $x$ is a continuous variable, e.g. positions or momenta, then the probability distribution $P(x)$ will be a continuous probability density.  In this case, the sums of discrete values is replaced with an integral over the continuous variable.  Take the normalization condition, for example.  For a continous probability density $P(x)$, we have\n",
    "\\begin{equation}\n",
    "\\int_{-\\infty}^\\infty P(x)dx = 1.\n",
    "\\end{equation}\n",
    "Note that the limits of integration are from $-\\infty$ to $\\infty$ indicating that $x$ can take on values anywhere in this domain.  \n",
    "\n",
    "We might be interested in the probability of observing a particular subdomain of $x$.  For example, if we are interested in the probability of observing $x$ in the domain $a \\leq x \\leq b$, we have that\n",
    "\\begin{equation}\n",
    "P(a \\leq x \\leq b) = \\int_{a}^{b}P(x)dx\n",
    "\\end{equation}"
   ]
  },
  {
   "cell_type": "markdown",
   "metadata": {},
   "source": [
    "A note on units.  $P(x)dx$ is a unitless quantity.  This can be observed by looking at the normaliztion condition.  The integral $\\int P(x)dx=1$ is a unitless quantity this $P(x)dx$ must be unitless.  $dx$ will have the same units as $x$ since it is the infinitesimal change in $x$. Thus, $P(x)$ will have units of inverse, or reciprocal, $x$."
   ]
  },
  {
   "cell_type": "markdown",
   "metadata": {},
   "source": [
    "## Computing Average Quantities from Continuous Probability Densities"
   ]
  },
  {
   "cell_type": "markdown",
   "metadata": {},
   "source": [
    "The average value of $x$ for a continuous variable is given as\n",
    "\\begin{equation}\n",
    "\\langle x \\rangle = \\int_{-\\infty}^{\\infty} x P(x) dx\n",
    "\\end{equation}\n",
    "\n",
    "Similarly, the average value of $x^2$, or the second moment of the distribution, is given as\n",
    "\\begin{equation}\n",
    "\\langle x^2 \\rangle = \\int_{-\\infty}^{\\infty} x^2 P(x) dx\n",
    "\\end{equation}"
   ]
  },
  {
   "cell_type": "markdown",
   "metadata": {},
   "source": [
    "### Example: A Gaussian Distribution in 1D"
   ]
  },
  {
   "cell_type": "markdown",
   "metadata": {},
   "source": [
    "A Gaussian distribution is one of the most widely used continuous probability distributions.  In 1D, it has the general form\n",
    "\\begin{equation}\n",
    "P(x) = C e^{-\\frac{(x-x_0)^2}{2\\sigma^2}},\n",
    "\\end{equation}\n",
    "where $x_0$ is the center/mean of the distribution, $C$ is the normalization factor, and $\\sigma^2$ is the variance of the distribution ($\\sigma = \\sqrt{\\sigma^2}$ is the standard deviation).  A 1D Gaussian distribution centered at $x_0=2$ and with a standard deviation of $\\sigma = 1$ is plotted below."
   ]
  },
  {
   "cell_type": "code",
   "execution_count": 6,
   "metadata": {},
   "outputs": [
    {
     "data": {
      "text/plain": [
       "[<matplotlib.lines.Line2D at 0x7ff6406c1f70>]"
      ]
     },
     "execution_count": 6,
     "metadata": {},
     "output_type": "execute_result"
    },
    {
     "data": {
      "image/png": "[encoded data removed]",
      "text/plain": [
       "<Figure size 320x320 with 1 Axes>"
      ]
     },
     "metadata": {
      "filenames": {
       "image/png": "/Users/mmccull/Dropbox/work/chemistry_lessons_jupyter_notebook/Chemistry_Lessons_Jupyter_Notebooks/_build/jupyter_execute/physical_chemistry/thermodynamics/Introduction_to_Probability_29_1.png"
      }
     },
     "output_type": "display_data"
    }
   ],
   "source": [
    "from scipy.stats import norm\n",
    "# setup plot parameters\n",
    "fontsize=12\n",
    "fig = plt.figure(figsize=(4,4), dpi= 80, facecolor='w', edgecolor='k')\n",
    "ax = plt.subplot(111)\n",
    "ax.grid(b=True, which='major', axis='both', color='#808080', linestyle='--')\n",
    "ax.set_xlabel(\"$x$\",size=fontsize)\n",
    "ax.set_ylabel(\"$P(x)$\",size=fontsize)\n",
    "plt.tick_params(axis='both',labelsize=fontsize)\n",
    "# plot distribution\n",
    "x = np.arange(-2,6,0.0001)\n",
    "plt.plot(x,norm.pdf(x,loc=2,scale=1),lw=3)"
   ]
  },
  {
   "cell_type": "markdown",
   "metadata": {},
   "source": [
    "1. We need to normalize this function.  To do so, we enfore the normalization condition\n",
    "\\begin{equation}\n",
    "\\int_{-\\infty}^{\\infty} P(x)dx = 1\n",
    "\\end{equation}\n",
    "\n",
    "Plugging in the equation for a Gaussian we get\n",
    "\\begin{equation}\n",
    "\\int_{-\\infty}^{\\infty} C e^{-\\frac{(x-x_0)^2}{2\\sigma^2}}dx = 1\n",
    "\\end{equation}\n",
    "or\n",
    "\\begin{equation}\n",
    "C= \\frac{1}{\\int_{-\\infty}^{\\infty} e^{-\\frac{(x-x_0)^2}{2\\sigma^2}}dx}\n",
    "\\end{equation}\n",
    "\n",
    "So how to we compute the integral $\\int_{-\\infty}^{\\infty} e^{-\\frac{(x-x_0)^2}{2\\sigma^2}}dx$?  We will use integral tables (such as https://en.wikipedia.org/wiki/List_of_definite_integrals).  If you look for definite integrals involving exponential functions, you will find the following as the one that most closely resembles the Guassian integral\n",
    "\\begin{equation}\n",
    "\\int_0^\\infty e^{-\\alpha x^2} = \\frac{\\pi}{4\\alpha}^{1/2}\n",
    "\\end{equation}\n",
    "but note the difference in limits of integration and that the argument of the exponent does not exactly match the Guassian integral above.\n",
    "\n",
    "Our goal now is to manipulate the Gaussian integral to look like the one from the table.  We start by performing some $u$-like substituions.  Start with $u = x-x_0$ which implies that $du = dx$:\n",
    "\\begin{eqnarray}\n",
    "\\int_{-\\infty}^{\\infty} e^{-\\frac{(x-x_0)^2}{2\\sigma^2}}dx &=& \\int_{-\\infty}^{\\infty} e^{-\\frac{u^2}{2\\sigma^2}}du \\\\\n",
    "&=& \\int_{-\\infty}^{\\infty} e^{-\\alpha u^2}du,\n",
    "\\end{eqnarray}\n",
    "where in the second step we made the substitution that $\\alpha = \\frac{1}{2\\sigma^2}$.  Note that we never changed the limits of integration.  The $u$ substitution should require this but since $\\infty - x0 = \\infty$ we didn't have to make any change."
   ]
  },
  {
   "cell_type": "markdown",
   "metadata": {},
   "source": [
    "### Even and Odd Functions"
   ]
  },
  {
   "cell_type": "markdown",
   "metadata": {},
   "source": [
    "The last manipulation of the Guassian integral that we need to make is to change the limits of integration from $-\\infty \\rightarrow \\infty$ to $0 \\rightarrow \\infty$.  We do this by employing the fact that the Guassian function is an even function.  Specifcally, $f(u) = e^{-\\alpha u^2}$, is an even function of $u$.  But what is an even function, and by contrast what is an odd function?\n",
    "\n",
    "An even function has the property that\n",
    "\\begin{equation}\n",
    "f_{even}(-x) = f_{even}(x)\n",
    "\\end{equation}\n",
    "An odd function has the property that\n",
    "\\begin{equation}\n",
    "f_{odd}(-x) = -f_{odd}(x)\n",
    "\\end{equation}\n",
    "\n",
    "Examples of even functions include even powers of $x$, e.g. $f(x) = x^2$.  Examples of odd functions include the odd powers of $x$, e.g. $f(x) = x^3$.  These two functions are plotted below."
   ]
  },
  {
   "cell_type": "code",
   "execution_count": 7,
   "metadata": {},
   "outputs": [
    {
     "data": {
      "text/plain": [
       "<matplotlib.legend.Legend at 0x7ff650c6a910>"
      ]
     },
     "execution_count": 7,
     "metadata": {},
     "output_type": "execute_result"
    },
    {
     "data": {
      "image/png": "[encoded data removed]",
      "text/plain": [
       "<Figure size 320x320 with 1 Axes>"
      ]
     },
     "metadata": {
      "filenames": {
       "image/png": "/Users/mmccull/Dropbox/work/chemistry_lessons_jupyter_notebook/Chemistry_Lessons_Jupyter_Notebooks/_build/jupyter_execute/physical_chemistry/thermodynamics/Introduction_to_Probability_33_1.png"
      }
     },
     "output_type": "display_data"
    }
   ],
   "source": [
    "from scipy.stats import norm\n",
    "# setup plot parameters\n",
    "fontsize=12\n",
    "fig = plt.figure(figsize=(4,4), dpi= 80, facecolor='w', edgecolor='k')\n",
    "ax = plt.subplot(111)\n",
    "ax.grid(b=True, which='major', axis='both', color='#808080', linestyle='--')\n",
    "ax.set_xlabel(\"$x$\",size=fontsize)\n",
    "ax.set_ylabel(\"$P(x)$\",size=fontsize)\n",
    "plt.tick_params(axis='both',labelsize=fontsize)\n",
    "# plot distribution\n",
    "x = np.arange(-2,2,0.0001)\n",
    "plt.plot(x,x**2,lw=3,label=\"$x^2$, even\")\n",
    "plt.plot(x,x**3,lw=3,label=\"$x^3$, odd\")\n",
    "plt.legend(fontsize=fontsize)"
   ]
  },
  {
   "cell_type": "markdown",
   "metadata": {},
   "source": [
    "Even functions have the property that\n",
    "\\begin{equation}\n",
    "\\int_{\\-infty}^\\infty f_{even}(x)dx = 2\\int_{0}^\\infty f_{even}(x)dx.\n",
    "\\end{equation}\n",
    "We will employ this property for the Gaussian function.\n",
    "\n",
    "Odd functions have the property that \n",
    "\\begin{equation}\n",
    "\\int_{\\-infty}^\\infty f_{odd}(x)dx = 0.\n",
    "\\end{equation}"
   ]
  },
  {
   "cell_type": "markdown",
   "metadata": {},
   "source": [
    "Now back to the Guassian function, we had that\n",
    "\\begin{eqnarray}\n",
    "\\int_{-\\infty}^{\\infty} e^{-\\frac{(x-x_0)^2}{2\\sigma^2}}dx &=& \\int_{-\\infty}^{\\infty} e^{-\\frac{u^2}{2\\sigma^2}}du \\\\\n",
    "&=& \\int_{-\\infty}^{\\infty} e^{-\\alpha u^2}du,\n",
    "\\end{eqnarray}\n",
    "where $\\alpha = \\frac{1}{2\\sigma^2}$.  Using the fact that $e^{-\\alpha u^2}$ is an even function of $u$ (demonstrate that to yourself) we have that\n",
    "\\begin{eqnarray}\n",
    "\\int_{-\\infty}^{\\infty} e^{-\\frac{(x-x_0)^2}{2\\sigma^2}}dx &=& \\int_{-\\infty}^{\\infty} e^{-\\frac{u^2}{2\\sigma^2}}du \\\\\n",
    "&=& \\int_{-\\infty}^{\\infty} e^{-\\alpha u^2}du \\\\\n",
    "&=& 2 \\int_{0}^{\\infty} e^{-\\alpha u^2}du \\\\\n",
    "&=& 2 \\left( \\frac{\\pi}{4\\alpha}\\right)^{1/2}\n",
    "\\end{eqnarray}\n",
    "\n",
    "Plugging back in for $\\alpha$ we get\n",
    "\\begin{eqnarray}\n",
    "\\int_{-\\infty}^{\\infty} e^{-\\frac{(x-x_0)^2}{2\\sigma^2}}dx &=&  2 \\left( \\frac{2\\sigma^2\\pi}{4}\\right)^{1/2} \\\\\n",
    "&=&  2 \\left( \\frac{\\sigma^2\\pi}{2}\\right)^{1/2} \\\\\n",
    "&=& \\sqrt{2\\sigma^2\\pi}\n",
    "\\end{eqnarray}\n",
    "or\n",
    "\\begin{equation}\n",
    "C = \\sqrt{\\frac{1}{2\\sigma^2\\pi}} = \\frac{1}{\\sigma\\sqrt{2\\pi}}\n",
    "\\end{equation}\n",
    "\n",
    "And finally our normalized Gaussian distribution:\n",
    "\\begin{equation}\n",
    "f(x) = \\frac{1}{\\sigma\\sqrt{2\\pi}}e^{-\\frac{(x-x_0)^2}{2\\sigma^2}}\n",
    "\\end{equation}"
   ]
  },
  {
   "cell_type": "code",
   "execution_count": null,
   "metadata": {},
   "outputs": [],
   "source": []
  }
 ],
 "metadata": {
  "kernelspec": {
   "display_name": "Python 3",
   "language": "python",
   "name": "python3"
  },
  "language_info": {
   "codemirror_mode": {
    "name": "ipython",
    "version": 3
   },
   "file_extension": ".py",
   "mimetype": "text/x-python",
   "name": "python",
   "nbconvert_exporter": "python",
   "pygments_lexer": "ipython3",
   "version": "3.8.3"
  }
 },
 "nbformat": 4,
 "nbformat_minor": 5
}