{
 "cells": [
  {
   "cell_type": "markdown",
   "id": "226aa065",
   "metadata": {
    "slideshow": {
     "slide_type": "slide"
    }
   },
   "source": [
    "# Enthalpy\n",
    "\n",
    "Enthalpy, $H$, is another Thermodynamic energy (and state) function.  It is an important quantity in thermochemistry.  In these notes, we will see how it is related to internal energy and how it is used in the context of chemical reactions."
   ]
  },
  {
   "cell_type": "markdown",
   "id": "3c1d2016",
   "metadata": {
    "slideshow": {
     "slide_type": "slide"
    }
   },
   "source": [
    "## Learning Goals\n",
    "\n",
    "After these notes, you should be able to:\n",
    "\n",
    "1. Express Enthalpy as a function of internal energy, pressure, and volume\n",
    "2. Compute enthalpy from internal energy, and vice versa, for reactions involving ideal gasses\n",
    "3. Define heat capacity at constant pressure\n",
    "4. Compute relative enthalpies from heat capacities\n",
    "5. Compute enthalpy changes for chemical reactions"
   ]
  },
  {
   "cell_type": "markdown",
   "id": "a3b1b6ce",
   "metadata": {
    "slideshow": {
     "slide_type": "skip"
    }
   },
   "source": [
    "## Coding Concepts\n",
    "\n",
    "The following coding concepts are used in this notebook:\n",
    "1. Variables\n",
    "2. Functions\n",
    "3. Plotting with matplotlib"
   ]
  },
  {
   "cell_type": "markdown",
   "id": "8e0403dc",
   "metadata": {
    "slideshow": {
     "slide_type": "slide"
    }
   },
   "source": [
    "## Enthalpy and Heat at Constant Pressure"
   ]
  },
  {
   "cell_type": "markdown",
   "id": "5a07f3aa",
   "metadata": {
    "slideshow": {
     "slide_type": "fragment"
    }
   },
   "source": [
    "Heat at constant volume is equal to $\\Delta U$:\n",
    "\\begin{eqnarray}\n",
    "\\Delta U &=& q + w \\\\\n",
    "&=& q - \\int_{V_1}^{V_2}P_{ext}dV \\\\\n",
    "&=& q_V\n",
    "\\end{eqnarray}\n",
    "where the last equality holds for a constant volume process.\n",
    "\n",
    "At constant pressure, heat is not equal to $\\Delta U$:\n",
    "\\begin{eqnarray}\n",
    "\\Delta U &=& q_P + w_P \\\\\n",
    "&=& q_P - \\int_{V_1}^{V_2}P_{ext}dV \\\\\n",
    "&=& q_P - P\\Delta V \n",
    "\\end{eqnarray}\n",
    "where the last equality holds because $P = P_{ext} = constant$.  We can rearrange this equation to solve for $q_P$\n",
    "\\begin{eqnarray}\n",
    "q_P = \\Delta U + P\\Delta V\n",
    "\\end{eqnarray}\n",
    "We notice that both terms on the right-hand side of this equation only depend on the initial and final state (i.e. $\\Delta U = U_{final} - U_{initial}$ and $P\\Delta V = P(V_{final} - V_{initial})$ and thus $q_P$ is a state function.  We call this state function the change in enthalpy and denote it $\\Delta H$.  Enthalpy is thus defined as \n",
    "\\begin{equation}\n",
    "H = U + PV\n",
    "\\end{equation}"
   ]
  },
  {
   "cell_type": "markdown",
   "id": "da98af34",
   "metadata": {
    "slideshow": {
     "slide_type": "slide"
    }
   },
   "source": [
    "## Legendre Transformation"
   ]
  },
  {
   "cell_type": "markdown",
   "id": "de131d34",
   "metadata": {
    "slideshow": {
     "slide_type": "fragment"
    }
   },
   "source": [
    "Enthalpy and Internal Energy are related by a mathematical manipulation called a Legendre transformation.  Legendre transforms are used to determine a new function that depends on the other of a conjugate pair of variables.  The transformation specifically swaps the dependence of a function, $f(x)$, on $x$ to a new function, $g\\left(\\frac{\\partial f}{\\partial x}\\right)$, on the derivative of $f$ w.r.t $x$.  The transformation is achieved by simply substracting the product of the variable times the derivative.  For example\n",
    "\\begin{eqnarray}\n",
    "g\\left(\\frac{\\partial f}{\\partial x},y\\right) = L(f(x,y))_x = f(x,y) - x\\frac{\\partial f}{\\partial x}\n",
    "\\end{eqnarray}\n",
    "\n",
    "In the context of Enthalpy and Internal Energy, we say that\n",
    "\\begin{eqnarray}\n",
    "H(S,P) = L(U(S,V))_V &=& U(S,V) - V\\frac{\\partial U}{\\partial V}\\\\\n",
    "&=& U + PV\n",
    "\\end{eqnarray}\n",
    "\n",
    "We have not yet shown that $\\frac{\\partial U}{\\partial V} = -P$ but it does and we will discuss that later."
   ]
  },
  {
   "cell_type": "markdown",
   "id": "3c7cd0f9",
   "metadata": {
    "slideshow": {
     "slide_type": "slide"
    }
   },
   "source": [
    "## Example: Computing Internal Energy From Enthalpy\n",
    "\n",
    "The value of $\\Delta H$ at 298 K and one bar for the reaction\n",
    "\\begin{equation}\n",
    "2H_2(g) + O_2(g) \\rightarrow 2H_2O(l)\n",
    "\\end{equation}\n",
    "is -572 kJ.  Compute $\\Delta U$ assuming gasses are all ideal."
   ]
  },
  {
   "cell_type": "markdown",
   "id": "495e6383",
   "metadata": {
    "slideshow": {
     "slide_type": "slide"
    }
   },
   "source": [
    "For this problem we will need to use that, at constant pressure\n",
    "\\begin{equation}\n",
    "\\Delta H = \\Delta U + P\\Delta V.\n",
    "\\end{equation}\n",
    "We have $\\Delta H$ and that $P = 1$ bar, so we just need to compute $\\Delta V$.  For this problem, $\\Delta V$ is the change in volume for the reaction.  So \n",
    "\\begin{equation}\n",
    "\\Delta V = V_{products} - V_{reactants}\n",
    "\\end{equation}\n",
    "\n",
    "For $V_{reactants}$, we have three moles of ideal gas at $P = 1$ bar so we can use the ideal gas law to compute \n",
    "\\begin{eqnarray}\n",
    "V_{reactants} &=& \\frac{nRT}{P} \\\\\n",
    "&=& \\frac{3\\cdot0.08314\\cdot298}{1} \\\\\n",
    "&=& 74.3 L\n",
    "\\end{eqnarray}\n",
    "where I have chosen to use $R = 0.08314$ $L\\cdot bar\\cdot K^{-1}\\cdot mol^{-1}$ to cancel the $P = 1$ bar.  \n",
    "\n",
    "You could compute the volume of $2$ moles of liquid water but you will find it to be so small that it is negligble compared to $V_{reactants} = 74.3$ L.  Thus we have that\n",
    "\\begin{equation}\n",
    "\\Delta V = -74.3 L\n",
    "\\end{equation}\n",
    "Solving for $\\Delta U$ yields\n",
    "\\begin{eqnarray}\n",
    "\\Delta U &=& \\Delta H - P\\Delta V \\\\\n",
    "&=& -572 kJ - 1 bar\\cdot(-74 L) \\cdot\\left( \\frac{1 kJ}{10 bar\\cdot K}\\right) \\\\\n",
    "&=& -565 kJ\n",
    "\\end{eqnarray}"
   ]
  },
  {
   "cell_type": "markdown",
   "id": "c9ced67c",
   "metadata": {
    "slideshow": {
     "slide_type": "slide"
    }
   },
   "source": [
    "In general, for reactions that involve ideal gasses, you get\n",
    "\\begin{equation}\n",
    "\\Delta H = \\Delta U + RT\\Delta n_{gas}\n",
    "\\end{equation}"
   ]
  },
  {
   "cell_type": "markdown",
   "id": "b3d64bd1",
   "metadata": {
    "slideshow": {
     "slide_type": "slide"
    }
   },
   "source": [
    "## Heat Capacity at Constant Pressure"
   ]
  },
  {
   "cell_type": "markdown",
   "id": "cb21d5fc",
   "metadata": {
    "slideshow": {
     "slide_type": "fragment"
    }
   },
   "source": [
    "Heat capacity for a constant volume process is defined as\n",
    "\\begin{equation}\n",
    "C_V = \\left( \\frac{\\partial U}{\\partial T}\\right)_V \\approx \\frac{\\Delta U}{\\Delta T} = \\frac{q_V}{\\Delta T}\n",
    "\\end{equation}\n",
    "This is is not the heat capacity at constant pressure.  Thus, heat capacities are path dependent.  The heat capacity at constant pressure is the amount of heat it takes to raise a material/substance one Kelvin while the substance is maintained at constant pressure.  The amount of heat for a constant pressure is $q_P = \\Delta H$.  Thus, by analogy to constant volume, the heat capacity at constant pressure is \n",
    "\\begin{equation}\n",
    "C_P = \\left( \\frac{\\partial H}{\\partial T}\\right)_P \\approx \\frac{\\Delta H}{\\Delta T} = \\frac{q_P}{\\Delta T}\n",
    "\\end{equation}"
   ]
  },
  {
   "cell_type": "markdown",
   "id": "1f39d9e8",
   "metadata": {
    "slideshow": {
     "slide_type": "slide"
    }
   },
   "source": [
    "## Relative Enthalpies can be Computed from Heat Capacities"
   ]
  },
  {
   "cell_type": "markdown",
   "id": "4014ca07",
   "metadata": {
    "slideshow": {
     "slide_type": "slide"
    }
   },
   "source": [
    "The definition of heat capacity at constant pressure can be rearranged to give\n",
    "\\begin{equation}\n",
    "dH = C_P dT.\n",
    "\\end{equation}\n",
    "Integrating both sides of this equation yields\n",
    "\\begin{eqnarray}\n",
    "\\int_{H_i}^{H_f}dH  &=& \\int_{T_i}^{T_f}C_PdT \\\\\n",
    "\\Delta H &=& \\int_{T_i}^{T_f}C_PdT\n",
    "\\end{eqnarray}\n",
    "If $C_P$ is constant, it can be taken out of the integral and you get the standard general chemistry expression that $\\Delta H = C_P \\Delta T$.  Generally, however, $C_P$ will be a non-constant function of temperature and thus we will not be able to take it out of the integral.\n",
    "\n",
    "Another difficult situation that arises is at a phase transition (e.g. vaporization or fusion/melting).  At this point, the heat capacity is discontinuous and thus you cannot integrate at that temperature.  If we have a situation like that, say around fusion/melting, we get that \n",
    "\\begin{eqnarray}\n",
    "\\Delta H &=& \\int_{T_i}^{T_{fusion}}C^s_PdT + \\Delta H_{fusion} + \\int_{T_{fusion}}^{T_{f}}C^l_PdT\n",
    "\\end{eqnarray}"
   ]
  },
  {
   "cell_type": "code",
   "execution_count": 8,
   "id": "b35d907d",
   "metadata": {
    "slideshow": {
     "slide_type": "slide"
    },
    "tags": [
     "hide_input"
    ]
   },
   "outputs": [
    {
     "data": {
      "image/png": "[encoded data removed]",
      "text/plain": [
       "<Figure size 640x480 with 1 Axes>"
      ]
     },
     "metadata": {},
     "output_type": "display_data"
    },
    {
     "data": {
      "image/png": "[encoded data removed]",
      "text/plain": [
       "<Figure size 640x480 with 1 Axes>"
      ]
     },
     "metadata": {},
     "output_type": "display_data"
    }
   ],
   "source": [
    "import numpy as np\n",
    "import matplotlib.pyplot as plt\n",
    "%matplotlib inline\n",
    "\n",
    "def plot_Cp_v_T(Ts,Cps,Tf,Tl,Cpl,fontsize=16):\n",
    "    xlabel=\"T (K)\"\n",
    "    ylabel=\"C$_P$ (J/mol/K)\"\n",
    "    # setup plot parameters\n",
    "    fig = plt.figure(figsize=(8,6), dpi= 80, facecolor='w', edgecolor='k')\n",
    "    ax = plt.subplot(111)\n",
    "    ax.grid(b=True, which='major', axis='both', color='#808080', linestyle='--')\n",
    "    ax.set_xlabel(xlabel,size=fontsize)\n",
    "    ax.set_ylabel(ylabel,size=fontsize)\n",
    "    plt.tick_params(axis='both',labelsize=fontsize)\n",
    "    ax.plot(Ts,Cps*np.ones(Ts.size),lw=3,label=\"Solid\")\n",
    "    ax.plot(Tl,Cpl*np.ones(Tl.size),lw=3,label=\"Liquid\")\n",
    "    ax.set_ylim(0,31)\n",
    "    plt.legend(fontsize=fontsize)\n",
    "plot_Cp_v_T(np.arange(90,100,0.1),30,100,np.arange(100,110,0.1),15)\n",
    "\n",
    "def plot_q_v_T(Ts,Cps,Tf,dHf,Tl,Cpl,Ti,fontsize=16):\n",
    "    xlabel=\"T (K)\"\n",
    "    ylabel=\"$\\Delta H$ (J/mol)\"\n",
    "    # setup plot parameters\n",
    "    fig = plt.figure(figsize=(8,6), dpi= 80, facecolor='w', edgecolor='k')\n",
    "    ax = plt.subplot(111)\n",
    "    ax.grid(b=True, which='major', axis='both', color='#808080', linestyle='--')\n",
    "    ax.set_xlabel(xlabel,size=fontsize)\n",
    "    ax.set_ylabel(ylabel,size=fontsize)\n",
    "    plt.tick_params(axis='both',labelsize=fontsize)\n",
    "    ax.plot(Ts,Cps*(Ts-Ti),lw=3,label=\"Solid\")\n",
    "    ax.plot(Tf*np.ones(100),np.arange(Cps*(Tf-Ti),Cps*(Tf-Ti)+dHf,dHf/100.0),lw=3,label=\"Fusion (Melting)\")\n",
    "    ax.plot(Tl,Cpl*(Tl-Ti)+Cps*(Tf-Ti)+dHf-Cpl*(Tf-Ti),lw=3,label=\"Liquid\")\n",
    "    plt.legend(fontsize=fontsize)\n",
    "plot_q_v_T(np.arange(90,100,0.1),30,100,250,np.arange(100,110,0.1),15,90)"
   ]
  },
  {
   "cell_type": "markdown",
   "id": "9cf34a4f",
   "metadata": {
    "slideshow": {
     "slide_type": "slide"
    }
   },
   "source": [
    "## Enthalpy Changes for Chemical Reactions"
   ]
  },
  {
   "cell_type": "markdown",
   "id": "13485fb4",
   "metadata": {
    "slideshow": {
     "slide_type": "fragment"
    }
   },
   "source": [
    "The enthalpy change for a chemical reaction is an important quantity in particular for thermochemistry.  An exothermic reaction is defined as one that has $\\Delta H_{rxn} < 0$ and an endothermic reaction is defined as one that has $\\Delta H_{rxn} > 0$.  \n",
    "\n",
    "Enthalpies of reactions can be estimated in a number of ways.  Here we will consider two implementations of Hess's law: \n",
    "\n",
    "1. Calculating enthalpies of reactions by adding enthalpies of known reactions\n",
    "2. Calculating enthalpies of reactions from tabulated heats of formation"
   ]
  },
  {
   "cell_type": "markdown",
   "id": "2fead731",
   "metadata": {
    "slideshow": {
     "slide_type": "slide"
    }
   },
   "source": [
    "### Enthalpy of reaction by adding enthalpies of known reactions\n",
    "\n",
    "The heat of combustion of isobutane is $-2869$ kJ/mol and the heat of combustion of n-butane is $-2877$ kJ/mol.  Compute the enthalpy of isomerization from n-butane to isobutane."
   ]
  },
  {
   "cell_type": "markdown",
   "id": "f4e1fd0a",
   "metadata": {
    "slideshow": {
     "slide_type": "slide"
    }
   },
   "source": [
    "Start by writing out the two combustion reactions\n",
    "\\begin{equation}\n",
    "i-C_4H_{10}(g) + \\frac{13}{2}O_2(g) \\rightarrow 4CO_2(g) + 5H_2O(l) \\quad \\Delta H = -2869\\quad kJ\\cdot mol^{-1}\n",
    "\\end{equation}\n",
    "\\begin{equation}\n",
    "n-C_4H_{10}(g) + \\frac{13}{2}O_2(g) \\rightarrow 4CO_2(g) + 5H_2O(l) \\quad \\Delta H = -2877\\quad kJ\\cdot mol^{-1}\n",
    "\\end{equation}\n",
    "\n",
    "Now we write out the final reaction that we want\n",
    "\\begin{equation}\n",
    "n-C_4H_{10}(g) \\rightarrow i-C_4H_{10}(g) \\quad \\Delta H_{isomerization} = ?\n",
    "\\end{equation}\n",
    "\n",
    "In order to add the two reactions to net the reaction we want, we need to flip the second reaction and then add\n",
    "\\begin{eqnarray}\n",
    "n-C_4H_{10}(g) + \\frac{13}{2}O_2(g) &\\rightarrow& 4CO_2(g) + 5H_2O(l) \\quad \\Delta H = -2877\\quad kJ\\cdot mol^{-1} \\\\\n",
    "4CO_2(g) + 5H_2O(l) &\\rightarrow& i-C_4H_{10}(g) + \\frac{13}{2}O_2(g)  \\quad \\Delta H = 2869\\quad kJ\\cdot mol^{-1}\n",
    "\\end{eqnarray}\n",
    "\n",
    "The sum of these two nets the exact reaction we want and \n",
    "\\begin{equation}\n",
    "\\Delta H_{isomerization}  = -2877 + 2869 = -8 \\quad kJ\\cdot mol^{-1} \n",
    "\\end{equation}"
   ]
  },
  {
   "cell_type": "code",
   "execution_count": 9,
   "id": "237de829",
   "metadata": {
    "slideshow": {
     "slide_type": "fragment"
    }
   },
   "outputs": [
    {
     "data": {
      "text/plain": [
       "-8"
      ]
     },
     "execution_count": 9,
     "metadata": {},
     "output_type": "execute_result"
    }
   ],
   "source": [
    "-2877 + 2869"
   ]
  },
  {
   "cell_type": "markdown",
   "id": "1a2ac959",
   "metadata": {},
   "source": [
    "### Enthalpy of Reaction from Heats of Formation\n",
    "\n",
    "Estimate the standard heat of combustion, $\\Delta H^0_c$ of glucose ($C_6H_{12}O_6$(s)) given the following heats of formation\n",
    "\n",
    "|  Substance        |  $\\Delta H^0_f$ (kJ/mol) |\n",
    "|:-----------------|:--------------------------|\n",
    "| $C_6H_{12}O_6$(s)| -1260                |\n",
    "| $CO_2$ (g)       | -393.509             |\n",
    "| $H_2O$ (l)       | -285.83              |"
   ]
  },
  {
   "cell_type": "markdown",
   "id": "a8343fcf",
   "metadata": {},
   "source": [
    "We start by writing out the balanced chemical reaction\n",
    "\\begin{equation}\n",
    "C_6H_{12}O_6 (s) + 6O_2(g) \\rightarrow 6CO_2(g) + 6H_2O(l)\n",
    "\\end{equation}\n",
    "Now we compute $\\Delta H_{rxn}$\n",
    "\\begin{eqnarray}\n",
    "\\Delta H_{rxn} &=& 6\\cdot\\Delta H^0_f(CO_2(g)) + 6\\cdot\\Delta H^0_f(H_2O(l)) - \\Delta H^0_f(C_6H_{12}O_6 (s)) \\\\\n",
    "&=& 6(-393.509) + 6(-285.83) - (-1260) \\\\\n",
    "&=& -2820 \\quad kJ\n",
    "\\end{eqnarray}\n",
    "Since the balanced reaction has one mol of $C_6H_{12}O_6 (s)$ we can say that \n",
    "\\begin{eqnarray}\n",
    "\\Delta H^0_c &=& -2820 \\quad kJ/mol\n",
    "\\end{eqnarray}"
   ]
  },
  {
   "cell_type": "code",
   "execution_count": 10,
   "id": "70a2969b",
   "metadata": {},
   "outputs": [
    {
     "data": {
      "text/plain": [
       "-2816.034"
      ]
     },
     "execution_count": 10,
     "metadata": {},
     "output_type": "execute_result"
    }
   ],
   "source": [
    "6*(-393.509)+6*(-285.83)+1260"
   ]
  }
 ],
 "metadata": {
  "celltoolbar": "Slideshow",
  "kernelspec": {
   "display_name": "Python 3",
   "language": "python",
   "name": "python3"
  },
  "language_info": {
   "codemirror_mode": {
    "name": "ipython",
    "version": 3
   },
   "file_extension": ".py",
   "mimetype": "text/x-python",
   "name": "python",
   "nbconvert_exporter": "python",
   "pygments_lexer": "ipython3",
   "version": "3.8.8"
  }
 },
 "nbformat": 4,
 "nbformat_minor": 5
}