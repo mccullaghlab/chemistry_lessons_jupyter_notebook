{
 "cells": [
  {
   "cell_type": "markdown",
   "id": "better-receipt",
   "metadata": {
    "slideshow": {
     "slide_type": "slide"
    }
   },
   "source": [
    "# Heat Work and Calculating $\\Delta U$"
   ]
  },
  {
   "cell_type": "markdown",
   "id": "closing-specification",
   "metadata": {
    "slideshow": {
     "slide_type": "slide"
    }
   },
   "source": [
    "# Learning goals for today:"
   ]
  },
  {
   "cell_type": "markdown",
   "id": "common-prairie",
   "metadata": {
    "slideshow": {
     "slide_type": "fragment"
    }
   },
   "source": [
    "1. Express $\\Delta U$ in terms of heat and work\n",
    "2. Describe the sign convention for heat and work\n",
    "3. Compute the internal energy of an ideal gas given the number of moles and temperature\n",
    "4. Compute $\\Delta U$, $q$, and $w$ for a reversible isothermal ideal gas expansion\n",
    "5. Compute $w$ for an ideal gas expansion at constant external pressure"
   ]
  },
  {
   "cell_type": "markdown",
   "id": "dimensional-cable",
   "metadata": {
    "slideshow": {
     "slide_type": "slide"
    }
   },
   "source": [
    "## $U$, $\\Delta U$, and $dU$"
   ]
  },
  {
   "cell_type": "markdown",
   "id": "remarkable-harbor",
   "metadata": {
    "slideshow": {
     "slide_type": "fragment"
    }
   },
   "source": [
    "$U$ - the internal energy \n",
    "\n",
    "$\\Delta U$ - the change in internal energy (finite difference)\n",
    "\n",
    "$dU$ - the differential of internal energy (infinitesimal difference)"
   ]
  },
  {
   "cell_type": "markdown",
   "id": "sophisticated-isaac",
   "metadata": {
    "slideshow": {
     "slide_type": "slide"
    }
   },
   "source": [
    "$U$ is the internal energy and is a measure of all energy in the system (e.g. kinetic and potential).  The absolute value of $U$ is unimportant for Thermodynamic processes, the change in $U$ that occurs during the process is of more import.  The change in internal energy for a system to go from an initial state to a final state is:\n",
    "\n",
    "$\\Delta U_{sys} = U_{sys}^{final} - U_{sys}^{initial}$.\n",
    "\n",
    "Since the internal energy is a state function, it has an exact differential.  If we consider the internal energy, $U(S,V)$, as a function of entropy, $S$, and volume, $V$, of the system, we can write\n",
    "\n",
    "$dU = \\left(\\frac{\\partial U}{\\partial S}\\right) dS + \\left(\\frac{\\partial U}{\\partial V}\\right)dV$.\n",
    "\n",
    "This is analagous to writing the exact differential of $f(x,y)$ as \n",
    "\n",
    "$df = \\left(\\frac{\\partial f}{\\partial x}\\right) dx + \\left(\\frac{\\partial f}{\\partial y}\\right)dy$.\n",
    "\n",
    "$\\Delta U$ and $dU$ are related by integration from initial to final states:\n",
    "\n",
    "$\\Delta U = \\int_{initial}^{final} dU$"
   ]
  },
  {
   "cell_type": "markdown",
   "id": "tracked-lotus",
   "metadata": {
    "slideshow": {
     "slide_type": "slide"
    }
   },
   "source": [
    "## Heat Capacity"
   ]
  },
  {
   "cell_type": "markdown",
   "id": "affected-nebraska",
   "metadata": {
    "slideshow": {
     "slide_type": "fragment"
    }
   },
   "source": [
    "The heat capacity of a substance at constant volume, $C_V$ is related to the internal energy of the system.  Specifically, the heat capacity is the amount of energy it takes to raise the temperature of a system by 1 degree Kelvin or Celsius.  This written as\n",
    "\n",
    "$C_V = \\left(\\frac{dU}{dT}\\right)_V$,\n",
    "\n",
    "where the subscript $V$ denotes at constant volume."
   ]
  },
  {
   "cell_type": "markdown",
   "id": "lesser-temple",
   "metadata": {
    "slideshow": {
     "slide_type": "slide"
    }
   },
   "source": [
    "## Work and Heat"
   ]
  },
  {
   "cell_type": "markdown",
   "id": "union-details",
   "metadata": {
    "slideshow": {
     "slide_type": "slide"
    }
   },
   "source": [
    "The change in internal energy for a system can be expressed as the amount of work done by/to the system plus the amount of heat transferred to/from the system.  This can be written mathematically as\n",
    "\n",
    "$\\Delta U = q + w$\n",
    "\n",
    "or, equivalently\n",
    "\n",
    "$dU = \\delta q + \\delta w$, \n",
    "\n",
    "where the $\\delta$ symbol denotes a path dependent differential.  Notice that \n",
    "\n",
    "$q = \\int\\delta q$ \n",
    "\n",
    "and \n",
    "\n",
    "$w = \\int\\delta w$."
   ]
  },
  {
   "cell_type": "markdown",
   "id": "related-hacker",
   "metadata": {
    "slideshow": {
     "slide_type": "slide"
    }
   },
   "source": [
    "### Sign Convention for Work and Heat"
   ]
  },
  {
   "cell_type": "markdown",
   "id": "arctic-relay",
   "metadata": {
    "slideshow": {
     "slide_type": "fragment"
    }
   },
   "source": [
    "There is a sign convention for work and heat.  It is defined relative to the system.  Work done by a system is negative, work done to a system is positive.  \n",
    "\n",
    "$ w < 0$ $\\Rightarrow$ work done ***by*** the system\n",
    "\n",
    "$ w > 0$ $\\Rightarrow$ work done ***to*** the system\n",
    "\n",
    "Similarly for heat, heat given off by the system is negative and heat absorbed by the system is positive.\n",
    "\n",
    "$ q < 0$ $\\Rightarrow$ heat ***given off*** by the system\n",
    "\n",
    "$ q > 0$ $\\Rightarrow$ heat ***absorbed*** by the system"
   ]
  },
  {
   "cell_type": "markdown",
   "id": "upper-stanford",
   "metadata": {
    "slideshow": {
     "slide_type": "slide"
    }
   },
   "source": [
    "### Computing Work and Heat"
   ]
  },
  {
   "cell_type": "markdown",
   "id": "simple-genome",
   "metadata": {
    "slideshow": {
     "slide_type": "fragment"
    }
   },
   "source": [
    "The amount of work done during a process or heat given off or absorbed during a process are important quantities.  So how do we compute them?\n",
    "\n",
    "Typically, it is not possible (or easy) to compute $q$ directly.  Rather, we compute $\\Delta U$ and $w$ and use the relationship $\\Delta U = q + w$ to compute $q$.  To compute $w$, we use the relationship\n",
    "\n",
    "$\\delta w = -P_{ext} dV$.\n",
    "\n",
    "We integrate both sides and get\n",
    "\n",
    "$w = -\\int P_{ext} dV$.\n",
    "\n",
    "$P_{ext}$ denotes the pressure of the surroundings, not the system.  So we cannot simply plug in the equation of state for the system here except for reversible processes."
   ]
  },
  {
   "cell_type": "markdown",
   "id": "rubber-academy",
   "metadata": {
    "slideshow": {
     "slide_type": "slide"
    }
   },
   "source": [
    "## Ideal Gas Expansion and Contraction"
   ]
  },
  {
   "cell_type": "markdown",
   "id": "starting-lobby",
   "metadata": {
    "slideshow": {
     "slide_type": "slide"
    }
   },
   "source": [
    "We will use the expansion and contraction of an ideal gas as an example process to understand and compute the change in internal energy, work, and heat (and other quantities).  Ideal gasses are chosen because the equation of state (ideal gas law, $PV=nRT$) is known for this system.  Ultimately we hope that what we learn about these processes is applicable to biochemical processes.\n",
    "\n",
    "Today, we will consider two processes: a reversible isothermal expansion/contraction and expansion/contraction at constant external pressure.  \n",
    "\n",
    "But first, a few words on the internal energy of an ideal gas..."
   ]
  },
  {
   "cell_type": "markdown",
   "id": "pretty-chain",
   "metadata": {
    "slideshow": {
     "slide_type": "slide"
    }
   },
   "source": [
    "### Internal energy of an ideal gas"
   ]
  },
  {
   "cell_type": "markdown",
   "id": "studied-variable",
   "metadata": {
    "slideshow": {
     "slide_type": "fragment"
    }
   },
   "source": [
    "An ideal gas is one in which the individual particles do not interact (no nonbonded interactions).  Thus, the internal energy of the system is the kinetic energy of the particles.  This can be written as:\n",
    "\n",
    "$U_{sys} = \\frac{3}{2} nRT$,\n",
    "\n",
    "where $n$ is the number of moles of the gas, $R$ is the universal gas constant, and $T$ is the temperature.  "
   ]
  },
  {
   "cell_type": "markdown",
   "id": "military-japan",
   "metadata": {
    "slideshow": {
     "slide_type": "slide"
    }
   },
   "source": [
    "### Reversible Isothermal Expansion"
   ]
  },
  {
   "cell_type": "markdown",
   "id": "victorian-piano",
   "metadata": {
    "slideshow": {
     "slide_type": "fragment"
    }
   },
   "source": [
    "Compute the $\\Delta U$, $q$, and $w$ for $n$ moles of an ideal gas when it expands from $V_1$ to $V_2$ reversibly and isothermally."
   ]
  },
  {
   "cell_type": "markdown",
   "id": "pressed-worthy",
   "metadata": {
    "slideshow": {
     "slide_type": "slide"
    }
   },
   "source": [
    "We start by writing out and and all expressions we have for $\\Delta U$, $q$, and $w$.  \n",
    "\n",
    "$\\Delta U_{sys} = q + w$\n",
    "\n",
    "$\\Delta U_{sys} = U_{sys}^{final} - U_{sys}^{initial}$\n",
    "\n",
    "$U_{sys} = \\frac{3}{2}nRT$\n",
    "\n",
    "$w = -\\int P_{ext}dV$\n",
    "\n",
    "From these equations, we can compute all three!  Start with $\\Delta U$:\n",
    "\n",
    "$\\Delta U = U_{sys}^{final} - U_{sys}^{initial} = \\frac{3}{2}nRT^{final} - \\frac{3}{2}nRT^{initial} = 0$\n",
    "\n",
    "The change in internal energy is zero for an ideal gas undergoing an isothermal process. We now rearrange to see:\n",
    "\n",
    "$\\Delta U_{sys} = q + w = 0$\n",
    "\n",
    "$\\Rightarrow q = -w$"
   ]
  },
  {
   "cell_type": "markdown",
   "id": "surrounded-economy",
   "metadata": {
    "slideshow": {
     "slide_type": "slide"
    }
   },
   "source": [
    "Now to solve for $w$:\n",
    "\n",
    "$w = -\\int P_{ext}dV$\n",
    "\n",
    "Because this processes is done reversibly, we know that the pressure of the system is equal to that of the surroundings at every point along the path.  Thus, $P_{ext}=P_{sys}$ and we can plug in the ideal gas law for $P_{ext}$:\n",
    "\n",
    "$w = -\\int \\frac{nRT}{V}dV$\n",
    "\n",
    "Notice $nRT$ are all constants for an isothermal process so\n",
    "\n",
    "$w = -nRT\\int \\frac{1}{V}dV = -nRT\\ln\\left(\\frac{V_f}{V_i}\\right)=nRT\\ln\\left(\\frac{V_i}{V_f}\\right)$\n",
    "\n",
    "Plug back in for $q$:\n",
    "\n",
    "$q = -w = nRT\\ln\\left(\\frac{V_f}{V_i}\\right)$"
   ]
  },
  {
   "cell_type": "markdown",
   "id": "otherwise-syria",
   "metadata": {
    "slideshow": {
     "slide_type": "slide"
    }
   },
   "source": [
    "### Expansion against Constant External Pressure"
   ]
  },
  {
   "cell_type": "markdown",
   "id": "threatened-cookbook",
   "metadata": {
    "slideshow": {
     "slide_type": "fragment"
    }
   },
   "source": [
    "Compute $w$ for $n$ moles of an ideal gas when it expands from $V_1$ to $V_2$ against a constant external pressure, $P_{ext}$."
   ]
  },
  {
   "cell_type": "markdown",
   "id": "scenic-australia",
   "metadata": {
    "slideshow": {
     "slide_type": "slide"
    }
   },
   "source": [
    "Notice that we are only computing $w$ here. So we start with \n",
    "\n",
    "$w = -\\int P_{ext} dV$.\n",
    "\n",
    "Since $P_{ext}$ is constant, we can take it out of the integral and simply get:\n",
    "\n",
    "$w = -P_{ext}\\int dV = -P_{ext}\\Delta V$.\n",
    "\n",
    "Finally, we recognize that the final pressure of the system must be equal to that of the surroundings and thus $P_{ext} = P_2$, or\n",
    "\n",
    "$w = -P_{ext}\\Delta V = -P_2\\Delta V = \\frac{-nRT_2}{V_2}\\Delta V$."
   ]
  }
 ],
 "metadata": {
  "celltoolbar": "Slideshow",
  "kernelspec": {
   "display_name": "Python 3",
   "language": "python",
   "name": "python3"
  },
  "language_info": {
   "codemirror_mode": {
    "name": "ipython",
    "version": 3
   },
   "file_extension": ".py",
   "mimetype": "text/x-python",
   "name": "python",
   "nbconvert_exporter": "python",
   "pygments_lexer": "ipython3",
   "version": "3.8.8"
  }
 },
 "nbformat": 4,
 "nbformat_minor": 5
}