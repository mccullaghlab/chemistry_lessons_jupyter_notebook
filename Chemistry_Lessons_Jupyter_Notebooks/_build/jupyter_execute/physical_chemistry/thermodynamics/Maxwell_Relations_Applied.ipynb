{
 "cells": [
  {
   "cell_type": "markdown",
   "metadata": {
    "slideshow": {
     "slide_type": "slide"
    }
   },
   "source": [
    "# Maxwell Relations Applied"
   ]
  },
  {
   "cell_type": "markdown",
   "metadata": {
    "slideshow": {
     "slide_type": "fragment"
    }
   },
   "source": [
    "## Learning goals:\n",
    "\n",
    "After this section, student's should be able to:\n",
    "\n",
    "1. Identify the Maxwell relations\n",
    "2. Utilize a Maxwell relation to calculate the change in internal energy of a non-ideal gas\n",
    "3. Utilize a Maxwell relation to show enthalpy is independent of pressure for an ideal gas\n",
    "4. Utilize a Maxwell relation to derive an expression for $\\Delta S$ of a van der Waals gas\n",
    "5. Perform Legendre transforms and use Maxwell relations for a system with non-PV work"
   ]
  },
  {
   "cell_type": "markdown",
   "metadata": {
    "slideshow": {
     "slide_type": "slide"
    }
   },
   "source": [
    "## Coding concepts:\n",
    "\n",
    "The following coding concepts are used in this notebook\n",
    "\n",
    "1. [Variables](../../coding_concepts/variables.ipynb)\n",
    "2. [Plotting with matplotlib](../../coding_concepts/plotting_with_matplotlib.ipynb)"
   ]
  },
  {
   "cell_type": "markdown",
   "metadata": {
    "slideshow": {
     "slide_type": "slide"
    }
   },
   "source": [
    "## Maxwell Relations"
   ]
  },
  {
   "cell_type": "markdown",
   "metadata": {
    "slideshow": {
     "slide_type": "fragment"
    }
   },
   "source": [
    "### Summary of Maxwell Relations\n",
    "\n",
    "| Energy Function                    | Differential Form   $$ $$             | Maxwell   Relations $$ $$|         \n",
    "| :--------------------------------- | :--------------------------------------------------- | :--------------------------------------------------- | \n",
    "| U - Internal Energy                | $ dU = TdS - PdV      $          | $\\left(\\frac{\\partial T}{\\partial V}\\right)_S = -\\left(\\frac{\\partial P}{\\partial S}\\right)_V$ |\n",
    "| H - Enthalpy                       | $dH = TdS + VdP$                 | $\\left(\\frac{\\partial T}{\\partial P}\\right)_S = \\left(\\frac{\\partial V}{\\partial S}\\right)_P$ |\n",
    "| A - Helmholtz Free Energy          | $dA = -SdT - PdV$                | $\\left(\\frac{\\partial S}{\\partial V}\\right)_T = \\left(\\frac{\\partial P}{\\partial T}\\right)_V$ |\n",
    "| G - Gibbs Free Energy              | $dG = -SdT + VdP$                | $\\left(\\frac{\\partial S}{\\partial P}\\right)_T = -\\left(\\frac{\\partial V}{\\partial T}\\right)_P$ |"
   ]
  },
  {
   "cell_type": "markdown",
   "metadata": {
    "slideshow": {
     "slide_type": "slide"
    }
   },
   "source": [
    "## Example 1: Change in Internal Energy of a Non-Ideal Gas"
   ]
  },
  {
   "cell_type": "markdown",
   "metadata": {
    "slideshow": {
     "slide_type": "fragment"
    }
   },
   "source": [
    "Compute the change in internal energy, $\\Delta U$, for the isothermal expansion from $V_1$ to $V_2$ of a finite volume gas that has the equation of state:\n",
    "\n",
    "$P(V-nb) = nRT$"
   ]
  },
  {
   "cell_type": "markdown",
   "metadata": {
    "slideshow": {
     "slide_type": "slide"
    }
   },
   "source": [
    "Recall that for an ***ideal*** gas we always used the relationship $\\Delta U_{ideal} = n\\bar{C}_V\\Delta T$ and thus the change in internal energy for an ***ideal*** gas is zero for an isothermal process.  But what about this ***non-ideal*** gas?\n",
    "\n",
    "In order to compute $\\Delta U$, we start with the differential form of the internal energy\n",
    "\n",
    "\\begin{align}\n",
    "dU = TdS - PdV\n",
    "\\end{align}\n",
    "\n",
    "Integrate both sides to yield\n",
    "\n",
    "\\begin{align}\n",
    "\\Delta U = \\int_{U_i}^{U_f}dU = \\int_{S_i}^{S_f} TdS - \\int_{V_i}^{V_f}PdV\n",
    "\\end{align}\n",
    "\n",
    "Notice that we can handle the second term, $\\int_{V_i}^{V_f}PdV$, by plugging in the equation of state for our finite volume gas but the first term, $\\int_{S_i}^{S_f} TdS$, is a bit harder to handle; while $T$ is constant we do not know the change in entropy.   "
   ]
  },
  {
   "cell_type": "markdown",
   "metadata": {
    "slideshow": {
     "slide_type": "slide"
    }
   },
   "source": [
    "*Solution:* change the integration variable using a Maxwell relation.  Given that we know initial and final volumes, and that the second integral is with resepct to volume, we would really like to change the $dS$ to a $dV$.  For this, we look at the Maxwell Relations and pick the one that has $\\left(\\frac{\\partial S}{\\partial V}\\right)$ and ideally at contsant $T$ since our process is isothermal:\n",
    "\n",
    "| Energy Function                    | Differential Form   $$ $$             | Maxwell   Relations $$ $$|         \n",
    "| :--------------------------------- | :--------------------------------------------------- | :--------------------------------------------------- | \n",
    "| U - Internal Energy                | $ dU = TdS - PdV      $          | $\\left(\\frac{\\partial T}{\\partial V}\\right)_S = -\\left(\\frac{\\partial P}{\\partial S}\\right)_V$ |\n",
    "| H - Enthalpy                       | $dH = TdS + VdP$                 | $\\left(\\frac{\\partial T}{\\partial P}\\right)_S = \\left(\\frac{\\partial V}{\\partial S}\\right)_P$ |\n",
    "| A - Helmholtz Free Energy          | $dA = -SdT - PdV$                | $\\left(\\frac{\\partial S}{\\partial V}\\right)_T = \\left(\\frac{\\partial P}{\\partial T}\\right)_V$ |\n",
    "| G - Gibbs Free Energy              | $dG = -SdT + VdP$                | $\\left(\\frac{\\partial S}{\\partial P}\\right)_T = -\\left(\\frac{\\partial V}{\\partial T}\\right)_P$ |\n",
    "\n",
    "We see that the Maxwell Relation from $A$ is\n",
    "\n",
    "$\\left(\\frac{\\partial S}{\\partial V}\\right)_T = \\left(\\frac{\\partial P}{\\partial T}\\right)_V$"
   ]
  },
  {
   "cell_type": "markdown",
   "metadata": {
    "slideshow": {
     "slide_type": "slide"
    }
   },
   "source": [
    "The goal is now to rerrange this partial derivative to get $dS$ as a function of $dV$.  To do this, we \"cross multiply\" by $dV$:\n",
    "\n",
    "\\begin{align}\n",
    "\\left(\\frac{\\partial S}{\\partial V}\\right)_T =& \\left(\\frac{\\partial P}{\\partial T}\\right)_V \\\\\n",
    "\\Rightarrow dS = & \\left(\\frac{\\partial P}{\\partial T}\\right)_V dV\n",
    "\\end{align}\n",
    "\n",
    "Note that even though the derivative infront of $dV$ is taken at constant $V$, the resulting function could still be dependent on $V$.\n",
    "\n",
    "Now, let's plug this into our $\\Delta U$ equation:\n",
    "\n",
    "\\begin{align}\n",
    "\\Delta U =& \\int_{S_i}^{S_f} TdS - \\int_{V_i}^{V_f}PdV \\\\\n",
    "=& \\int_{V_i}^{V_f} T\\left(\\frac{\\partial P}{\\partial T}\\right)_V dV - \\int_{V_i}^{V_f}PdV \\\\\n",
    "=& \\int_{V_i}^{V_f} \\left[ T\\left(\\frac{\\partial P}{\\partial T}\\right)_V -P\\right]dV  \\\\\n",
    "\\end{align}"
   ]
  },
  {
   "cell_type": "markdown",
   "metadata": {
    "slideshow": {
     "slide_type": "slide"
    }
   },
   "source": [
    "Now we need to determine $\\left(\\frac{\\partial P}{\\partial T}\\right)_V$, plug back into the integrand, and perform the integration.  \n",
    "\n",
    "\\begin{align}\n",
    "\\left(\\frac{\\partial P}{\\partial T}\\right)_V =& \\frac{\\partial}{\\partial T} \\left( \\frac{nRT}{V-nb}\\right) \\\\\n",
    "=& \\frac{nR}{V-nb}\n",
    "\\end{align}\n",
    "\n",
    "Now plug back into integral:\n",
    "\n",
    "\\begin{align}\n",
    "\\Delta U =&  \\int_{V_i}^{V_f} \\left[ T\\left(\\frac{\\partial P}{\\partial T}\\right)_V -P\\right]dV  \\\\\n",
    "=& \\int_{V_i}^{V_f} \\left[ T\\frac{nR}{V-nb} -\\frac{nRT}{V-nb}\\right]dV \\\\\n",
    "=& 0\n",
    "\\end{align}\n",
    "\n",
    "So we did all of that to see that the change in internal energy of a finite volume gas for an isothermal process is zero, just like it is for an ideal gas (which you could also show using a very similar derivation)."
   ]
  },
  {
   "cell_type": "markdown",
   "metadata": {
    "slideshow": {
     "slide_type": "slide"
    }
   },
   "source": [
    "## Example 2: Enthalpy and Pressure for an ideal gas\n",
    "\n",
    "Show that the enthlapy of an ideal gas is independent of pressure under isothermal conditions."
   ]
  },
  {
   "cell_type": "markdown",
   "metadata": {
    "slideshow": {
     "slide_type": "slide"
    }
   },
   "source": [
    "We start with the differential form of enthalpy\n",
    "\n",
    "\\begin{align}\n",
    "dH =& TdS + VdP \\\\\n",
    "\\Rightarrow \\Delta H =& \\int_{H_i}^{H_f}dH = \\int_{S_i}^{S_f}TdS + \\int_{P_i}^{P_f}VdP \\\\\n",
    "\\end{align}\n",
    "\n",
    "Again, the second integral on the right-hand side of the equation is managable because we know the equation of state for an ideal gas.  The first integral requires us to know entropy change which is not readily known.  Thus, we would like to convert the integral with respect to $S$ to and integral with respect to $P$ (to match with the second integral).\n",
    "\n",
    "Again, we consult our Maxwell relations look for a $\\frac{\\partial S}{\\partial P}$ term\n",
    "\n",
    "| Energy Function                    | Differential Form   $$ $$             | Maxwell   Relations $$ $$|         \n",
    "| :--------------------------------- | :--------------------------------------------------- | :--------------------------------------------------- | \n",
    "| U - Internal Energy                | $ dU = TdS - PdV      $          | $\\left(\\frac{\\partial T}{\\partial V}\\right)_S = -\\left(\\frac{\\partial P}{\\partial S}\\right)_V$ |\n",
    "| H - Enthalpy                       | $dH = TdS + VdP$                 | $\\left(\\frac{\\partial T}{\\partial P}\\right)_S = \\left(\\frac{\\partial V}{\\partial S}\\right)_P$ |\n",
    "| A - Helmholtz Free Energy          | $dA = -SdT - PdV$                | $\\left(\\frac{\\partial S}{\\partial V}\\right)_T = \\left(\\frac{\\partial P}{\\partial T}\\right)_V$ |\n",
    "| G - Gibbs Free Energy              | $dG = -SdT + VdP$                | $\\left(\\frac{\\partial S}{\\partial P}\\right)_T = -\\left(\\frac{\\partial V}{\\partial T}\\right)_P$ |"
   ]
  },
  {
   "cell_type": "markdown",
   "metadata": {
    "slideshow": {
     "slide_type": "slide"
    }
   },
   "source": [
    "We choose the following ***Maxwell*** relation\n",
    "\n",
    "\\begin{align}\n",
    "\\left(\\frac{\\partial S}{\\partial P}\\right)_T &= -\\left(\\frac{\\partial V}{\\partial T}\\right)_P\n",
    "\\end{align}\n",
    "\n",
    "from the Gibbs free energy row.  Rearrange that equation to get\n",
    "\n",
    "\\begin{align}\n",
    "dS &= -\\left(\\frac{\\partial V}{\\partial T}\\right)_PdP\n",
    "\\end{align}\n",
    "\n",
    "Plug back into the integral\n",
    "\n",
    "\\begin{align}\n",
    "\\Delta H &= \\int_{S_i}^{S_f}TdS + \\int_{P_i}^{P_f}VdP \\\\\n",
    "&= \\int_{P_i}^{P_f} \\left[ -T\\left(\\frac{\\partial V}{\\partial T}\\right)_P + V\\right]dP\n",
    "\\end{align}"
   ]
  },
  {
   "cell_type": "markdown",
   "metadata": {
    "slideshow": {
     "slide_type": "slide"
    }
   },
   "source": [
    "Using the equation of state ($PV=nRT$), we will solve for $\\left(\\frac{\\partial V}{\\partial T}\\right)_P$:\n",
    "\n",
    "\\begin{align}\n",
    "\\left(\\frac{\\partial V}{\\partial T}\\right)_P &= \\frac{\\partial}{\\partial T}\\left(\\frac{nRT}{P}\\right) \\\\\n",
    "&= \\frac{nR}{P}\n",
    "\\end{align}\n",
    "\n",
    "Plug back into the integral and substitute $V = \\frac{nRT}{P}$ to see:\n",
    "\n",
    "\\begin{align}\n",
    "\\Delta H &= \\int_{P_i}^{P_f} \\left[ -T\\left(\\frac{\\partial V}{\\partial T}\\right)_P + V\\right]dP \\\\\n",
    "&=\\int_{P_i}^{P_f} \\left[ -T\\frac{nR}{P} + \\frac{nRT}{P}\\right]dP \\\\\n",
    "&= 0\n",
    "\\end{align}"
   ]
  },
  {
   "cell_type": "markdown",
   "metadata": {
    "slideshow": {
     "slide_type": "slide"
    }
   },
   "source": [
    "## Example 3: Compute $\\Delta S$ a reversible isothermal expansion of a non-ideal gas\n",
    "\n",
    "Consider a van der Waals gas with the equation of state\n",
    "\\begin{equation}\n",
    "P = \\frac{nRT}{V-nb} - \\frac{an^2}{V^2}\n",
    "\\end{equation}\n",
    "\n",
    "Compute the change in entropy, $\\Delta S$, during a reversible isothermal expansion of this gas."
   ]
  },
  {
   "cell_type": "markdown",
   "metadata": {
    "slideshow": {
     "slide_type": "slide"
    }
   },
   "source": [
    "For this we start with the Maxwell relation\n",
    "\n",
    "\\begin{equation}\n",
    "\\left(\\frac{\\partial S}{\\partial V}\\right)_T = \\left(\\frac{\\partial P}{\\partial T}\\right)_V\n",
    "\\end{equation}\n",
    "\n",
    "Which can be rearranged to yield\n",
    "\n",
    "\\begin{equation}\n",
    "dS = \\left(\\frac{\\partial P}{\\partial T}\\right)_V dV \\quad \\text{constant T}\n",
    "\\end{equation}\n",
    "\n",
    "Integrating both sides will yield the desired solution.  We start by computing the partial derivative of $P$ w.r.t. $T$ from the equation of state:\n",
    "\\begin{equation}\n",
    "\\left(\\frac{\\partial P}{\\partial T}\\right)_V = \\frac{nR}{V-nb}\n",
    "\\end{equation}\n",
    "\n",
    "Now plug-in and do the integral w.r.t. V:\n",
    "\\begin{eqnarray}\n",
    "\\Delta S &=& \\int_{V_1}^{V_2} \\frac{nR}{V-nb} dV \\\\\n",
    "&=& nR \\ln\\left( \\frac{V_2-nb}{V_1-nb}\\right)\n",
    "\\end{eqnarray}"
   ]
  },
  {
   "cell_type": "markdown",
   "metadata": {
    "slideshow": {
     "slide_type": "slide"
    }
   },
   "source": [
    "## Example 4: System with non-PV work\n",
    "\n",
    "Consider a system composed of a stretchable/elastic solid.  The energy associated with stretching the solid is given as \n",
    "\\begin{equation}\n",
    "FdL\n",
    "\\end{equation}\n",
    "where $F$ is the elastic coefficient of the system and $L$ is the length of the material.  In this case, the differential of internal energy, for example, is given as\n",
    "\\begin{equation}\n",
    "dU = TdS - PdV + FdL\n",
    "\\end{equation}\n",
    "\n",
    "(a) Derive an expression for $dD$ where $D = A-FL$ is a new thermodynamic energy function.\n",
    "\n",
    "(b) Describe how you might measure the change in entropy w.r.t force for this system at constant $V$ and $T$. "
   ]
  },
  {
   "cell_type": "markdown",
   "metadata": {
    "slideshow": {
     "slide_type": "slide"
    }
   },
   "source": [
    "Part (a) is essentially asking us to perform a Legendre transform of $A$ to achieve a new function $D$ that swaps natural variales $F$ and $L$.\n",
    "\n",
    "\\begin{eqnarray}\n",
    "D &=& A - FL \\\\\n",
    "\\Rightarrow dD &=& dA - FdL - LdF \\\\\n",
    "&=& -SdT - PdV + FdL - FdL - LdF \\\\\n",
    "&=& -SdT - PdV - LdF\n",
    "\\end{eqnarray}\n",
    "\n",
    "From this expression we have the following Maxwell relation (among others)\n",
    "\\begin{equation}\n",
    "\\left( \\frac{\\partial S}{\\partial F}\\right)_{T,V} = \\left( \\frac{\\partial L}{\\partial T}\\right)_{V,F}\n",
    "\\end{equation}\n",
    "This equation states that the change in entropy with respect to force ($F$) is equal to the change in length of the material with respect to temperature (at constant force).  So you could measure the length of the material under constant volume and force conditions for various temperatures to estimate how entropy varies with respect to force."
   ]
  },
  {
   "cell_type": "code",
   "execution_count": 7,
   "metadata": {
    "slideshow": {
     "slide_type": "fragment"
    }
   },
   "outputs": [
    {
     "data": {
      "text/plain": [
       "Text(0, 0.5, 'L')"
      ]
     },
     "execution_count": 7,
     "metadata": {},
     "output_type": "execute_result"
    },
    {
     "data": {
      "image/png": "[encoded data removed]",
      "text/plain": [
       "<Figure size 432x288 with 1 Axes>"
      ]
     },
     "metadata": {
      "needs_background": "light"
     },
     "output_type": "display_data"
    }
   ],
   "source": [
    "import matplotlib.pyplot as plt\n",
    "%matplotlib inline\n",
    "import numpy as np\n",
    "\n",
    "T = np.arange(250,350,5.0)\n",
    "L = np.exp(T/60)\n",
    "plt.plot(T,L,'o')\n",
    "plt.xlabel(\"T\")\n",
    "plt.ylabel(\"L\")"
   ]
  }
 ],
 "metadata": {
  "celltoolbar": "Slideshow",
  "kernelspec": {
   "display_name": "Python 3",
   "language": "python",
   "name": "python3"
  },
  "language_info": {
   "codemirror_mode": {
    "name": "ipython",
    "version": 3
   },
   "file_extension": ".py",
   "mimetype": "text/x-python",
   "name": "python",
   "nbconvert_exporter": "python",
   "pygments_lexer": "ipython3",
   "version": "3.8.3"
  }
 },
 "nbformat": 4,
 "nbformat_minor": 4
}