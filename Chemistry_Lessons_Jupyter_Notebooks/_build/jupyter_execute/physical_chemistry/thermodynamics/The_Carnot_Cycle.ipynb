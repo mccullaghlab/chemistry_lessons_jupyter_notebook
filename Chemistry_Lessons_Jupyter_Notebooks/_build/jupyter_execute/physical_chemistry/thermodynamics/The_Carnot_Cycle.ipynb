{
 "cells": [
  {
   "cell_type": "markdown",
   "id": "e83a90b7",
   "metadata": {
    "slideshow": {
     "slide_type": "slide"
    }
   },
   "source": [
    "# The Carnot Cycle"
   ]
  },
  {
   "cell_type": "markdown",
   "id": "0930a51a",
   "metadata": {
    "slideshow": {
     "slide_type": "fragment"
    }
   },
   "source": [
    "We have discussed, briefly, the idea of gasses expanding and contracting and how to compute internal energy, work, and heat along different expansion/contraction paths.  Today we will discuss combining multiple steps into a cycle and computing internal energy, enthalpy, work and heat along this cycle."
   ]
  },
  {
   "cell_type": "markdown",
   "id": "09a0655f",
   "metadata": {
    "slideshow": {
     "slide_type": "slide"
    }
   },
   "source": [
    "## Learning goals:"
   ]
  },
  {
   "cell_type": "markdown",
   "id": "645a035e",
   "metadata": {
    "slideshow": {
     "slide_type": "fragment"
    }
   },
   "source": [
    "After this lesson, students should be able to:\n",
    "1. Define what an adiabatic expansion/contraction of an ideal gas is\n",
    "2. Compute $\\Delta U$, $\\Delta H$, $q$ and $w$ for an adiabatic expansion/contraction of an ideal gas\n",
    "3. Compute $\\Delta U$, $\\Delta H$, $q$ and $w$ along the steps of the Carnot Cycle\n",
    "4. Compute $\\Delta U$, $\\Delta H$, $q$ and $w$ for the overall Carnot Cycle\n",
    "5. Draw a Carnot cycle on a PV diagram\n",
    "6. Relate volumes along Carnot cycle\n",
    "7. Compute efficiency of a heat engine following Carnot cycle"
   ]
  },
  {
   "cell_type": "markdown",
   "id": "7ab3ae5e",
   "metadata": {},
   "source": [
    "## Coding Concepts\n",
    "\n",
    "1. Variables\n",
    "2. Plotting with matplotlib"
   ]
  },
  {
   "cell_type": "markdown",
   "id": "02f93696",
   "metadata": {
    "slideshow": {
     "slide_type": "slide"
    }
   },
   "source": [
    "## The Carnot Cycle"
   ]
  },
  {
   "cell_type": "markdown",
   "id": "03ac715d",
   "metadata": {
    "slideshow": {
     "slide_type": "fragment"
    }
   },
   "source": [
    "The Carnot cycle is a special four point Thermodynamic cycle of an ideal gas.  It is the most efficient (can be shown when we learn about the second Law) cycle possible. It involves two types of reversible processes: (1) isothermal expansion/contration and (2) adiabatic expansion/contration.  We will derive some equations for (2) and use what we already know about (1)."
   ]
  },
  {
   "cell_type": "markdown",
   "id": "790e9257",
   "metadata": {
    "slideshow": {
     "slide_type": "slide"
    }
   },
   "source": [
    "### Adiabatic expansion/contration"
   ]
  },
  {
   "cell_type": "markdown",
   "id": "9b55e003",
   "metadata": {
    "slideshow": {
     "slide_type": "fragment"
    }
   },
   "source": [
    "Adiabatic expansion/contraction is defined as a process for which there is not heat exhange.  Meaning $q=0$.  This yields simple expressions for $w$ and $\\Delta U$ and $\\Delta H$:\n",
    "\n",
    "$\\Delta U = C_V\\Delta T$\n",
    "\n",
    "$\\Delta H = C_P\\Delta T$\n",
    "\n",
    "$w = \\Delta U = C_V\\Delta T$"
   ]
  },
  {
   "cell_type": "markdown",
   "id": "10dc6b45",
   "metadata": {
    "slideshow": {
     "slide_type": "slide"
    }
   },
   "source": [
    "### Adiabatic expansion/contraction on a PV diagram"
   ]
  },
  {
   "cell_type": "markdown",
   "id": "8edd2d7f",
   "metadata": {
    "slideshow": {
     "slide_type": "fragment"
    }
   },
   "source": [
    "But what does an adiabat look like on a PV diagram?   To determine this, we need to know what the restriction $q=0$ puts on $P$ as a function of $V$.  \n",
    "\n",
    "$P = \\frac{nRT}{V}$ \n",
    "\n",
    "The restriction of $q=0$ puts restrictions on $\\frac{T}{V}$.  Let's see what this will look like."
   ]
  },
  {
   "cell_type": "markdown",
   "id": "e3ffbc64",
   "metadata": {
    "slideshow": {
     "slide_type": "slide"
    }
   },
   "source": [
    "We start by writing out the differential form of the internal energy equation\n",
    "\n",
    "\\begin{align}\n",
    "dU &= \\delta q + \\delta w \\\\\n",
    "&= \\delta w\n",
    "\\end{align}\n",
    "\n",
    "since no heat transfer in an adiabatic process.  We now plug in for internal energy of an ideal gas $\\delta w = -PdV$ (reversible):\n",
    "\n",
    "\\begin{align}\n",
    "dU &= \\delta w \\\\\n",
    "C_V dT &= -PdV \\\\\n",
    "C_V dT & -\\frac{nRT}{V}dV\n",
    "\\end{align}\n",
    "\n",
    "where the last line I have used the ideal gas law (equation of state).  At this juncture we can integrate both sides.  But note that we cannot assume $T$ is constant because the process is ***not*** isothermal.\n",
    "\n",
    "\\begin{align}\n",
    "\\int_{T_1}^{T_2}C_V dT &= -\\int_{V_1}^{V_2}\\frac{nRT}{V}dV\n",
    "\\end{align}"
   ]
  },
  {
   "cell_type": "markdown",
   "id": "be561476",
   "metadata": {
    "slideshow": {
     "slide_type": "slide"
    }
   },
   "source": [
    "Note that the left hand side of the previous equation is integrating over temperature and the right hand side is integrating over volume.  There is a $T$ on the right hand side so we divide both sides of the equation to get it to the left hand side.\n",
    "\n",
    "\\begin{align}\n",
    "\\int_{T_1}^{T_2}C_V dT &= -\\int_{V_1}^{V_2}\\frac{nRT}{V}dV \\\\\n",
    "\\Rightarrow \\int_{T_1}^{T_2}\\frac{C_V}{T} dT &= -\\int_{V_1}^{V_2}\\frac{nR}{V}dV \\\\\n",
    "\\Rightarrow C_V\\ln\\left( \\frac{T_2}{T_1} \\right) &= -nR\\ln\\left( \\frac{V_2}{V_1} \\right) \\\\\n",
    "\\Rightarrow \\ln\\left( \\frac{T_2}{T_1} \\right)^{C_V} &= \\ln\\left( \\frac{V_2}{V_1} \\right)^{-nR} \\\\\n",
    "\\Rightarrow \\left( \\frac{T_2}{T_1} \\right)^{C_V} &= \\left( \\frac{V_2}{V_1} \\right)^{-nR} \\\\\n",
    "\\Rightarrow \\left( \\frac{P_2V_2}{P_1V_1} \\right)^{C_V} &= \\left( \\frac{V_2}{V_1} \\right)^{-nR}\\\\\n",
    "\\Rightarrow \\left( \\frac{P_2}{P_1} \\right)^{C_V} &= \\left( \\frac{V_2}{V_1} \\right)^{-nR-C_V}\\\\\n",
    "\\Rightarrow \\left( \\frac{P_2}{P_1} \\right)^{C_V} &= \\left( \\frac{V_1}{V_2} \\right)^{nR+C_V}\\\\\n",
    "\\Rightarrow PV^{5/3} &= const\n",
    "\\end{align}"
   ]
  },
  {
   "cell_type": "code",
   "execution_count": 1,
   "id": "bf6ff6ad",
   "metadata": {
    "slideshow": {
     "slide_type": "skip"
    },
    "tags": [
     "hide-input"
    ]
   },
   "outputs": [],
   "source": [
    "import numpy as np\n",
    "import matplotlib.pyplot as plt\n",
    "%matplotlib inline\n",
    "\n",
    "def plot_PV_diagram_adiabat(n=1,R=0.08206,V=np.arange(0.5,7.1,0.1),pUnit=\"atm\",vUnit=\"L\",T1=100,T2=200,fontsize=16):\n",
    "    xlabel = \"V (\" + vUnit + \")\"\n",
    "    ylabel = \"P (\" + pUnit + \")\"\n",
    "    # setup plot parameters\n",
    "    fig = plt.figure(figsize=(8,6), dpi= 80, facecolor='w', edgecolor='k')\n",
    "    ax = plt.subplot(111)\n",
    "    ax.grid(b=True, which='major', axis='both', color='#808080', linestyle='--')\n",
    "    ax.set_xlabel(xlabel,size=fontsize)\n",
    "    ax.set_ylabel(ylabel,size=fontsize)\n",
    "    plt.tick_params(axis='both',labelsize=fontsize)\n",
    "    # plot isotherms\n",
    "    label = \"T$_1$=\" + str(T1)+\" K\"\n",
    "    ax.plot(V,n*R*T1/V,label=label,lw=4)\n",
    "    label = \"T$_2$=\" + str(T2)+\" K\"\n",
    "    ax.plot(V,n*R*T2/V,label=label,lw=4)\n",
    "    # adiabat 1\n",
    "    lowV = (T1*1.5**(2/3)/T2)**(3/2)\n",
    "    highV = 1.5\n",
    "    Vadiabat1 = np.arange(lowV,highV+0.1,0.1)\n",
    "    ax.plot(V,n*R*T1*1.5**(2/3)/V**(5/3),label=\"Adiabat 1\",lw=4)\n",
    "    ax.plot(Vadiabat1,n*R*T1*1.5**(2/3)/Vadiabat1**(5/3),lw=1,c=\"k\")\n",
    "    label = \"(\" + str(1.5) +\",\"+ str(np.round(n*R*T1/1.5,decimals=1)) + \",\" +str(T1)+\")\"\n",
    "    label = \"(V$_1$,P$_1$,T$_1$)\"\n",
    "    ax.annotate(label,xy=(0.5,n*R*T1/1.5-1),fontsize=fontsize)\n",
    "    plt.scatter(1.5,n*R*T1/1.5,s=50,color=\"tab:blue\")\n",
    "    label = \"(\" + str(1.5) +\",\"+ str(np.round(n*R*T2/1.5,decimals=1)) + \",\" +str(T2)+\")\"\n",
    "    label = \"(V$_2$,P$_2$,T$_2$)\"\n",
    "    plt.scatter(lowV,n*R*T2/lowV,s=50,color=\"tab:orange\")\n",
    "    ax.annotate(label,xy=(lowV+0.05,n*R*T2/lowV),fontsize=fontsize)\n",
    "    ax.annotate(\"A\",xy=(0.4,n*R*T1/1.5+ 0.5*(n*R*T2/lowV-n*R*T1/1.5)),fontsize=fontsize*1.5)\n",
    "    label = \"(\" + str(2.5) +\",\"+ str(np.round(n*R*T2/2.5,decimals=1)) + \",\" +str(T2)+\")\"\n",
    "    label = \"(V$_3$,P$_3$,T$_2$)\"\n",
    "    # adiabat 2\n",
    "    lowV2 = 2.5\n",
    "    highV2 = (T2*2.5**(2/3)/T1)**(3/2)\n",
    "    Vadiabat2 = np.arange(lowV2,highV2+0.1,0.1)\n",
    "    ax.plot(V,n*R*T2*2.5**(2/3)/V**(5/3),label=\"Adiabat 2\",lw=4)\n",
    "    ax.plot(Vadiabat2,n*R*T2*2.5**(2/3)/Vadiabat2**(5/3),lw=1,c=\"k\")\n",
    "    plt.scatter(2.5,n*R*T2/2.5,s=50,color=\"tab:orange\")\n",
    "    ax.annotate(label,xy=(2.6,n*R*T2/2.5),fontsize=fontsize)\n",
    "    ax.annotate(\"B\",xy=(1.5,n*R*T2/2+3),fontsize=24)\n",
    "    label = \"(\" + str(2.5) +\",\"+ str(np.round(n*R*T1/2.5,decimals=1)) + \",\" +str(T1)+\")\"\n",
    "    label = \"(V$_4$,P$_4$,T$_1$)\"\n",
    "    plt.scatter(highV2,n*R*T1/highV2,s=50,color=\"tab:blue\")\n",
    "    ax.annotate(label,xy=(highV2,n*R*T1/highV2),fontsize=fontsize)\n",
    "    ax.annotate(\"C\",xy=(4.25,3.0),fontsize=fontsize*1.5)\n",
    "    ax.annotate(\"D\",xy=(3,n*R*T1/2-3.0),fontsize=fontsize*1.5)\n",
    "    vsub = np.arange(lowV,2.51,0.01)\n",
    "    ax.plot(vsub,n*R*T2/vsub,lw=1,c=\"k\")\n",
    "    vsub = np.arange(1.5,highV2+0.01,0.01)\n",
    "    ax.plot(vsub,n*R*T1/vsub,lw=1,c=\"k\")\n",
    "    ax.fill_between(np.arange(1.5,2.51,0.01),n*R*T1/np.arange(1.5,2.51,0.01),n*R*T2/np.arange(1.5,2.51,0.01),facecolor=\"purple\",alpha=0.5,interpolate=True)\n",
    "    ax.fill_between(np.arange(lowV,1.51,0.01),n*R*T2/np.arange(lowV,1.51,0.01),n*R*T1*1.5**(2/3)/np.arange(lowV,1.51,0.01)**(5/3),facecolor=\"purple\",alpha=0.5,interpolate=True)\n",
    "    ax.fill_between(np.arange(2.5,highV2+0.01,0.01),n*R*T2*2.5**(2/3)/np.arange(2.5,highV2+0.01,0.01)**(5/3),n*R*T1/np.arange(2.5,highV2+0.01,0.01),facecolor=\"purple\",alpha=0.5,interpolate=True)\n",
    "    ax.set_ylim(0,35)\n",
    "    plt.legend(fontsize=fontsize)"
   ]
  },
  {
   "cell_type": "code",
   "execution_count": 2,
   "id": "bf4fd62a",
   "metadata": {
    "slideshow": {
     "slide_type": "slide"
    }
   },
   "outputs": [
    {
     "ename": "ValueError",
     "evalue": "keyword grid_b is not recognized; valid keywords are ['size', 'width', 'color', 'tickdir', 'pad', 'labelsize', 'labelcolor', 'zorder', 'gridOn', 'tick1On', 'tick2On', 'label1On', 'label2On', 'length', 'direction', 'left', 'bottom', 'right', 'top', 'labelleft', 'labelbottom', 'labelright', 'labeltop', 'labelrotation', 'grid_agg_filter', 'grid_alpha', 'grid_animated', 'grid_antialiased', 'grid_clip_box', 'grid_clip_on', 'grid_clip_path', 'grid_color', 'grid_dash_capstyle', 'grid_dash_joinstyle', 'grid_dashes', 'grid_data', 'grid_drawstyle', 'grid_figure', 'grid_fillstyle', 'grid_gapcolor', 'grid_gid', 'grid_in_layout', 'grid_label', 'grid_linestyle', 'grid_linewidth', 'grid_marker', 'grid_markeredgecolor', 'grid_markeredgewidth', 'grid_markerfacecolor', 'grid_markerfacecoloralt', 'grid_markersize', 'grid_markevery', 'grid_mouseover', 'grid_path_effects', 'grid_picker', 'grid_pickradius', 'grid_rasterized', 'grid_sketch_params', 'grid_snap', 'grid_solid_capstyle', 'grid_solid_joinstyle', 'grid_transform', 'grid_url', 'grid_visible', 'grid_xdata', 'grid_ydata', 'grid_zorder', 'grid_aa', 'grid_c', 'grid_ds', 'grid_ls', 'grid_lw', 'grid_mec', 'grid_mew', 'grid_mfc', 'grid_mfcalt', 'grid_ms']",
     "output_type": "error",
     "traceback": [
      "\u001b[0;31m---------------------------------------------------------------------------\u001b[0m",
      "\u001b[0;31mValueError\u001b[0m                                Traceback (most recent call last)",
      "Cell \u001b[0;32mIn[2], line 1\u001b[0m\n\u001b[0;32m----> 1\u001b[0m \u001b[43mplot_PV_diagram_adiabat\u001b[49m\u001b[43m(\u001b[49m\u001b[43m)\u001b[49m\n",
      "Cell \u001b[0;32mIn[1], line 11\u001b[0m, in \u001b[0;36mplot_PV_diagram_adiabat\u001b[0;34m(n, R, V, pUnit, vUnit, T1, T2, fontsize)\u001b[0m\n\u001b[1;32m      9\u001b[0m fig \u001b[38;5;241m=\u001b[39m plt\u001b[38;5;241m.\u001b[39mfigure(figsize\u001b[38;5;241m=\u001b[39m(\u001b[38;5;241m8\u001b[39m,\u001b[38;5;241m6\u001b[39m), dpi\u001b[38;5;241m=\u001b[39m \u001b[38;5;241m80\u001b[39m, facecolor\u001b[38;5;241m=\u001b[39m\u001b[38;5;124m'\u001b[39m\u001b[38;5;124mw\u001b[39m\u001b[38;5;124m'\u001b[39m, edgecolor\u001b[38;5;241m=\u001b[39m\u001b[38;5;124m'\u001b[39m\u001b[38;5;124mk\u001b[39m\u001b[38;5;124m'\u001b[39m)\n\u001b[1;32m     10\u001b[0m ax \u001b[38;5;241m=\u001b[39m plt\u001b[38;5;241m.\u001b[39msubplot(\u001b[38;5;241m111\u001b[39m)\n\u001b[0;32m---> 11\u001b[0m \u001b[43max\u001b[49m\u001b[38;5;241;43m.\u001b[39;49m\u001b[43mgrid\u001b[49m\u001b[43m(\u001b[49m\u001b[43mb\u001b[49m\u001b[38;5;241;43m=\u001b[39;49m\u001b[38;5;28;43;01mTrue\u001b[39;49;00m\u001b[43m,\u001b[49m\u001b[43m \u001b[49m\u001b[43mwhich\u001b[49m\u001b[38;5;241;43m=\u001b[39;49m\u001b[38;5;124;43m'\u001b[39;49m\u001b[38;5;124;43mmajor\u001b[39;49m\u001b[38;5;124;43m'\u001b[39;49m\u001b[43m,\u001b[49m\u001b[43m \u001b[49m\u001b[43maxis\u001b[49m\u001b[38;5;241;43m=\u001b[39;49m\u001b[38;5;124;43m'\u001b[39;49m\u001b[38;5;124;43mboth\u001b[39;49m\u001b[38;5;124;43m'\u001b[39;49m\u001b[43m,\u001b[49m\u001b[43m \u001b[49m\u001b[43mcolor\u001b[49m\u001b[38;5;241;43m=\u001b[39;49m\u001b[38;5;124;43m'\u001b[39;49m\u001b[38;5;124;43m#808080\u001b[39;49m\u001b[38;5;124;43m'\u001b[39;49m\u001b[43m,\u001b[49m\u001b[43m \u001b[49m\u001b[43mlinestyle\u001b[49m\u001b[38;5;241;43m=\u001b[39;49m\u001b[38;5;124;43m'\u001b[39;49m\u001b[38;5;124;43m--\u001b[39;49m\u001b[38;5;124;43m'\u001b[39;49m\u001b[43m)\u001b[49m\n\u001b[1;32m     12\u001b[0m ax\u001b[38;5;241m.\u001b[39mset_xlabel(xlabel,size\u001b[38;5;241m=\u001b[39mfontsize)\n\u001b[1;32m     13\u001b[0m ax\u001b[38;5;241m.\u001b[39mset_ylabel(ylabel,size\u001b[38;5;241m=\u001b[39mfontsize)\n",
      "File \u001b[0;32m~/opt/anaconda3/lib/python3.8/site-packages/matplotlib/axes/_base.py:3194\u001b[0m, in \u001b[0;36m_AxesBase.grid\u001b[0;34m(self, visible, which, axis, **kwargs)\u001b[0m\n\u001b[1;32m   3192\u001b[0m _api\u001b[38;5;241m.\u001b[39mcheck_in_list([\u001b[38;5;124m'\u001b[39m\u001b[38;5;124mx\u001b[39m\u001b[38;5;124m'\u001b[39m, \u001b[38;5;124m'\u001b[39m\u001b[38;5;124my\u001b[39m\u001b[38;5;124m'\u001b[39m, \u001b[38;5;124m'\u001b[39m\u001b[38;5;124mboth\u001b[39m\u001b[38;5;124m'\u001b[39m], axis\u001b[38;5;241m=\u001b[39maxis)\n\u001b[1;32m   3193\u001b[0m \u001b[38;5;28;01mif\u001b[39;00m axis \u001b[38;5;129;01min\u001b[39;00m [\u001b[38;5;124m'\u001b[39m\u001b[38;5;124mx\u001b[39m\u001b[38;5;124m'\u001b[39m, \u001b[38;5;124m'\u001b[39m\u001b[38;5;124mboth\u001b[39m\u001b[38;5;124m'\u001b[39m]:\n\u001b[0;32m-> 3194\u001b[0m     \u001b[38;5;28;43mself\u001b[39;49m\u001b[38;5;241;43m.\u001b[39;49m\u001b[43mxaxis\u001b[49m\u001b[38;5;241;43m.\u001b[39;49m\u001b[43mgrid\u001b[49m\u001b[43m(\u001b[49m\u001b[43mvisible\u001b[49m\u001b[43m,\u001b[49m\u001b[43m \u001b[49m\u001b[43mwhich\u001b[49m\u001b[38;5;241;43m=\u001b[39;49m\u001b[43mwhich\u001b[49m\u001b[43m,\u001b[49m\u001b[43m \u001b[49m\u001b[38;5;241;43m*\u001b[39;49m\u001b[38;5;241;43m*\u001b[39;49m\u001b[43mkwargs\u001b[49m\u001b[43m)\u001b[49m\n\u001b[1;32m   3195\u001b[0m \u001b[38;5;28;01mif\u001b[39;00m axis \u001b[38;5;129;01min\u001b[39;00m [\u001b[38;5;124m'\u001b[39m\u001b[38;5;124my\u001b[39m\u001b[38;5;124m'\u001b[39m, \u001b[38;5;124m'\u001b[39m\u001b[38;5;124mboth\u001b[39m\u001b[38;5;124m'\u001b[39m]:\n\u001b[1;32m   3196\u001b[0m     \u001b[38;5;28mself\u001b[39m\u001b[38;5;241m.\u001b[39myaxis\u001b[38;5;241m.\u001b[39mgrid(visible, which\u001b[38;5;241m=\u001b[39mwhich, \u001b[38;5;241m*\u001b[39m\u001b[38;5;241m*\u001b[39mkwargs)\n",
      "File \u001b[0;32m~/opt/anaconda3/lib/python3.8/site-packages/matplotlib/axis.py:1660\u001b[0m, in \u001b[0;36mAxis.grid\u001b[0;34m(self, visible, which, **kwargs)\u001b[0m\n\u001b[1;32m   1657\u001b[0m \u001b[38;5;28;01mif\u001b[39;00m which \u001b[38;5;129;01min\u001b[39;00m [\u001b[38;5;124m'\u001b[39m\u001b[38;5;124mmajor\u001b[39m\u001b[38;5;124m'\u001b[39m, \u001b[38;5;124m'\u001b[39m\u001b[38;5;124mboth\u001b[39m\u001b[38;5;124m'\u001b[39m]:\n\u001b[1;32m   1658\u001b[0m     gridkw[\u001b[38;5;124m'\u001b[39m\u001b[38;5;124mgridOn\u001b[39m\u001b[38;5;124m'\u001b[39m] \u001b[38;5;241m=\u001b[39m (\u001b[38;5;129;01mnot\u001b[39;00m \u001b[38;5;28mself\u001b[39m\u001b[38;5;241m.\u001b[39m_major_tick_kw[\u001b[38;5;124m'\u001b[39m\u001b[38;5;124mgridOn\u001b[39m\u001b[38;5;124m'\u001b[39m]\n\u001b[1;32m   1659\u001b[0m                         \u001b[38;5;28;01mif\u001b[39;00m visible \u001b[38;5;129;01mis\u001b[39;00m \u001b[38;5;28;01mNone\u001b[39;00m \u001b[38;5;28;01melse\u001b[39;00m visible)\n\u001b[0;32m-> 1660\u001b[0m     \u001b[38;5;28;43mself\u001b[39;49m\u001b[38;5;241;43m.\u001b[39;49m\u001b[43mset_tick_params\u001b[49m\u001b[43m(\u001b[49m\u001b[43mwhich\u001b[49m\u001b[38;5;241;43m=\u001b[39;49m\u001b[38;5;124;43m'\u001b[39;49m\u001b[38;5;124;43mmajor\u001b[39;49m\u001b[38;5;124;43m'\u001b[39;49m\u001b[43m,\u001b[49m\u001b[43m \u001b[49m\u001b[38;5;241;43m*\u001b[39;49m\u001b[38;5;241;43m*\u001b[39;49m\u001b[43mgridkw\u001b[49m\u001b[43m)\u001b[49m\n\u001b[1;32m   1661\u001b[0m \u001b[38;5;28mself\u001b[39m\u001b[38;5;241m.\u001b[39mstale \u001b[38;5;241m=\u001b[39m \u001b[38;5;28;01mTrue\u001b[39;00m\n",
      "File \u001b[0;32m~/opt/anaconda3/lib/python3.8/site-packages/matplotlib/axis.py:932\u001b[0m, in \u001b[0;36mAxis.set_tick_params\u001b[0;34m(self, which, reset, **kwargs)\u001b[0m\n\u001b[1;32m    919\u001b[0m \u001b[38;5;250m\u001b[39m\u001b[38;5;124;03m\"\"\"\u001b[39;00m\n\u001b[1;32m    920\u001b[0m \u001b[38;5;124;03mSet appearance parameters for ticks, ticklabels, and gridlines.\u001b[39;00m\n\u001b[1;32m    921\u001b[0m \n\u001b[0;32m   (...)\u001b[0m\n\u001b[1;32m    929\u001b[0m \u001b[38;5;124;03m    gridlines.\u001b[39;00m\n\u001b[1;32m    930\u001b[0m \u001b[38;5;124;03m\"\"\"\u001b[39;00m\n\u001b[1;32m    931\u001b[0m _api\u001b[38;5;241m.\u001b[39mcheck_in_list([\u001b[38;5;124m'\u001b[39m\u001b[38;5;124mmajor\u001b[39m\u001b[38;5;124m'\u001b[39m, \u001b[38;5;124m'\u001b[39m\u001b[38;5;124mminor\u001b[39m\u001b[38;5;124m'\u001b[39m, \u001b[38;5;124m'\u001b[39m\u001b[38;5;124mboth\u001b[39m\u001b[38;5;124m'\u001b[39m], which\u001b[38;5;241m=\u001b[39mwhich)\n\u001b[0;32m--> 932\u001b[0m kwtrans \u001b[38;5;241m=\u001b[39m \u001b[38;5;28;43mself\u001b[39;49m\u001b[38;5;241;43m.\u001b[39;49m\u001b[43m_translate_tick_params\u001b[49m\u001b[43m(\u001b[49m\u001b[43mkwargs\u001b[49m\u001b[43m)\u001b[49m\n\u001b[1;32m    934\u001b[0m \u001b[38;5;66;03m# the kwargs are stored in self._major/minor_tick_kw so that any\u001b[39;00m\n\u001b[1;32m    935\u001b[0m \u001b[38;5;66;03m# future new ticks will automatically get them\u001b[39;00m\n\u001b[1;32m    936\u001b[0m \u001b[38;5;28;01mif\u001b[39;00m reset:\n",
      "File \u001b[0;32m~/opt/anaconda3/lib/python3.8/site-packages/matplotlib/axis.py:1076\u001b[0m, in \u001b[0;36mAxis._translate_tick_params\u001b[0;34m(kw, reverse)\u001b[0m\n\u001b[1;32m   1074\u001b[0m \u001b[38;5;28;01mfor\u001b[39;00m key \u001b[38;5;129;01min\u001b[39;00m kw_:\n\u001b[1;32m   1075\u001b[0m     \u001b[38;5;28;01mif\u001b[39;00m key \u001b[38;5;129;01mnot\u001b[39;00m \u001b[38;5;129;01min\u001b[39;00m allowed_keys:\n\u001b[0;32m-> 1076\u001b[0m         \u001b[38;5;28;01mraise\u001b[39;00m \u001b[38;5;167;01mValueError\u001b[39;00m(\n\u001b[1;32m   1077\u001b[0m             \u001b[38;5;124m\"\u001b[39m\u001b[38;5;124mkeyword \u001b[39m\u001b[38;5;132;01m%s\u001b[39;00m\u001b[38;5;124m is not recognized; valid keywords are \u001b[39m\u001b[38;5;132;01m%s\u001b[39;00m\u001b[38;5;124m\"\u001b[39m\n\u001b[1;32m   1078\u001b[0m             \u001b[38;5;241m%\u001b[39m (key, allowed_keys))\n\u001b[1;32m   1079\u001b[0m kwtrans\u001b[38;5;241m.\u001b[39mupdate(kw_)\n\u001b[1;32m   1080\u001b[0m \u001b[38;5;28;01mreturn\u001b[39;00m kwtrans\n",
      "\u001b[0;31mValueError\u001b[0m: keyword grid_b is not recognized; valid keywords are ['size', 'width', 'color', 'tickdir', 'pad', 'labelsize', 'labelcolor', 'zorder', 'gridOn', 'tick1On', 'tick2On', 'label1On', 'label2On', 'length', 'direction', 'left', 'bottom', 'right', 'top', 'labelleft', 'labelbottom', 'labelright', 'labeltop', 'labelrotation', 'grid_agg_filter', 'grid_alpha', 'grid_animated', 'grid_antialiased', 'grid_clip_box', 'grid_clip_on', 'grid_clip_path', 'grid_color', 'grid_dash_capstyle', 'grid_dash_joinstyle', 'grid_dashes', 'grid_data', 'grid_drawstyle', 'grid_figure', 'grid_fillstyle', 'grid_gapcolor', 'grid_gid', 'grid_in_layout', 'grid_label', 'grid_linestyle', 'grid_linewidth', 'grid_marker', 'grid_markeredgecolor', 'grid_markeredgewidth', 'grid_markerfacecolor', 'grid_markerfacecoloralt', 'grid_markersize', 'grid_markevery', 'grid_mouseover', 'grid_path_effects', 'grid_picker', 'grid_pickradius', 'grid_rasterized', 'grid_sketch_params', 'grid_snap', 'grid_solid_capstyle', 'grid_solid_joinstyle', 'grid_transform', 'grid_url', 'grid_visible', 'grid_xdata', 'grid_ydata', 'grid_zorder', 'grid_aa', 'grid_c', 'grid_ds', 'grid_ls', 'grid_lw', 'grid_mec', 'grid_mew', 'grid_mfc', 'grid_mfcalt', 'grid_ms']"
     ]
    },
    {
     "data": {
      "image/png": "[encoded data removed]",
      "text/plain": [
       "<Figure size 640x480 with 1 Axes>"
      ]
     },
     "metadata": {},
     "output_type": "display_data"
    }
   ],
   "source": [
    "plot_PV_diagram_adiabat()"
   ]
  },
  {
   "cell_type": "markdown",
   "id": "cf2f2569",
   "metadata": {
    "slideshow": {
     "slide_type": "slide"
    }
   },
   "source": [
    "There are four points and four processes on the above plot.  We will define them as:\n",
    "\n",
    "$A$ : adiabatic contraction from $(V_1,P_1,T_1)$ to $(V_2,P_2,T_2)$\n",
    "\n",
    "$B$ : isothermal expansion from $(V_2,P_2,T_2)$ to $(V_3,P_3,T_2)$\n",
    "\n",
    "$C$ : adiabatic expansion from $(V_3,P_3,T_2)$ to $(V_4,P_4,T_1)$\n",
    "\n",
    "$D$ : isothermal contraction from $(V_4,P_4,T_1)$ to $(V_1,P_1,T_1)$"
   ]
  },
  {
   "cell_type": "markdown",
   "id": "ed267f60",
   "metadata": {
    "slideshow": {
     "slide_type": "slide"
    }
   },
   "source": [
    "### $A$: Adiabatic Contraction"
   ]
  },
  {
   "cell_type": "markdown",
   "id": "654379f4",
   "metadata": {
    "slideshow": {
     "slide_type": "fragment"
    }
   },
   "source": [
    "We want to compute $w_A$, $q_A$, $\\Delta U_A$, and $\\Delta H_A$ for a reversible adiabatic contraction from $(V_1,P_1,T_1)$ to $(V_2,P_2,T_2)$.  "
   ]
  },
  {
   "cell_type": "markdown",
   "id": "bb750b06",
   "metadata": {
    "slideshow": {
     "slide_type": "slide"
    }
   },
   "source": [
    "Equations and results are from above derivation but one must be careful that we are starting at $(V_1,P_1,T_1)$ and ending at $(V_2,P_2,T_2)$.  \n",
    "\n",
    "$\\Delta U_C = C_V \\Delta T = \\frac{3}{2}nR(T_2-T_1)$\n",
    "\n",
    "$\\Delta H_C = C_P \\Delta T = \\frac{5}{2}nR(T_2-T_1)$\n",
    "\n",
    "$w_C = C_V \\Delta T = \\frac{3}{2}nR(T_2-T_1)$\n",
    "\n",
    "$q_C = 0$"
   ]
  },
  {
   "cell_type": "markdown",
   "id": "41b5d4af",
   "metadata": {
    "slideshow": {
     "slide_type": "slide"
    }
   },
   "source": [
    "### $B$: Isothermal Expansion"
   ]
  },
  {
   "cell_type": "markdown",
   "id": "f6a69063",
   "metadata": {
    "slideshow": {
     "slide_type": "fragment"
    }
   },
   "source": [
    "We want to compute $w_B$, $q_B$, $\\Delta U_B$, and $\\Delta H_B$ for a reversible isothermal expansion from $(V_2,P_2,T_2)$ to $(V_3,P_3,T_2)$.    "
   ]
  },
  {
   "cell_type": "markdown",
   "id": "c505696c",
   "metadata": {
    "slideshow": {
     "slide_type": "slide"
    }
   },
   "source": [
    "For an isothermal expansion/contraction of an ideal gas from $(V_2,P_2,T_2)$ to $(V_3,P_3,T_2)$:\n",
    "\n",
    "$\\Delta U_B = 0$\n",
    "\n",
    "$\\Delta H_B = 0$\n",
    "\n",
    "$w_B = nRT_2\\ln\\left(\\frac{V_2}{V_3}\\right)$\n",
    "\n",
    "$q_B = nRT_2\\ln\\left(\\frac{V_3}{V_2}\\right)$"
   ]
  },
  {
   "cell_type": "markdown",
   "id": "0ea96c8e",
   "metadata": {
    "slideshow": {
     "slide_type": "slide"
    }
   },
   "source": [
    "### $C$: Adiabatic Expansion"
   ]
  },
  {
   "cell_type": "markdown",
   "id": "51326d6d",
   "metadata": {
    "slideshow": {
     "slide_type": "fragment"
    }
   },
   "source": [
    "Compute $w_C$, $q_C$, $\\Delta U_C$, and $\\Delta H_C$ for adiabatic expansion starting from $(V_3,P_3,T_2)$ and ending at $(V_4,P_4,T_1)$.  "
   ]
  },
  {
   "cell_type": "markdown",
   "id": "bc6d3586",
   "metadata": {
    "slideshow": {
     "slide_type": "slide"
    }
   },
   "source": [
    "Equations and results are very comparable to process $A$ but one must be careful that we are starting at $(V_3,P_3,T_2)$ and ending at $(V_4,P_4,T_1)$.  \n",
    "\n",
    "$\\Delta U_C = C_V \\Delta T = \\frac{3}{2}nR(T_1-T_2)$\n",
    "\n",
    "$\\Delta H_C = C_P \\Delta T = \\frac{5}{2}nR(T_1-T_2)$\n",
    "\n",
    "$w_C = C_V \\Delta T = \\frac{3}{2}nR(T_1-T_2)$\n",
    "\n",
    "$q_C = 0$"
   ]
  },
  {
   "cell_type": "markdown",
   "id": "4e0030b2",
   "metadata": {
    "slideshow": {
     "slide_type": "slide"
    }
   },
   "source": [
    "### $D$: Isothermal Contraction"
   ]
  },
  {
   "cell_type": "markdown",
   "id": "c4fdb831",
   "metadata": {
    "slideshow": {
     "slide_type": "fragment"
    }
   },
   "source": [
    "We want to compute $w_D$, $q_D$, $\\Delta U_D$, and $\\Delta H_D$ for a reversible isothermal expansion from $(V_4,P_4,T_1)$ to $(V_1,P_1,T_1)$.  "
   ]
  },
  {
   "cell_type": "markdown",
   "id": "38b3e621",
   "metadata": {
    "slideshow": {
     "slide_type": "slide"
    }
   },
   "source": [
    "We will use the same equations as the isothermal expansion process but take care about the beginning and end points.\n",
    "\n",
    "$\\Delta U_D = 0$\n",
    "\n",
    "$\\Delta H_D = 0$\n",
    "\n",
    "$w_D = nRT_1\\ln\\left(\\frac{V_4}{V_1}\\right)$\n",
    "\n",
    "$q_D = nRT_1\\ln\\left(\\frac{V_1}{V_4}\\right)$"
   ]
  },
  {
   "cell_type": "markdown",
   "id": "bb5cbf2c",
   "metadata": {
    "slideshow": {
     "slide_type": "slide"
    }
   },
   "source": [
    "### Summary"
   ]
  },
  {
   "cell_type": "markdown",
   "id": "d8a8b8e6",
   "metadata": {
    "slideshow": {
     "slide_type": "fragment"
    }
   },
   "source": [
    "| Process                    | $w$                            | $q$                 | $\\Delta U$                 | $\\Delta H$\n",
    "| :------------------------- | :------------------------------------- | :------------------------------------- | :------------------------------------- | :------------------------------------- |\n",
    "| A - Adiabatic Contraction      | $\\frac{3}{2}nR(T_2-T_1)$                                    | $0$ | $\\frac{3}{2}nR(T_2-T_1)$             | $\\frac{5}{2}nR(T_2-T_1)$ |\n",
    "| B - Isothermal Expansion   | $nRT_2\\ln\\left(\\frac{V_2}{V_3}\\right)$ | $nRT_2\\ln\\left(\\frac{V_3}{V_2}\\right)$ | $0$                 | $0$ |\n",
    "| C - Adiabatic Expansion      | $\\frac{3}{2}nR(T_1-T_2)$                                     | $0$ | $\\frac{3}{2}nR(T_1-T_2)$                   | $\\frac{5}{2}nR(T_1-T_2)$ |\n",
    "| D - Isothermal Contraction | $nRT_1\\ln\\left(\\frac{V_4}{V_1}\\right)$ | $nRT_1\\ln\\left(\\frac{V_1}{V_4}\\right)$ | $0$ | $0$ |"
   ]
  },
  {
   "cell_type": "markdown",
   "id": "07a27df8",
   "metadata": {
    "slideshow": {
     "slide_type": "slide"
    }
   },
   "source": [
    "Totals:\n",
    "\n",
    "$w_{total} = \\frac{3}{2}nR(T_2-T_1) + nRT_2\\ln\\left(\\frac{V_2}{V_3}\\right)  + \\frac{3}{2}nR(T_1-T_2) +nRT_1\\ln\\left(\\frac{V_4}{V_1}\\right) $\n",
    "\n",
    "$ = nRT_2\\ln\\left(\\frac{V_2}{V_3}\\right)  + nRT_1\\ln\\left(\\frac{V_4}{V_1}\\right) $\n",
    "\n",
    "$q_{total} = nRT_2\\ln\\left(\\frac{V_3}{V_2}\\right)  + nRT_1\\ln\\left(\\frac{V_1}{V_4}\\right) $\n",
    "\n",
    "$\\Delta U_{total} = \\frac{3}{2}nR(T_2-T_1) + \\frac{3}{2}nR(T_1-T_2) =0 $\n",
    "\n",
    "$\\Delta H_{total} = \\frac{5}{2}nR(T_2-T_1) + \\frac{5}{2}nR(T_1-T_2) =0 $\n",
    "\n"
   ]
  },
  {
   "cell_type": "markdown",
   "id": "89e84953",
   "metadata": {
    "slideshow": {
     "slide_type": "slide"
    }
   },
   "source": [
    "### Relationship between $V_1$, $V_2$, $V_3$, $V_4$ "
   ]
  },
  {
   "cell_type": "markdown",
   "id": "e3419d9c",
   "metadata": {
    "slideshow": {
     "slide_type": "fragment"
    }
   },
   "source": [
    "We would like to know sign of $q$ and $w$.  In order to combine the two terms in each, we need to figure out the relationship between the ratios in the logarithms.  Because this cycle involves *isothermal* and *adiabatic* process, there are restrictions on the relationships between the four volumes.  We will attempt to determine the relationship between\n",
    "\n",
    "$\\frac{V_2}{V_3}$ and $\\frac{V_4}{V_1}$.  "
   ]
  },
  {
   "cell_type": "markdown",
   "id": "9794a319",
   "metadata": {
    "slideshow": {
     "slide_type": "slide"
    }
   },
   "source": [
    "The fact that processes $A$ and $D$ are adiabats puts restrictions on pressure and volume along those processes:\n",
    "\n",
    "$P_1V_1^{5/3} = P_2V_2^{5/3}$\n",
    "\n",
    "and\n",
    "\n",
    "$P_3V_3^{5/3} = P_4V_4^{5/3}$\n",
    "\n",
    "These equations can be rearragned to get\n",
    "\n",
    "$\\frac{P_1V_1^{5/3}}{P_2V_2^{5/3}} = \\frac{P_4V_4^{5/3}}{P_3V_3^{5/3}}$"
   ]
  },
  {
   "cell_type": "markdown",
   "id": "169fe439",
   "metadata": {
    "slideshow": {
     "slide_type": "slide"
    }
   },
   "source": [
    "Now rearrange to get the isothermal terms on same sides:\n",
    "\n",
    "$\\frac{P_1V_1^{5/3}}{P_4V_4^{5/3}} = \\frac{P_2V_2^{5/3}}{P_3V_3^{5/3}}$\n",
    "\n",
    "Because process $B$ is isothermal, we have $P_2V_2 = P_3V_3$ and because process $D$ is isothermal we have $P_1V_1 = P_4V_4$.\n",
    "\n",
    "$\\frac{P_1V_1V_1^{2/3}}{P_4V_4V_4^{2/3}} = \\frac{P_2V_2V_2^{2/3}}{P_3V_3V_3^{2/3}}$\n",
    "\n",
    "$\\Rightarrow \\frac{V_1^{2/3}}{V_4^{2/3}} = \\frac{V_2^{2/3}}{V_3^{2/3}}$\n",
    "\n",
    "or, simply,\n",
    "\n",
    "$\\frac{V_1}{V_4} = \\frac{V_2}{V_3}$"
   ]
  },
  {
   "cell_type": "markdown",
   "id": "57786157",
   "metadata": {
    "slideshow": {
     "slide_type": "slide"
    }
   },
   "source": [
    "Now to plug back into $w_{total}$ and $q_{total}$:\n",
    "\n",
    "\\begin{align}\n",
    "w_{total} =& nRT_2\\ln\\left(\\frac{V_2}{V_3}\\right)  + nRT_1\\ln\\left(\\frac{V_4}{V_1}\\right)\\\\\n",
    "& = nRT_2\\ln\\left(\\frac{V_1}{V_4}\\right)  + nRT_1\\ln\\left(\\frac{V_4}{V_1}\\right)\\\\ \n",
    "& = nR\\ln\\left(\\frac{V_1}{V_4}\\right)\\Delta T\n",
    "\\end{align}\n",
    "\n",
    "\\begin{align}\n",
    "q_{total} =& nRT_2\\ln\\left(\\frac{V_3}{V_2}\\right)  + nRT_1\\ln\\left(\\frac{V_1}{V_4}\\right) \\\\\n",
    " = & nRT_2\\ln\\left(\\frac{V_4}{V_1}\\right)  + nRT_1\\ln\\left(\\frac{V_1}{V_4}\\right) \\\\\n",
    " = & - nR\\ln\\left(\\frac{V_1}{V_4}\\right)\\Delta T \n",
    "\\end{align}"
   ]
  },
  {
   "cell_type": "markdown",
   "id": "77de18c7",
   "metadata": {
    "slideshow": {
     "slide_type": "slide"
    }
   },
   "source": [
    "### Sign of heat and work"
   ]
  },
  {
   "cell_type": "markdown",
   "id": "c5618e85",
   "metadata": {
    "slideshow": {
     "slide_type": "fragment"
    }
   },
   "source": [
    "$w_{total} < 0$ if ($\\Delta T < 0$ and $\\frac{V_1}{V_4} > 1$) OR ($\\Delta T > 0$ and $\\frac{V_1}{V_4} < 1$) $\\Rightarrow$ clockwise on PV diagram\n",
    "\n",
    "$w_{total} > 0$ if ($\\Delta T < 0$ and $\\frac{V_1}{V_4} < 1$) OR ($\\Delta T > 0$ and $\\frac{V_1}{V_4} > 1$) $\\Rightarrow$ counter-clockwise on PV diagram"
   ]
  },
  {
   "cell_type": "markdown",
   "id": "5990401b",
   "metadata": {
    "slideshow": {
     "slide_type": "slide"
    }
   },
   "source": [
    "### Efficiency"
   ]
  },
  {
   "cell_type": "markdown",
   "id": "da3ae037",
   "metadata": {},
   "source": [
    "For a heat engine ($w_{total}<0$), the efficiency is the amount of work extracted, $w_{total}$, divided by the energy in put, $q_{in}$.\n",
    "\n",
    "$\\varepsilon = \\frac{w_{total}}{q_{in}}$\n",
    "\n",
    "For the Carnot cycle, this becomes:\n",
    "\n",
    "$\\varepsilon = \\frac{T_h-T_c}{T_h}$"
   ]
  },
  {
   "cell_type": "code",
   "execution_count": 3,
   "id": "7b1591f0",
   "metadata": {},
   "outputs": [
    {
     "data": {
      "text/plain": [
       "10.666666666666666"
      ]
     },
     "execution_count": 3,
     "metadata": {},
     "output_type": "execute_result"
    }
   ],
   "source": [
    "2*16/3"
   ]
  }
 ],
 "metadata": {
  "celltoolbar": "Tags",
  "kernelspec": {
   "display_name": "Python 3",
   "language": "python",
   "name": "python3"
  },
  "language_info": {
   "codemirror_mode": {
    "name": "ipython",
    "version": 3
   },
   "file_extension": ".py",
   "mimetype": "text/x-python",
   "name": "python",
   "nbconvert_exporter": "python",
   "pygments_lexer": "ipython3",
   "version": "3.8.16"
  }
 },
 "nbformat": 4,
 "nbformat_minor": 5
}