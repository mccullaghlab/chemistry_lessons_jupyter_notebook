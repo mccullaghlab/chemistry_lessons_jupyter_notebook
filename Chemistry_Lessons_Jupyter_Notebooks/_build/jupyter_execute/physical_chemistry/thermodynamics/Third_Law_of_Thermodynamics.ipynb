{
 "cells": [
  {
   "cell_type": "code",
   "execution_count": 1,
   "metadata": {
    "slideshow": {
     "slide_type": "skip"
    }
   },
   "outputs": [],
   "source": [
    "import numpy as np\n",
    "import matplotlib.pyplot as plt\n",
    "%matplotlib inline\n",
    "import plotting as myplt"
   ]
  },
  {
   "cell_type": "markdown",
   "metadata": {
    "slideshow": {
     "slide_type": "slide"
    }
   },
   "source": [
    "# The Third Law of Thermodynamics"
   ]
  },
  {
   "cell_type": "markdown",
   "metadata": {
    "slideshow": {
     "slide_type": "fragment"
    }
   },
   "source": [
    "Statement of the third law:\n",
    "\n",
    "1.  Entropy of a pure solid approaches zero as temperature approaches zero.  "
   ]
  },
  {
   "cell_type": "markdown",
   "metadata": {
    "slideshow": {
     "slide_type": "slide"
    }
   },
   "source": [
    "## Learning goals\n",
    "\n",
    "After these notes, students should be able to:\n",
    "\n",
    "1. Compute the entropy change for a heating or cooling a substance with constant heat capacity\n",
    "2. Compute the entropy change for a heating or cooling a substance with temperature dependent heat capacity\n",
    "3. Compute the heat required to raise or lower the temperature of a substance with constant heat capacity\n",
    "4. Compute the heat required to raise or lower the temperature of a substance with temperature dependent heat capacity\n",
    "5. Compute the heat and entropy of a substance undergoing a phase change."
   ]
  },
  {
   "cell_type": "markdown",
   "metadata": {
    "slideshow": {
     "slide_type": "slide"
    }
   },
   "source": [
    "This allows us to define absolute entropies.  These are entropies of a substance as $T\\rightarrow 0$ K. Namely, we can define:\n",
    "\n",
    "\\begin{equation}\n",
    "S_T = S_0 + \\int_0^T\\frac{\\delta q}{T}\n",
    "\\end{equation}"
   ]
  },
  {
   "cell_type": "markdown",
   "metadata": {
    "slideshow": {
     "slide_type": "slide"
    }
   },
   "source": [
    "## Entropies and Heat of Condensed Phase Systems"
   ]
  },
  {
   "cell_type": "markdown",
   "metadata": {
    "slideshow": {
     "slide_type": "fragment"
    }
   },
   "source": [
    "So far we have been considering gas phase systems as examples in our section on Thermodynamics.  But, as systems approach $0$ K they are typically in the solid phase.  So how to we compute entropies of these types of systems?  A related question, how do we compute heat, $q$, required to achieve a certain process for condensed phase systems?"
   ]
  },
  {
   "cell_type": "markdown",
   "metadata": {
    "slideshow": {
     "slide_type": "slide"
    }
   },
   "source": [
    "### Example: Heating a solid with a constant heat capacity\n",
    "\n",
    "Compute the heat, $q$, and change in entropy, $\\Delta S$, to raise the temperature of a solid from $10$ K to $100$ K at constsant pressure given that $\\bar{C}_P = 50.0$ $J$ $K^{-1}$ $mol^{-1}$."
   ]
  },
  {
   "cell_type": "markdown",
   "metadata": {
    "slideshow": {
     "slide_type": "slide"
    }
   },
   "source": [
    "Recall that $\\Delta H = q_p$, so we need to compute the change in enthalpy at constant pressure.  We start by writing out the following differential form of enthalpy in terms of variables $T$ and $P$:\n",
    "\n",
    "\\begin{equation}\n",
    "dH = \\left(\\frac{\\partial H}{\\partial T}\\right)_P dT + \\left(\\frac{\\partial H}{\\partial P}\\right)_TdP\n",
    "\\end{equation}\n",
    "\n",
    "Since this is a constant pressure process, $dP=0$.  Thus, we now have:\n",
    "\n",
    "\\begin{align}\n",
    "dH =& \\left(\\frac{\\partial H}{\\partial T}\\right)dT \\\\\n",
    "\\Rightarrow \\Delta H =&\\int_{T_1}^{T_2} \\left(\\frac{\\partial H}{\\partial T}\\right)_P dT \\\\\n",
    "\\end{align}\n",
    "\n",
    "Notice that the integrand, $\\left(\\frac{\\partial H}{\\partial T}\\right)_P=C_P$, is the heat capacity at constant pressure."
   ]
  },
  {
   "cell_type": "markdown",
   "metadata": {
    "slideshow": {
     "slide_type": "slide"
    }
   },
   "source": [
    "We now plug in our values from the problem:\n",
    "\n",
    "\\begin{align}\n",
    "\\Delta H =&\\int_{T_1}^{T_2} \\left(\\frac{\\partial H}{\\partial T}\\right)_P dT \\\\\n",
    "=& \\int_{10}^{100} 50 dT \\\\\n",
    "=& 50 \\int_{10}^{100} dT \\\\\n",
    "=& 50\\cdot(100-10) \\\\\n",
    "=& 4500 \\quad J \\cdot mol^{-1} \\\\\n",
    "=& 4.5 \\quad kJ \\cdot mol^{-1} \\\\\n",
    "\\end{align}"
   ]
  },
  {
   "cell_type": "code",
   "execution_count": 2,
   "metadata": {
    "slideshow": {
     "slide_type": "fragment"
    }
   },
   "outputs": [
    {
     "data": {
      "text/plain": [
       "4500"
      ]
     },
     "execution_count": 2,
     "metadata": {},
     "output_type": "execute_result"
    }
   ],
   "source": [
    "50*(100-10)"
   ]
  },
  {
   "cell_type": "markdown",
   "metadata": {
    "slideshow": {
     "slide_type": "slide"
    }
   },
   "source": [
    "Now for change in entropy.  Again, we start with the differential form and then we are going to integrate:\n",
    "\n",
    "\\begin{align}\n",
    "dS =& \\frac{\\delta q_{rev}}{T} \\\\\n",
    "   =& \\frac{dH}{T}\n",
    "\\end{align}\n",
    "\n",
    "where the last equality holds for heat at constant pressure.  Now we plug in $dH = C_P dT$:\n",
    "\n",
    "\\begin{align}\n",
    "dS =& \\frac{C_P dT}{T} \\\\\n",
    "\\Rightarrow \\Delta S =& \\int_{T_1}^{T_2} \\frac{C_P dT}{T} = \\int_{T_1}^{T_2} \\frac{C_P}{T}dT\n",
    "\\end{align}\n",
    "\n",
    "Since heat capacity in this problem is temperature independent, it can be pulled out of the integral.\n",
    "\n",
    "\\begin{align}\n",
    "\\Delta S =& C_P \\int_{T_1}^{T_2} \\frac{dT}{T} \\\\\n",
    "=& C_P \\ln\\left( \\frac{T_2}{T_1}\\right) \\\\\n",
    "\\approx & 115 \\quad J\\cdot K^{-1} \\cdot mol^{-1} \n",
    "\\end{align}"
   ]
  },
  {
   "cell_type": "code",
   "execution_count": 3,
   "metadata": {
    "slideshow": {
     "slide_type": "fragment"
    }
   },
   "outputs": [
    {
     "data": {
      "text/plain": [
       "115.12925464970229"
      ]
     },
     "execution_count": 3,
     "metadata": {},
     "output_type": "execute_result"
    }
   ],
   "source": [
    "50*np.log(100/10)"
   ]
  },
  {
   "cell_type": "markdown",
   "metadata": {
    "slideshow": {
     "slide_type": "slide"
    }
   },
   "source": [
    "### Example: Heating a solid with a temperature dependent heat capacity\n",
    "\n",
    "Compute the heat, $q$, and change in entropy, $\\Delta S$, to raise the temperature of a solid from $10$ K to $100$ K at constsant pressure given that $\\bar{C}_P = 5.0\\cdot T^2$ $J$ $K^{-1}$ $mol^{-1}$."
   ]
  },
  {
   "cell_type": "markdown",
   "metadata": {
    "slideshow": {
     "slide_type": "slide"
    }
   },
   "source": [
    "Since the heat capacity is temperature dependent, we must take that into account when doing the integral to compute $q$. Start with the integral form of $q$:\n",
    "\n",
    "\\begin{align}\n",
    "q_P =& \\int_{T_1}^{T_2} C_P dT \\\\\n",
    "=& \\int_{T_1}^{T_2} 5.0 \\cdot T^2 dT \\\\\n",
    "=& 5.0 \\int_{T_1}^{T_2} T^2 dT \\\\\n",
    "=& 5.0 \\left(\\frac{T_2^3}{3}-\\frac{T_1^3}{3}\\right) \\\\\n",
    "=& \\frac{5}{3} \\left(100^3-10^3\\right) \\\\\n",
    "=& 1665000 \\quad J \\cdot mol^{-1} \\\\\n",
    "=& 1665 \\quad kJ \\cdot mol^{-1} \\\\\n",
    "\\end{align}"
   ]
  },
  {
   "cell_type": "code",
   "execution_count": 4,
   "metadata": {
    "slideshow": {
     "slide_type": "fragment"
    }
   },
   "outputs": [
    {
     "data": {
      "text/plain": [
       "1665000.0"
      ]
     },
     "execution_count": 4,
     "metadata": {},
     "output_type": "execute_result"
    }
   ],
   "source": [
    "5/3*(100**3-10**3)"
   ]
  },
  {
   "cell_type": "markdown",
   "metadata": {
    "slideshow": {
     "slide_type": "slide"
    }
   },
   "source": [
    "Now $\\Delta S$:\n",
    "\n",
    "\\begin{align}\n",
    "\\Delta S =& \\int_{T_1}^{T_2} \\frac{C_P dT}{T} \\\\\n",
    "=& \\int_{T_1}^{T_2} \\frac{5.0\\cdot T^2 dT}{T} \\\\\n",
    "=& 5.0 \\int_{T_1}^{T_2}  T dT \\\\\n",
    "=& 5.0 \\left(\\frac{T_2^2}{2}-\\frac{T_1^2}{2} \\right) \\\\\n",
    "=& \\frac{5}{2} \\left(100^2-10^2\\right) \\\\\n",
    "=& 24750 \\quad J\\cdot K^{-1} \\cdot mol^{-1} \\\\\n",
    "=& 24.75 \\quad kJ\\cdot K^{-1} \\cdot mol^{-1}\n",
    "\\end{align}"
   ]
  },
  {
   "cell_type": "code",
   "execution_count": 5,
   "metadata": {
    "slideshow": {
     "slide_type": "fragment"
    }
   },
   "outputs": [
    {
     "data": {
      "text/plain": [
       "24750.0"
      ]
     },
     "execution_count": 5,
     "metadata": {},
     "output_type": "execute_result"
    }
   ],
   "source": [
    "5/2*(100**2-10**2)"
   ]
  },
  {
   "cell_type": "markdown",
   "metadata": {
    "slideshow": {
     "slide_type": "slide"
    }
   },
   "source": [
    "## Entropies and Heat of Phase Changes"
   ]
  },
  {
   "cell_type": "markdown",
   "metadata": {
    "slideshow": {
     "slide_type": "fragment"
    }
   },
   "source": [
    "The previous examples assumed that the system/material remained in the same phase during the heating process.  We would like to, however, be able to compute how much heat is required to melt or vaporize a substance too.  We would also like to know the change in entropy in doing so. "
   ]
  },
  {
   "cell_type": "markdown",
   "metadata": {
    "slideshow": {
     "slide_type": "slide"
    }
   },
   "source": [
    "### Example - Entropy and Heat of Phase Change\n",
    "\n",
    "Compute the heat required, $q$, and change in entropy, $\\Delta S$, to take a substance from $90$ K to $110$ K under constant pressure conditions.  The melting temperature of the substance is $100$ K and the heat of fusion is $\\Delta H_{fusion} = 0.25 $ $kJ/mol$.  Additionally, the heat capacity of the solid is $\\bar{C}_{P,s} = 30$ $J/(K\\cdot mol)$ and the heat capacity of the liquid is $\\bar{C}_{P,l} = 15$ $J/(K\\cdot mol)$"
   ]
  },
  {
   "cell_type": "code",
   "execution_count": 6,
   "metadata": {
    "slideshow": {
     "slide_type": "skip"
    }
   },
   "outputs": [],
   "source": [
    "def plot_Cp_v_T(Ts,Cps,Tf,Tl,Cpl):\n",
    "    fig, ax = myplt.define_figure(xlabel=\"T (K)\",ylabel=\"C$_P$ (J/mol/K)\")\n",
    "    ax.plot(Ts,Cps*np.ones(Ts.size),lw=3,label=\"Solid\")\n",
    "    ax.plot(Tl,Cpl*np.ones(Tl.size),lw=3,label=\"Liquid\")\n",
    "    ax.set_ylim(0,31)\n",
    "    plt.legend(fontsize=16)"
   ]
  },
  {
   "cell_type": "code",
   "execution_count": 7,
   "metadata": {
    "slideshow": {
     "slide_type": "slide"
    }
   },
   "outputs": [
    {
     "data": {
      "image/png": "[encoded data removed]",
      "text/plain": [
       "<Figure size 800x640 with 1 Axes>"
      ]
     },
     "metadata": {
      "filenames": {
       "image/png": "/Users/mmccull/Dropbox/work/chemistry_lessons_jupyter_notebook/Chemistry_Lessons_Jupyter_Notebooks/_build/jupyter_execute/physical_chemistry/thermodynamics/Third_Law_of_Thermodynamics_22_0.png"
      }
     },
     "output_type": "display_data"
    }
   ],
   "source": [
    "plot_Cp_v_T(np.arange(90,100,0.1),30,100,np.arange(100,110,0.1),15)"
   ]
  },
  {
   "cell_type": "markdown",
   "metadata": {
    "slideshow": {
     "slide_type": "fragment"
    }
   },
   "source": [
    "The above is a plot of $C_P$ as a function of $T$.  We see that there is a discontinuity at $T=100$ K, the melting temperature of this substance."
   ]
  },
  {
   "cell_type": "markdown",
   "metadata": {
    "slideshow": {
     "slide_type": "slide"
    }
   },
   "source": [
    "We start as we did before by writing down the integral form of $q$ or $\\Delta H$\n",
    "\n",
    "\\begin{align}\n",
    "q_P= \\Delta H =&\\int_{T_1}^{T_2} \\left(\\frac{\\partial H}{\\partial T}\\right)_P dT \\\\\n",
    "=& \\int_{T_1}^{T_2} C_P dT \\\\\n",
    "\\end{align}\n",
    "\n",
    "Since the heat capacities change at the melting temperature, there is a discontinuity in the function $C_p(T)$.  In order to account for this in the above integral, we must split the integral into two parts.\n",
    "\n",
    "\\begin{align}\n",
    "q_P= \\Delta H =& \\int_{T_1}^{T_2} C_P dT \\\\\n",
    "=& \\int_{90}^{100} C_{P,s} dT + \\int_{100}^{110} C_{P,l} dT + \\Delta H_{fusion}\n",
    "\\end{align}\n",
    "\n",
    "Note that we have to add $\\Delta H_{fusion}$.  You can essentially think of this as the integral evaluated at $T=T_{melt}$. Now, since both heat capacities are constant w.r.t. $T$, we get:\n",
    "\n",
    "\\begin{align}\n",
    "q_P= \\Delta H =& \\int_{T_1}^{T_2} C_P dT \\\\\n",
    "=& C_{P,s}\\Delta T_s + \\Delta H_{fusion} + C_{P,l}\\Delta T_l\n",
    "\\end{align}"
   ]
  },
  {
   "cell_type": "code",
   "execution_count": 8,
   "metadata": {
    "slideshow": {
     "slide_type": "skip"
    }
   },
   "outputs": [],
   "source": [
    "def plot_q_v_T(Ts,Cps,Tf,dHf,Tl,Cpl,Ti):\n",
    "    fig, ax = myplt.define_figure(xlabel=\"T (K)\",ylabel=\"q (J/mol)\")\n",
    "    ax.plot(Ts,Cps*(Ts-Ti),lw=3,label=\"Solid\")\n",
    "    ax.plot(Tf*np.ones(100),np.arange(Cps*(Tf-Ti),Cps*(Tf-Ti)+dHf,dHf/100.0),lw=3,label=\"Fusion (Melting)\")\n",
    "    ax.plot(Tl,Cpl*(Tl-Ti)+Cps*(Tf-Ti)+dHf-Cpl*(Tf-Ti),lw=3,label=\"Liquid\")\n",
    "    plt.legend(fontsize=16)"
   ]
  },
  {
   "cell_type": "code",
   "execution_count": 9,
   "metadata": {
    "slideshow": {
     "slide_type": "slide"
    }
   },
   "outputs": [
    {
     "data": {
      "image/png": "[encoded data removed]",
      "text/plain": [
       "<Figure size 800x640 with 1 Axes>"
      ]
     },
     "metadata": {
      "filenames": {
       "image/png": "/Users/mmccull/Dropbox/work/chemistry_lessons_jupyter_notebook/Chemistry_Lessons_Jupyter_Notebooks/_build/jupyter_execute/physical_chemistry/thermodynamics/Third_Law_of_Thermodynamics_26_0.png"
      }
     },
     "output_type": "display_data"
    }
   ],
   "source": [
    "plot_q_v_T(np.arange(90,100,0.1),30,100,250,np.arange(100,110,0.1),15,90)"
   ]
  },
  {
   "cell_type": "markdown",
   "metadata": {
    "slideshow": {
     "slide_type": "fragment"
    }
   },
   "source": [
    "The above is a plot pf $q(T)$.  The amount of heat required to raise the temperature of the solid increases steadily from $90$ K to $100$ K and the slope is $C_{P,s}=30$ $J/mol/K$.  The vertical increase in the amount of heat required to raise the temperature above $100$ K is due to the melting of the substance at this temperature.  Melting requires an input of heat distinct from the heat capacities. The amount of heat required to raise the temperature of the liquid increases steadily from $100$ K to $110$ K and the slope is $C_{P,s}=15$ $J/mol/K$."
   ]
  },
  {
   "cell_type": "markdown",
   "metadata": {
    "slideshow": {
     "slide_type": "slide"
    }
   },
   "source": [
    "Now, to wrap up $q$ we simply plug in our numbers.  Be careful about units!\n",
    "\n",
    "\\begin{align}\n",
    "q_P =& C_{P,s}\\Delta T_s + \\Delta H_{fusion} + C_{P,l}\\Delta T_l \\\\\n",
    "=& 30\\cdot(100-90) \\quad J/mol \\quad + 0.25 \\quad kJ/mol \\quad + 15\\cdot(110-100) \\quad J/mol \\\\\n",
    "=& 300 \\quad J/mol \\quad + 250 \\quad J/mol \\quad + 150 \\quad J/mol \\\\\n",
    "=& 700 \\quad J/mol\n",
    "\\end{align}"
   ]
  },
  {
   "cell_type": "code",
   "execution_count": 10,
   "metadata": {
    "slideshow": {
     "slide_type": "fragment"
    }
   },
   "outputs": [
    {
     "data": {
      "text/plain": [
       "700"
      ]
     },
     "execution_count": 10,
     "metadata": {},
     "output_type": "execute_result"
    }
   ],
   "source": [
    "30*(100-90) + 250 + 15*(110-100)"
   ]
  },
  {
   "cell_type": "markdown",
   "metadata": {
    "slideshow": {
     "slide_type": "slide"
    }
   },
   "source": [
    "What about $\\Delta S$?  Again, we start with the integral form and split the integral over the discontuity:\n",
    "\n",
    "\\begin{align}\n",
    "\\Delta S =& \\int_{T_1}^{T_2} \\frac{C_P}{T}dT \\\\\n",
    "=& \\int_{90}^{100} \\frac{C_{P,s}}{T}dT + \\frac{\\Delta H_{fusion}}{T} + \\int_{100}^{110} \\frac{C_{P,l}}{T}dT\\\\\n",
    "=& 30\\ln\\left(\\frac{100}{90}\\right) \\quad J/mol/K \\quad + \\frac{250}{100} \\quad J/mol/K \\quad + 15\\ln\\left(\\frac{110}{100}\\right) \\quad J/mol/K \\\\\n",
    "\\approx& 7.09 \\quad J/mol/K\n",
    "\\end{align}"
   ]
  },
  {
   "cell_type": "code",
   "execution_count": 11,
   "metadata": {
    "slideshow": {
     "slide_type": "fragment"
    }
   },
   "outputs": [
    {
     "data": {
      "text/plain": [
       "7.090468166799665"
      ]
     },
     "execution_count": 11,
     "metadata": {},
     "output_type": "execute_result"
    }
   ],
   "source": [
    "30*np.log(100/90) + 250/100 + 15*np.log(110/100)"
   ]
  }
 ],
 "metadata": {
  "celltoolbar": "Slideshow",
  "kernelspec": {
   "display_name": "Python 3",
   "language": "python",
   "name": "python3"
  },
  "language_info": {
   "codemirror_mode": {
    "name": "ipython",
    "version": 3
   },
   "file_extension": ".py",
   "mimetype": "text/x-python",
   "name": "python",
   "nbconvert_exporter": "python",
   "pygments_lexer": "ipython3",
   "version": "3.8.8"
  }
 },
 "nbformat": 4,
 "nbformat_minor": 4
}