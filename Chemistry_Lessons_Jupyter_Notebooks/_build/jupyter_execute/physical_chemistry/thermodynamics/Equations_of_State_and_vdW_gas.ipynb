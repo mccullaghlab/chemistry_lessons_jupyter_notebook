{
 "cells": [
  {
   "cell_type": "markdown",
   "id": "suitable-elder",
   "metadata": {
    "slideshow": {
     "slide_type": "slide"
    }
   },
   "source": [
    "## Equations of State"
   ]
  },
  {
   "cell_type": "markdown",
   "id": "incomplete-accounting",
   "metadata": {
    "slideshow": {
     "slide_type": "fragment"
    }
   },
   "source": [
    "An equation of state is a function that relates all intensive state functions of a system."
   ]
  },
  {
   "cell_type": "markdown",
   "id": "mineral-wrapping",
   "metadata": {
    "slideshow": {
     "slide_type": "slide"
    }
   },
   "source": [
    "### Ideal Gas as an example"
   ]
  },
  {
   "cell_type": "markdown",
   "id": "literary-fifty",
   "metadata": {
    "slideshow": {
     "slide_type": "fragment"
    }
   },
   "source": [
    "The ideal gas law is the most common example of an equation of state.  The equation is typically written as\n",
    "\n",
    "$PV = nRT$,\n",
    "\n",
    "where $P$ is the pressure, $V$ is the volume, $n$ is the number of moles, $R$ is the universal gas constant, and $T$ is the temperature of the system.  Note that $P$ and $T$ are intensive variables while $n$ and $V$ are extensive variables."
   ]
  },
  {
   "cell_type": "markdown",
   "id": "lesbian-authority",
   "metadata": {
    "slideshow": {
     "slide_type": "slide"
    }
   },
   "source": [
    "### An aside: extensive and intensive variables"
   ]
  },
  {
   "cell_type": "markdown",
   "id": "varying-savannah",
   "metadata": {
    "slideshow": {
     "slide_type": "fragment"
    }
   },
   "source": [
    "An ***extensive*** variable is one that is proportional to the system size (e.g. volume, number of moles, mass)\n",
    "\n",
    "An ***intensive*** variable is one that is *not* proportional so the system size (e.g. pressure, temperature, density)\n",
    "\n",
    "An extensive variable can be made into an intensive variable by dividing by number of particles/moles."
   ]
  },
  {
   "cell_type": "markdown",
   "id": "disciplinary-sarah",
   "metadata": {
    "slideshow": {
     "slide_type": "slide"
    }
   },
   "source": [
    "An equation of state relates all of the ***intensive*** properties of a system and yet the ideal gas law contains bouth $V$ and $n$ which are ***extensive***.  We can divide both sides of the ideal gas law by $V$ and get\n",
    "\n",
    "$ P = \\frac{nRT}{V}$\n",
    "\n",
    "$\\Rightarrow P = \\rho RT$\n",
    "\n",
    "where $\\rho=\\frac{n}{V}$ is the volume density (e.g. moles per liter) of particles and is an ***intensive*** variable.  This form of the ideal gas law relates only intensive variables of the system."
   ]
  },
  {
   "cell_type": "markdown",
   "id": "threatened-bangladesh",
   "metadata": {
    "slideshow": {
     "slide_type": "slide"
    }
   },
   "source": [
    "### State functions are only known for a select few systems"
   ]
  },
  {
   "cell_type": "markdown",
   "id": "occupational-bankruptcy",
   "metadata": {
    "slideshow": {
     "slide_type": "fragment"
    }
   },
   "source": [
    "Knowing these functions is necessary to compute the thermodynamic energy functions (for example what we did for the ideal gas and $\\Delta U$).  These are only known for select systems.  Here are some examples:\n",
    "\n",
    "$P(V-nb) = nRT$  - hard spheres\n",
    "\n",
    "$(P+\\frac{n^2a}{V^2})(V-nb) = nRT$  - Van der Waals gas\n",
    "\n",
    "$(P + \\frac{n^2a}{TV^2})(V-nb) = nRT$ - Berthdot gas\n",
    "\n",
    "where $a$ and $b$ are constants for specific gasses. $a$ represents the attraction between particles and $b$ represents the finite volume of particles."
   ]
  },
  {
   "cell_type": "markdown",
   "id": "facial-scottish",
   "metadata": {
    "slideshow": {
     "slide_type": "slide"
    }
   },
   "source": [
    "## VdW Gas"
   ]
  },
  {
   "cell_type": "markdown",
   "id": "entertaining-raise",
   "metadata": {
    "slideshow": {
     "slide_type": "fragment"
    }
   },
   "source": [
    "How does changing the equation of state affect the work done during a process?  For this, we will investigate a VdW gas in expansion/contraction processes and compare to our previous results for an ideal gas."
   ]
  },
  {
   "cell_type": "markdown",
   "id": "initial-produce",
   "metadata": {
    "slideshow": {
     "slide_type": "slide"
    }
   },
   "source": [
    "### The problem"
   ]
  },
  {
   "cell_type": "markdown",
   "id": "noticed-individual",
   "metadata": {
    "slideshow": {
     "slide_type": "fragment"
    }
   },
   "source": [
    "Compute the work required to compress $n$ moles of a VdW gas from $V_1$ to $V_2$ in the following processes:\n",
    "\n",
    "(i) Reversibly and isothermally\n",
    "\n",
    "(ii) Against a constant external pressure, $P_{ext}$."
   ]
  },
  {
   "cell_type": "markdown",
   "id": "owned-square",
   "metadata": {
    "slideshow": {
     "slide_type": "slide"
    }
   },
   "source": [
    "### (i) Reversibly and isothermally"
   ]
  },
  {
   "cell_type": "markdown",
   "id": "multiple-plant",
   "metadata": {
    "slideshow": {
     "slide_type": "fragment"
    }
   },
   "source": [
    "Compute the work to compress $n$ moles of a VdW gas from $V_1$ to $V_2$ during a reversible isothermal process.  Start with \n",
    "\n",
    "$w = -\\int_{V_1}^{V_2} P_{ext}dV$.\n",
    "\n",
    "We now utilize that the process is done reversibly and thus $P_{ext}=P_{sys}$ every step along the path.  Thus\n",
    "\n",
    "$w = -\\int_{V_1}^{V_2} P_{sys}dV$."
   ]
  },
  {
   "cell_type": "markdown",
   "id": "disturbed-breathing",
   "metadata": {
    "slideshow": {
     "slide_type": "slide"
    }
   },
   "source": [
    "We can now use the equation of state of the system and plug in for $P_{sys}$.  First we will need to rearrange the VdW equation of state to have pressure on one side:\n",
    "\n",
    "$(P_{sys}+\\frac{n^2a}{V^2})(V-nb) = nRT$ \n",
    "\n",
    "$\\Rightarrow P_{sys}+\\frac{n^2a}{V^2} = \\frac{nRT}{V-nb}$\n",
    "\n",
    "$\\Rightarrow P_{sys} = \\frac{nRT}{V-nb} - \\frac{n^2a}{V^2}$"
   ]
  },
  {
   "cell_type": "markdown",
   "id": "unsigned-intervention",
   "metadata": {
    "slideshow": {
     "slide_type": "slide"
    }
   },
   "source": [
    "Now we will plug in $P$ into the equation for work:\n",
    "\n",
    "$w = -\\int_{V_1}^{V_2} P_{sys}dV$\n",
    "\n",
    "$ = -\\int_{V_1}^{V_2} \\left[ \\frac{nRT}{V-nb} - \\frac{n^2a}{V^2} \\right]dV$\n",
    "\n",
    "$ = -\\int_{V_1}^{V_2} \\frac{nRT}{V-nb}dV + \\int_{V_1}^{V_2} \\frac{n^2a}{V^2} dV$\n",
    "\n",
    "Since the process is isothermal, $T$ is constant.  $n$, $a$ and $b$ are also constant.  Thus, \n",
    "\n",
    "$w = -nRT\\int_{V_1}^{V_2} \\frac{1}{V-nb}dV + n^2a\\int_{V_1}^{V_2} \\frac{1}{V^2} dV$"
   ]
  },
  {
   "cell_type": "markdown",
   "id": "alternate-tourism",
   "metadata": {
    "slideshow": {
     "slide_type": "slide"
    }
   },
   "source": [
    "We now solve the integrals from $V_1$ to $V_2$:\n",
    "\n",
    "$w = -nRT\\ln\\left( \\frac{V_2-nb}{V_1-nb}\\right) - n^2a\\left[\\frac{1}{V_2}-\\frac{1}{V_2}\\right]$\n",
    "\n",
    "where I used that \n",
    "\n",
    "$\\int\\frac{1}{V-nb}dV = \\ln(V-nb) + C$\n",
    "\n",
    "and\n",
    "\n",
    "$\\int\\frac{1}{V^2} dV = -\\frac{1}{V} + C$"
   ]
  },
  {
   "cell_type": "markdown",
   "id": "innovative-paper",
   "metadata": {
    "slideshow": {
     "slide_type": "slide"
    }
   },
   "source": [
    "### (ii) Against a constant external pressure"
   ]
  },
  {
   "cell_type": "markdown",
   "id": "miniature-connectivity",
   "metadata": {
    "slideshow": {
     "slide_type": "fragment"
    }
   },
   "source": [
    "Compute the work to compress $n$ moles of a VdW gas from $V_1$ to $V_2$ by a constant external pressure, $P_{ext}$.  Start with \n",
    "\n",
    "$w = -\\int_{V_1}^{V_2} P_{ext}dV$.\n",
    "\n",
    "Since $P_{ext}=constant$, we can pull it out of the integral and get\n",
    "\n",
    "$w = -P_{ext}\\int_{V_1}^{V_2} dV = -P_{ext}\\Delta V$."
   ]
  },
  {
   "cell_type": "markdown",
   "id": "public-baghdad",
   "metadata": {
    "slideshow": {
     "slide_type": "slide"
    }
   },
   "source": [
    "Since $P_{ext}$ will have to be equal to $P_{sys}$ at the end of the process, we can write:\n",
    "\n",
    "$w  = -P_{2}\\Delta V$\n",
    "\n",
    "$ = -\\left(\\frac{nRT_2}{V_2-nb} - \\frac{n^2a}{V_2^2}\\right)\\Delta V$"
   ]
  }
 ],
 "metadata": {
  "celltoolbar": "Slideshow",
  "kernelspec": {
   "display_name": "Python 3",
   "language": "python",
   "name": "python3"
  },
  "language_info": {
   "codemirror_mode": {
    "name": "ipython",
    "version": 3
   },
   "file_extension": ".py",
   "mimetype": "text/x-python",
   "name": "python",
   "nbconvert_exporter": "python",
   "pygments_lexer": "ipython3",
   "version": "3.8.8"
  }
 },
 "nbformat": 4,
 "nbformat_minor": 5
}