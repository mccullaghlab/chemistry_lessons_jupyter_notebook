{
 "cells": [
  {
   "cell_type": "markdown",
   "id": "7d83979a",
   "metadata": {},
   "source": [
    "# Chemical Equilibrium"
   ]
  },
  {
   "cell_type": "markdown",
   "id": "6e10bc85",
   "metadata": {},
   "source": [
    "## Motivation"
   ]
  },
  {
   "cell_type": "markdown",
   "id": "ee722fa2",
   "metadata": {},
   "source": [
    "## Learning Goals"
   ]
  },
  {
   "cell_type": "markdown",
   "id": "ae790614",
   "metadata": {},
   "source": [
    "## Coding Concepts"
   ]
  },
  {
   "cell_type": "markdown",
   "id": "0a62cb3b",
   "metadata": {},
   "source": []
  }
 ],
 "metadata": {
  "kernelspec": {
   "display_name": "Python 3",
   "language": "python",
   "name": "python3"
  },
  "language_info": {
   "codemirror_mode": {
    "name": "ipython",
    "version": 3
   },
   "file_extension": ".py",
   "mimetype": "text/x-python",
   "name": "python",
   "nbconvert_exporter": "python",
   "pygments_lexer": "ipython3",
   "version": "3.8.8"
  }
 },
 "nbformat": 4,
 "nbformat_minor": 5
}