{
 "cells": [
  {
   "cell_type": "markdown",
   "id": "7d83979a",
   "metadata": {},
   "source": [
    "# Chemical Equilibrium"
   ]
  },
  {
   "cell_type": "markdown",
   "id": "6e10bc85",
   "metadata": {},
   "source": [
    "## Motivation\n",
    "\n",
    "The application of Thermodynamics to chemical equilibrium is one of the most important outcomes in this class.  We will like to not only predict whether a reaction happens but rather how much product is formed and how that varies with parameters such as temperature and pressure.  "
   ]
  },
  {
   "cell_type": "markdown",
   "id": "ee722fa2",
   "metadata": {},
   "source": [
    "## Learning Goals\n",
    "\n",
    "After working through these notes, you will be able to:\n",
    "\n",
    "1. Express the Gibbs free energy of a reaction in terms of the extent of reaction ($\\xi$)\n",
    "2. Express the relationship between the standard Gibbs free energy of reaction and the equilibrium constant\n",
    "3. Express the relationship between the Gibbs free energy of reaction and the reaction quotient\n",
    "4. Use $G(\\xi)$ to determine $\\xi$ at equilibrium\n",
    "5. Van't Hoff"
   ]
  },
  {
   "cell_type": "markdown",
   "id": "ae790614",
   "metadata": {},
   "source": [
    "## Coding Concepts\n",
    "\n",
    "The following coding concepts are used in this notebook:\n",
    "\n",
    "1. [Variables](../../coding_concepts/variables.ipynb)\n",
    "2. [Functions](../../coding_concepts/functions.ipynb)\n",
    "3. [Plotting with matplotlib](../../coding_concepts/plotting_with_matplotlib.pyplot)"
   ]
  },
  {
   "cell_type": "markdown",
   "id": "0a62cb3b",
   "metadata": {},
   "source": [
    "## Chemical Equilibrium"
   ]
  },
  {
   "cell_type": "markdown",
   "id": "afdb2019",
   "metadata": {},
   "source": [
    "Here we consider chemical reactions such as \n",
    "\\begin{equation}\n",
    "v_A A(g) + v_B B(g) \\rightleftharpoons v_yY(g) + v_z Z(g)\n",
    "\\end{equation}\n",
    "We define a quantity, $\\xi$, called the extent of reaction, such that the number of moles of the reactants and products are given by\n",
    "\\begin{eqnarray}\n",
    "n_A &=& n_{A0} - v_A\\xi\\\\\n",
    "n_B &=& n_{B0} - v_B\\xi\\\\\n",
    "n_Y &=& n_{Y0} + v_Y\\xi\\\\\n",
    "n_Z &=& n_{Z0} + v_Z\\xi\n",
    "\\end{eqnarray}\n",
    "where $n_{A0}$ is the initial number of moles of species $A$.  \n",
    "\n",
    "If we take the differential of both sides we get\n",
    "\\begin{eqnarray}\n",
    "dn_A &=& - v_Ad\\xi\\\\\n",
    "dn_B &=& - v_Bd\\xi\\\\\n",
    "dn_Y &=& v_Yd\\xi\\\\\n",
    "dn_Z &=& v_Zd\\xi\n",
    "\\end{eqnarray}\n",
    "\n",
    "The differential of Gibbs free energy at constant $T$ and $P$ is\n",
    "\\begin{eqnarray}\n",
    "dG &=& \\mu_Adn_A + \\mu_Bdn_B + \\mu_Ydn_Y  + \\mu_Zdn_Z \\\\\n",
    "&=& (-v_A\\mu_A  0 v_B\\mu_B + v_Y\\mu_Y  + v_Z\\mu_Z)d\\xi \\\\\n",
    "\\end{eqnarray}\n",
    "or \n",
    "\\begin{equation}\n",
    "\\left( \\frac{\\partial G}{\\partial \\xi} \\right)_{T,P} = (v_Y\\mu_Y  + v_Z\\mu_Z - v_A\\mu_A  - v_B\\mu_B)\n",
    "\\end{equation}\n",
    "The above equation is defined as the change in free energy of reaction, $\\Delta \\bar{G}_{rxn}$."
   ]
  },
  {
   "cell_type": "markdown",
   "id": "f9904d62",
   "metadata": {},
   "source": [
    "If we assume each component acts as an ideal gas we get\n",
    "\\begin{eqnarray}\n",
    "\\Delta \\bar{G}_{rxn} &=& v_Y\\mu^\\circ_Y(T) + v_Z\\mu^\\circ_Z(T)RT - v_A\\mu^\\circ_A(T) - v_B\\mu^\\circ_B(T) + \\left( v_Y\\ln\\frac{P_Y}{P^0} + v_Z\\ln\\frac{P_Z}{P^0} - v_A\\ln\\frac{P_A}{P^0} - v_B\\ln\\frac{P_B}{P^0} \\right) \\\\\n",
    "&=& \\Delta \\bar{G}^0 + RT\\ln Q\n",
    "\\end{eqnarray}\n",
    "\n",
    "At equilibrium we have that $\\Delta\\bar{G}_{rxn}=0$ which yields\n",
    "\\begin{equation}\n",
    "\\Delta \\bar{G}^0 = - RT\\ln K_{eq}\n",
    "\\end{equation}"
   ]
  },
  {
   "cell_type": "markdown",
   "id": "3600f1a1",
   "metadata": {},
   "source": [
    "## dG = 0 at Equilibrium"
   ]
  },
  {
   "cell_type": "markdown",
   "id": "5bbad5d8",
   "metadata": {},
   "source": [
    "Consider the example equilibrium maintained at 298.15 K and at 1 bar of pressure\n",
    "\\begin{equation}\n",
    "N_2O_4(g) \\rightleftharpoons 2NO_2(g)\n",
    "\\end{equation}\n",
    "\n",
    "If we start with 1 mole of reactants, we can write the extent of reaction as\n",
    "\\begin{eqnarray}\n",
    "n_{N_2O_4} &=& 1 - \\xi \\\\\n",
    "n_{NO_2} &=& 2\\xi\n",
    "\\end{eqnarray}\n",
    "\n",
    "This allows us to write the Gibbs energy as a function of $\\xi$:\n",
    "\\begin{eqnarray}\n",
    "G &=& n_{N_2O_4}\\bar{\\mu}_{N_2O_4} + n_{NO_2}\\bar{\\mu}_{NO_2} \\\\\n",
    "\\Rightarrow G(\\xi) &=& (1-\\xi)\\bar{\\mu}_{N_2O_4} + 2\\xi\\bar{\\mu}_{NO_2}\\\\\n",
    "&=& (1-\\xi)\\left( \\bar{\\mu}^\\circ_{N_2O_4} +RT\\ln P_{N_2O_4}\\right) + 2\\xi\\left( \\bar{\\mu}^\\circ_{NO_2} +RT\\ln P_{NO_2}\\right) \\\\\n",
    "&=& (1-\\xi)\\bar{\\mu}^\\circ_{N_2O_4} + 2\\xi\\bar{\\mu}^\\circ_{NO_2} + (1-\\xi)RT\\ln P_{N_2O_4} + 2\\xi RT\\ln P_{NO_2}\n",
    "\\end{eqnarray}\n",
    "where we have assumed that each gas is ideal.\n",
    "\n",
    "Since the reaction is carred out a constant pressure of $P=1$ bar and we have already assumed each gas is ideal, it follows that\n",
    "\\begin{eqnarray}\n",
    "P_{N_2O_4} &=& x_{N_2O_4} \\\\\n",
    "P_{NO_2} &=& x_{NO_2}\n",
    "\\end{eqnarray}\n",
    "The total number of moles is fixed so that we have \n",
    "\\begin{eqnarray}\n",
    "P_{N_2O_4} &=& x_{N_2O_4} = \\frac{1-\\xi}{1+\\xi} \\\\\n",
    "P_{NO_2} &=& x_{NO_2} = \\frac{2\\xi}{1+\\xi}\n",
    "\\end{eqnarray}\n",
    "\n",
    "Additionally, we will use that $\\bar{\\mu}^\\circ_{N_2O_4} = \\Delta G^\\circ_f = 97.87$ kJ$\\cdot$mol$^{-1}$ and $\\bar{\\mu}^\\circ_{NO_2} = \\Delta G^\\circ_f = 51.258$ kJ$\\cdot$mol$^{-1}$.\n",
    "\n",
    "Plugging these into the equation for $G(\\xi)$ we get\n",
    "\\begin{eqnarray}\n",
    "G(\\xi) &=& (1-\\xi)\\Delta G^\\circ_{f,N_2O_4} + 2\\xi\\Delta G^\\circ_{f,NO_2} + (1-\\xi)RT\\ln \\frac{1-\\xi}{1+\\xi} + 2\\xi RT\\ln \\frac{2\\xi}{1+\\xi}\n",
    "\\end{eqnarray}\n",
    "\n",
    "This function is plotted below."
   ]
  },
  {
   "cell_type": "code",
   "execution_count": 1,
   "id": "c48ebb7f",
   "metadata": {},
   "outputs": [],
   "source": [
    "# define G function\n",
    "import numpy as np\n",
    "R = 8.314/1000\n",
    "T = 298.15\n",
    "def G(xi):\n",
    "    return (1-xi)*97.87+2*xi*51.258 + (1-xi)*R*T*np.log((1-xi)/(1+xi)) + 2*xi*R*T*np.log(2*xi/(1+xi))"
   ]
  },
  {
   "cell_type": "code",
   "execution_count": 2,
   "id": "70ecdf05",
   "metadata": {},
   "outputs": [
    {
     "name": "stderr",
     "output_type": "stream",
     "text": [
      "<ipython-input-1-a6c498485ce4>:6: RuntimeWarning: divide by zero encountered in log\n",
      "  return (1-xi)*97.87+2*xi*51.258 + (1-xi)*R*T*np.log((1-xi)/(1+xi)) + 2*xi*R*T*np.log(2*xi/(1+xi))\n",
      "<ipython-input-1-a6c498485ce4>:6: RuntimeWarning: invalid value encountered in multiply\n",
      "  return (1-xi)*97.87+2*xi*51.258 + (1-xi)*R*T*np.log((1-xi)/(1+xi)) + 2*xi*R*T*np.log(2*xi/(1+xi))\n"
     ]
    },
    {
     "data": {
      "text/plain": [
       "[<matplotlib.lines.Line2D at 0x7f88f0fdc820>]"
      ]
     },
     "execution_count": 2,
     "metadata": {},
     "output_type": "execute_result"
    },
    {
     "data": {
      "image/png": "[encoded data removed]",
      "text/plain": [
       "<Figure size 640x640 with 1 Axes>"
      ]
     },
     "metadata": {
      "filenames": {
       "image/png": "/Users/mmccull/Dropbox/work/chemistry_lessons_jupyter_notebook/Chemistry_Lessons_Jupyter_Notebooks/_build/jupyter_execute/physical_chemistry/thermodynamics/Introduction_to_Chemical_Equilibrium_10_2.png"
      }
     },
     "output_type": "display_data"
    }
   ],
   "source": [
    "import matplotlib.pyplot as plt\n",
    "%matplotlib inline\n",
    "#define function \n",
    "# setup plot parameters\n",
    "fontsize=16\n",
    "fig = plt.figure(figsize=(8,8), dpi= 80, facecolor='w', edgecolor='k')\n",
    "ax = plt.subplot(111)\n",
    "ax.grid(b=True, which='major', axis='both', color='#808080', linestyle='--')\n",
    "ax.set_xlabel(\"$xi$\",size=fontsize)\n",
    "ax.set_ylabel(\"$G(xi)$ kJ/mol\",size=fontsize)\n",
    "plt.tick_params(axis='both',labelsize=fontsize)\n",
    "# plot\n",
    "xi = np.arange(0,1,0.01)\n",
    "ax.plot(xi,G(xi),lw=3)\n",
    "# Annotations\n",
    "#plt.annotate(\"Solid\",(255,50),fontsize=24)\n",
    "#plt.annotate(\"Liquid\",(280,80),fontsize=24)\n",
    "#plt.annotate(\"Gas\",(280,20),fontsize=24)"
   ]
  },
  {
   "cell_type": "markdown",
   "id": "4c7e8e0c",
   "metadata": {},
   "source": [
    "The minimum in the above plot is where $\\frac{\\partial G}{\\partial \\xi}=0$ and indicates that the reaction is at equilibrium.  We can determine this by perorming the differentiation, setting the derivative to 0, and solving for $\\xi$.\n",
    "\n",
    "\\begin{eqnarray}\n",
    "\\left( \\frac{\\partial G(\\xi)}{\\partial \\xi}\\right)_{T,P} &=& -\\Delta G^\\circ_{f,N_2O_4} + 2\\Delta G^\\circ_{f,NO_2} + -RT\\ln\\frac{1-\\xi}{1+\\xi} + (1-\\xi)RT\\frac{1+\\xi}{1-\\xi}\\left( \\frac{-1}{1+\\xi} - \\frac{1-\\xi}{(1+\\xi)^2}\\right) + 2RT\\ln \\frac{2\\xi}{1+\\xi} + 2\\xi RT \\frac{1+\\xi}{2\\xi} \\left( \\frac{2}{1+\\xi} - \\frac{2\\xi}{(1+\\xi)^2}\\right) \\\\\n",
    "&=& -\\Delta G^\\circ_{f,N_2O_4} + 2\\Delta G^\\circ_{f,NO_2} + -RT\\ln\\frac{1-\\xi}{1+\\xi} + RT(1+\\xi)\\left( \\frac{-1}{1+\\xi} - \\frac{1-\\xi}{(1+\\xi)^2}\\right) + 2RT\\ln \\frac{2\\xi}{1+\\xi} + RT (1+\\xi) \\left( \\frac{2}{1+\\xi} - \\frac{2\\xi}{(1+\\xi)^2}\\right) \\\\\n",
    "&=&-\\Delta G^\\circ_{f,N_2O_4} + 2\\Delta G^\\circ_{f,NO_2} - RT\\ln\\frac{1-\\xi}{1+\\xi} + 2RT\\ln \\frac{2\\xi}{1+\\xi} + RT\\left( -1 - \\frac{1-\\xi}{1+\\xi}\\right) + RT  \\left( 2 - \\frac{2\\xi}{1+\\xi}\\right) \\\\\n",
    "&=&-\\Delta G^\\circ_{f,N_2O_4} + 2\\Delta G^\\circ_{f,NO_2} - RT\\ln\\frac{1-\\xi}{1+\\xi} + 2RT\\ln \\frac{2\\xi}{1+\\xi} + RT\\left( \\frac{-(1+\\xi) - (1-\\xi)}{1+\\xi}\\right) + RT  \\left( \\frac{2+2\\xi - 2\\xi}{1+\\xi}\\right)  \\\\\n",
    "&=&-\\Delta G^\\circ_{f,N_2O_4} + 2\\Delta G^\\circ_{f,NO_2} - RT\\ln\\frac{1-\\xi}{1+\\xi} + 2RT\\ln \\frac{2\\xi}{1+\\xi} + RT\\left( \\frac{-2}{1+\\xi}\\right) + RT  \\left( \\frac{2}{1+\\xi}\\right) \\\\\n",
    "&=&-\\Delta G^\\circ_{f,N_2O_4} + 2\\Delta G^\\circ_{f,NO_2} - RT\\ln\\frac{1-\\xi}{1+\\xi}+ 2RT\\ln \\frac{2\\xi}{1+\\xi} \\\\\n",
    "&=& -\\Delta G^\\circ_{f,N_2O_4} + 2\\Delta G^\\circ_{f,NO_2} + RT\\ln\\left[ \\left( \\frac{2\\xi}{1+\\xi}\\right)^2 \\frac{1+\\xi}{1-\\xi}\\right] \\\\\n",
    "&=& -\\Delta G^\\circ_{f,N_2O_4} + 2\\Delta G^\\circ_{f,NO_2} + RT\\ln\\left[ \\frac{4\\xi^2}{(1+\\xi)(1-\\xi)}\\right] \\\\\n",
    "&=& -\\Delta G^\\circ_{f,N_2O_4} + 2\\Delta G^\\circ_{f,NO_2} + RT\\ln\\left[ \\frac{4\\xi^2}{1-\\xi^2}\\right] \n",
    "\\end{eqnarray} \n",
    "\n",
    "\n",
    "Setting this to zero and solving for $\\xi$ yields\n",
    "\\begin{eqnarray}\n",
    "\\left( \\frac{\\partial G(\\xi)}{\\partial \\xi}\\right)_{T,P}|_{eq} &=& 0 \\\\\n",
    "&=& -\\Delta G^\\circ_{f,N_2O_4} + 2\\Delta G^\\circ_{f,NO_2} + RT\\ln\\left[ \\frac{4\\xi^2}{1-\\xi^2}\\right]  \\\\\n",
    "\\Rightarrow \\ln\\left[ \\frac{4\\xi^2}{1-\\xi^2}\\right] &=& \\frac{\\Delta G^\\circ_{f,N_2O_4} -2\\Delta G^\\circ_{f,NO_2} }{RT} \\\\\n",
    "    &=& -\\frac{(2\\Delta G^\\circ_{f,NO_2} - \\Delta G^\\circ_{f,N_2O_4})}{RT} \\\\\n",
    "    &=& -\\frac{\\Delta G_{rxn}^\\circ}{RT} \\\\\n",
    "\\Rightarrow \\frac{4\\xi^2}{1-\\xi^2} &=& e^{-\\frac{\\Delta G_{rxn}^\\circ}{RT}} = 0.1484\n",
    "\\end{eqnarray}\n",
    "\n",
    "Solving this for $xi$ yields\n",
    "\\begin{equation}\n",
    "\\xi_{eq} = 0.1891\n",
    "\\end{equation}"
   ]
  },
  {
   "cell_type": "code",
   "execution_count": 3,
   "id": "7a2a9349",
   "metadata": {},
   "outputs": [
    {
     "data": {
      "text/plain": [
       "0.14841197504828846"
      ]
     },
     "execution_count": 3,
     "metadata": {},
     "output_type": "execute_result"
    }
   ],
   "source": [
    "np.exp(-(2*51.258-97.787)/(8.314/1000*298.15))"
   ]
  },
  {
   "cell_type": "code",
   "execution_count": 4,
   "id": "d32e078e",
   "metadata": {},
   "outputs": [
    {
     "data": {
      "text/plain": [
       "array([0.18914442, 0.18914442])"
      ]
     },
     "execution_count": 4,
     "metadata": {},
     "output_type": "execute_result"
    }
   ],
   "source": [
    "from scipy.optimize import fsolve\n",
    "f = lambda x: np.exp(-(2*51.258-97.787)/(8.314/1000*298.15))*(1-x**2) - 4*x**2\n",
    "fsolve(f,[0.1,0.4])"
   ]
  },
  {
   "cell_type": "markdown",
   "id": "b5482270",
   "metadata": {},
   "source": [
    "## Equilibrium Constant and Temperature"
   ]
  },
  {
   "cell_type": "markdown",
   "id": "8a62cdb8",
   "metadata": {},
   "source": [
    "The equilibrium constant depends on temperature.  How it depends on temperature is given by the Van'T Hoff equation which can be derived from the Gibbs-Helmholtz equation.  \n",
    "\n",
    "\\begin{eqnarray}\n",
    "\\left( \\frac{\\partial \\Delta G^\\circ/T}{\\partial T}\\right)_P &=& -\\frac{\\Delta H^\\circ}{T^2} \\\\\n",
    "\\Rightarrow \\left( \\frac{\\partial -RT\\ln K_{eq}/T}{\\partial T}\\right)_P &=& -\\frac{\\Delta H^\\circ}{T^2} \\\\\n",
    "\\Rightarrow \\left( \\frac{\\partial \\ln K_{eq}}{\\partial T}\\right)_P &=& \\frac{\\Delta H^\\circ}{RT^2} \n",
    "\\end{eqnarray}\n",
    "\n",
    "We will now multiply by $dT$ and integrate to investigate the behavior of $K_{eq}$ with $T$:\n",
    "\\begin{eqnarray}\n",
    "d\\ln K_{eq} &=& \\frac{\\Delta H^\\circ}{RT^2} dT \\quad \\text{constant P} \\\\\n",
    "\\int d\\ln K_{eq} &=& \\frac{\\Delta H^\\circ}{RT^2} dT \\quad \\text{constant P} \\\\\n",
    "\\ln \\frac{K_{eq}(T_2)}{K_{eq}(T_1)} &=& \\int_{T_1}^{T_2} \\frac{\\Delta H^\\circ}{RT^2} dT \\quad \\text{constant P}\n",
    "\\end{eqnarray}\n",
    "The above equation is the most general and allows for a temperature dependent $\\Delta H$.  If, however, we assume it to be temperature indepedent we get\n",
    "\\begin{equation}\n",
    "\\ln \\frac{K_{eq}(T_2)}{K_{eq}(T_1)} = -\\frac{\\Delta H^\\circ}{R}\\left(\\frac{1}{T_2}-\\frac{1}{T_1}\\right)\n",
    "\\end{equation}\n",
    "This equation is the Van't Hoff equation which demonstrates that an equation of $\\ln K$ vs $\\frac{1}{T}$ will be linear for $\\Delta H$ independent of temperature."
   ]
  },
  {
   "cell_type": "markdown",
   "id": "5e22e468",
   "metadata": {},
   "source": [
    "### Example: Van't Hoff\n",
    "\n"
   ]
  },
  {
   "cell_type": "markdown",
   "id": "6e998127",
   "metadata": {},
   "source": [
    "Given that $\\Delta H^\\circ$ has an average value of $-69.8$ kJ/mol over the temperature range $500$ K to $700$ K for the reaction \n",
    "\\begin{equation}\n",
    "PCl_3(g) + Cl_2(g) \\rightleftharpoons PCl_5(g)\n",
    "\\end{equation}\n",
    "estimate $K_P$ at 700 K given that $K_P = 0.0408$ at 500 K."
   ]
  },
  {
   "cell_type": "markdown",
   "id": "9c7ac186",
   "metadata": {},
   "source": [
    "We will use the integrated Van't Hoff equation above and solve for $K(T_2)$:\n",
    "\\begin{equation}\n",
    "K_P(T_2) = K_P(T_1)e^{-\\frac{\\Delta H^\\circ}{R}\\left(\\frac{1}{T_2}-\\frac{1}{T_1}\\right)}\n",
    "\\end{equation}\n",
    "Now just plug in numbers and solve\n",
    "\\begin{eqnarray}\n",
    "K_P(T_2) &=& (0.0408)e^{\\frac{69.8\\times10^3}{8.314}\\left(\\frac{1}{700}-\\frac{1}{500}\\right)} \\\\\n",
    "&=& 3.34\\times10^{-4}\n",
    "\\end{eqnarray}"
   ]
  },
  {
   "cell_type": "code",
   "execution_count": 5,
   "id": "3c691293",
   "metadata": {},
   "outputs": [
    {
     "name": "stdout",
     "output_type": "stream",
     "text": [
      "0.00033664253542371996\n"
     ]
    }
   ],
   "source": [
    "print(0.0408*np.exp(69.8e3/8.314*(1/700-1/500)))"
   ]
  }
 ],
 "metadata": {
  "kernelspec": {
   "display_name": "Python 3",
   "language": "python",
   "name": "python3"
  },
  "language_info": {
   "codemirror_mode": {
    "name": "ipython",
    "version": 3
   },
   "file_extension": ".py",
   "mimetype": "text/x-python",
   "name": "python",
   "nbconvert_exporter": "python",
   "pygments_lexer": "ipython3",
   "version": "3.8.8"
  }
 },
 "nbformat": 4,
 "nbformat_minor": 5
}