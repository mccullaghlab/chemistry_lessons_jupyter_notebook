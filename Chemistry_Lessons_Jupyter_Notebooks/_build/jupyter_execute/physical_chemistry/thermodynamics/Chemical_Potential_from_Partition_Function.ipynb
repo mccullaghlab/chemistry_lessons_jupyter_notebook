{
 "cells": [
  {
   "cell_type": "markdown",
   "id": "603ce1ef",
   "metadata": {},
   "source": [
    "# Chemical Potential from the Partition Function"
   ]
  },
  {
   "cell_type": "markdown",
   "id": "d5c1a27a",
   "metadata": {},
   "source": [
    "## Motivation\n",
    "\n",
    "The chemical potential, or molar Gibbs free energy of a component, is an important quantity for multicomponent systems.  We saw that two phase equilibrium at constant temperature and pressure dictates that the chemical potentials of each phase be equivalent.  Here, we will show that the chemical potential can be determined from the partition function of the system.  This provides a tie between this quantity and the molecular level."
   ]
  },
  {
   "cell_type": "markdown",
   "id": "3764fa37",
   "metadata": {},
   "source": [
    "## Learning Goals:\n",
    "\n",
    "After working through these notes, you will be able to:\n",
    "\n",
    "1. Write out the chemical potential in terms of derivatives of all four energy functions\n",
    "2. Express the chemical potential in terms of the canonical partition function\n",
    "3. Calculate the standard state chemical potential for an ideal gas"
   ]
  },
  {
   "cell_type": "markdown",
   "id": "daaf1b10",
   "metadata": {},
   "source": [
    "## Coding Concepts: \n",
    "\n",
    "None, yet."
   ]
  },
  {
   "cell_type": "markdown",
   "id": "4c3f3edc",
   "metadata": {},
   "source": [
    "## Review of the Partition Function"
   ]
  },
  {
   "cell_type": "markdown",
   "id": "de9f4890",
   "metadata": {},
   "source": [
    "Recall that the partition function, $Q$, of a system under constant $V$ and $T$ is defined as a sum over the Boltzmann factors of all energy levels of the system\n",
    "\\begin{equation}\n",
    "Q = \\sum_i e^{-\\beta E_i},\n",
    "\\end{equation}\n",
    "where $E_i$ is the energy of the system in energy level $i$.\n",
    "\n",
    "For an ideal gas system the particles do not interact and thus we can write\n",
    "\\begin{equation}\n",
    "Q = \\frac{q^N}{N!},\n",
    "\\end{equation}\n",
    "where $q$ is the molecular partition function defined as a sum over molecular energy levels\n",
    "\\begin{equation}\n",
    "q = \\sum_j e^{-\\beta \\epsilon_j},\n",
    "\\end{equation}\n",
    "where $\\epsilon_j$ is the energy of a molecule is molecular state $j$.\n",
    "\n",
    "From the partition function we can compute important thermodynamic quantities such as\n",
    "\\begin{eqnarray}\n",
    "U &=& k_BT^2\\left( \\frac{\\partial lnQ}{\\partial T}\\right)_{N,V} \\\\\n",
    "P &=&  \\frac{1}{\\beta}\\frac{\\partial \\ln Q}{\\partial V} \\\\\n",
    "C_V &=& k_B \\beta^2 \\left( \\frac{\\partial^2 \\ln Q}{\\partial \\beta^2}\\right)_{N,V} \\\\\n",
    "S &=& k_BT\\left( \\frac{\\partial lnQ}{\\partial T}\\right)_{N,V} + k_B\\ln Q\n",
    "\\end{eqnarray}"
   ]
  },
  {
   "cell_type": "markdown",
   "id": "8b62157d",
   "metadata": {},
   "source": [
    "## Entropy from the Partition Function\n",
    "\n",
    "Actually, we have not yet shown the last equation above.  I will do so here a bit of an aside.  We start with the Gibbs entropy formula\n",
    "\\begin{equation}\n",
    "S = -k_B\\sum_ip_i\\ln p_i\n",
    "\\end{equation}\n",
    "where $p_i$ is the probability of state $i$ and in the Canonical ensemble is given as\n",
    "\\begin{equation}\n",
    "p_i = \\frac{e^{-\\beta E_i}}{Q}\n",
    "\\end{equation}\n",
    "Plugging this formula into the Gibbs entropy equation yields\n",
    "\\begin{eqnarray}\n",
    "S &=& -k_B\\sum_i \\frac{e^{-\\beta E_i}}{Q} \\ln \\left( \\frac{e^{-\\beta E_i}}{Q} \\right)  \\\\\n",
    "&=& -k_B\\sum_i \\frac{e^{-\\beta E_i}}{Q} \\left( -\\beta E_i - \\ln Q\\right) \\\\\n",
    "&=& \\beta k_B\\sum_i E_i\\frac{e^{-\\beta E_i}}{Q} + k_B\\sum_i\\ln Q\\frac{e^{-\\beta E_i}}{Q} \\\\\n",
    "&=& \\frac{1}{T}\\langle E \\rangle  + \\frac{k_B\\ln Q}{Q} \\sum_i e^{-\\beta E_i} \\\\\n",
    "&=& \\frac{U}{T} + k_B\\ln Q\n",
    "\\end{eqnarray}"
   ]
  },
  {
   "cell_type": "markdown",
   "id": "3ffb9967",
   "metadata": {},
   "source": [
    "## Helmholtz Free Energy from Partition Function\n",
    "\n",
    "Given the above equalities and the Thermodynamic definition of $A$, it is straightforward to determine an equation for $A$ in terms of the partition function.\n",
    "\n",
    "\\begin{eqnarray}\n",
    "A &=& U - TS \\\\\n",
    "&=& k_BT^2\\left( \\frac{\\partial lnQ}{\\partial T}\\right)_{N,V} - T\\left( k_BT\\left( \\frac{\\partial lnQ}{\\partial T}\\right)_{N,V} + k_B\\ln Q \\right) \\\\\n",
    "&=& -k_BT\\ln Q \n",
    "\\end{eqnarray}"
   ]
  },
  {
   "cell_type": "markdown",
   "id": "3d485503",
   "metadata": {},
   "source": [
    "## Chemical Potential"
   ]
  },
  {
   "cell_type": "markdown",
   "id": "9b14857d",
   "metadata": {},
   "source": [
    "To derive an equation for the chemical potential in terms of the partition function we start be writing the differential form of the Helmholtz free energy for a single component system\n",
    "\\begin{eqnarray}\n",
    "dA &=& \\left(\\frac{\\partial A}{\\partial T} \\right)_{N,V}dT + \\left(\\frac{\\partial A}{\\partial V} \\right)_{N,T}dV + \\left(\\frac{\\partial A}{\\partial N} \\right)_{T,V}dN \\\\\n",
    "&=& -SdT - PdV + \\mu dN \n",
    "\\end{eqnarray}\n",
    "where $\\mu$ is the chemical potential of the species and $N$ is the number of molecules in the system.\n",
    "\n",
    "The chemical potential can also be expressed as partial derivatives of other energy functions,\n",
    "\\begin{equation}\n",
    "\\mu = \\left(\\frac{\\partial A}{\\partial N} \\right)_{T,V} = \\left(\\frac{\\partial G}{\\partial N} \\right)_{T,P} = \\left(\\frac{\\partial H}{\\partial N} \\right)_{S,P} = \\left(\\frac{\\partial U}{\\partial N} \\right)_{S,V},\n",
    "\\end{equation}\n",
    "as long as the appropriate natural variables are kept constant.\n",
    "\n",
    "It is more convenient to work in terms of moles in which case we convert $N$ to $n$ in the equation for $dA$ and express the molar chemical potential as\n",
    "\\begin{equation}\n",
    "\\mu = \\left(\\frac{\\partial A}{\\partial n} \\right)_{T,V} = \\left(\\frac{\\partial G}{\\partial n} \\right)_{T,P} = \\left(\\frac{\\partial H}{\\partial n} \\right)_{S,P} = \\left(\\frac{\\partial U}{\\partial n} \\right)_{S,V}.\n",
    "\\end{equation}\n",
    "The units of chemical potential written in this way are energy per mole."
   ]
  },
  {
   "cell_type": "markdown",
   "id": "ac16cffb",
   "metadata": {},
   "source": [
    "## Chemical Potential from the Partition Function"
   ]
  },
  {
   "cell_type": "markdown",
   "id": "37fb8fe8",
   "metadata": {},
   "source": [
    "Since the chemical potential can be determined from any energy function and we have a simple expression for $A$ in terms of $Q$, we will derive the formula for chemical potential from $A$.\n",
    "\n",
    "We start with the definition of the molar chemical potential in terms of $A$\n",
    "\\begin{eqnarray}\n",
    "\\mu &=& \\left(\\frac{\\partial A}{\\partial n} \\right)_{T,V} \\\\\n",
    "&=& \\frac{\\partial}{\\partial n} \\left(-k_BT\\ln Q \\right)_{T,V} \\\\\n",
    "&=& -k_BT\\left(\\frac{\\partial \\ln Q}{\\partial n} \\right)_{T,V} \\\\\n",
    "&=& -RT\\left(\\frac{\\partial \\ln Q}{\\partial N} \\right)_{T,V}\n",
    "\\end{eqnarray}"
   ]
  },
  {
   "cell_type": "markdown",
   "id": "b77edaf6",
   "metadata": {},
   "source": [
    "## Chemical Potential of an Ideal Gas"
   ]
  },
  {
   "cell_type": "markdown",
   "id": "06617184",
   "metadata": {},
   "source": [
    "Recall that, for an ideal gas, we can write \n",
    "\\begin{equation}\n",
    "Q = \\frac{q^N}{N!}\n",
    "\\end{equation}\n",
    "To compute the chemical potential, we must differentiate $\\ln Q$ with respect to $N$.  We express $\\ln Q$ as\n",
    "\\begin{equation}\n",
    "\\ln Q = \\ln\\left(\\frac{q^N}{N!} \\right) = N\\ln q - \\ln N! = N\\ln q - N\\ln N + N\n",
    "\\end{equation}\n",
    "where the last equality employed the use of the Stirling approximation.\n",
    "\n",
    "Thus, the chemical potential of an ideal gas is\n",
    "\\begin{equation}\n",
    "\\mu = -RT(\\ln q - \\ln N -1 + 1) = -RT\\ln\\frac{q}{N}\n",
    "\\end{equation}\n",
    "\n",
    "Recall that $q$ is a function of $V$ and $T$ and that $q \\propto V$.  Thus $q/V$ is independent of $V$ and only a function of $T$. This allows us to rewrite $\\mu$ as\n",
    "\\begin{eqnarray}\n",
    "\\mu = -RT\\ln\\frac{q}{N} &=& -RT\\ln\\left[ \\frac{q}{V}\\frac{V}{N} \\right] \\\\\n",
    "&=& -RT\\ln\\left[\\frac{q}{V}\\frac{k_BT}{P} \\right] \\\\\n",
    "&=& -RT\\ln\\frac{qk_BT}{V} + RT\\ln P\n",
    "\\end{eqnarray}\n",
    "where we used that $\\frac{V}{N} = \\frac{k_BT}{P}$ from the ideal gas law.\n",
    "\n",
    "From the above equation, we call the first term the standard state chemical potential, $\\mu^\\circ$, \n",
    "\\begin{equation}\n",
    "\\mu^\\circ(T) = -RT\\ln\\left[ \\frac{qk_BT}{VP^\\circ} \\right],\n",
    "\\end{equation}\n",
    "where $P^\\circ$ is the standard state pressure of 1 bar or $10^5$ Pa."
   ]
  },
  {
   "cell_type": "markdown",
   "id": "18d73325",
   "metadata": {},
   "source": [
    "## Example: Chemical Potential of a Monatomic Ideal Gas"
   ]
  },
  {
   "cell_type": "markdown",
   "id": "06fe6092",
   "metadata": {},
   "source": [
    "Compute the standard state chemical potential of Ar(g) at 298.15 K.  Assume ideal gas behavior."
   ]
  },
  {
   "cell_type": "markdown",
   "id": "430b92ff",
   "metadata": {},
   "source": [
    "For a monatomic ideal gas we have that\n",
    "\\begin{equation}\n",
    "q = \\left(\\frac{2\\pi m k_B T}{h^2}\\right)^{3/2}V\n",
    "\\end{equation}\n",
    "or \n",
    "\\begin{equation}\n",
    "\\frac{q}{V} = \\left(\\frac{2\\pi m k_B T}{h^2}\\right)^{3/2}\n",
    "\\end{equation}\n",
    "\n",
    "Given the temperature and mass of the substance, we can compute $q/V$:\n",
    "\\begin{eqnarray}\n",
    "\\frac{q}{V} &=& \\left(\\frac{2\\pi\\cdot0.03995\\cdot 1.3806\\times10^{-23}\\cdot298.15}{6.022\\times10^{23}(6.626\\times10^{-34})^2}\\right)^{3/2} \\\\\n",
    "&=& 2.444\\times10^{32} \\quad\\text{m}^{-3}\n",
    "\\end{eqnarray}\n",
    "and $\\frac{k_BT}{P^\\circ}$:\n",
    "\\begin{eqnarray}\n",
    "\\frac{k_BT}{P^\\circ} &=& \\frac{1.3806\\times10^{-23}\\cdot 298.15}{1.00\\times10^5}  \\\\\n",
    "&=& 4.116\\times10^{-26}\\quad\\text{m}^3\n",
    "\\end{eqnarray}\n",
    "\n",
    "Plugging this into equation above yields\n",
    "\\begin{eqnarray}\n",
    "\\mu^\\circ(298.15) &=& -8.314\\cdot298.15 \\cdot \\ln(2.444\\times10^{32}\\cdot 4.116\\times10^{-26}) \\\\\n",
    "&=& -39.97 \\quad\\text{kJ}\\cdot\\text{mol}^{-1}\n",
    "\\end{eqnarray}"
   ]
  }
 ],
 "metadata": {
  "kernelspec": {
   "display_name": "Python 3",
   "language": "python",
   "name": "python3"
  },
  "language_info": {
   "codemirror_mode": {
    "name": "ipython",
    "version": 3
   },
   "file_extension": ".py",
   "mimetype": "text/x-python",
   "name": "python",
   "nbconvert_exporter": "python",
   "pygments_lexer": "ipython3",
   "version": "3.8.8"
  }
 },
 "nbformat": 4,
 "nbformat_minor": 5
}