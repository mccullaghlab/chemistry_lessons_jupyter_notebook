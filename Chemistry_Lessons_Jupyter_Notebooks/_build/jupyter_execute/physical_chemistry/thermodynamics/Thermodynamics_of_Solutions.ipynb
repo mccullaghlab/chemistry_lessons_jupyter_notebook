{
 "cells": [
  {
   "cell_type": "code",
   "execution_count": 1,
   "id": "three-occasion",
   "metadata": {
    "slideshow": {
     "slide_type": "skip"
    }
   },
   "outputs": [],
   "source": [
    "import numpy as np\n",
    "import matplotlib.pyplot as plt\n",
    "%matplotlib inline"
   ]
  },
  {
   "cell_type": "markdown",
   "id": "minor-halifax",
   "metadata": {
    "slideshow": {
     "slide_type": "slide"
    }
   },
   "source": [
    "# Thermodynamics of Solutions"
   ]
  },
  {
   "cell_type": "markdown",
   "id": "pharmaceutical-sudan",
   "metadata": {
    "slideshow": {
     "slide_type": "slide"
    }
   },
   "source": [
    "## Learning goals\n",
    "\n",
    "1. Express each of the four Thermodynamic energy functions for multicomponent systems\n",
    "2. Define chemical potential both mathematically and qualitatively\n",
    "3. Recognize that two component systems tend toward the component with the smaller chemical potential\n",
    "4. Demonstrate that the equilibrium condition of a two component system requires that the chemical potentials of each component be equivalent\n",
    "5. Recognize the Gibbs-Duhem equation and state its implication."
   ]
  },
  {
   "cell_type": "markdown",
   "id": "baking-intent",
   "metadata": {
    "slideshow": {
     "slide_type": "slide"
    }
   },
   "source": [
    "## What makes solutions different from gasses?\n",
    "\n",
    "Any number of things.  But here are a few:\n",
    "\n",
    "1. Density of a solution is larger than that of a gas.\n",
    "2. Solutions contain multiple species (by definition).\n",
    "3. PV work doesn't seem so relevant for solutions as compared to gasses.\n",
    "4. Solutions are typically held under constant $P$ and $T$ conditions."
   ]
  },
  {
   "cell_type": "markdown",
   "id": "adjusted-belle",
   "metadata": {
    "slideshow": {
     "slide_type": "slide"
    }
   },
   "source": [
    "## Thermodynamic Energy Functions for Multicomponent Systems"
   ]
  },
  {
   "cell_type": "markdown",
   "id": "inappropriate-dublin",
   "metadata": {
    "slideshow": {
     "slide_type": "fragment"
    }
   },
   "source": [
    "Though it was never (or at least not frequently) stated, the Thermodynamic energy functions we have encountered so far are only for single component systems.  e.g. a single type of gas.  For a multicomponent system, we must consider the energy associated with each component to, for example, compute the energy difference between two different concentrations of a solution.  \n",
    "\n",
    "We start by looking at the differential form of the internal energy\n",
    "\n",
    "\\begin{equation}\n",
    "dU = TdS - PdV\n",
    "\\end{equation}\n",
    "\n",
    "We now say that the infintesimal change in internal energy, $dU$, can be changed by changes in the number of moles/molecules of each component.  We will write this for a general $M$-component system\n",
    "\n",
    "\\begin{equation}\n",
    "dU = TdS - PdV + \\sum_{i=1}^M \\mu_idN_i\n",
    "\\end{equation}\n",
    "\n",
    "where $\\mu_i$ is call the ***chemical potential*** of component $i$ because it is the energy per mole/molecule of component $i$ and $dN_i$ is the infintesimal change in the amount (number of molecules/moles) of component $i$."
   ]
  },
  {
   "cell_type": "markdown",
   "id": "brown-memorabilia",
   "metadata": {
    "slideshow": {
     "slide_type": "slide"
    }
   },
   "source": [
    "Notice that the formula\n",
    "\n",
    "\\begin{equation}\n",
    "dU = TdS - PdV + \\sum_{i=1}^M \\mu_idN_i\n",
    "\\end{equation}\n",
    "\n",
    "dictates that \n",
    "\n",
    "\\begin{equation}\n",
    "\\mu_i = \\left(\\frac{\\partial U}{\\partial N_i}\\right)_{S,V,N_{j\\neq i}}\n",
    "\\end{equation}\n",
    "\n",
    "or $\\mu_i$ is the slope in internal energy along the dimension $N_i$.  i.e. $\\mu_i$ is the internal energy per molecule of component $i$."
   ]
  },
  {
   "cell_type": "markdown",
   "id": "contrary-freeze",
   "metadata": {
    "slideshow": {
     "slide_type": "slide"
    }
   },
   "source": [
    "Also notice that conversion to the other three Thermodynamic energy functions ($H$, $A$, and $G$) will not affect the chemical potential terms.  More to the point, given these chemical potential terms in $dU$, we can write the three other differential forms:\n",
    "\n",
    "\\begin{align}\n",
    "dH &= TdS + VdP + \\sum_{i=1}^M \\mu_idN_i \\\\\n",
    "dA &= -SdT - PdV + \\sum_{i=1}^M \\mu_idN_i \\\\\n",
    "dG &= -SdT + VdP + \\sum_{i=1}^M \\mu_idN_i\n",
    "\\end{align}\n",
    "\n",
    "Due to many solutions being held under constant $P$ and $T$, the Gibbs free energy function is the most useful Thermoydnamic energy function.  As such, the most common definition of the chemical potential is\n",
    "\n",
    "\\begin{equation}\n",
    "\\mu_i = \\left(\\frac{\\partial G}{\\partial N_i}\\right)_{T,P,N_{j\\neq i}}\n",
    "\\end{equation}"
   ]
  },
  {
   "cell_type": "markdown",
   "id": "behind-timeline",
   "metadata": {
    "slideshow": {
     "slide_type": "slide"
    }
   },
   "source": [
    "## Example: Chemical potential of a two component system\n",
    "\n",
    "Consider a two component system with components $A$ (e.g. H$_2$O(l)) and $B$ (e.g. H$_2$O(g)) that can exchange between one another.  Show that, under constant temperature, pressure, and total number of moles, the following two statements hold. \n",
    "\n",
    "(a) The system will proceed towards the component with the lower chemical potential.\n",
    "\n",
    "(b) The chemical potentials of each component are equal at equilibrium."
   ]
  },
  {
   "cell_type": "markdown",
   "id": "expanded-contrast",
   "metadata": {
    "slideshow": {
     "slide_type": "slide"
    }
   },
   "source": [
    "We start by thinking about the physical system.  We can consider a phase equilibrium between water vapor and liquid water.  The liquid water molecules can become vapor and the vapor molecules can condense to become liquid.  The total number of molecules or moles ($N$) is fixed, however.  We can write that\n",
    "\n",
    "\\begin{align}\n",
    "N = N_A + N_B\n",
    "\\end{align}\n",
    "\n",
    "We also know that total number of moles is fixed meaning that\n",
    "\n",
    "\\begin{align}\n",
    "dN =& 0 \\\\\n",
    " =& dN_A + dN_B \\\\\n",
    " \\Rightarrow dN_A =& -dN_B\n",
    "\\end{align}\n",
    "\n",
    "where the last equality simply tells us that the change in amount of A is negative the change in amount of B (which is true if there are only these two components in the system)."
   ]
  },
  {
   "cell_type": "markdown",
   "id": "false-savage",
   "metadata": {
    "slideshow": {
     "slide_type": "slide"
    }
   },
   "source": [
    "Now onto part (a).  The key to this statement is that the \"system will proceed\".  What does that mean?  Under constant $P$ and $T$ it means that $dG < 0$.  So let's write out our expression for dG\n",
    "\n",
    "\\begin{align}\n",
    "dG =& -SdT + VdP + \\mu_AdN_A + \\mu_BdN_B \\\\\n",
    " =& \\mu_AdN_A + \\mu_BdN_B \\\\\n",
    " <& 0\n",
    "\\end{align}\n",
    "\n",
    "where I have used that $dT = dP = 0$.  We can now use the relationship $dN_A = -dN_B$ to yield\n",
    "\n",
    "\\begin{align}\n",
    "dG =& \\mu_AdN_A - \\mu_BdN_A < 0 \\\\\n",
    " = & (\\mu_A-\\mu_B)dN_A < 0\n",
    "\\end{align}\n",
    "\n",
    "The last inequality can be achieved only if $dN_A < 0$ and $(\\mu_A-\\mu_B)>0$ or $dN_A > 0$ and $(\\mu_A-\\mu_B)<0$.  Mathematically, this is equivalent to saying that if the number of moles of component $A$ decreases ($dN_A < 0$), then the chemical potential of component $B$ must be less than that of $A$ ($(\\mu_A-\\mu_B)>0$ or, equivalently, $\\mu_A>\\mu_B$).  Similarly, if the number of moles of $A$ increases ($dN_A > 0$), then the chemical potential of $A$ must be less than that of $B$."
   ]
  },
  {
   "cell_type": "markdown",
   "id": "colored-dancing",
   "metadata": {
    "slideshow": {
     "slide_type": "slide"
    }
   },
   "source": [
    "No for part (b).  The solution to this is quite similar but we must recognize that, under these conditions, the condition of equilibirium dictates that $dG=0$.  Again, we start with the differential form of $G$:\n",
    "\n",
    "\\begin{align}\n",
    "dG = \\mu_AdN_A + \\mu_BdN_B = 0\n",
    "\\end{align}\n",
    "\n",
    "again, we plug in the relationship $dN_A = -dN_B$ to yield\n",
    "\n",
    "\\begin{align}\n",
    "dG &= \\mu_AdN_A - \\mu_BdN_A = 0 \\\\\n",
    "&= (\\mu_A-\\mu_B)dN_A = 0\n",
    "\\end{align}\n",
    "\n",
    "For the last equality to hold $dN_A$ could be zero and/or $(\\mu_A-\\mu_B)$ could be zero.  While $dN_A$ could be zero, it need not be zero under dynamic equilibrium.  At equilibrium, moleules of liquid water will be converting to vapor and vis versa.  Thus, $(\\mu_A-\\mu_B)=0$ or $\\mu_A=\\mu_B$ at equilibrium."
   ]
  },
  {
   "cell_type": "markdown",
   "id": "durable-acquisition",
   "metadata": {
    "slideshow": {
     "slide_type": "slide"
    }
   },
   "source": [
    "## The Gibbs-Duhem Equation\n",
    "\n",
    "The Gibbs-Duhem equation demonstrates the relationship between all intensive variables of a system.  The implication of this is that if there are $M$ intesive variables of a system, you need only measure $M-1$ of them to get all of them.  Seems unimportant but it isn't."
   ]
  },
  {
   "cell_type": "markdown",
   "id": "fifteen-falls",
   "metadata": {
    "slideshow": {
     "slide_type": "slide"
    }
   },
   "source": [
    "To derive the Gibbs-Duhem equation, we start with the fact that the chemical potential of component is the Gibbs free energy per molecule (or mole) of that component.  Thus, we can write the total Gibbs free energy as\n",
    "\n",
    "\\begin{align}\n",
    "G = \\sum_i \\mu_iN_i\n",
    "\\end{align}\n",
    "\n",
    "We now take the differential of both sides to get\n",
    "\n",
    "\\begin{align}\n",
    "dG = \\sum_i \\left[ \\mu_idN_i + N_id\\mu_i\\right]\n",
    "\\end{align}\n",
    "\n",
    "where we use the product rule on each term of the sum.  We now split this into two sums and relate it to the other equation for $dG$ that we have\n",
    "\n",
    "\\begin{align}\n",
    "dG =& \\sum_i  \\mu_idN_i +\\sum_i N_id\\mu_i \\\\\n",
    " =& -SdT + VdP + \\sum_i  \\mu_idN_i\n",
    "\\end{align}\n",
    "\n",
    "now substract $\\sum_i  \\mu_idN_i$ from both sides to get the Gibbs-Duhem equation\n",
    "\n",
    "\\begin{align}\n",
    "\\sum_i N_id\\mu_i =& -SdT + VdP \\\\\n",
    "\\Rightarrow 0 =& -SdT + VdP - \\sum_i N_id\\mu_i\n",
    "\\end{align}\n",
    "\n",
    "where $T$, $P$ and all of the $\\mu_i$s are the intensive variables of the system.  The Gibbs-Duhem equation suggest that state functions exist."
   ]
  }
 ],
 "metadata": {
  "celltoolbar": "Slideshow",
  "kernelspec": {
   "display_name": "Python 3",
   "language": "python",
   "name": "python3"
  },
  "language_info": {
   "codemirror_mode": {
    "name": "ipython",
    "version": 3
   },
   "file_extension": ".py",
   "mimetype": "text/x-python",
   "name": "python",
   "nbconvert_exporter": "python",
   "pygments_lexer": "ipython3",
   "version": "3.8.8"
  }
 },
 "nbformat": 4,
 "nbformat_minor": 5
}