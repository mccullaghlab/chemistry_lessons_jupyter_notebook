{
 "cells": [
  {
   "cell_type": "markdown",
   "id": "8b5479e7",
   "metadata": {
    "slideshow": {
     "slide_type": "slide"
    }
   },
   "source": [
    "# Thermodynamics of Solutions"
   ]
  },
  {
   "cell_type": "markdown",
   "id": "deea2a90",
   "metadata": {
    "slideshow": {
     "slide_type": "slide"
    }
   },
   "source": [
    "## Learning goals\n",
    "\n",
    "After working through this notebook, you will be able to:\n",
    "\n",
    "1. Express each of the four Thermodynamic energy functions for multicomponent systems\n",
    "2. Define chemical potential both mathematically and qualitatively\n",
    "3. Derive the Gibbs-Duhem equation.\n",
    "4. Use the Gibbs-Duhem equation to relate the chemical potentials of two component solutions."
   ]
  },
  {
   "cell_type": "markdown",
   "id": "46bd9458",
   "metadata": {},
   "source": [
    "## Coding Concepts:\n",
    "\n",
    "The following coding concepts are used in this notebook:\n",
    "\n",
    "1. [Variables](../../coding_concepts/variables.ipynb)"
   ]
  },
  {
   "cell_type": "markdown",
   "id": "4de5f0ca",
   "metadata": {
    "slideshow": {
     "slide_type": "slide"
    }
   },
   "source": [
    "## What makes solutions different from gasses?\n",
    "\n",
    "Any number of things.  But here are a few:\n",
    "\n",
    "1. Density of a solution is larger than that of a gas.\n",
    "2. Solutions contain multiple species (by definition).\n",
    "3. PV work doesn't seem so relevant for solutions as compared to gasses.\n",
    "4. Solutions are typically held under constant $P$ and $T$ conditions."
   ]
  },
  {
   "cell_type": "markdown",
   "id": "91b86632",
   "metadata": {
    "slideshow": {
     "slide_type": "slide"
    }
   },
   "source": [
    "## A Two Component Solution\n",
    "\n",
    "Consider a two component solution with components $A$ (e.g. H$_2$O(l)) and $B$ (e.g. CH$_3$OH(l)).  How does the chemical potential of one component compare to the other under constant $T$ and $P$ conditions?\n",
    "\n",
    "Unlike the case of a two phase equilibrium, the components of this solution cannot interconvert.  Thus, we do not necessarily have that the chemical potentials are equal at equilibrium."
   ]
  },
  {
   "cell_type": "markdown",
   "id": "849d3366",
   "metadata": {
    "slideshow": {
     "slide_type": "slide"
    }
   },
   "source": [
    "## Thermodynamic Energy Functions for Multicomponent Systems"
   ]
  },
  {
   "cell_type": "markdown",
   "id": "d04f402d",
   "metadata": {
    "slideshow": {
     "slide_type": "fragment"
    }
   },
   "source": [
    "Though it was never (or at least not frequently) stated, the Thermodynamic energy functions we have encountered so far are only for single component systems.  e.g. a single type of gas.  For a multicomponent system, we must consider the energy associated with each component to, for example, compute the energy difference between two different concentrations of a solution.  \n",
    "\n",
    "We start by looking at the differential form of the internal energy\n",
    "\n",
    "\\begin{equation}\n",
    "dU = TdS - PdV\n",
    "\\end{equation}\n",
    "\n",
    "We now say that the infintesimal change in internal energy, $dU$, can be changed by changes in the number of moles/molecules of each component.  We will write this for a general $M$-component system\n",
    "\n",
    "\\begin{equation}\n",
    "dU = TdS - PdV + \\sum_{i=1}^M \\mu_idN_i\n",
    "\\end{equation}\n",
    "\n",
    "where $\\mu_i$ is call the ***chemical potential*** of component $i$ because it is the energy per mole/molecule of component $i$ and $dN_i$ is the infintesimal change in the amount (number of molecules/moles) of component $i$."
   ]
  },
  {
   "cell_type": "markdown",
   "id": "3829e2a1",
   "metadata": {
    "slideshow": {
     "slide_type": "slide"
    }
   },
   "source": [
    "Notice that the formula\n",
    "\n",
    "\\begin{equation}\n",
    "dU = TdS - PdV + \\sum_{i=1}^M \\mu_idN_i\n",
    "\\end{equation}\n",
    "\n",
    "dictates that \n",
    "\n",
    "\\begin{equation}\n",
    "\\mu_i = \\left(\\frac{\\partial U}{\\partial N_i}\\right)_{S,V,N_{j\\neq i}}\n",
    "\\end{equation}\n",
    "\n",
    "or $\\mu_i$ is the slope in internal energy along the dimension $N_i$.  i.e. $\\mu_i$ is the internal energy per molecule of component $i$."
   ]
  },
  {
   "cell_type": "markdown",
   "id": "2d22d9f8",
   "metadata": {
    "slideshow": {
     "slide_type": "slide"
    }
   },
   "source": [
    "Also notice that conversion to the other three Thermodynamic energy functions ($H$, $A$, and $G$) will not affect the chemical potential terms.  More to the point, given these chemical potential terms in $dU$, we can write the three other differential forms:\n",
    "\n",
    "\\begin{align}\n",
    "dH &= TdS + VdP + \\sum_{i=1}^M \\mu_idN_i \\\\\n",
    "dA &= -SdT - PdV + \\sum_{i=1}^M \\mu_idN_i \\\\\n",
    "dG &= -SdT + VdP + \\sum_{i=1}^M \\mu_idN_i\n",
    "\\end{align}\n",
    "\n",
    "Due to many solutions being held under constant $P$ and $T$, the Gibbs free energy function is the most useful Thermoydnamic energy function.  As such, the most common definition of the chemical potential is\n",
    "\n",
    "\\begin{equation}\n",
    "\\mu_i = \\left(\\frac{\\partial G}{\\partial N_i}\\right)_{T,P,N_{j\\neq i}}\n",
    "\\end{equation}"
   ]
  },
  {
   "cell_type": "markdown",
   "id": "37d83615",
   "metadata": {
    "slideshow": {
     "slide_type": "slide"
    }
   },
   "source": [
    "## The Gibbs-Duhem Equation\n",
    "\n",
    "The Gibbs-Duhem equation demonstrates the relationship between all intensive variables of a system.  The implication of this is that if there are $M$ intesive variables of a system, you need only measure $M-1$ of them to get all of them.  Seems unimportant but it isn't."
   ]
  },
  {
   "cell_type": "markdown",
   "id": "11a22dbf",
   "metadata": {
    "slideshow": {
     "slide_type": "slide"
    }
   },
   "source": [
    "To derive the Gibbs-Duhem equation, we start with the fact that the chemical potential of component is the Gibbs free energy per molecule (or mole) of that component.  Thus, we can write the total Gibbs free energy as\n",
    "\n",
    "\\begin{align}\n",
    "G = \\sum_i \\mu_iN_i\n",
    "\\end{align}\n",
    "\n",
    "We now take the differential of both sides to get\n",
    "\n",
    "\\begin{align}\n",
    "dG = \\sum_i \\left[ \\mu_idN_i + N_id\\mu_i\\right]\n",
    "\\end{align}\n",
    "\n",
    "where we use the product rule on each term of the sum.  We now split this into two sums and relate it to the other equation for $dG$ that we have\n",
    "\n",
    "\\begin{align}\n",
    "dG =& \\sum_i  \\mu_idN_i +\\sum_i N_id\\mu_i \\\\\n",
    " =& -SdT + VdP + \\sum_i  \\mu_idN_i\n",
    "\\end{align}\n",
    "\n",
    "now substract $\\sum_i  \\mu_idN_i$ from both sides to get the Gibbs-Duhem equation\n",
    "\n",
    "\\begin{align}\n",
    "\\sum_i N_id\\mu_i =& -SdT + VdP \\\\\n",
    "\\Rightarrow 0 =& -SdT + VdP - \\sum_i N_id\\mu_i\n",
    "\\end{align}\n",
    "\n",
    "where $T$, $P$ and all of the $\\mu_i$s are the intensive variables of the system.  The Gibbs-Duhem equation suggest that state functions exist."
   ]
  },
  {
   "cell_type": "markdown",
   "id": "4bf68fac",
   "metadata": {},
   "source": [
    "## The Gibbs-Duhem Equation for a Two Component Solution\n",
    "\n",
    "For a two component system the Gibbs-Duhem equation is\n",
    "\n",
    "\\begin{align}\n",
    "0 =& -SdT + VdP - N_Ad\\mu_A - N_Bd\\mu_B\n",
    "\\end{align}\n",
    "\n",
    "Under constant $T$ and $P$ conditions this yields\n",
    "\n",
    "\\begin{align}\n",
    "N_Ad\\mu_A &=- N_Bd\\mu_B \n",
    "\\end{align}\n",
    "\n",
    "If we now divide by $N = N_A + N_B$ (constant total number of moles) we get\n",
    "\n",
    "\\begin{align}\n",
    "x_Ad\\mu_A &=- x_Bd\\mu_B \n",
    "\\end{align}\n",
    "\n",
    "where $x_A = \\frac{N_A}{N}$ is the mole fraction of component $A$ and $x_B = \\frac{N_B}{N}$ is the mole fraction of component $B$.  This equation can be rearranged to solve for $d\\mu_A$ or $d\\mu_B$ which is one of the more common forms of the Gibbs-Duhem equation.\n",
    "\n",
    "\\begin{align}\n",
    "d\\mu_A &=- \\frac{x_B}{x_A}d\\mu_B \n",
    "\\end{align}\n",
    "\n",
    "This equation can be used to solve for the chemical potential of one species if you know the chemical potential of the other species as a function of composition ($x_A$ and/or $x_B$)."
   ]
  },
  {
   "cell_type": "markdown",
   "id": "c85c19a1",
   "metadata": {},
   "source": [
    "## Example: The Chemical Potentials of a Two Component Solution\n",
    "\n",
    "Consider a solution of two components held under constant $T$ and $P$.  The chemical potential of component $A$ is determined to obey the functional form $\\mu_A = \\mu_A^* + RT\\ln x_A$, where $\\mu_A^*$ is the chemical potential of pure A, and $x_A$ is the mole fraction of species A.  Show that the chemical potential of species $B$ must be given as $\\mu_B = \\mu_B^* + RT\\ln x_B$, where $\\mu_B^*$ is the chemical potential of pure B, and $x_B$ is the mole fraction of species B. \n"
   ]
  },
  {
   "cell_type": "markdown",
   "id": "2f8beec3",
   "metadata": {},
   "source": [
    "We start with the Gibbs-Duhem relation at constant $P$ and $T$ for a binary system:\n",
    "\\begin{eqnarray}\n",
    "d\\mu_B = -\\frac{x_A}{x_B}d\\mu_A\n",
    "\\end{eqnarray}\n",
    "\n",
    "We now determine the differential of $\\mu_A$ from the equation given:\n",
    "\\begin{eqnarray}\n",
    "\td\\mu_A &=& d(\\mu_A^* + RT\\ln x_A) \\\\\n",
    "\t&=& \\frac{RT}{x_A}dx_A \\\\\n",
    "\t&=& -\\frac{RT}{x_A}dx_B,\n",
    "\\end{eqnarray}\n",
    "\n",
    "where the last equality holds because $x_A + x_B = 1$, or $dx_A = -dx_B$.  Now plug into Gibbs-Duhem and integrate:\n",
    "\\begin{eqnarray}\n",
    "\td\\mu_B &=& -\\frac{x_A}{x_B}\\left( -\\frac{RT}{x_A}dx_B \\right) \\\\\n",
    "\t&=& \\frac{RT}{x_B}dx_B \\\\\n",
    "\t\\Rightarrow \\int_1^{x_B}d\\mu_B &=& \\int_1^{x_B} \\frac{RT}{x_B}dx_B \\\\\n",
    "\t\\mu_B - \\mu^*_B &=& RT\\ln(x_B) \\\\\n",
    "\t\\Rightarrow \\mu_B  &=& \\mu^*_B + RT\\ln(x_B)\n",
    "\\end{eqnarray}"
   ]
  },
  {
   "cell_type": "markdown",
   "id": "760f10f8",
   "metadata": {},
   "source": [
    "## Solutions in Equilibria with their Vapors"
   ]
  },
  {
   "cell_type": "markdown",
   "id": "13a61c45",
   "metadata": {},
   "source": [
    "The discussion thus far has been focused on single phase solutions.  But solutions can also be in equilibrium with their vapors.  Take the example of a solution of water and methanol.  The vapor above this solution will contain both water and methanol (or benzene and toluene).  But, again, clearly water and methanol are not inter converting so what can we say about this situation?\n",
    "\n",
    "In this case, at constant $T$ and $P$ and at equilibrium, the chemical potentials of the vapor and the liquid will be equal for each component.  That is\n",
    "\\begin{eqnarray}\n",
    "\\mu^{sln}_i = \\mu^{vap}_i\n",
    "\\end{eqnarray}\n",
    "or, in the specific case of the binary solution of water and methanol \n",
    "\\begin{eqnarray}\n",
    "\\mu^{sln}_{water} &=& \\mu^{vap}_{water} \\\\\n",
    "\\mu^{sln}_{methanol} &=& \\mu^{vap}_{methanol}\n",
    "\\end{eqnarray}\n",
    "\n",
    "Notice that we do not equate the chemical potentials of species $i$ with species $j\\neq i$ (e.g. chemical potentials of water and methanol are not necessarily the same).  \n",
    "\n",
    "Since we have discussed the chemical potential of a gas, and assuming that the vapor behaves as an ideal gas, we know that we can write\n",
    "\\begin{eqnarray}\n",
    "\\mu^{sln}_i = \\mu^{vap}_i = \\mu_i^\\circ(T) + RT\\ln\\frac{P_i}{P^\\circ},\n",
    "\\end{eqnarray}\n",
    "where $\\mu_i^\\circ(T)$ is the chemical potential of species $i$ under standard conditions ($P^\\circ = 1$ bar). \n",
    "\n",
    "\n",
    "For pure component $i$ we have that\n",
    "\\begin{eqnarray}\n",
    "\\mu^{*}_i(l) = \\mu^{*}_i(vap) = \\mu_i^\\circ(T) + RT\\ln\\frac{P_i^*}{P^\\circ},\n",
    "\\end{eqnarray}\n",
    "where, again, $\\mu_i^\\circ(T)$ is the chemical potential of species $i$ under standard conditions ($P^\\circ = 1$ bar) and $P_i^*$ is the vapor pressure of pure $i$.\n",
    "\n",
    "We can solve the above two equations for $\\mu_i^\\circ(T)$ and equate the resulting relationships to get\n",
    "\\begin{eqnarray}\n",
    "\\mu^{sln}_i = \\mu^{*}_i(l) + RT\\ln\\frac{P_i}{P_i^*}\n",
    "\\end{eqnarray}"
   ]
  }
 ],
 "metadata": {
  "celltoolbar": "Slideshow",
  "kernelspec": {
   "display_name": "Python 3",
   "language": "python",
   "name": "python3"
  },
  "language_info": {
   "codemirror_mode": {
    "name": "ipython",
    "version": 3
   },
   "file_extension": ".py",
   "mimetype": "text/x-python",
   "name": "python",
   "nbconvert_exporter": "python",
   "pygments_lexer": "ipython3",
   "version": "3.8.3"
  }
 },
 "nbformat": 4,
 "nbformat_minor": 5
}