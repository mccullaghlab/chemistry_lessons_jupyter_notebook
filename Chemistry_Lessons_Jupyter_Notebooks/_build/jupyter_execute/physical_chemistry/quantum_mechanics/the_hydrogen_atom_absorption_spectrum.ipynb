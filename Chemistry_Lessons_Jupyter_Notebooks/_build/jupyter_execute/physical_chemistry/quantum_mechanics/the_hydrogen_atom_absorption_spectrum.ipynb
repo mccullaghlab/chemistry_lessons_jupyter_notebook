{
 "cells": [
  {
   "cell_type": "markdown",
   "metadata": {},
   "source": [
    "# The Hydrogen Atom Absorption Spectrum"
   ]
  },
  {
   "cell_type": "markdown",
   "metadata": {},
   "source": [
    "## Motivation:\n",
    "\n",
    "Here we will consider the allowed absorption and emission lines of the model of the hydrogen atom stemming from the Schrodinger equation.  We will also determine the selection rules for absorption/emission."
   ]
  },
  {
   "cell_type": "markdown",
   "metadata": {},
   "source": [
    "## Learning Goals:\n",
    "\n",
    "After working through these notes, you will be able to:\n",
    "\n",
    "1. Compute absorption and emission energies for the hydrogen atom.\n",
    "2. Identify the selection rules for electronic transitions in the hydrogen atom."
   ]
  },
  {
   "cell_type": "markdown",
   "metadata": {},
   "source": [
    "## Coding Concepts:\n",
    "\n",
    "The following coding concepts are used in this notebook:\n",
    "\n",
    "1. [Variables](../../coding_concepts/variables.ipynb)\n",
    "2. [Functions](../../coding_concepts/functions.ipynb)\n",
    "3. [Plotting with matplotlib](../../coding_concepts/plotting_with_matplotlib.ipynb)\n",
    "4. [Numeric Integration](../../coding_concepts/numeric_integration.ipynb)"
   ]
  },
  {
   "cell_type": "markdown",
   "metadata": {},
   "source": [
    "## The Hydrogen Atom Spectrum"
   ]
  },
  {
   "cell_type": "markdown",
   "metadata": {},
   "source": [
    "The allowed energies of the hydrogen atom are\n",
    "\\begin{equation}\n",
    "E_n =  - \\frac{e^2}{8\\pi\\epsilon_0a_0n^2}\n",
    "\\end{equation}\n",
    "\n",
    "An electron can be excited from one state to a higher state when the atom absorbs light of the correct frequency/energy.  The allowed frequencies/energies are dictated by the energy spacings, or differences in energies.\n",
    "\n",
    "For example, if we consider the $n=1$ as the ground state, then the allowed energies are\n",
    "\\begin{equation}\n",
    "\\Delta E = \\frac{e^2}{8\\pi\\epsilon_0a_0}\\left(1 - \\frac{1}{n_2^2}\\right), \\quad n_2=2,3,4...\n",
    "\\end{equation}\n",
    "This series of lines is called the Lyman series.  \n",
    "\n",
    "If we consider the $n=2$ as the ground state, then the allowed energies are \n",
    "\\begin{equation}\n",
    "\\Delta E = \\frac{e^2}{8\\pi\\epsilon_0a_0}\\left(\\frac{1}{4} - \\frac{1}{n_2^2}\\right), \\quad n_2=3,4,5...\n",
    "\\end{equation}\n",
    "This series of lines is called the Balmer series.  \n",
    "\n",
    "Any state can be considered as the ground state and will result in a series of absoprtion lines.  Below is a plot of the lines stemming from the first three states."
   ]
  },
  {
   "cell_type": "code",
   "execution_count": 32,
   "metadata": {
    "tags": [
     "hide_input"
    ]
   },
   "outputs": [
    {
     "data": {
      "image/png": "[encoded data removed]",
      "text/plain": [
       "<Figure size 320x480 with 1 Axes>"
      ]
     },
     "metadata": {
      "filenames": {
       "image/png": "/Users/mmccull/Dropbox/work/chemistry_lessons_jupyter_notebook/Chemistry_Lessons_Jupyter_Notebooks/_build/jupyter_execute/physical_chemistry/quantum_mechanics/the_hydrogen_atom_absorption_spectrum_6_0.png"
      }
     },
     "output_type": "display_data"
    }
   ],
   "source": [
    "# let's plot some radial wavefunctions of the hydrogen atom\n",
    "import matplotlib.pyplot as plt\n",
    "%matplotlib inline\n",
    "import numpy as np\n",
    "\n",
    "fontsize = 16\n",
    "plt.figure(figsize=(4,6),dpi= 80, facecolor='w', edgecolor='k')\n",
    "plt.tick_params(axis='both',labelsize=fontsize)\n",
    "plt.grid(which='major', axis='both', color='#808080', linestyle='--')\n",
    "plt.title(\"Hydrogen Absorption/Emission Line Plot\",fontsize=fontsize)\n",
    "plt.ylabel(r'$E / \\frac{8\\pi\\epsilon_0a_0}{e^2}$',size=fontsize)\n",
    "\n",
    "# parameters for plotting\n",
    "nLimit = 10\n",
    "\n",
    "x = np.arange(0,1,0.01)\n",
    "for n1 in range(1,4):\n",
    "    for n2 in range(n1+1,nLimit+1):\n",
    "        color = \"C\"+str(n1)\n",
    "        En = 1/n1**2-1/n2**2\n",
    "        plt.plot(x,np.ones(x.size)*En, lw=3,c=color)\n",
    "#plt.legend(fontsize=12)\n",
    "plt.show();"
   ]
  },
  {
   "cell_type": "markdown",
   "metadata": {},
   "source": [
    "Here we have presumed that all changes in $n$ are allowed.  Below we will show that this is true but that there are selection rules for the changes in $l$ and $m$ that we need to consider."
   ]
  },
  {
   "cell_type": "markdown",
   "metadata": {},
   "source": [
    "## The Quantum Mechanics of Spectroscopy"
   ]
  },
  {
   "cell_type": "markdown",
   "metadata": {},
   "source": [
    "Various properties of molecules and materials are probed by shining light on the system.  The measurement of absorption or emission from this process is called spectroscopy.  In order to discern what happens to the system when perturbed by this light, we must start by describing the light and ultimately the system dependent operator that allows the system to interact with the light.\n",
    "\n",
    "Light produces a time dependent electromagnetic field, $\\mathbf{E}$, which can be approximatly written as\n",
    "\n",
    "$\\mathbf{E} = \\mathbf{E}_0 cos2\\pi\\nu t$,\n",
    "\n",
    "where $\\nu$ is the frequency of the radiation and $\\mathbf{E}_0$ is the electric field vector.  Note that this field is for monochromatic light and has an explicit time dependence.  \n",
    "\n",
    "The electromagnetic field of the light interacts with the dipole of the system.  Strictly speaking, the interaction of the light with the dipole of the system affects the energy of the system and thus the Hamiltonian that one must consider when solving the Schrodinger equation.  That is, the wavefunction of the molecule is perturbed by the presence of the electromagnetic field.  The perturbation to the Hamiltonian can be written as\n",
    "\n",
    "$\\hat{H}^{(1)} = -\\mathbf{\\mu}\\cdot\\mathbf{E} = -\\mathbf{\\mu}\\cdot\\mathbf{E}_0 cos2\\pi\\nu t$\n",
    "\n",
    "where $\\mathbf{\\mu}$ is the dipole vector of the molecule.  The complete Hamiltonian for the system is then\n",
    "\n",
    "$\\hat{H} = \\hat{H}^{(0)} + \\hat{H}^{(1)}$,\n",
    "\n",
    "where $\\hat{H}^{(0)}$ is the Hamiltonian of the isolated system.   This Hamiltonian has explicit time dependence so we cannot solve the stationary state Schrodinger equation.  This problem can be solved using *time-dependent perturbation theory* but we will not do so now.  Instead we will use some of the results from this solution.  \n"
   ]
  },
  {
   "cell_type": "markdown",
   "metadata": {},
   "source": [
    "### Transition Dipole Moment"
   ]
  },
  {
   "cell_type": "markdown",
   "metadata": {},
   "source": [
    "Time-dependent perturbation theory on the above Hamiltonian leads to defining what is called the *transition dipole moment* for a molecule.  This is defined as\n",
    "\n",
    "$\\langle \\psi_{nlm} | \\mathbf{\\mu} | \\psi_{n'l'm'}\\rangle = \\int_{-\\infty}^{\\infty} \\psi^*_{nlm}\\mathbf{\\mu}\\psi_{n'l'm'}dV$,\n",
    "\n",
    "where $\\psi_{nlm}$ are stationary state solutions of the $\\hat{H}^{(0)}$ Hamiltonian of the Hydrogen atom.  This quantity dictates the absorpition of a transition from state $nlm$ to a state $n'l'm'$.  If this quantity is zero then the transition is *not allowed*, if the quantity is finite, the transition is *allowed*. This will dictate the *selection rules*.\n",
    "\n",
    "To determine this quantity, we start by expresing the dipole vector as a sum of it $x$, $y$, and $x$ contributions:\n",
    "\\begin{equation}\n",
    "\\mathbf{\\mu} = \\mu_x\\mathbf{i} + \\mu_y\\mathbf{j} + \\mu_z\\mathbf{k},\n",
    "\\end{equation}\n",
    "where $\\mathbf{i}$, $\\mathbf{j}$, $\\mathbf{k}$ are unit vectors in the $x$, $y$, and $z$ directions respectively and $\\mu_x = \\mathbf{\\mu}\\cdot\\mathbf{i}$, $\\mu_y = \\mathbf{\\mu}\\cdot\\mathbf{j}$, and $\\mu_z = \\mathbf{\\mu}\\cdot\\mathbf{k}$ are the components of the dipole vector in those directions.\n",
    "\n",
    "Thus, our transition dipole moment can now be expressed as a sum of three terms\n",
    "\n",
    "$\\langle \\psi_{nlm} | \\mathbf{\\mu} | \\psi_{n'l'm'}\\rangle = \\langle \\psi_{nlm} | \\mu_x | \\psi_{n'l'm'}\\rangle\\mathbf{i} + \\langle \\psi_{nlm} | \\mu_y | \\psi_{n'l'm'}\\rangle\\mathbf{j} + \\langle \\psi_{nlm} | \\mu_x | \\psi_{n'l'm'}\\rangle\\mathbf{k}$\n",
    "\n",
    "We now express each of the dipole moment components as a Taylor series expansion truncated at first order analagous to\n",
    "\n",
    "$\\mu_x = \\mu_{0x} + \\left( \\frac{d\\mu_x}{dx}\\right)_0x + ...$\n",
    "\n",
    "where $\\mu_{0x} $ is the dipole moment component at the equilibrium position and $x$ is the displacement from that position.  Substituting this expansion truncated to second order into the component of the transition dipole moment we get\n",
    "\n",
    "$\\langle nlm | \\mu_x | n'l'm'\\rangle = \\mu_{0x} \\langle nlm | n'l'm'\\rangle + \\left( \\frac{d\\mu_x}{dx}\\right)_0 \\langle nlm |x| n'l'm'\\rangle $.\n",
    "\n",
    "Doing a similar procedure for the other two components yields\n",
    "\n",
    "\\begin{align}\n",
    "\\langle nlm | \\mu_y | n'l'm'\\rangle &= \\mu_{0y} \\langle nlm | n'l'm'\\rangle + \\left( \\frac{d\\mu_y}{dy}\\right)_0 \\langle nlm |y| n'l'm'\\rangle \\\\\n",
    "\\langle nlm | \\mu_z | n'l'm'\\rangle &= \\mu_{0z} \\langle nlm | n'l'm'\\rangle + \\left( \\frac{d\\mu_z}{dz}\\right)_0 \\langle nlm |z| n'l'm'\\rangle\n",
    "\\end{align}\n",
    "\n",
    "The first terms in these, the ones that look like $\\mu_{0x} \\langle nlm | n'l'm'\\rangle$, will be zero if any of the quatum number are different due to the orthogonality of the unperturbed Hydrogen atom wave functions.  Thus, these are uninteresting in terms of absorption or emission becuase the are only finite for no change in state and thus no change in energy.  It is the second term in each that we must evaluate to determine the selection rules.\n",
    "\n",
    "Since we have determined the Hydrogen atom wave functions in spherical polar coordinates, we will need to convert the $x$, $y$, and $x$ operators to polar coordinates to assess the selection rules. Namely, we will determine the following expectation values to determine the selection rules\n",
    "\\begin{align}\n",
    "\\langle nlm |x| n'l'm'\\rangle &= \\langle nlm |r\\sin\\theta\\cos\\phi| n'l'm'\\rangle \\\\\n",
    "\\langle nlm |y| n'l'm'\\rangle &= \\langle nlm |r\\sin\\theta\\sin\\phi| n'l'm'\\rangle \\\\\n",
    "\\langle nlm |z| n'l'm'\\rangle &= \\langle nlm |r\\cos\\theta| n'l'm'\\rangle\n",
    "\\end{align}"
   ]
  },
  {
   "cell_type": "markdown",
   "metadata": {},
   "source": [
    "### No selection rules for $r$ and $n$"
   ]
  },
  {
   "cell_type": "markdown",
   "metadata": {},
   "source": [
    "The $r$ dependent terms of the transition dipole moment can be all boiled down to the form\n",
    "\n",
    "\\begin{align}\n",
    "\\langle nl | r | n'l' \\rangle\n",
    "\\end{align}\n",
    "\n",
    "It turns out that these are all finite meaning that there are no limitations on what $n'$ or $l'$ values can be taken based on the radial component of the wave function.\n",
    "\n",
    "Rather than deriving this I show it by numeric integration for a select subset of possible transitions.  We see below that all of these expectation values are finite.  The real implication for this is that transitions are allowed between any primary quantum numbers of the hydrogen atom."
   ]
  },
  {
   "cell_type": "code",
   "execution_count": 9,
   "metadata": {
    "tags": [
     "hide_input"
    ]
   },
   "outputs": [
    {
     "name": "stdout",
     "output_type": "stream",
     "text": [
      "n          l          n'         l'         <R_nl | r | R_n'l'> \n",
      "--------------------------------------------------------------------\n",
      "1          0          1          0          1.5                 \n",
      "1          0          2          0          -0.559              \n",
      "1          0          2          1          1.29                \n",
      "1          0          3          0          -0.244              \n",
      "1          0          3          1          0.517               \n",
      "1          0          3          2          0.385               \n",
      "2          0          1          0          -0.559              \n",
      "2          0          2          0          6.0                 \n",
      "2          0          2          1          -5.196              \n",
      "2          0          3          0          -1.851              \n",
      "2          0          3          1          3.065               \n",
      "2          0          3          2          -5.939              \n",
      "2          1          1          0          1.29                \n",
      "2          1          2          0          -5.196              \n",
      "2          1          2          1          5.0                 \n",
      "2          1          3          0          0.938               \n",
      "2          1          3          1          -1.769              \n",
      "2          1          3          2          4.748               \n",
      "3          0          1          0          -0.244              \n",
      "3          0          2          0          -1.851              \n",
      "3          0          2          1          0.938               \n",
      "3          0          3          0          13.5                \n",
      "3          0          3          1          -12.728             \n",
      "3          0          3          2          9.487               \n",
      "3          1          1          0          0.517               \n",
      "3          1          2          0          3.065               \n",
      "3          1          2          1          -1.769              \n",
      "3          1          3          0          -12.728             \n",
      "3          1          3          1          12.5                \n",
      "3          1          3          2          -10.062             \n",
      "3          2          1          0          0.385               \n",
      "3          2          2          0          -5.939              \n",
      "3          2          2          1          4.748               \n",
      "3          2          3          0          9.487               \n",
      "3          2          3          1          -10.062             \n",
      "3          2          3          2          10.5                \n"
     ]
    }
   ],
   "source": [
    "import numpy as np\n",
    "from scipy import integrate\n",
    "from scipy.special import eval_genlaguerre\n",
    "from scipy.special import factorial\n",
    "a0 = 1.0 # radial unit of Bohr!    \n",
    "def hydrogen_atom_radial_wf(r,n,l):\n",
    "    R_prefactor = -np.sqrt(factorial(n-l-1)/(2*n*factorial(n+l)))*(2.0/(n*a0))**(l+1.5)*np.power(r,l)*np.exp(-r/(n*a0))\n",
    "    return R_prefactor*eval_genlaguerre(n-l-1,2*l+1,2*r/(n*a0))\n",
    "def integrand(r,n1,l1,n2,l2):\n",
    "    return r*r*r*hydrogen_atom_radial_wf(r,n1,l1)*hydrogen_atom_radial_wf(r,n2,l2)\n",
    "\n",
    "print (\"{:<10} {:<10} {:<10} {:<10} {:<20}\".format('n', 'l', 'n\\'', 'l\\'', '<R_nl | r | R_n\\'l\\'>'))\n",
    "print(\"--------------------------------------------------------------------\")\n",
    "for n1 in range(1,4):\n",
    "    for l1 in range(n1):\n",
    "        for n2 in range(1,4):\n",
    "            for l2 in range(n2):\n",
    "                print (\"{:<10} {:<10} {:<10} {:<10} {:<20}\".format(n1, l1, n2, l2, np.round(integrate.quad(integrand,0,np.infty,args=(n1,l1,n2,l2))[0],3)))"
   ]
  },
  {
   "cell_type": "markdown",
   "metadata": {},
   "source": [
    "### Selection rule for $l$ and $m$ from $\\theta$ and $\\phi$"
   ]
  },
  {
   "cell_type": "markdown",
   "metadata": {},
   "source": [
    "The $\\theta$ and $\\phi$ dependent terms of the transition dipole moment are\n",
    "\n",
    "\\begin{align}\n",
    "\\langle lm | &\\sin\\theta\\cos\\phi | l'm' \\rangle \\\\\n",
    "\\langle lm | &\\sin\\theta\\cos\\phi | l'm' \\rangle \\\\\n",
    "\\langle lm | &\\cos\\theta | l'm' \\rangle\n",
    "\\end{align}\n",
    "\n",
    "We will evaluate these terms using numeric integration:"
   ]
  },
  {
   "cell_type": "code",
   "execution_count": 28,
   "metadata": {
    "tags": [
     "hide_input"
    ]
   },
   "outputs": [
    {
     "name": "stdout",
     "output_type": "stream",
     "text": [
      "∆l       ∆m       <Y_lm|sin_theta cos_phi|Y_l'm'>     <Y_lm|sin_theta sin_phi|Y_l'm'>     <Y_lm|cos_theta|Y_l'm'>            \n",
      "------------------------------------------------------------------------------------------------------\n",
      "0        0        0.0                                 0.0                                 0.0                                \n",
      "-1       0        0.0                                 0.0                                 0.577                              \n",
      "-1       -1       -0.408                              -0.408                              0.0                                \n",
      "-2       0        -0.0                                -0.0                                0.0                                \n",
      "-2       -1       -0.0                                -0.0                                -0.0                               \n",
      "-2       -2       -0.0                                -0.0                                -0.0                               \n",
      "1        0        0.0                                 0.0                                 0.577                              \n",
      "0        0        0.0                                 0.0                                 0.0                                \n",
      "0        -1       -0.0                                -0.0                                -0.0                               \n",
      "-1       0        0.0                                 0.0                                 0.516                              \n",
      "-1       -1       -0.316                              -0.316                              -0.0                               \n",
      "-1       -2       -0.0                                -0.0                                -0.0                               \n",
      "1        1        -0.408                              -0.408                              0.0                                \n",
      "0        1        -0.0                                -0.0                                -0.0                               \n",
      "0        0        0.0                                 0.0                                 0.0                                \n",
      "-1       1        0.183                               0.183                               -0.0                               \n",
      "-1       0        0.0                                 0.0                                 0.447                              \n",
      "-1       -1       -0.447                              -0.447                              0.0                                \n",
      "2        0        -0.0                                -0.0                                0.0                                \n",
      "1        0        0.0                                 0.0                                 0.516                              \n",
      "1        -1       0.183                               0.183                               -0.0                               \n",
      "0        0        0.0                                 0.0                                 0.0                                \n",
      "0        -1       -0.0                                -0.0                                -0.0                               \n",
      "0        -2       0.0                                 0.0                                 -0.0                               \n",
      "2        1        -0.0                                -0.0                                -0.0                               \n",
      "1        1        -0.316                              -0.316                              -0.0                               \n",
      "1        0        0.0                                 0.0                                 0.447                              \n",
      "0        1        -0.0                                -0.0                                -0.0                               \n",
      "0        0        0.0                                 0.0                                 0.0                                \n",
      "0        -1       -0.0                                -0.0                                -0.0                               \n",
      "2        2        -0.0                                -0.0                                -0.0                               \n",
      "1        2        -0.0                                -0.0                                -0.0                               \n",
      "1        1        -0.447                              -0.447                              0.0                                \n",
      "0        2        0.0                                 0.0                                 -0.0                               \n",
      "0        1        -0.0                                -0.0                                -0.0                               \n",
      "0        0        0.0                                 0.0                                 0.0                                \n"
     ]
    }
   ],
   "source": [
    "from scipy import integrate\n",
    "from scipy.special import lpmv\n",
    "import numpy as np\n",
    "from scipy.special import factorial\n",
    "\n",
    "def theta_norm(m,l):\n",
    "    return np.sqrt(((2*l+1)*factorial(l-np.abs(m)))/(2*factorial(l+np.abs(m))))\n",
    "def cos_integrand(theta,l1,m1,l2,m2):\n",
    "    return theta*theta_norm(m1,l1)*theta_norm(m2,l2)*lpmv(m1,l1,theta)*lpmv(m2,l2,theta)\n",
    "def sin_integrand(theta,l1,m1,l2,m2):\n",
    "    return np.sin(theta)**2*theta_norm(m1,l1)*theta_norm(m2,l2)*lpmv(m1,l1,np.cos(theta))*lpmv(m2,l2,np.cos(theta))\n",
    "def phi_norm2():\n",
    "    return 1/(2*np.pi)\n",
    "def phi_cos_integrand(phi,m1,m2):\n",
    "    real_part = phi_norm2()*(np.cos(m1*phi)*np.cos(m2*phi)+np.sin(m1*phi)*np.sin(m2*phi))\n",
    "    return np.cos(phi)*real_part\n",
    "def phi_sin_integrand(phi,m1,m2):\n",
    "    real_part = phi_norm2()*(np.cos(m1*phi)*np.cos(m2*phi)+np.sin(m1*phi)*np.sin(m2*phi))\n",
    "    return np.cos(phi)*real_part\n",
    "def phi_integrand(phi,m1,m2):\n",
    "    real_part = phi_norm2()*(np.cos(m1*phi)*np.cos(m2*phi)+np.sin(m1*phi)*np.sin(m2*phi))\n",
    "    return real_part\n",
    "\n",
    "\n",
    "print (\"{:<8} {:<8} {:<35} {:<35} {:<35}\".format('∆l','∆m','<Y_lm|sin_theta cos_phi|Y_l\\'m\\'>', '<Y_lm|sin_theta sin_phi|Y_l\\'m\\'>','<Y_lm|cos_theta|Y_l\\'m\\'>'))\n",
    "print(\"------------------------------------------------------------------------------------------------------\")\n",
    "for l1 in range(3):\n",
    "    for m1 in range(l1+1):\n",
    "        for l2 in range(3):\n",
    "            for m2 in range(l2+1):\n",
    "                sin_theta_cos_phi = integrate.quad(sin_integrand,0,np.pi,args=(l1,m1,l2,m2))[0]*integrate.quad(phi_cos_integrand,0,2*np.pi,args=(m1,m2))[0]\n",
    "                sin_theta_sin_phi = integrate.quad(sin_integrand,0,np.pi,args=(l1,m1,l2,m2))[0]*integrate.quad(phi_sin_integrand,0,2*np.pi,args=(m1,m2))[0]\n",
    "                cos_theta = integrate.quad(cos_integrand,-1,1,args=(l1,m1,l2,m2))[0]*integrate.quad(phi_integrand,0,2*np.pi,args=(m1,m2))[0]                                 \n",
    "                print (\"{:<8} {:<8} {:<35} {:<35} {:<35}\".format(l1-l2,m1-m2,np.round(sin_theta_cos_phi,3),np.round(sin_theta_sin_phi,3),np.round(cos_theta,3)))"
   ]
  },
  {
   "cell_type": "markdown",
   "metadata": {},
   "source": [
    "We see that there are finite values for at least one of the expectation values when\n",
    "\\begin{equation}\n",
    "\\Delta l = \\pm 1 \\\\\n",
    "\\Delta m = 0, \\pm 1\n",
    "\\end{equation}\n",
    "\n",
    "These are the selection rules of the hydrogen atom."
   ]
  },
  {
   "cell_type": "markdown",
   "metadata": {},
   "source": [
    "## Summary of Selection Rules for the Hydrogen Atom"
   ]
  },
  {
   "cell_type": "markdown",
   "metadata": {},
   "source": [
    "A transition from any primary quantum number to any other primary quantum number is allowed.  But, a transition requires a change in the angular momentum quantum number $l$.  This implies that the $1s \\rightarrow 2s$ transition is forbidden.  "
   ]
  }
 ],
 "metadata": {
  "celltoolbar": "Tags",
  "kernelspec": {
   "display_name": "Python 3",
   "language": "python",
   "name": "python3"
  },
  "language_info": {
   "codemirror_mode": {
    "name": "ipython",
    "version": 3
   },
   "file_extension": ".py",
   "mimetype": "text/x-python",
   "name": "python",
   "nbconvert_exporter": "python",
   "pygments_lexer": "ipython3",
   "version": "3.8.8"
  }
 },
 "nbformat": 4,
 "nbformat_minor": 2
}