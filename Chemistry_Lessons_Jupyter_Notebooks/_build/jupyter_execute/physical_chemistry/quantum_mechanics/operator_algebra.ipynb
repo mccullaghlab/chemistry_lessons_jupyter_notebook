{
 "cells": [
  {
   "cell_type": "markdown",
   "metadata": {},
   "source": [
    "# Operator Algebra"
   ]
  },
  {
   "cell_type": "markdown",
   "metadata": {},
   "source": [
    "## Motivation\n",
    "\n",
    "Operators are an important component of quantum mechanics.  Postulate 2 states that all physical observables have an associated (linear and Hermitian) operator.  Each of these operators can be built from the basic position and momentum operators.  To do so, we need to know the rules of operator algebra."
   ]
  },
  {
   "cell_type": "markdown",
   "metadata": {},
   "source": [
    "## Learning Goals\n",
    "\n",
    "After working through these notes, you will be able to:\n",
    "\n",
    "1. Determine if two operators are equal\n",
    "2. Determine the single operator equivalent to the addition of other operators\n",
    "3. Determine the single operator equivalent to the multiplication of other operators\n",
    "4. Determine the commutator of two operators."
   ]
  },
  {
   "cell_type": "markdown",
   "metadata": {},
   "source": [
    "## Coding Concepts\n",
    "\n",
    "The following coding concepts are used in this notebook:\n",
    "\n",
    "1. None. Yet."
   ]
  },
  {
   "cell_type": "markdown",
   "metadata": {},
   "source": [
    "## Operator Equality"
   ]
  },
  {
   "cell_type": "markdown",
   "metadata": {},
   "source": [
    "Two operators $\\hat{A}$ and $\\hat{B}$ are said to be equivalent if they achieve the same result when applied to ***any*** function.  Assuming that $\\hat{A}$ and $\\hat{B}$ depend only on a single variable $x$ then if\n",
    "\\begin{align}\n",
    "\\hat{A}f(x) &= \\hat{B}f(x)\n",
    "\\end{align}\n",
    "for all functions $f(x)$ then $\\hat{A} = \\hat{B}$.\n",
    "\n",
    "It is important to note that it is not assumed that $f(x)$ is an eigenfunction of $\\hat{A}$.  It could be that applying $\\hat{A}$ to $f(x)$ creates a new function $g(x)$, $\\hat{A}f(x) = g(x)$.  In order for $\\hat{A}$ and $\\hat{B}$ to be equal $\\hat{B}f(x)=g(x)$ as well.\n",
    "\n",
    "It is also important to note that this behavior must be consistent for any function $f(x)$.  It is possible to find a particular $f(x)$ for which the result of two different operators is the same.  For example\n",
    "\\begin{align}\n",
    "f(x) &= e^{-x^2} \\\\\n",
    "\\hat{A} &= \\frac{d}{dx} \\\\\n",
    "\\hat{B} &= -2x\n",
    "\\end{align}\n",
    "\n",
    "If we now apply to the two operators to $f(x)$ we get\n",
    "\\begin{align}\n",
    "\\hat{A}f(x) &= \\frac{d}{dx} e^{-x^2} = -2xe^{-x^2} \\\\\n",
    "\\hat{B}f(x) &= -2x e^{-x^2} \n",
    "\\end{align}\n",
    "We see that the result is the same for this particular function.  We cannot say that $\\hat{A}$ and $\\hat{B}$ are equivalent, however, because this behavior does not hold true for other functions (e.g. $f(x) = x^2$)."
   ]
  },
  {
   "cell_type": "markdown",
   "metadata": {},
   "source": [
    "## Operator Addition"
   ]
  },
  {
   "cell_type": "markdown",
   "metadata": {},
   "source": [
    "Operator addition (and substraction) follows what we might consider to be *standard* rules.  That is if\n",
    "\\begin{align}\n",
    "\\hat{A}f &= g \\\\\n",
    "\\hat{B}f &= h\n",
    "\\end{align}\n",
    "then\n",
    "\\begin{align}\n",
    "\\left(\\hat{A} + \\hat{B}\\right)f = \\hat{A}f + \\hat{B}f = g + h\n",
    "\\end{align}\n",
    "\n",
    "This can also be thought of as the distributive law for functions over operators.  "
   ]
  },
  {
   "cell_type": "markdown",
   "metadata": {},
   "source": [
    "### Example: Operator Addition\n",
    "\n",
    "Given $\\hat{A} = \\frac{d}{dx}$ and $\\hat{B} = 3x^2 -x$, determine the result of $(\\hat{A} + \\hat{B})f(x)$ for $f(x) = 3e^{x^2}.\n",
    "\n",
    "\\begin{align}\n",
    "(\\hat{A} + \\hat{B})f(x) &= \\left( \\frac{d}{dx}+  3x^2 -x \\right) 3e^{x^2}  \\\\\n",
    "&= \\frac{d}{dx}\\left(3e^{x^2}\\right) +  3x^2\\left(3e^{x^2}\\right) -x\\left(3e^{x^2}\\right) \\\\\n",
    "&= 6xe^{x^2} +  9x^2e^{x^2} -3xe^{x^2} \\\\\n",
    "&= 3xe^{x^2} +  9x^2e^{x^2} \\\\\n",
    "&= \\left(3x +  9x^2\\right)e^{x^2}\n",
    "\\end{align}"
   ]
  },
  {
   "cell_type": "markdown",
   "metadata": {},
   "source": [
    "## Operator Multiplication"
   ]
  },
  {
   "cell_type": "markdown",
   "metadata": {},
   "source": [
    "Operator multiplication does not follow *standard* rules.  Specifically, some operators do not commute with others.  Operator multiplication, however, is extremely important for building up the set of operators pertaining to observables.  Thus, it is important to define what we mean by\n",
    "\\begin{equation}\n",
    "\\hat{A}\\hat{B}\n",
    "\\end{equation}\n",
    "for generic operators $\\hat{A}$ and $\\hat{B}$.  \n",
    "\n",
    "The operation $\\hat{A}\\hat{B}$ means to first apply operator $\\hat{B}$ to a function and then apply operator $\\hat{A}$.  This is perhaps more concisely written as\n",
    "\\begin{equation}\n",
    "\\hat{A}\\hat{B}f(x) = \\hat{A}\\left[\\hat{B}f(x)\\right]\n",
    "\\end{equation}\n",
    "\n",
    "Note that since operators do not commute we should typically assume that\n",
    "\\begin{equation}\n",
    "\\hat{A}\\hat{B} \\neq \\hat{B}\\hat{A}\n",
    "\\end{equation}\n",
    "\n",
    "This implies that the order in which you apply the operator is hugely important.  "
   ]
  },
  {
   "cell_type": "markdown",
   "metadata": {},
   "source": [
    "### Example: Operator Multiplication\n",
    "\n",
    "Given $\\hat{A} = \\frac{d}{dx}$ and $\\hat{B} = 3x^2 -x$, determine the result of $\\hat{A}\\hat{B}f(x)$ and $\\hat{B}\\hat{A}f(x)$ for $f(x) = 3e^{x^2}$.\n",
    "\n",
    "\\begin{align}\n",
    "\\hat{A}\\hat{B}f(x) &= \\frac{d}{dx}\\left[\\left( 3x^2 -x \\right) 3e^{x^2}\\right]  \\\\\n",
    "&= \\frac{d}{dx}\\left[9x^2e^{x^2} -3xe^{x^2}\\right] \\\\\n",
    "&= \\frac{d}{dx}\\left(9x^2e^{x^2}\\right) -\\frac{d}{dx}\\left(3xe^{x^2}\\right) \\\\\n",
    "&= 18xe^{x^2} + 18x^3e^{x^2}  -3e^{x^2} - 6x^2e^{x^2} \\\\\n",
    "&= \\left( 6x^3 - 2x^2 + 6x -1 \\right)3e^{x^2}\n",
    "\\end{align}\n",
    "\n",
    "\\begin{align}\n",
    "\\hat{B}\\hat{A}f(x) &= \\left( 3x^2 -x \\right) \\left[\\frac{d}{dx}3e^{x^2}\\right]  \\\\\n",
    "&= \\left( 3x^2 -x \\right)\\left( 6xe^{x^2}\\right) \\\\\n",
    "&= \\left( 3x^3 -2x^2 \\right) 3e^{x^2}\n",
    "\\end{align}"
   ]
  },
  {
   "cell_type": "markdown",
   "metadata": {},
   "source": [
    "## Operator Commutation"
   ]
  },
  {
   "cell_type": "markdown",
   "metadata": {},
   "source": [
    "Whether operators commute or not turns out to be quite important in quantum mechanics.  We define the ***commutator*** of two operators as\n",
    "\\begin{equation}\n",
    "\\left[\\hat{A},\\hat{B}\\right] = \\hat{A}\\hat{B} - \\hat{B}\\hat{A}\n",
    "\\end{equation}\n",
    "\n",
    "If this value is zero then the operators commute.  If this value is non-zero, the operators do not commute.  We determine a commutator for arbitrary function."
   ]
  },
  {
   "cell_type": "markdown",
   "metadata": {},
   "source": [
    "### Example: Commutators\n",
    "\n",
    "Estimate the commutator of $\\hat{A} = \\frac{d}{dx}$ and $\\hat{B} = 3x^2 -x$.\n",
    "\n",
    "We know that these two operators don't commute. Let's compute the commutator, however.\n",
    "\n",
    "\\begin{align}\n",
    "[\\hat{A},\\hat{B}]f(x) &= [\\hat{A}\\hat{B} - \\hat{B}\\hat{A}]f(x) \\\\\n",
    "&= \\hat{A}\\hat{B}f(x) - \\hat{B}\\hat{A}]f(x) \\\\\n",
    "&= \\frac{d}{dx}\\left[\\left( 3x^2 -x \\right) f(x)\\right] - \\left( 3x^2 -x \\right) \\left[\\frac{d}{dx}f(x)\\right] \\\\\n",
    "&= \\frac{d}{dx}\\left( 3x^2f -xf \\right)- \\left( 3x^2 -x \\right)\\frac{df}{dx} \\\\\n",
    "&=  6xf + 3x^2\\frac{df}{dx} - f - x\\frac{df}{dx} - 3x^2\\frac{df}{dx} +x\\frac{df}{dx} \\\\\n",
    "&=  (6x-1)f \n",
    "\\end{align}\n",
    "Thus,\n",
    "\\begin{align}\n",
    "[\\hat{A},\\hat{B}] = 6x-1\n",
    "\\end{align}\n",
    "\n",
    "We see that if we plug in that $f(x) = 3e^{x^2}$ and substract the commutator will be the same as the difference between the two answers in the multiplication example."
   ]
  }
 ],
 "metadata": {
  "kernelspec": {
   "display_name": "Python 3",
   "language": "python",
   "name": "python3"
  },
  "language_info": {
   "codemirror_mode": {
    "name": "ipython",
    "version": 3
   },
   "file_extension": ".py",
   "mimetype": "text/x-python",
   "name": "python",
   "nbconvert_exporter": "python",
   "pygments_lexer": "ipython3",
   "version": "3.8.8"
  }
 },
 "nbformat": 4,
 "nbformat_minor": 4
}