{
 "cells": [
  {
   "cell_type": "markdown",
   "id": "755a44c1",
   "metadata": {},
   "source": [
    "# Schrodinger Equation"
   ]
  },
  {
   "cell_type": "markdown",
   "id": "a16126c5",
   "metadata": {},
   "source": [
    "## Motivation\n",
    "\n",
    "The Schrodinger equation is the fundamental equation of quantum mechanics.  In these notes, we introduce the Schrodinger equation and its relationship to the classical wave equation.  Motivated by the Hamiltonian operator in the Schrodinger equation, we then introduce the concept of operators in quantum mechanics.  "
   ]
  },
  {
   "cell_type": "markdown",
   "id": "81b60acf",
   "metadata": {},
   "source": [
    "## Learning Goals\n",
    "\n",
    "After working through these notes, you will be able to:\n",
    "\n",
    "1. Write out and identify the Schrodinger equation\n",
    "2. Demonstrate the equivalence of the Schrodinger equation and the classical wave equation\n",
    "3. Define an opertor\n",
    "4. Apply operators to functions \n",
    "5. Define a linear operator\n",
    "6. Identify linear operators"
   ]
  },
  {
   "cell_type": "markdown",
   "id": "34fa8922",
   "metadata": {},
   "source": [
    "## Coding Concepts\n",
    "\n",
    "No coding concepts are used.  Yet."
   ]
  },
  {
   "cell_type": "markdown",
   "id": "ae8e62be",
   "metadata": {},
   "source": [
    "## Schrodinger Equation from the Classical Wave Equation"
   ]
  },
  {
   "cell_type": "markdown",
   "id": "c16ddf93",
   "metadata": {},
   "source": [
    "The Schrodinger equation is the basis for all of the quantum mechanics we will discuss in this class.  Specifically, the time independent Schrodinger equation is all we will discuss in this class.  This equation has the well known form\n",
    "\\begin{equation}\n",
    "\\hat{H}\\Psi = E\\Psi\n",
    "\\end{equation}\n",
    "where $\\bar{H}$ is the Hamiltonian operator, $\\Psi$ is the wave function, and $E$ is the energy.  This equation cannot be derived from any more basic equations, rather we have to accept the Schrodinger equations as one of the postulates of quantum mechanics.  \n",
    "\n",
    "The classical wave equation can be manipulated into a Schrodinger equation.  To see this, recall that the classical wave equation can be written as \n",
    "\\begin{equation}\n",
    "\\frac{d^2\\psi(x)}{dx^2} + \\frac{\\omega^2}{v^2}\\psi(x) = 0\n",
    "\\end{equation}\n",
    "for solution\n",
    "\\begin{equation}\n",
    "u(x,t) = \\psi(x)\\cos\\omega t\n",
    "\\end{equation}\n",
    "\n",
    "Now recall that $\\omega = 2\\pi\\nu$ and $v = \\nu\\lambda$ meaning we can write the differential equation as\n",
    "\\begin{align}\n",
    "&\\frac{d^2\\psi(x)}{dx^2} + \\frac{4\\pi^2\\nu^2}{\\nu^2\\lambda^2}\\psi(x) = 0 \\\\\n",
    "&= \\frac{d^2\\psi(x)}{dx^2} + \\frac{4\\pi^2}{\\lambda^2}\\psi(x) = 0\n",
    "\\end{align}\n",
    "\n",
    "Now recall from the de Broglie wave equation that we can write\n",
    "\\begin{align}\n",
    "\\lambda &= \\frac{h}{mv} \\\\\n",
    "&= \\frac{h}{\\sqrt{2m[E-V(x)]}}\n",
    "\\end{align}\n",
    "where the last equality holds because $E = K + V = \\frac{1}{2}mv^2 + V$.  Plugging this relationship in for $\\lambda$ in the classical wave equation we get\n",
    "\\begin{align}\n",
    "&\\frac{d^2\\psi(x)}{dx^2} + \\frac{4\\pi^2\\cdot2m[E-V(x)]}{2mh^2}\\psi(x) = 0 \\\\\n",
    "=& \\frac{d^2\\psi(x)}{dx^2} + \\frac{2m[E-V(x)]}{\\hbar^2}\\psi(x) = 0 \\\\\n",
    "\\Rightarrow &  \\frac{-\\hbar^2}{2m}\\frac{d^2\\psi(x)}{dx^2}  + V(x)\\psi(x) =  E\\psi(x) \\\\\n",
    "\\end{align}\n",
    "\n",
    "We see that this looks like the Schrodinger equation with \n",
    "\\begin{equation}\n",
    "\\hat{H} =  \\frac{-\\hbar^2}{2m}\\frac{d^2}{dx^2}  + V(x)\n",
    "\\end{equation}"
   ]
  },
  {
   "cell_type": "markdown",
   "id": "15702c33",
   "metadata": {},
   "source": [
    "## Operators"
   ]
  },
  {
   "cell_type": "markdown",
   "id": "4761bdc4",
   "metadata": {},
   "source": [
    "We see that the Hamiltonian in the Schrodinger equation is an *operator*.  Operators are symbols that describe performing a mathematical operation.  Examples of operators include derivative with respect to $x$, $\\frac{d}{dx}$, multiply by $x$, simply denoted $x$, and integrate, denoted $\\int$.  \n",
    "\n",
    "We denote generic operators by characters (often capital letters) with hats over them.  For example below we define the operator $\\hat{A}$ as the first derivative with respect to $x$:\n",
    "\\begin{equation}\n",
    "\\hat{A} = \\frac{d}{dx}\n",
    "\\end{equation}\n",
    "Operators by themselves are pretty useless.  The must be applied to a function. We might apply the operator $\\hat{A}$, above, a generic function of one dimension:\n",
    "\\begin{align}\n",
    "\\hat{A}f(x) = \\frac{d}{dx}f(x) = \\frac{df}{dx}\n",
    "\\end{align}\n",
    "\n",
    "If we know the specific function, $f(x) = 2x$ for example, we can determine the result of operating $\\hat{A}$ on $f(x)$:\n",
    "\\begin{align}\n",
    "\\hat{A}f(x) = \\frac{d2x}{dx} = 2\n",
    "\\end{align}\n",
    "\n",
    "Operators are very important in quantum mechanics.  Specifically, applying operators to the wavefunction for a system can be used to determine physical obervables for that system.  Below is a table of classical observables and the corresponding quantum mechanical operator. "
   ]
  },
  {
   "cell_type": "markdown",
   "id": "611dfd68",
   "metadata": {},
   "source": [
    "Classical and quantum correspondence. \n",
    "![operators](img/operators.png)"
   ]
  },
  {
   "cell_type": "markdown",
   "id": "72ea33b1",
   "metadata": {},
   "source": [
    "Operators can be divided into linear operators and non-linear operators.  We will focus on linear operators."
   ]
  },
  {
   "cell_type": "markdown",
   "id": "afe03331",
   "metadata": {},
   "source": [
    "### Example: Operators\n",
    "\n",
    "Perform the following operations\n",
    "\n",
    "1. $\\hat{A}(2x)$, $\\hat{A} = \\frac{d^2}{dx^2}$\n",
    "2. $\\hat{A}(x^2)$, $\\hat{A} = \\frac{d^2}{dx^2} + 2\\frac{d}{dx} + 3$\n",
    "3. $\\hat{A}(xy^3)$, $\\hat{A} = \\frac{\\partial}{\\partial y}$"
   ]
  },
  {
   "cell_type": "markdown",
   "id": "d3f9ae1b",
   "metadata": {},
   "source": [
    "### Linear Operators"
   ]
  },
  {
   "cell_type": "markdown",
   "id": "ae45183f",
   "metadata": {},
   "source": [
    "A linear operator, $\\hat{A}$, has the following property:\n",
    "\n",
    "$\\hat{A} \\left[ c_1f_1(x) + c_2f_2(x)\\right] = c_1\\hat{A}f_1(x) + c_2\\hat{A}f_2(x)$\n",
    "\n",
    "There are plenty of examples of linear operators including differentiation and integration.  Taking the square root, however, is an example of an operator that is *not* linear.  \n",
    "\n",
    "In order to determine if an operator is linear, we must apply it to a sum of arbitrary functions and demonstrate that the above equality holds.  "
   ]
  },
  {
   "cell_type": "markdown",
   "id": "28fbb048",
   "metadata": {},
   "source": [
    "### Example: Linear Operators\n",
    "\n",
    "Which of the following are linear operators?\n",
    "\n",
    "1. $\\hat{A} = \\frac{d}{dx}$\n",
    "2. $\\hat{A} = \\sqrt{}$\n",
    "3. $\\hat{A} = \\frac{\\partial}{\\partial y} + \\frac{\\partial}{\\partial x}$\n"
   ]
  }
 ],
 "metadata": {
  "kernelspec": {
   "display_name": "Python 3",
   "language": "python",
   "name": "python3"
  },
  "language_info": {
   "codemirror_mode": {
    "name": "ipython",
    "version": 3
   },
   "file_extension": ".py",
   "mimetype": "text/x-python",
   "name": "python",
   "nbconvert_exporter": "python",
   "pygments_lexer": "ipython3",
   "version": "3.8.8"
  }
 },
 "nbformat": 4,
 "nbformat_minor": 5
}