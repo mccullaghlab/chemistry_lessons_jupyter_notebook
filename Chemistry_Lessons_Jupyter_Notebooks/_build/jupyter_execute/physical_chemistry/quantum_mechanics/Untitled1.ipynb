{
 "cells": [
  {
   "cell_type": "code",
   "execution_count": 1,
   "id": "05288e17",
   "metadata": {},
   "outputs": [
    {
     "ename": "ValueError",
     "evalue": "keyword grid_b is not recognized; valid keywords are ['size', 'width', 'color', 'tickdir', 'pad', 'labelsize', 'labelcolor', 'zorder', 'gridOn', 'tick1On', 'tick2On', 'label1On', 'label2On', 'length', 'direction', 'left', 'bottom', 'right', 'top', 'labelleft', 'labelbottom', 'labelright', 'labeltop', 'labelrotation', 'grid_agg_filter', 'grid_alpha', 'grid_animated', 'grid_antialiased', 'grid_clip_box', 'grid_clip_on', 'grid_clip_path', 'grid_color', 'grid_dash_capstyle', 'grid_dash_joinstyle', 'grid_dashes', 'grid_data', 'grid_drawstyle', 'grid_figure', 'grid_fillstyle', 'grid_gapcolor', 'grid_gid', 'grid_in_layout', 'grid_label', 'grid_linestyle', 'grid_linewidth', 'grid_marker', 'grid_markeredgecolor', 'grid_markeredgewidth', 'grid_markerfacecolor', 'grid_markerfacecoloralt', 'grid_markersize', 'grid_markevery', 'grid_mouseover', 'grid_path_effects', 'grid_picker', 'grid_pickradius', 'grid_rasterized', 'grid_sketch_params', 'grid_snap', 'grid_solid_capstyle', 'grid_solid_joinstyle', 'grid_transform', 'grid_url', 'grid_visible', 'grid_xdata', 'grid_ydata', 'grid_zorder', 'grid_aa', 'grid_c', 'grid_ds', 'grid_ls', 'grid_lw', 'grid_mec', 'grid_mew', 'grid_mfc', 'grid_mfcalt', 'grid_ms']",
     "output_type": "error",
     "traceback": [
      "\u001b[0;31m---------------------------------------------------------------------------\u001b[0m",
      "\u001b[0;31mValueError\u001b[0m                                Traceback (most recent call last)",
      "Cell \u001b[0;32mIn[1], line 9\u001b[0m\n\u001b[1;32m      7\u001b[0m plt\u001b[38;5;241m.\u001b[39mfigure(figsize\u001b[38;5;241m=\u001b[39m(\u001b[38;5;241m12\u001b[39m,\u001b[38;5;241m6\u001b[39m),dpi\u001b[38;5;241m=\u001b[39m \u001b[38;5;241m80\u001b[39m, facecolor\u001b[38;5;241m=\u001b[39m\u001b[38;5;124m'\u001b[39m\u001b[38;5;124mw\u001b[39m\u001b[38;5;124m'\u001b[39m, edgecolor\u001b[38;5;241m=\u001b[39m\u001b[38;5;124m'\u001b[39m\u001b[38;5;124mk\u001b[39m\u001b[38;5;124m'\u001b[39m)\n\u001b[1;32m      8\u001b[0m plt\u001b[38;5;241m.\u001b[39mtick_params(axis\u001b[38;5;241m=\u001b[39m\u001b[38;5;124m'\u001b[39m\u001b[38;5;124mboth\u001b[39m\u001b[38;5;124m'\u001b[39m,labelsize\u001b[38;5;241m=\u001b[39m\u001b[38;5;241m20\u001b[39m)\n\u001b[0;32m----> 9\u001b[0m \u001b[43mplt\u001b[49m\u001b[38;5;241;43m.\u001b[39;49m\u001b[43mgrid\u001b[49m\u001b[43m(\u001b[49m\u001b[43mb\u001b[49m\u001b[38;5;241;43m=\u001b[39;49m\u001b[38;5;28;43;01mTrue\u001b[39;49;00m\u001b[43m,\u001b[49m\u001b[43m \u001b[49m\u001b[43mwhich\u001b[49m\u001b[38;5;241;43m=\u001b[39;49m\u001b[38;5;124;43m'\u001b[39;49m\u001b[38;5;124;43mmajor\u001b[39;49m\u001b[38;5;124;43m'\u001b[39;49m\u001b[43m,\u001b[49m\u001b[43m \u001b[49m\u001b[43maxis\u001b[49m\u001b[38;5;241;43m=\u001b[39;49m\u001b[38;5;124;43m'\u001b[39;49m\u001b[38;5;124;43mboth\u001b[39;49m\u001b[38;5;124;43m'\u001b[39;49m\u001b[43m,\u001b[49m\u001b[43m \u001b[49m\u001b[43mcolor\u001b[49m\u001b[38;5;241;43m=\u001b[39;49m\u001b[38;5;124;43m'\u001b[39;49m\u001b[38;5;124;43m#808080\u001b[39;49m\u001b[38;5;124;43m'\u001b[39;49m\u001b[43m,\u001b[49m\u001b[43m \u001b[49m\u001b[43mlinestyle\u001b[49m\u001b[38;5;241;43m=\u001b[39;49m\u001b[38;5;124;43m'\u001b[39;49m\u001b[38;5;124;43m--\u001b[39;49m\u001b[38;5;124;43m'\u001b[39;49m\u001b[43m)\u001b[49m\n\u001b[1;32m     10\u001b[0m \u001b[38;5;28;01mfor\u001b[39;00m l \u001b[38;5;129;01min\u001b[39;00m \u001b[38;5;28mrange\u001b[39m(\u001b[38;5;241m2\u001b[39m):\n\u001b[1;32m     11\u001b[0m     \u001b[38;5;28;01mfor\u001b[39;00m m \u001b[38;5;129;01min\u001b[39;00m \u001b[38;5;28mrange\u001b[39m(\u001b[38;5;241m-\u001b[39ml,l\u001b[38;5;241m+\u001b[39m\u001b[38;5;241m1\u001b[39m):\n",
      "File \u001b[0;32m~/opt/anaconda3/lib/python3.8/site-packages/matplotlib/pyplot.py:2616\u001b[0m, in \u001b[0;36mgrid\u001b[0;34m(visible, which, axis, **kwargs)\u001b[0m\n\u001b[1;32m   2614\u001b[0m \u001b[38;5;129m@_copy_docstring_and_deprecators\u001b[39m(Axes\u001b[38;5;241m.\u001b[39mgrid)\n\u001b[1;32m   2615\u001b[0m \u001b[38;5;28;01mdef\u001b[39;00m \u001b[38;5;21mgrid\u001b[39m(visible\u001b[38;5;241m=\u001b[39m\u001b[38;5;28;01mNone\u001b[39;00m, which\u001b[38;5;241m=\u001b[39m\u001b[38;5;124m'\u001b[39m\u001b[38;5;124mmajor\u001b[39m\u001b[38;5;124m'\u001b[39m, axis\u001b[38;5;241m=\u001b[39m\u001b[38;5;124m'\u001b[39m\u001b[38;5;124mboth\u001b[39m\u001b[38;5;124m'\u001b[39m, \u001b[38;5;241m*\u001b[39m\u001b[38;5;241m*\u001b[39mkwargs):\n\u001b[0;32m-> 2616\u001b[0m     \u001b[38;5;28;01mreturn\u001b[39;00m \u001b[43mgca\u001b[49m\u001b[43m(\u001b[49m\u001b[43m)\u001b[49m\u001b[38;5;241;43m.\u001b[39;49m\u001b[43mgrid\u001b[49m\u001b[43m(\u001b[49m\u001b[43mvisible\u001b[49m\u001b[38;5;241;43m=\u001b[39;49m\u001b[43mvisible\u001b[49m\u001b[43m,\u001b[49m\u001b[43m \u001b[49m\u001b[43mwhich\u001b[49m\u001b[38;5;241;43m=\u001b[39;49m\u001b[43mwhich\u001b[49m\u001b[43m,\u001b[49m\u001b[43m \u001b[49m\u001b[43maxis\u001b[49m\u001b[38;5;241;43m=\u001b[39;49m\u001b[43maxis\u001b[49m\u001b[43m,\u001b[49m\u001b[43m \u001b[49m\u001b[38;5;241;43m*\u001b[39;49m\u001b[38;5;241;43m*\u001b[39;49m\u001b[43mkwargs\u001b[49m\u001b[43m)\u001b[49m\n",
      "File \u001b[0;32m~/opt/anaconda3/lib/python3.8/site-packages/matplotlib/axes/_base.py:3194\u001b[0m, in \u001b[0;36m_AxesBase.grid\u001b[0;34m(self, visible, which, axis, **kwargs)\u001b[0m\n\u001b[1;32m   3192\u001b[0m _api\u001b[38;5;241m.\u001b[39mcheck_in_list([\u001b[38;5;124m'\u001b[39m\u001b[38;5;124mx\u001b[39m\u001b[38;5;124m'\u001b[39m, \u001b[38;5;124m'\u001b[39m\u001b[38;5;124my\u001b[39m\u001b[38;5;124m'\u001b[39m, \u001b[38;5;124m'\u001b[39m\u001b[38;5;124mboth\u001b[39m\u001b[38;5;124m'\u001b[39m], axis\u001b[38;5;241m=\u001b[39maxis)\n\u001b[1;32m   3193\u001b[0m \u001b[38;5;28;01mif\u001b[39;00m axis \u001b[38;5;129;01min\u001b[39;00m [\u001b[38;5;124m'\u001b[39m\u001b[38;5;124mx\u001b[39m\u001b[38;5;124m'\u001b[39m, \u001b[38;5;124m'\u001b[39m\u001b[38;5;124mboth\u001b[39m\u001b[38;5;124m'\u001b[39m]:\n\u001b[0;32m-> 3194\u001b[0m     \u001b[38;5;28;43mself\u001b[39;49m\u001b[38;5;241;43m.\u001b[39;49m\u001b[43mxaxis\u001b[49m\u001b[38;5;241;43m.\u001b[39;49m\u001b[43mgrid\u001b[49m\u001b[43m(\u001b[49m\u001b[43mvisible\u001b[49m\u001b[43m,\u001b[49m\u001b[43m \u001b[49m\u001b[43mwhich\u001b[49m\u001b[38;5;241;43m=\u001b[39;49m\u001b[43mwhich\u001b[49m\u001b[43m,\u001b[49m\u001b[43m \u001b[49m\u001b[38;5;241;43m*\u001b[39;49m\u001b[38;5;241;43m*\u001b[39;49m\u001b[43mkwargs\u001b[49m\u001b[43m)\u001b[49m\n\u001b[1;32m   3195\u001b[0m \u001b[38;5;28;01mif\u001b[39;00m axis \u001b[38;5;129;01min\u001b[39;00m [\u001b[38;5;124m'\u001b[39m\u001b[38;5;124my\u001b[39m\u001b[38;5;124m'\u001b[39m, \u001b[38;5;124m'\u001b[39m\u001b[38;5;124mboth\u001b[39m\u001b[38;5;124m'\u001b[39m]:\n\u001b[1;32m   3196\u001b[0m     \u001b[38;5;28mself\u001b[39m\u001b[38;5;241m.\u001b[39myaxis\u001b[38;5;241m.\u001b[39mgrid(visible, which\u001b[38;5;241m=\u001b[39mwhich, \u001b[38;5;241m*\u001b[39m\u001b[38;5;241m*\u001b[39mkwargs)\n",
      "File \u001b[0;32m~/opt/anaconda3/lib/python3.8/site-packages/matplotlib/axis.py:1660\u001b[0m, in \u001b[0;36mAxis.grid\u001b[0;34m(self, visible, which, **kwargs)\u001b[0m\n\u001b[1;32m   1657\u001b[0m \u001b[38;5;28;01mif\u001b[39;00m which \u001b[38;5;129;01min\u001b[39;00m [\u001b[38;5;124m'\u001b[39m\u001b[38;5;124mmajor\u001b[39m\u001b[38;5;124m'\u001b[39m, \u001b[38;5;124m'\u001b[39m\u001b[38;5;124mboth\u001b[39m\u001b[38;5;124m'\u001b[39m]:\n\u001b[1;32m   1658\u001b[0m     gridkw[\u001b[38;5;124m'\u001b[39m\u001b[38;5;124mgridOn\u001b[39m\u001b[38;5;124m'\u001b[39m] \u001b[38;5;241m=\u001b[39m (\u001b[38;5;129;01mnot\u001b[39;00m \u001b[38;5;28mself\u001b[39m\u001b[38;5;241m.\u001b[39m_major_tick_kw[\u001b[38;5;124m'\u001b[39m\u001b[38;5;124mgridOn\u001b[39m\u001b[38;5;124m'\u001b[39m]\n\u001b[1;32m   1659\u001b[0m                         \u001b[38;5;28;01mif\u001b[39;00m visible \u001b[38;5;129;01mis\u001b[39;00m \u001b[38;5;28;01mNone\u001b[39;00m \u001b[38;5;28;01melse\u001b[39;00m visible)\n\u001b[0;32m-> 1660\u001b[0m     \u001b[38;5;28;43mself\u001b[39;49m\u001b[38;5;241;43m.\u001b[39;49m\u001b[43mset_tick_params\u001b[49m\u001b[43m(\u001b[49m\u001b[43mwhich\u001b[49m\u001b[38;5;241;43m=\u001b[39;49m\u001b[38;5;124;43m'\u001b[39;49m\u001b[38;5;124;43mmajor\u001b[39;49m\u001b[38;5;124;43m'\u001b[39;49m\u001b[43m,\u001b[49m\u001b[43m \u001b[49m\u001b[38;5;241;43m*\u001b[39;49m\u001b[38;5;241;43m*\u001b[39;49m\u001b[43mgridkw\u001b[49m\u001b[43m)\u001b[49m\n\u001b[1;32m   1661\u001b[0m \u001b[38;5;28mself\u001b[39m\u001b[38;5;241m.\u001b[39mstale \u001b[38;5;241m=\u001b[39m \u001b[38;5;28;01mTrue\u001b[39;00m\n",
      "File \u001b[0;32m~/opt/anaconda3/lib/python3.8/site-packages/matplotlib/axis.py:932\u001b[0m, in \u001b[0;36mAxis.set_tick_params\u001b[0;34m(self, which, reset, **kwargs)\u001b[0m\n\u001b[1;32m    919\u001b[0m \u001b[38;5;250m\u001b[39m\u001b[38;5;124;03m\"\"\"\u001b[39;00m\n\u001b[1;32m    920\u001b[0m \u001b[38;5;124;03mSet appearance parameters for ticks, ticklabels, and gridlines.\u001b[39;00m\n\u001b[1;32m    921\u001b[0m \n\u001b[0;32m   (...)\u001b[0m\n\u001b[1;32m    929\u001b[0m \u001b[38;5;124;03m    gridlines.\u001b[39;00m\n\u001b[1;32m    930\u001b[0m \u001b[38;5;124;03m\"\"\"\u001b[39;00m\n\u001b[1;32m    931\u001b[0m _api\u001b[38;5;241m.\u001b[39mcheck_in_list([\u001b[38;5;124m'\u001b[39m\u001b[38;5;124mmajor\u001b[39m\u001b[38;5;124m'\u001b[39m, \u001b[38;5;124m'\u001b[39m\u001b[38;5;124mminor\u001b[39m\u001b[38;5;124m'\u001b[39m, \u001b[38;5;124m'\u001b[39m\u001b[38;5;124mboth\u001b[39m\u001b[38;5;124m'\u001b[39m], which\u001b[38;5;241m=\u001b[39mwhich)\n\u001b[0;32m--> 932\u001b[0m kwtrans \u001b[38;5;241m=\u001b[39m \u001b[38;5;28;43mself\u001b[39;49m\u001b[38;5;241;43m.\u001b[39;49m\u001b[43m_translate_tick_params\u001b[49m\u001b[43m(\u001b[49m\u001b[43mkwargs\u001b[49m\u001b[43m)\u001b[49m\n\u001b[1;32m    934\u001b[0m \u001b[38;5;66;03m# the kwargs are stored in self._major/minor_tick_kw so that any\u001b[39;00m\n\u001b[1;32m    935\u001b[0m \u001b[38;5;66;03m# future new ticks will automatically get them\u001b[39;00m\n\u001b[1;32m    936\u001b[0m \u001b[38;5;28;01mif\u001b[39;00m reset:\n",
      "File \u001b[0;32m~/opt/anaconda3/lib/python3.8/site-packages/matplotlib/axis.py:1076\u001b[0m, in \u001b[0;36mAxis._translate_tick_params\u001b[0;34m(kw, reverse)\u001b[0m\n\u001b[1;32m   1074\u001b[0m \u001b[38;5;28;01mfor\u001b[39;00m key \u001b[38;5;129;01min\u001b[39;00m kw_:\n\u001b[1;32m   1075\u001b[0m     \u001b[38;5;28;01mif\u001b[39;00m key \u001b[38;5;129;01mnot\u001b[39;00m \u001b[38;5;129;01min\u001b[39;00m allowed_keys:\n\u001b[0;32m-> 1076\u001b[0m         \u001b[38;5;28;01mraise\u001b[39;00m \u001b[38;5;167;01mValueError\u001b[39;00m(\n\u001b[1;32m   1077\u001b[0m             \u001b[38;5;124m\"\u001b[39m\u001b[38;5;124mkeyword \u001b[39m\u001b[38;5;132;01m%s\u001b[39;00m\u001b[38;5;124m is not recognized; valid keywords are \u001b[39m\u001b[38;5;132;01m%s\u001b[39;00m\u001b[38;5;124m\"\u001b[39m\n\u001b[1;32m   1078\u001b[0m             \u001b[38;5;241m%\u001b[39m (key, allowed_keys))\n\u001b[1;32m   1079\u001b[0m kwtrans\u001b[38;5;241m.\u001b[39mupdate(kw_)\n\u001b[1;32m   1080\u001b[0m \u001b[38;5;28;01mreturn\u001b[39;00m kwtrans\n",
      "\u001b[0;31mValueError\u001b[0m: keyword grid_b is not recognized; valid keywords are ['size', 'width', 'color', 'tickdir', 'pad', 'labelsize', 'labelcolor', 'zorder', 'gridOn', 'tick1On', 'tick2On', 'label1On', 'label2On', 'length', 'direction', 'left', 'bottom', 'right', 'top', 'labelleft', 'labelbottom', 'labelright', 'labeltop', 'labelrotation', 'grid_agg_filter', 'grid_alpha', 'grid_animated', 'grid_antialiased', 'grid_clip_box', 'grid_clip_on', 'grid_clip_path', 'grid_color', 'grid_dash_capstyle', 'grid_dash_joinstyle', 'grid_dashes', 'grid_data', 'grid_drawstyle', 'grid_figure', 'grid_fillstyle', 'grid_gapcolor', 'grid_gid', 'grid_in_layout', 'grid_label', 'grid_linestyle', 'grid_linewidth', 'grid_marker', 'grid_markeredgecolor', 'grid_markeredgewidth', 'grid_markerfacecolor', 'grid_markerfacecoloralt', 'grid_markersize', 'grid_markevery', 'grid_mouseover', 'grid_path_effects', 'grid_picker', 'grid_pickradius', 'grid_rasterized', 'grid_sketch_params', 'grid_snap', 'grid_solid_capstyle', 'grid_solid_joinstyle', 'grid_transform', 'grid_url', 'grid_visible', 'grid_xdata', 'grid_ydata', 'grid_zorder', 'grid_aa', 'grid_c', 'grid_ds', 'grid_ls', 'grid_lw', 'grid_mec', 'grid_mew', 'grid_mfc', 'grid_mfcalt', 'grid_ms']"
     ]
    },
    {
     "data": {
      "image/png": "[encoded data removed]",
      "text/plain": [
       "<Figure size 960x480 with 1 Axes>"
      ]
     },
     "metadata": {},
     "output_type": "display_data"
    }
   ],
   "source": [
    "# plot of some of the Legendre polynomials\n",
    "import numpy as np\n",
    "import matplotlib.pyplot as plt\n",
    "%matplotlib inline\n",
    "from scipy.special import lpmv\n",
    "x = np.arange(-1,1,0.0001)\n",
    "plt.figure(figsize=(12,6),dpi= 80, facecolor='w', edgecolor='k')\n",
    "plt.tick_params(axis='both',labelsize=20)\n",
    "plt.grid(b=True, which='major', axis='both', color='#808080', linestyle='--')\n",
    "for l in range(2):\n",
    "    for m in range(-l,l+1):\n",
    "        label = \"l=\" + str(l) + \", m=\" + str(m)\n",
    "        plt.plot(x,lpmv(m,l,x),lw=4,label=label)\n",
    "plt.title(\"Associated Lengedre Polynomials\",fontsize=16)\n",
    "plt.legend(fontsize=16);"
   ]
  },
  {
   "cell_type": "code",
   "execution_count": 2,
   "id": "cc8f8aaa",
   "metadata": {},
   "outputs": [],
   "source": [
    "from scipy import integrate"
   ]
  },
  {
   "cell_type": "code",
   "execution_count": 7,
   "id": "87420f94",
   "metadata": {},
   "outputs": [],
   "source": [
    "def aleg(x,l,m):\n",
    "    return lpmv(m,l,x)\n",
    "def aleg2(x,l,m):\n",
    "    return lpmv(m,l,x)**2"
   ]
  },
  {
   "cell_type": "code",
   "execution_count": 10,
   "id": "f592947c",
   "metadata": {},
   "outputs": [
    {
     "data": {
      "text/plain": [
       "7.03271174002352e-18"
      ]
     },
     "execution_count": 10,
     "metadata": {},
     "output_type": "execute_result"
    }
   ],
   "source": [
    "integrate.quad(aleg,-1.0,1.0,args=(1,0))[0]"
   ]
  },
  {
   "cell_type": "code",
   "execution_count": 5,
   "id": "ee95930c",
   "metadata": {},
   "outputs": [
    {
     "name": "stdout",
     "output_type": "stream",
     "text": [
      "6.024595193922694e-22\n",
      "0.36280112257802466\n"
     ]
    }
   ],
   "source": [
    "h = 6.626e-34\n",
    "hbar = h/(2*np.pi)\n",
    "me = 9.1093e-31 # kg\n",
    "r0 = 10e-9\n",
    "print(hbar**2*np.pi**2/(2*me*r0**2))\n",
    "print(hbar**2*np.pi**2/(2*me*r0**2)*6.022e23/1000)"
   ]
  },
  {
   "cell_type": "code",
   "execution_count": 7,
   "id": "6f838ed1",
   "metadata": {},
   "outputs": [
    {
     "name": "stdout",
     "output_type": "stream",
     "text": [
      "0.3793987355167171\n"
     ]
    }
   ],
   "source": [
    "import numpy as np\n",
    "h = 6.626e-34\n",
    "hbar = h/(2*np.pi)\n",
    "me = 9.1093e-31 # kg\n",
    "r0 = 10e-9\n",
    "n2 = 2\n",
    "n1 = 1\n",
    "print(hbar**2/(2*me*r0**2)*6.022e23/1000*(spherical_jn_zero(1,1)**2-spherical_jn_zero(0,1)**2))"
   ]
  },
  {
   "cell_type": "code",
   "execution_count": 8,
   "id": "86ba960e",
   "metadata": {},
   "outputs": [
    {
     "name": "stdout",
     "output_type": "stream",
     "text": [
      "0.7421998580947418\n"
     ]
    }
   ],
   "source": [
    "import numpy as np\n",
    "h = 6.626e-34\n",
    "hbar = h/(2*np.pi)\n",
    "me = 9.1093e-31 # kg\n",
    "r0 = 10e-9\n",
    "print(hbar**2/(2*me*r0**2)*6.022e23/1000*(spherical_jn_zero(1,1)**2))"
   ]
  },
  {
   "cell_type": "code",
   "execution_count": 2,
   "id": "589e45c9",
   "metadata": {},
   "outputs": [
    {
     "name": "stdout",
     "output_type": "stream",
     "text": [
      "1.4515779072387491\n"
     ]
    }
   ],
   "source": [
    "import numpy as np\n",
    "h = 6.626e-34\n",
    "hbar = h/(2*np.pi)\n",
    "me = 9.1093e-31 # kg\n",
    "r0 = 10e-9\n",
    "n2 = 7.725\n",
    "n1 = 4.493\n",
    "print(hbar**2/(2*me*r0**2)*6.022e23/1000*(n2**2-n1**2))"
   ]
  },
  {
   "cell_type": "code",
   "execution_count": 1,
   "id": "7f12be63",
   "metadata": {},
   "outputs": [],
   "source": [
    "# make two plots of the same spherical harmonic\n",
    "from mpl_toolkits.mplot3d import Axes3D\n",
    "from matplotlib import cm, colors\n",
    "import numpy as np\n",
    "import matplotlib.pyplot as plt\n",
    "from scipy.special import sph_harm\n",
    "from scipy.special import spherical_jn\n",
    "from scipy.special import lpmv\n",
    "%matplotlib inline\n",
    "from scipy.optimize import root\n",
    "    \n",
    "\n",
    "def spherical_jn_zero(l, n, ngrid=100):\n",
    "    \"\"\"Returns nth zero of spherical bessel function of order l\n",
    "    \"\"\"\n",
    "    if l > 0:\n",
    "        # calculate on a sensible grid\n",
    "        x = np.linspace(l, l + 2*n*(np.pi * (np.log(l)+1)), ngrid)\n",
    "        y = spherical_jn(l, x)\n",
    "    \n",
    "        # Find m good initial guesses from where y switches sign\n",
    "        diffs = np.sign(y)[1:] - np.sign(y)[:-1]\n",
    "        ind0s = np.where(diffs)[0][:n]  # first m times sign of y changes\n",
    "        x0s = x[ind0s]\n",
    "    \n",
    "        def fn(x):\n",
    "            return spherical_jn(l, x)\n",
    "\n",
    "        return [root(fn, x0).x[0] for x0 in x0s][-1]\n",
    "    else:\n",
    "        return n*np.pi\n",
    "    \n",
    "def particle_in_sphere_wf(r,theta,phi,n,l,m):\n",
    "    denom = spherical_jn_zero(l, n)\n",
    "    return sph_harm(m, l, phi, theta).real*spherical_jn(l, r*denom)"
   ]
  },
  {
   "cell_type": "code",
   "execution_count": 2,
   "id": "9f35eb78",
   "metadata": {},
   "outputs": [
    {
     "name": "stdout",
     "output_type": "stream",
     "text": [
      "0 1 9.869604401089358 0.3628011225780246\n",
      "0 2 39.47841760435743 1.4512044903120984\n",
      "0 3 88.82643960980423 3.2652101032022216\n",
      "0 4 157.91367041742973 5.804817961248394\n",
      "1 1 20.19072855642663 0.7421998580947418\n",
      "1 2 59.67951594410929 2.1937855358261524\n",
      "1 3 118.89986916362645 4.370692507410193\n",
      "1 4 197.8578111933772 7.273142174154927\n",
      "2 1 33.21746191426837 1.2210552704989044\n",
      "2 2 82.71923110149328 3.0407125435646014\n",
      "2 3 151.85487416406843 5.582100008951502\n",
      "2 4 240.70290658541617 8.848103851796088\n",
      "3 1 48.831193643618796 1.7950072921640499\n",
      "3 2 108.51635883015503 3.9890004909735315\n",
      "3 3 187.6358383069526 6.897388183676074\n",
      "3 4 286.40895740534296 10.528232646446401\n"
     ]
    }
   ],
   "source": [
    "import numpy as np\n",
    "h = 6.626e-34\n",
    "hbar = h/(2*np.pi)\n",
    "me = 9.1093e-31 # kg\n",
    "r0 = 10e-9\n",
    "for l in range(4):\n",
    "    for n in range(1,5):\n",
    "        E = spherical_jn_zero(l, n)\n",
    "        print(l,n,E**2,hbar**2/(2*me*r0**2)*6.022e23/1000*E**2)"
   ]
  },
  {
   "cell_type": "code",
   "execution_count": 3,
   "id": "d1c32380",
   "metadata": {},
   "outputs": [
    {
     "name": "stdout",
     "output_type": "stream",
     "text": [
      "0 1 10.321124155337273 0.3793987355167171\n",
      "1 2 13.026733357841739 0.4788554124041626\n",
      "2 3 15.613731729350427 0.5739520216651457\n",
      "3 4 18.123118281486008 0.6661956639732913\n"
     ]
    }
   ],
   "source": [
    "import numpy as np\n",
    "h = 6.626e-34\n",
    "hbar = h/(2*np.pi)\n",
    "me = 9.1093e-31 # kg\n",
    "r0 = 10e-9\n",
    "for l in range(4):\n",
    "    n = 1\n",
    "    E1 = spherical_jn_zero(l, n)\n",
    "    E2 = spherical_jn_zero(l+1, n)\n",
    "    print(l,l+1,E2**2-E1**2,hbar**2/(2*me*r0**2)*6.022e23/1000*(E2**2-E1**2))"
   ]
  },
  {
   "cell_type": "code",
   "execution_count": 5,
   "id": "63567567",
   "metadata": {},
   "outputs": [
    {
     "name": "stdout",
     "output_type": "stream",
     "text": [
      "1 2 29.608813203268074 1.0884033677340739\n",
      "2 3 49.34802200544679 1.8140056128901232\n",
      "3 4 69.0872308076255 2.539607858046172\n",
      "4 5 88.82643960980423 3.2652101032022216\n"
     ]
    }
   ],
   "source": [
    "import numpy as np\n",
    "h = 6.626e-34\n",
    "hbar = h/(2*np.pi)\n",
    "me = 9.1093e-31 # kg\n",
    "r0 = 10e-9\n",
    "for n in range(1,5):\n",
    "    l = 0\n",
    "    E1 = spherical_jn_zero(l, n)\n",
    "    E2 = spherical_jn_zero(l, n+1)\n",
    "    print(n,n+1,E2**2-E1**2,hbar**2/(2*me*r0**2)*6.022e23/1000*(E2**2-E1**2))"
   ]
  },
  {
   "cell_type": "code",
   "execution_count": 6,
   "id": "952eade7",
   "metadata": {},
   "outputs": [
    {
     "name": "stdout",
     "output_type": "stream",
     "text": [
      "1 2 39.48878738768266 1.4515856777314107\n",
      "2 3 59.22035321951716 2.176906971584041\n",
      "3 4 78.95794202975074 2.902449666744733\n",
      "4 5 98.69660094233939 3.628031698267848\n"
     ]
    }
   ],
   "source": [
    "import numpy as np\n",
    "h = 6.626e-34\n",
    "hbar = h/(2*np.pi)\n",
    "me = 9.1093e-31 # kg\n",
    "r0 = 10e-9\n",
    "for n in range(1,5):\n",
    "    l = 1\n",
    "    E1 = spherical_jn_zero(l, n)\n",
    "    E2 = spherical_jn_zero(l, n+1)\n",
    "    print(n,n+1,E2**2-E1**2,hbar**2/(2*me*r0**2)*6.022e23/1000*(E2**2-E1**2))"
   ]
  },
  {
   "cell_type": "code",
   "execution_count": null,
   "id": "731084e8",
   "metadata": {},
   "outputs": [],
   "source": []
  }
 ],
 "metadata": {
  "kernelspec": {
   "display_name": "Python 3",
   "language": "python",
   "name": "python3"
  },
  "language_info": {
   "codemirror_mode": {
    "name": "ipython",
    "version": 3
   },
   "file_extension": ".py",
   "mimetype": "text/x-python",
   "name": "python",
   "nbconvert_exporter": "python",
   "pygments_lexer": "ipython3",
   "version": "3.8.16"
  }
 },
 "nbformat": 4,
 "nbformat_minor": 5
}