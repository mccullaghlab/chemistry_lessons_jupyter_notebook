{
 "cells": [
  {
   "cell_type": "markdown",
   "metadata": {},
   "source": [
    "# Variables in Python"
   ]
  },
  {
   "cell_type": "markdown",
   "metadata": {},
   "source": [
    "## Learning Goals\n",
    "\n",
    "After going through this notebook, you should be able to:\n",
    "1. Identify a variable in a python code snippet of a jupyter notebook\n",
    "2. Assign values to a variable in python\n",
    "3. Perform mathematical operations to variables in python\n",
    "4. Assign variables of different data types"
   ]
  },
  {
   "cell_type": "markdown",
   "metadata": {},
   "source": [
    "## Assigning a variable"
   ]
  },
  {
   "cell_type": "markdown",
   "metadata": {},
   "source": [
    "A variable in code is much like a variable in math.  Unlike in math, variables must be assigned specific values before the code operates.  We will start by assigning a value to a variable called `a` and then print that value."
   ]
  },
  {
   "cell_type": "code",
   "execution_count": 1,
   "metadata": {},
   "outputs": [
    {
     "name": "stdout",
     "output_type": "stream",
     "text": [
      "3\n"
     ]
    }
   ],
   "source": [
    "# assigning a variable\n",
    "a = 3\n",
    "print(a)"
   ]
  },
  {
   "cell_type": "markdown",
   "metadata": {},
   "source": [
    "Operations such as addition can be performed on variables with numbers (integers, floats, doubles, etc).  New variables can be assigned with the resulting value or the value can be simply printed or used on the fly"
   ]
  },
  {
   "cell_type": "code",
   "execution_count": 2,
   "metadata": {},
   "outputs": [
    {
     "name": "stdout",
     "output_type": "stream",
     "text": [
      "6\n",
      "6\n"
     ]
    }
   ],
   "source": [
    "# addition\n",
    "# first we will just print the value 6 by adding 3 to a and printing.  \n",
    "# Note that the value of three is still stored in variable 'a' from above\n",
    "print(a+3)\n",
    "# we did not save the value 6 to any variable.  We will now save that value into b and print (should get same result)\n",
    "b = a+3\n",
    "print(b)"
   ]
  },
  {
   "cell_type": "markdown",
   "metadata": {},
   "source": [
    "In a Jupyter Notebook, variables that have been assigned in cells that have already run (not necessarily in one only above the current one) can be recalled in cells that are run subsequently."
   ]
  },
  {
   "cell_type": "code",
   "execution_count": 3,
   "metadata": {},
   "outputs": [
    {
     "name": "stdout",
     "output_type": "stream",
     "text": [
      "3 6\n"
     ]
    }
   ],
   "source": [
    "# note that variables previously defined in cells above will save their values in subsequent cells \n",
    "#(as long as cells above have been run)\n",
    "print(a,b)"
   ]
  },
  {
   "cell_type": "markdown",
   "metadata": {},
   "source": [
    "Other operations such as multiplication and addition are available.  The specific result (and in the case of python specifically) and/or operators available depend on the particular data types.  More on data types below."
   ]
  },
  {
   "cell_type": "code",
   "execution_count": 4,
   "metadata": {},
   "outputs": [
    {
     "name": "stdout",
     "output_type": "stream",
     "text": [
      "12\n",
      "12\n",
      "-1\n",
      "-1\n"
     ]
    }
   ],
   "source": [
    "# Subtraction and multiplication are similar to addition\n",
    "print(3*4)\n",
    "a = 3*4\n",
    "print(a)\n",
    "print(3-4)\n",
    "a = 3-4\n",
    "print(a)"
   ]
  },
  {
   "cell_type": "markdown",
   "metadata": {},
   "source": [
    "Variables can also be updated in value.  For example, we will assign `a` a value and then assign `a` that same values multiplied by 4."
   ]
  },
  {
   "cell_type": "code",
   "execution_count": 5,
   "metadata": {},
   "outputs": [
    {
     "name": "stdout",
     "output_type": "stream",
     "text": [
      "3\n",
      "12\n"
     ]
    }
   ],
   "source": [
    "a = 3\n",
    "print(a)\n",
    "a = a*4\n",
    "print(a)"
   ]
  },
  {
   "cell_type": "markdown",
   "metadata": {},
   "source": [
    "In python, there is a shorthand for this type of operation which you will see in the code snippet below"
   ]
  },
  {
   "cell_type": "code",
   "execution_count": 6,
   "metadata": {},
   "outputs": [
    {
     "name": "stdout",
     "output_type": "stream",
     "text": [
      "3\n",
      "12\n"
     ]
    }
   ],
   "source": [
    "a = 3\n",
    "print(a)\n",
    "a *= 4\n",
    "print(a)"
   ]
  },
  {
   "cell_type": "markdown",
   "metadata": {},
   "source": [
    "## Data types"
   ]
  },
  {
   "cell_type": "markdown",
   "metadata": {},
   "source": [
    "As was pointed out in the division code cell above, there are different data types in python (and other) programming languages.  There are five main data types: integers, floats, complex, strings, and boolean.  Of these, the three number types (integer, float and complex) will be the most relevant for us."
   ]
  },
  {
   "cell_type": "markdown",
   "metadata": {},
   "source": [
    "Integers are exactly what they sound like.  These are used in a variety of ways and will come up frequently.  A couple of things to keep in mind: (1) integer division is different than float (/real number) division and (2) array indeces must be integers.  Integer division gives the integer number of the quotient (truncation).  In the case of 3/4, the answer should be 0.75 but integer division yields 0 because it truncates 0.75 to 0.  What do you think 5/4 would be?  ... try it."
   ]
  },
  {
   "cell_type": "code",
   "execution_count": 7,
   "metadata": {},
   "outputs": [
    {
     "name": "stdout",
     "output_type": "stream",
     "text": [
      "5 <class 'int'>\n"
     ]
    }
   ],
   "source": [
    "# assign an integer to a variable - the variable will now have int data type\n",
    "a = 5\n",
    "print(a, type(a))"
   ]
  },
  {
   "cell_type": "markdown",
   "metadata": {},
   "source": [
    "Floats are real numbers.  Float division is what you would expect."
   ]
  },
  {
   "cell_type": "code",
   "execution_count": 8,
   "metadata": {},
   "outputs": [
    {
     "name": "stdout",
     "output_type": "stream",
     "text": [
      "5.0 <class 'float'>\n"
     ]
    }
   ],
   "source": [
    "# assign a float to a variable - the variable will now have float data type\n",
    "a = float(5)\n",
    "print(a, type(a))"
   ]
  },
  {
   "cell_type": "markdown",
   "metadata": {},
   "source": [
    "Complex numbers are exactly what they sound like."
   ]
  },
  {
   "cell_type": "code",
   "execution_count": 9,
   "metadata": {},
   "outputs": [
    {
     "name": "stdout",
     "output_type": "stream",
     "text": [
      "(5+3j) <class 'complex'>\n"
     ]
    }
   ],
   "source": [
    "# assign a complex to a variable (use j instead of i and don't use * separator) - the variable will now have complex data type\n",
    "j=2\n",
    "a = 5.0+3j\n",
    "print(a, type(a))"
   ]
  },
  {
   "cell_type": "markdown",
   "metadata": {},
   "source": [
    "Strings"
   ]
  },
  {
   "cell_type": "code",
   "execution_count": 10,
   "metadata": {},
   "outputs": [
    {
     "name": "stdout",
     "output_type": "stream",
     "text": [
      "5 <class 'str'>\n"
     ]
    }
   ],
   "source": [
    "a = str(5)\n",
    "print(a, type(a))"
   ]
  },
  {
   "cell_type": "markdown",
   "metadata": {},
   "source": [
    "Boolean"
   ]
  },
  {
   "cell_type": "code",
   "execution_count": 11,
   "metadata": {},
   "outputs": [
    {
     "name": "stdout",
     "output_type": "stream",
     "text": [
      "True <class 'bool'>\n"
     ]
    }
   ],
   "source": [
    "a = bool(5)\n",
    "print(a,type(a))"
   ]
  },
  {
   "cell_type": "markdown",
   "metadata": {},
   "source": [
    "## Mathematical Operators"
   ]
  },
  {
   "cell_type": "code",
   "execution_count": 12,
   "metadata": {},
   "outputs": [
    {
     "name": "stdout",
     "output_type": "stream",
     "text": [
      "0\n",
      "0.75\n"
     ]
    }
   ],
   "source": [
    "# division is only slightly more challenging.  The division performed depends on the type of number (i.e. integer or real)\n",
    "print(3//4)    # integer devision\n",
    "print(3/4)     # float division"
   ]
  },
  {
   "cell_type": "markdown",
   "metadata": {},
   "source": [
    "In addition to addition, subtraction, multiplication and division there are some other operations that are commonly used in coding.  These include the remainder (or modulus) operation, %, and the add (subtract, divide, or multiply) by operation.  I will demonstrate these in code snippets."
   ]
  },
  {
   "cell_type": "code",
   "execution_count": 13,
   "metadata": {},
   "outputs": [
    {
     "name": "stdout",
     "output_type": "stream",
     "text": [
      "1 divided by 4 is 0  remainder  1\n",
      "2 divided by 4 is 0  remainder  2\n",
      "3 divided by 4 is 0  remainder  3\n",
      "4 divided by 4 is 1  remainder  0\n",
      "5 divided by 4 is 1  remainder  1\n",
      "6 divided by 4 is 1  remainder  2\n",
      "7 divided by 4 is 1  remainder  3\n",
      "8 divided by 4 is 2  remainder  0\n"
     ]
    }
   ],
   "source": [
    "# remainder operation is %\n",
    "# I will do 1 to 8 divided (integer division) by four and then compute the remained\n",
    "print(\"1 divided by 4 is\", 1//4, \" remainder \", 1%4)\n",
    "print(\"2 divided by 4 is\", 2//4, \" remainder \", 2%4)\n",
    "print(\"3 divided by 4 is\", 3//4, \" remainder \", 3%4)\n",
    "print(\"4 divided by 4 is\", 4//4, \" remainder \", 4%4)\n",
    "print(\"5 divided by 4 is\", 5//4, \" remainder \", 5%4)\n",
    "print(\"6 divided by 4 is\", 6//4, \" remainder \", 6%4)\n",
    "print(\"7 divided by 4 is\", 7//4, \" remainder \", 7%4)\n",
    "print(\"8 divided by 4 is\", 8//4, \" remainder \", 8%4)"
   ]
  },
  {
   "cell_type": "code",
   "execution_count": 14,
   "metadata": {},
   "outputs": [
    {
     "name": "stdout",
     "output_type": "stream",
     "text": [
      "a= 4\n",
      "a= 6\n"
     ]
    }
   ],
   "source": [
    "# the add to or multiply by operation\n",
    "# start by assigning a variable\n",
    "a = 4\n",
    "print(\"a=\",a)\n",
    "# now add two to a:\n",
    "a = a + 2\n",
    "print(\"a=\",a)"
   ]
  },
  {
   "cell_type": "code",
   "execution_count": 15,
   "metadata": {},
   "outputs": [
    {
     "name": "stdout",
     "output_type": "stream",
     "text": [
      "a= 4\n",
      "a= 6\n"
     ]
    }
   ],
   "source": [
    "# This operation can be achieved using a shorthand of +=\n",
    "a = 4\n",
    "print(\"a=\",a)\n",
    "# now add two to a:\n",
    "a += 2\n",
    "print(\"a=\",a)"
   ]
  },
  {
   "cell_type": "code",
   "execution_count": null,
   "metadata": {},
   "outputs": [],
   "source": []
  }
 ],
 "metadata": {
  "kernelspec": {
   "display_name": "Python 3",
   "language": "python",
   "name": "python3"
  },
  "language_info": {
   "codemirror_mode": {
    "name": "ipython",
    "version": 3
   },
   "file_extension": ".py",
   "mimetype": "text/x-python",
   "name": "python",
   "nbconvert_exporter": "python",
   "pygments_lexer": "ipython3",
   "version": "3.8.8"
  }
 },
 "nbformat": 4,
 "nbformat_minor": 2
}