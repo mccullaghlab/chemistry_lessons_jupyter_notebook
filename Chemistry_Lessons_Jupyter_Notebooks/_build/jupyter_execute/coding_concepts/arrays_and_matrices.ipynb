{
 "cells": [
  {
   "cell_type": "markdown",
   "metadata": {},
   "source": [
    "# Arrays and Matrices"
   ]
  },
  {
   "cell_type": "markdown",
   "metadata": {},
   "source": [
    "## Learning Goals\n",
    "\n",
    "After this notebook, you will be able to:\n",
    "\n",
    "1. Generate an manipulate python lists \n",
    "2. Import numpy package\n",
    "3. Use numpy arrays\n",
    "4. Use numpy matrices"
   ]
  },
  {
   "cell_type": "markdown",
   "metadata": {},
   "source": [
    "## Lists"
   ]
  },
  {
   "cell_type": "markdown",
   "metadata": {},
   "source": [
    "The python native version of an array is called a list.  A list contains multiple elements and can be of various data types.  There are multiple ways to initialize a list.  We will start by investigating how one initializes a list."
   ]
  },
  {
   "cell_type": "markdown",
   "metadata": {},
   "source": [
    "### Initializing lists"
   ]
  },
  {
   "cell_type": "code",
   "execution_count": 1,
   "metadata": {},
   "outputs": [
    {
     "name": "stdout",
     "output_type": "stream",
     "text": [
      "a=  [1, 2, 3] <class 'list'>\n",
      "a[0] =  1 <class 'int'>\n",
      "a[1] =  2 <class 'int'>\n",
      "a[2] =  3 <class 'int'>\n"
     ]
    }
   ],
   "source": [
    "# initialize list\n",
    "a = [1,2,3]\n",
    "print(\"a= \", a,type(a))\n",
    "print(\"a[0] = \", a[0],type(a[0]))\n",
    "print(\"a[1] = \", a[1],type(a[1]))\n",
    "print(\"a[2] = \", a[2],type(a[2]))"
   ]
  },
  {
   "cell_type": "markdown",
   "metadata": {},
   "source": [
    "In the above code we created a list called `a` with three elements.  The first element is the integer value `1`, the second element is the integer value `2`, the third element is integer value `3`.  \n",
    "\n",
    "Python is a C-based language so indexing of lists starts at 0.  So the first element the list is `a[0]`\n",
    "\n",
    "We will now look at ways of adding to lists"
   ]
  },
  {
   "cell_type": "code",
   "execution_count": 2,
   "metadata": {},
   "outputs": [
    {
     "name": "stdout",
     "output_type": "stream",
     "text": [
      "a =  []\n",
      "a =  [3]\n",
      "a =  [3, 6]\n"
     ]
    }
   ],
   "source": [
    "# initialize an empty list\n",
    "a = []\n",
    "print(\"a = \", a)\n",
    "# append a value to a\n",
    "a.append(3)\n",
    "print(\"a = \", a)\n",
    "# append another value to a\n",
    "a.append(6)\n",
    "print(\"a = \",  a)"
   ]
  },
  {
   "cell_type": "markdown",
   "metadata": {},
   "source": [
    "### Data types within lists"
   ]
  },
  {
   "cell_type": "markdown",
   "metadata": {},
   "source": [
    "Lists can have various data types"
   ]
  },
  {
   "cell_type": "code",
   "execution_count": 3,
   "metadata": {},
   "outputs": [
    {
     "name": "stdout",
     "output_type": "stream",
     "text": [
      "[1, 2.0, 3] <class 'list'>\n",
      "a[0] =  1 <class 'int'>\n",
      "a[1] =  2.0 <class 'float'>\n",
      "a[2] =  3 <class 'int'>\n"
     ]
    }
   ],
   "source": [
    "# initialize a list of varying data types\n",
    "a = [1,2.0,3]\n",
    "print(a,type(a))\n",
    "print(\"a[0] = \", a[0],type(a[0]))\n",
    "print(\"a[1] = \", a[1],type(a[1]))\n",
    "print(\"a[2] = \", a[2],type(a[2]))"
   ]
  },
  {
   "cell_type": "code",
   "execution_count": 4,
   "metadata": {},
   "outputs": [
    {
     "name": "stdout",
     "output_type": "stream",
     "text": [
      "[1, 2.0, '3'] <class 'list'>\n",
      "a[0] =  1 <class 'int'>\n",
      "a[1] =  2.0 <class 'float'>\n",
      "a[2] =  3 <class 'str'>\n"
     ]
    }
   ],
   "source": [
    "a = [1,2.0,str(3)]\n",
    "print(a,type(a))\n",
    "print(\"a[0] = \", a[0],type(a[0]))\n",
    "print(\"a[1] = \", a[1],type(a[1]))\n",
    "print(\"a[2] = \", a[2],type(a[2]))"
   ]
  },
  {
   "cell_type": "markdown",
   "metadata": {},
   "source": [
    "### Useful functions on lists"
   ]
  },
  {
   "cell_type": "markdown",
   "metadata": {},
   "source": [
    "There are various attributes of list objects and functions applied to lists that might be useful."
   ]
  },
  {
   "cell_type": "code",
   "execution_count": 5,
   "metadata": {},
   "outputs": [
    {
     "name": "stdout",
     "output_type": "stream",
     "text": [
      "[1, 2, 3]\n",
      "Length of a: 3\n"
     ]
    }
   ],
   "source": [
    "a = [1,2,3]\n",
    "print(a)\n",
    "print(\"Length of a:\", len(a))"
   ]
  },
  {
   "cell_type": "markdown",
   "metadata": {},
   "source": [
    "## Numpy"
   ]
  },
  {
   "cell_type": "markdown",
   "metadata": {},
   "source": [
    "Lists can be useful but when we want to perform vector and matrix math they can be quite cumberson.  Python is a very common coding language and is actively developed in a variety of areas.  As such it has a number of ''libraries'' or bits of code to do common things that are already written.  If we import those libraries we can utilize these functions.  The most common example it the numpy library (http://www.numpy.org/).  This library contains a lot of functions to perform vector, matrix and other common mathematical manipulations. The first step is to \n",
    "\n",
    "`import numpy as np`. "
   ]
  },
  {
   "cell_type": "code",
   "execution_count": 6,
   "metadata": {},
   "outputs": [],
   "source": [
    "import numpy as np"
   ]
  },
  {
   "cell_type": "markdown",
   "metadata": {},
   "source": [
    "### Vectors and matrices"
   ]
  },
  {
   "cell_type": "code",
   "execution_count": 7,
   "metadata": {},
   "outputs": [
    {
     "name": "stdout",
     "output_type": "stream",
     "text": [
      "a =  [2 3 1] <class 'numpy.ndarray'>\n"
     ]
    }
   ],
   "source": [
    "# defining an array/vector\n",
    "a = np.array([2,3,1])\n",
    "print(\"a = \", a, type(a))"
   ]
  },
  {
   "cell_type": "code",
   "execution_count": 8,
   "metadata": {},
   "outputs": [
    {
     "name": "stdout",
     "output_type": "stream",
     "text": [
      "Size of array a: 3\n",
      "Data type of array a: int64\n"
     ]
    }
   ],
   "source": [
    "# vectors have some attributes that might be of interest\n",
    "print(\"Size of array a:\", a.size)\n",
    "print(\"Data type of array a:\", a.dtype)"
   ]
  },
  {
   "cell_type": "markdown",
   "metadata": {},
   "source": [
    "For a list of all attributes of arrays see: https://docs.scipy.org/doc/numpy-1.13.0/reference/generated/numpy.ndarray.html"
   ]
  },
  {
   "cell_type": "code",
   "execution_count": 9,
   "metadata": {},
   "outputs": [
    {
     "name": "stdout",
     "output_type": "stream",
     "text": [
      "a= [2 3 1]\n",
      "b= [-1  0  7]\n",
      "a+b= [1 3 8]\n",
      "2a+3b= [ 1  6 23]\n",
      "a*b= [-2  0  7]\n",
      "a*b= 5\n",
      "a x b = [ 21 -15   3]\n"
     ]
    }
   ],
   "source": [
    "# vector manipulations\n",
    "# for this I start by defining another vector in R3:\n",
    "b = np.array([-1,0,7])\n",
    "print(\"a=\",a)\n",
    "print(\"b=\",b)\n",
    "print(\"a+b=\",a+b)\n",
    "print(\"2a+3b=\",2*a+3*b)\n",
    "print(\"a*b=\",a*b)\n",
    "print(\"a*b=\",np.dot(a,b))\n",
    "# what are the differences between the last two lines?\n",
    "print(\"a x b =\",np.cross(a,b))"
   ]
  },
  {
   "cell_type": "code",
   "execution_count": 10,
   "metadata": {},
   "outputs": [
    {
     "name": "stdout",
     "output_type": "stream",
     "text": [
      "[[1 2]\n",
      " [3 4]]\n",
      "shape of a: (2, 2)\n",
      "size of a: 4\n",
      "data type of a: int64 data type of b: float64\n",
      "a.T= [[1 3]\n",
      " [2 4]]\n"
     ]
    }
   ],
   "source": [
    "# defining a matrix - these are just 2D arrays\n",
    "a = np.matrix([[1,2],[3,4]])\n",
    "b = np.matrix([[1,2],[3,4]],dtype=float)\n",
    "print(a)\n",
    "print(\"shape of a:\",a.shape)\n",
    "print(\"size of a:\",a.size)\n",
    "print(\"data type of a:\", a.dtype, \"data type of b:\", b.dtype)\n",
    "print(\"a.T=\",a.T)"
   ]
  },
  {
   "cell_type": "code",
   "execution_count": 11,
   "metadata": {},
   "outputs": [
    {
     "name": "stdout",
     "output_type": "stream",
     "text": [
      "[[ 5.  6.]\n",
      " [-1.  0.]]\n",
      "b*c= [[ 3.  6.]\n",
      " [11. 18.]]\n",
      "b*c= [[ 3.  6.]\n",
      " [11. 18.]]\n",
      "b*cT= [[17. -1.]\n",
      " [39. -3.]]\n"
     ]
    }
   ],
   "source": [
    "# manipulating matrices\n",
    "c = np.matrix([[5,6],[-1,0]],dtype=float)\n",
    "print(c)\n",
    "print(\"b*c=\",b*c)\n",
    "print(\"b*c=\",np.dot(b,c))\n",
    "print(\"b*cT=\",np.dot(b,c.T))"
   ]
  }
 ],
 "metadata": {
  "kernelspec": {
   "display_name": "Python 3",
   "language": "python",
   "name": "python3"
  },
  "language_info": {
   "codemirror_mode": {
    "name": "ipython",
    "version": 3
   },
   "file_extension": ".py",
   "mimetype": "text/x-python",
   "name": "python",
   "nbconvert_exporter": "python",
   "pygments_lexer": "ipython3",
   "version": "3.8.8"
  }
 },
 "nbformat": 4,
 "nbformat_minor": 2
}