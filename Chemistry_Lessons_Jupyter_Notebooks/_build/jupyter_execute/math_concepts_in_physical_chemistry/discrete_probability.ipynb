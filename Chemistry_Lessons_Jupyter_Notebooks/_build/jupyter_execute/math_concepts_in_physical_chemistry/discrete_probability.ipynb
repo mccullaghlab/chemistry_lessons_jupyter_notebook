{
 "cells": [
  {
   "cell_type": "markdown",
   "id": "8e7d240f",
   "metadata": {},
   "source": [
    "# Discrete Probability"
   ]
  },
  {
   "cell_type": "markdown",
   "id": "3bdcd0ac",
   "metadata": {},
   "source": [
    "## Learning goals:\n",
    "\n",
    "After working through these notes, you will be able to:\n",
    "\n",
    "1. Compute probabilities of discrete outcomes for events such as drawing cards or rolling dice.\n",
    "2. Distinguish between the addition and multiplication rule for probabilities.\n",
    "3. Compute conditional probabilities of discrete events.\n",
    "4. Use the choose function to compute the number of possible outcomes for discrete events"
   ]
  },
  {
   "cell_type": "markdown",
   "id": "9a0f6d48",
   "metadata": {},
   "source": [
    "## Coding concepts:\n",
    "\n",
    "No coding concepts are used in this notebook."
   ]
  },
  {
   "cell_type": "markdown",
   "id": "c84b02cd",
   "metadata": {},
   "source": [
    "## Discrete Probability of Single Events"
   ]
  },
  {
   "cell_type": "markdown",
   "id": "0dfe8fd6",
   "metadata": {},
   "source": [
    "Rolling a six sided die has six possible outcomes.  Rolling a 4, for example, is an outcome of this type of discrete event.  Here, we focus on compute the probability of such events.\n",
    "\n",
    "The probability of rolling a 4 with a six sided die is given by\n",
    "\\begin{equation}\n",
    "P = \\frac{1}{6} = \\frac{\\text{# way of getting a 4}}{\\text{total # of possible outcomes}}\n",
    "\\end{equation}\n",
    "\n",
    "In general, the probability of a discrete event $A$ can be determined by\n",
    "\\begin{equation}\n",
    "P = \\frac{\\text{# way of getting $A$}}{\\text{total # of possible outcomes}}\n",
    "\\end{equation}"
   ]
  },
  {
   "cell_type": "markdown",
   "id": "025439f4",
   "metadata": {},
   "source": [
    "### Example: Computing Probabilities of Discrete Events\n",
    "\n",
    "1. What is the probability of rolling a $4$ with an $8$-sided die?\n",
    "2. What is the probability of drawing a $J\\spadesuit$ for a standard deck of 52 cards?\n",
    "3. What is the probability of drawing a white marble from a bucket with 20 red, 30 white, and 50 blue marbles?\n",
    "4. What is the probability of getting heads when flipping a (fair) coin?"
   ]
  },
  {
   "cell_type": "markdown",
   "id": "e1e4686e",
   "metadata": {},
   "source": [
    "## Discrete Probability of Multiple Outcomes in a Single Event (***OR***)"
   ]
  },
  {
   "cell_type": "markdown",
   "id": "dc9b7088",
   "metadata": {},
   "source": [
    "In certain cases we might be interested in the probability of multiple outcomes.  For example, you might ask \n",
    "\n",
    "\"What is the probability of drawing a white ***OR*** a red marble from a bucket with 20 red, 30 white, and 50 blue marbles?\"\n",
    "\n",
    "In this case, we are considering picking one marble from the bucket and asking what is the probability that this marble is either white ***OR*** red.  Since the drawing of a white marble is mutually exclusive from the drawing of a red marble, the probability of one ***OR*** the other is the sum of the independent probabilities:\n",
    "\\begin{equation}\n",
    "P(W \\text{ or } R) = P(W) + P(R) = \\frac{30}{100} + \\frac{20}{100} = \\frac{1}{2}\n",
    "\\end{equation}\n",
    "\n",
    "The equation above only generalizes for independent events.  "
   ]
  },
  {
   "cell_type": "markdown",
   "id": "c40fcf8a",
   "metadata": {},
   "source": [
    "### Independent Events"
   ]
  },
  {
   "cell_type": "markdown",
   "id": "9d15c711",
   "metadata": {},
   "source": [
    "The probability of $A$ or $B$ where $A$ and $B$ are ***independent events*** is \n",
    "\\begin{equation}\n",
    "P(A \\text{ or } B) = P(A) + P(B)\n",
    "\\end{equation}\n",
    "\n",
    "Examples of independent events $A$ and $B$:\n",
    "1. $A =$ heads, $B =$  tails for a single coin flip\n",
    "2. $A =$ 6, $B = $ 2 for a single roll of dice"
   ]
  },
  {
   "cell_type": "markdown",
   "id": "978eb1d7",
   "metadata": {},
   "source": [
    "### Dependent Events"
   ]
  },
  {
   "cell_type": "markdown",
   "id": "76da279e",
   "metadata": {},
   "source": [
    "The probability of $A$ or $B$ where $A$ and $B$ are ***dependent events*** is \n",
    "\\begin{equation}\n",
    "P(A \\text{ or } B) = P(A) + P(B) - P(A \\text{ and } B)\n",
    "\\end{equation}\n",
    "\n",
    "Examples of dependent events $A$ and $B$:\n",
    "1. $A =$ drawing a spade, $B =$  drawing a Jack for a single card draw\n",
    "2. $A = $ rolling a 2, $B = $ rolling an even number for a single dice roll"
   ]
  },
  {
   "cell_type": "markdown",
   "id": "54f2fda7",
   "metadata": {},
   "source": [
    "## Probability of Multiple Outcomes for Multiple Events (AND)"
   ]
  },
  {
   "cell_type": "markdown",
   "id": "43f09432",
   "metadata": {},
   "source": [
    "What if we consider problems like what is the probability that I get two tails in a row from flipping a fair coin.  This is the ***AND*** rule and requires that we multiply probabilities:\n",
    "\\begin{equation}\n",
    "P(T,T) = P(T)\\cdot P(T) = \\frac{1}{2}\\cdot\\frac{1}{2} = \\frac{1}{4}\n",
    "\\end{equation}\n",
    "\n",
    "We can check this by considering all possible outcomes.  Here is a list of all possible outcomes:\n",
    "\\begin{align}\n",
    "&T, T \\\\\n",
    "&T, H \\\\\n",
    "&H, T \\\\\n",
    "&H, H\n",
    "\\end{align}\n",
    "From this, we see that there are four possible outcomes of flipping two-sided coin twice.  Of these, there are only one outcome that has both tails.  Thus, \n",
    "\\begin{equation}\n",
    "\\frac{\\text{# ways of getting two tails in a row}}{\\text{total # of possible outcomes}} = \\frac{1}{4}\n",
    "\\end{equation}\n",
    "\n",
    "Generally, we multiply probability of events to find the probability of these two events happening.  However, this only holds for ***independent*** events.  For dependent events, such as drawing of cards without replacment, we introduce conditional probabilities.  "
   ]
  },
  {
   "cell_type": "markdown",
   "id": "481804ca",
   "metadata": {},
   "source": [
    "### Independent Events"
   ]
  },
  {
   "cell_type": "markdown",
   "id": "c6e79f6e",
   "metadata": {},
   "source": [
    "The probability of ***independent*** events $A$ ***AND*** $B$ is given by\n",
    "\\begin{equation}\n",
    "P(A \\text{ and } B) = P(A)P(B),\n",
    "\\end{equation}\n",
    "\n",
    "Examples include:\n",
    "1. Rolling two 2s in a row\n",
    "2. Flipping a heads and then a tails"
   ]
  },
  {
   "cell_type": "markdown",
   "id": "63bc416a",
   "metadata": {},
   "source": [
    "### Dependent Events"
   ]
  },
  {
   "cell_type": "markdown",
   "id": "19dec30f",
   "metadata": {},
   "source": [
    "The probability of ***dependent*** events $A$ ***AND*** $B$ is given by\n",
    "\\begin{equation}\n",
    "P(A \\text{ and } B) = P(A)P(B|A),\n",
    "\\end{equation}\n",
    "where $P(B|A)$ is the \"probability of $B$ *given* $A$\", or the conditional probability of $B$ and $A$.\n",
    "\n",
    "Examples include:\n",
    "1. Drawing, without replacement, a heart and a spade.\n",
    "2. Drawing, without replacment, two red cards in a row."
   ]
  },
  {
   "cell_type": "markdown",
   "id": "09195101",
   "metadata": {},
   "source": [
    "## Conditional Probability of Events"
   ]
  },
  {
   "cell_type": "markdown",
   "id": "4f703be0",
   "metadata": {},
   "source": [
    "Conditional probabilities are the measure of something given other, prior, information.  For example, you might ask \"what is the probability that I draw a Jack given that I draw a spade?\"  This probability is written as \n",
    "\\begin{equation}\n",
    "P(J|\\spadesuit) = \\frac{1}{13}\n",
    "\\end{equation}\n",
    "This is best compute by counting (or calculating) a total number of the outcome and the total possible.  Most probabilities can be cast as conditional.  For example, the probability of a drawing a heart from a standard deck can be stated as \"What is the probablity that I draw a heart given that I have a 52 card deck, 13 of which are hearts?\"\n",
    "\n",
    "Conditional probabilities are important in probability theory and also are important in statistical Thermodynamics."
   ]
  },
  {
   "cell_type": "markdown",
   "id": "a1bc08c4",
   "metadata": {},
   "source": [
    "## Binomial Coefficients"
   ]
  },
  {
   "cell_type": "markdown",
   "id": "5a02b7f4",
   "metadata": {},
   "source": [
    "One of the hardest things in discrete probability is counting the total number of possible outcomes.  For example, if I ask what is the probability of getting a royal flush when dealt five cards, we must determine (1) the number of five card hands that are royal flushes and (2) the total possible number of five card hands.\n",
    "\\begin{equation}\n",
    "P(\\text{royal flush}) = \\frac{\\text{# royal flush hands}}{\\text{total number of five card hands}}\n",
    "\\end{equation}\n",
    "\n",
    "To count the total number of five card hands, it is useful to introduce the concept of binomial coefficients.  These coefficients are useful in statistical mechanics as well.  The number of five card hands is given by\n",
    "\\begin{equation}\n",
    "52C5 = \\frac{52!}{5!47!} = 2598960\n",
    "\\end{equation}\n",
    "where $C$ stands for the choose function and $!$ stands for the factorial operation.  "
   ]
  }
 ],
 "metadata": {
  "kernelspec": {
   "display_name": "Python 3 (ipykernel)",
   "language": "python",
   "name": "python3"
  },
  "language_info": {
   "codemirror_mode": {
    "name": "ipython",
    "version": 3
   },
   "file_extension": ".py",
   "mimetype": "text/x-python",
   "name": "python",
   "nbconvert_exporter": "python",
   "pygments_lexer": "ipython3",
   "version": "3.9.13"
  }
 },
 "nbformat": 4,
 "nbformat_minor": 5
}