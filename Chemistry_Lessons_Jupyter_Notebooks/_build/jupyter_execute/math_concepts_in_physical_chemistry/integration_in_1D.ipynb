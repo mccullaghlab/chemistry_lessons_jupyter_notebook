{
 "cells": [
  {
   "cell_type": "markdown",
   "id": "13ea2fbd",
   "metadata": {},
   "source": [
    "# Integration in 1D"
   ]
  },
  {
   "cell_type": "markdown",
   "id": "3f930132",
   "metadata": {},
   "source": [
    "## Learning goals:\n",
    "\n",
    "After working through these notes, you will be able to:\n",
    "\n",
    "1. Describe the difference between *definite* and *indefinite* integration\n",
    "2. Determine the *indefinite* integrals of common functions of one variable\n",
    "3. Determine *definite* integrals of common functions of one variable"
   ]
  },
  {
   "cell_type": "markdown",
   "id": "c15c2199",
   "metadata": {},
   "source": [
    "## Coding concepts:\n",
    "\n",
    "No coding concepts are used in this notebook."
   ]
  },
  {
   "cell_type": "markdown",
   "id": "697104ab",
   "metadata": {},
   "source": [
    "## Integration"
   ]
  },
  {
   "cell_type": "markdown",
   "id": "6027bf8b",
   "metadata": {},
   "source": [
    "Integration is the inverse operation of differentiation.  When asked \"what is $\\int f(x) dx$?\" you can think of it like asking \"what function has the derivative $f(x)$?\". Much like in differentiation, we need to learn the integral, or antiderivative, of various functions for ease of use later in Thermodynamics and Kinetics.  We will start by differentiating between *indefinite* and *definite* integration."
   ]
  },
  {
   "cell_type": "markdown",
   "id": "fa90d158",
   "metadata": {},
   "source": [
    "## Indefinite integration"
   ]
  },
  {
   "cell_type": "markdown",
   "id": "6195878a",
   "metadata": {},
   "source": [
    "Indefinite integration is equivalent to the question above.  What is the antiderivative of a function?  For example, we might write\n",
    "\\begin{equation}\n",
    "\\int x^2dx = \\frac{x^3}{3} + C,\n",
    "\\end{equation}\n",
    "where this can be read as \"the integral of $x^2$ is $\\frac{x^3}{3}$ plus an arbitrary constant, $C$.\"  This is an example of *indefinite integration* for which we determine the function(s) that represent the antiderivative of the integrand ($x^2$).  Note that you can substitute any real number for $C$ and have a correct answer.   \n",
    "\n",
    "If we look at the *indefinite integration* above in reverse, we see that the derivative of $\\frac{x^3}{3}$ with respect to $x$ is $x^2$.  The derivative of any constant is $0$ so we actually have an infinite number of functions that satisfy the *indefinite integration* above and we represent these by including $C$, the arbitrary constant.  "
   ]
  },
  {
   "cell_type": "markdown",
   "id": "7e61351c",
   "metadata": {},
   "source": [
    "### Some Common Indefinite Integrals"
   ]
  },
  {
   "cell_type": "markdown",
   "id": "b99753e3",
   "metadata": {},
   "source": [
    "Here are the *indefinite integrals* of some common 1D functions:\n",
    "\n",
    "Polynomials (with constant $A$ and integer $n\\neq-1$)\n",
    "\\begin{equation}\n",
    "\\int Ax^n dx = \\frac{Ax^{n+1}}{n+1} + C\n",
    "\\end{equation}\n",
    "Polynomial $n=-1$ (with constant $A$)\n",
    "\\begin{equation}\n",
    "\\int \\frac{A}{x}dx = A\\ln|x| + C\n",
    "\\end{equation}\n",
    "\n",
    "Exponentials (with constants $A$ and $m$):\n",
    "\\begin{equation}\n",
    "\\int Ae^{m\\cdot x}dx = \\frac{A}{m}e^{m\\cdot x} + C\n",
    "\\end{equation}\n",
    "\n",
    "\n",
    "\n",
    "Trig functions (constant $A$):\n",
    "\\begin{equation}\n",
    "\\int A\\sin(x) dx = -A\\cos(x) + C\n",
    "\\end{equation}\n",
    "\\begin{equation}\n",
    "\\int A\\cos(x) dx = A\\sin(x) + C\n",
    "\\end{equation}\n",
    "\n",
    "For a more exhaustive list of indefinite integrals, see http://integral-table.com/, https://en.wikipedia.org/wiki/Lists_of_integrals, or use Wolgram alpha."
   ]
  },
  {
   "cell_type": "markdown",
   "id": "78c05812",
   "metadata": {},
   "source": [
    "### $u$ substitution"
   ]
  },
  {
   "cell_type": "markdown",
   "id": "b85fe4e1",
   "metadata": {},
   "source": [
    "Composite functions are more difficult to differentiate. There are a few tricks to help with this.  One example is $u$ substitution.  This is basically the integral version of the chain rule and does come in handy in Thermodynamics and Kinetics.  \n",
    "\n",
    "Rather than spell out the theory of $u$ substitution, here is an example of using it.  Determine a closed for expression for $f(x)$ where\n",
    "\\begin{equation}\n",
    "f(x) = \\int 2x\\cos(x^2)dx\n",
    "\\end{equation}\n",
    "Note that we clearly have composite functions here.  We have $2x$, $\\cos(x)$, and $x^2$.  This integral is also clearly not one of the ones listed above.  We are going to use $u$ substitution to solve it.  \n",
    "\n",
    "***A clue that $u$ substitution will work is when you have to parts of the function that are related by a derivative***\n",
    "\n",
    "We see that the $x^2$ and $2x$ are related by a derivative.  Namely $\\frac{d}{dx}x^2 = 2x$.  This means $u$ substitution will likely work in this case.  \n",
    "\n",
    "We start by picking one of the functions and substitute it with a new variable $u$.  We will choose \n",
    "\\begin{equation}\n",
    "u = x^2\n",
    "\\end{equation}\n",
    "because the derivative of $x^2$ is $dx$.  When we substitue $u$ into the integral above we are going to want to do the integration over $u$, not $x$.  Thus, we need to also substitute the differential of $u$.  To determine that, we take the differential of both sides of the equation for $u$ above to yield\n",
    "\\begin{equation}\n",
    "du = 2xdx\n",
    "\\end{equation}\n",
    "We now substitute both of these into the integral above to get\n",
    "\\begin{align}\n",
    "f(x) &= \\int 2x\\cos(x^2)dx \\\\\n",
    "&= \\int \\cos(x^2)2xdx \\\\\n",
    "&= \\int \\cos(u)du\\\\\n",
    "&= \\sin(u) + C\\\\\n",
    "&= \\sin(x^2) + C\n",
    "\\end{align}\n",
    "where I first rearrange the integral to make clear that there is a $du=2xdx$ in the integral.  I then substitute in $u$ and $du$ to get $\\int \\cos(u)du$.  This integral is given above as $\\sin(u) + C$.  Finally, we substitute back in for $u$ to make the dependence on $x$ explicit once again.  \n",
    "\n",
    "If we take the derivative of $\\sin(x^2) + C$ we need to use the chain rule but should see that we will get $2x\\cos(x^2)$.  "
   ]
  },
  {
   "cell_type": "markdown",
   "id": "95b73f3a",
   "metadata": {},
   "source": [
    "### Integration by Parts"
   ]
  },
  {
   "cell_type": "markdown",
   "id": "423483b8",
   "metadata": {},
   "source": [
    "The integral version of the product rule is integration by parts (sort of).  It is annoying and we won't encounter it that much in this class so I will not go over it."
   ]
  },
  {
   "cell_type": "markdown",
   "id": "fde69754",
   "metadata": {},
   "source": [
    "## Definite Integration"
   ]
  },
  {
   "cell_type": "markdown",
   "id": "152b4992",
   "metadata": {},
   "source": [
    "Definite integration is comparable to indefinite integration except that there are limits placed on the integral in *definite integration*.  The result is typically a number and represents the area under the curve between the lower and upper limits.  \n",
    "\n",
    "*Definite integrals* are often evaluated by determining the *indefinite integral* and then determining the difference of the values of this function at the limits.  The arbitrary constant, $C$, no longer matters because it is the same at both limits and so get substracted out.  \n",
    "\n",
    "Here is an example\n",
    "\\begin{equation}\n",
    "\\int_{-2}^2x^2dx = ?\n",
    "\\end{equation}\n",
    "\n",
    "To dermine this *definite integral*, we start be determining the *indefinite integral*.  We determined this above to be\n",
    "\\begin{equation}\n",
    "\\int x^2dx = \\frac{x^3}{3} + C,\n",
    "\\end{equation}\n",
    "\n",
    "We can now solve the *definite integral*\n",
    "\\begin{align}\n",
    "\\int_{-2}^2x^2dx &= \\left[ \\frac{x^3}{3} \\right]_{-2}^2 \\\\\n",
    "&= \\frac{2^3}{3} - \\frac{(-2)^3}{3} \\\\\n",
    "&= \\frac{16}{3}\n",
    "\\end{align}\n",
    "\n",
    "The notation $\\left[ \\frac{x^3}{3} \\right]_{-2}^2$ means to take the difference of the function $\\frac{x^3}{3}$ evaluated at the upper ($2$) and lower ($-2$) limits. "
   ]
  },
  {
   "cell_type": "markdown",
   "id": "0c485ff8",
   "metadata": {},
   "source": [
    "### Tables of Definite Integrals"
   ]
  },
  {
   "cell_type": "markdown",
   "id": "fbf0630c",
   "metadata": {},
   "source": [
    "There are some functions that do not have a nice *indefinite integral* but for which the *definite integral* over certain domains can be determined.  A common example is a Guassian integral over either $0<x<\\infty$ or $-\\infty<x<\\infty$.  It can be shown that\n",
    "\\begin{equation}\n",
    "\\int_{-\\infty}^{\\infty}e^{-\\alpha x^2} dx= \\sqrt{\\frac{\\pi}{\\alpha}} \n",
    "\\end{equation}\n",
    "We may encounter integrals like this.  It is not expected that you be able to determine these but rather you will be given a general result like those tabulated at the bottom of the wikipedia page of integrals (https://en.wikipedia.org/wiki/Lists_of_integrals)."
   ]
  },
  {
   "cell_type": "markdown",
   "id": "4ad062c1",
   "metadata": {},
   "source": [
    "### Numeric integration"
   ]
  },
  {
   "cell_type": "markdown",
   "id": "2b299ce5",
   "metadata": {},
   "source": [
    "Definite integrals can also be approximated by numeric integration.  We will not dicuss this technique but the basics are give in a [different noteboook](../coding_concepts/numeric_integration.ipynb)."
   ]
  }
 ],
 "metadata": {
  "kernelspec": {
   "display_name": "Python 3 (ipykernel)",
   "language": "python",
   "name": "python3"
  },
  "language_info": {
   "codemirror_mode": {
    "name": "ipython",
    "version": 3
   },
   "file_extension": ".py",
   "mimetype": "text/x-python",
   "name": "python",
   "nbconvert_exporter": "python",
   "pygments_lexer": "ipython3",
   "version": "3.9.13"
  }
 },
 "nbformat": 4,
 "nbformat_minor": 5
}