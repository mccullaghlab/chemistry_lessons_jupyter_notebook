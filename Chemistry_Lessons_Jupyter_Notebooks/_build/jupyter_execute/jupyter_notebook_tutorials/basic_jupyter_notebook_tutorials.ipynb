{
 "cells": [
  {
   "cell_type": "markdown",
   "metadata": {},
   "source": [
    "# Jupyter Notebook Tutorial"
   ]
  },
  {
   "cell_type": "markdown",
   "metadata": {},
   "source": [
    "## What is a Jupyter Notebook?\n",
    "\n",
    "A Jupyter Notebook, such as the one your are currently looking at, is a collection of rich text elements (text, images, equations, etc) and computer code (typically python).  These notebooks are stored as files analagous to html or xml that can be executed/intepreted by a Jupyter Notebook App (comes with Anaconda python).  The code can be executed in an active kernel either through the App or using a online server/hub, if setup properly.  "
   ]
  },
  {
   "cell_type": "markdown",
   "metadata": {},
   "source": [
    "## A Notebook is a Collection of Cells"
   ]
  },
  {
   "cell_type": "markdown",
   "metadata": {},
   "source": [
    "A Jupyter Notebook is a collection of cells.  Cells can be added and deleted using the buttons on the top or by keyboard shortcuts."
   ]
  },
  {
   "cell_type": "markdown",
   "metadata": {},
   "source": [
    "Each cell can be one of three types.  These types can be changed using the dropdown menu above (when in an active kernel)\n",
    "1. Code\n",
    "\n",
    "    This includes executable code (usually python).  You can have different snippets of code in different cells.\n",
    "    \n",
    "2. Markdown\n",
    "\n",
    "    This is text with some formatting including numbered lists etc.  The current cell is an example.  You can google the text formatting syntax if interested.  Markdown also allows you to do headers by starting the cell with # (main header), ## (sub header), or ### (sub-sub header).  I use these in this and other notebooks.\n",
    "       \n",
    "3. Raw\n",
    "\n",
    "    Literally prints what you type.  Looks like code.  Is often used to convey code without it being executable.\n",
    "   "
   ]
  },
  {
   "cell_type": "markdown",
   "metadata": {},
   "source": [
    "In an active kernel, you can modify a markdown cell by double clicking on the cell."
   ]
  },
  {
   "cell_type": "markdown",
   "metadata": {},
   "source": [
    "You execute markdown and code cells by hitting shift+enter or using the buttons on the top.  Once you have edited a cell it must be run again for edits to take place"
   ]
  },
  {
   "cell_type": "raw",
   "metadata": {},
   "source": [
    "This is an example of a Raw cell.  Raw cells do not get executed."
   ]
  },
  {
   "cell_type": "markdown",
   "metadata": {},
   "source": [
    "## Markdown Cells"
   ]
  },
  {
   "cell_type": "markdown",
   "metadata": {},
   "source": [
    "Markdown cells are the richt text cells, such as this one.  Raw text is typed in and then it is passed through a markdown interpreter to be formatted.  There is much that can be done with markdown but here we highlight three important aspects:\n",
    "\n",
    "1. Equations\n",
    "2. Embedding images\n",
    "3. Tables"
   ]
  },
  {
   "cell_type": "markdown",
   "metadata": {},
   "source": [
    "### Equations in Markdown Cells"
   ]
  },
  {
   "cell_type": "markdown",
   "metadata": {},
   "source": [
    "Equations can be embedded in markdown cells using LaTeX syntax.  The following latex math functions are understood\n",
    "\n",
    "`$ \\phi = \\pi $`  \n",
    "$\\phi = \\pi$\n",
    "\n",
    "`\\begin{equation} \n",
    "x = 2 \\\n",
    "\\end{equation}` \\begin{equation}x=2\\end{equation}\n",
    "\n",
    "`\\begin{eqnarray} \n",
    "x &=& 2\\\\\n",
    "x + y&=& 5\n",
    "\\end{eqnarray}` \n",
    "\n",
    "\\begin{eqnarray}\n",
    "x&=&2 \\\\\n",
    "x + y&=&5\n",
    "\\end{eqnarray}\n",
    "\n",
    "`\\begin{align} \n",
    "x &=& 2\\\\\n",
    "x + y&=& 5\n",
    "\\end{align}` \n",
    "\n",
    "\\begin{align}\n",
    "x&=2 \\\\\n",
    "x + y&=5\n",
    "\\end{align}"
   ]
  },
  {
   "cell_type": "markdown",
   "metadata": {},
   "source": [
    "### Embedding Images"
   ]
  },
  {
   "cell_type": "markdown",
   "metadata": {},
   "source": [
    "Images can be embedded in markdown cells.  This is similar to how you would embed an image in html.  The image file must be able to be found, locally.  Here I use the logo of my book as an example.\n",
    "\n",
    "`<img src=\"logo.png\" width=\"300\" align=\"center\">`\n",
    "\n",
    "<img src=\"logo.png\" width=\"300\" align=\"center\">"
   ]
  },
  {
   "cell_type": "markdown",
   "metadata": {},
   "source": [
    "### Tables"
   ]
  },
  {
   "cell_type": "markdown",
   "metadata": {},
   "source": [
    "Tables can be created but, somewhat interestingly, it does not take latex format.  Markdown as its own format\n",
    "\n",
    "`| Energy Function                  | Definition                    | Differential Form                | Natural Variables |         \n",
    "| :---------------------------- | :-------------------------------------- | :------------------------------ | :------------------------------ | \n",
    "| U - Internal Energy              | $\\Delta U = q + w $           | $dU=TdS-PdV$                 | $S$ and $V$|\n",
    "| H - Enthalpy                     | $H = U + PV$                  | $dH = TdS + VdP$                 | $S$ and $P$|\n",
    "| A - Helmholtz Free Energy        | $A = U - TS$                  | $dA = -SdT - PdV$                | $T$ and $V$|\n",
    "| G - Gibbs Free Energy            | $G = H - TS$                  | $dG = -SdT + VdP$                | $T$ and $P$|`\n",
    "\n",
    "| Energy Function           | Definition                 | Differential Form          | Natural Variables |         \n",
    "| :------------------------ | :------------------------- | :------------------------- | :------------------------ | \n",
    "| U - Internal Energy                | $\\Delta U = q + w $           | $dU=TdS-PdV$                 | $S$ and $V$|\n",
    "| H - Enthalpy                       | $H = U + PV$                  | $dH = TdS + VdP$                 | $S$ and $P$|\n",
    "| A - Helmholtz Free Energy          | $A = U - TS$                  | $dA = -SdT - PdV$                | $T$ and $V$|\n",
    "| G - Gibbs Free Energy              | $G = H - TS$                  | $dG = -SdT + VdP$                | $T$ and $P$|"
   ]
  },
  {
   "cell_type": "markdown",
   "metadata": {},
   "source": [
    "## Code Cells (python)"
   ]
  },
  {
   "cell_type": "markdown",
   "metadata": {},
   "source": [
    "### Basics"
   ]
  },
  {
   "cell_type": "code",
   "execution_count": 1,
   "metadata": {},
   "outputs": [
    {
     "name": "stdout",
     "output_type": "stream",
     "text": [
      "3\n"
     ]
    }
   ],
   "source": [
    "# assigning a variable\n",
    "a = 3\n",
    "print(a)"
   ]
  },
  {
   "cell_type": "markdown",
   "metadata": {},
   "source": [
    "### Libraries"
   ]
  },
  {
   "cell_type": "markdown",
   "metadata": {},
   "source": [
    "Libraries can be imported but they must be available to the python interpreter/kernel.  This can sometimes be challenging if launching remotely."
   ]
  },
  {
   "cell_type": "code",
   "execution_count": 2,
   "metadata": {},
   "outputs": [],
   "source": [
    "import numpy as np"
   ]
  }
 ],
 "metadata": {
  "kernelspec": {
   "display_name": "Python 3",
   "language": "python",
   "name": "python3"
  },
  "language_info": {
   "codemirror_mode": {
    "name": "ipython",
    "version": 3
   },
   "file_extension": ".py",
   "mimetype": "text/x-python",
   "name": "python",
   "nbconvert_exporter": "python",
   "pygments_lexer": "ipython3",
   "version": "3.8.8"
  }
 },
 "nbformat": 4,
 "nbformat_minor": 2
}