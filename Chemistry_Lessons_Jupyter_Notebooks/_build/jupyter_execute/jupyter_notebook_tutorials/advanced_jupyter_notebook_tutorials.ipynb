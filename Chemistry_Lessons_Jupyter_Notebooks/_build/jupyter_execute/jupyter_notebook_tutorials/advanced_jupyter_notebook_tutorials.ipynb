{
 "cells": [
  {
   "cell_type": "markdown",
   "metadata": {},
   "source": [
    "# Advanced Jupyter Notebook Tutorial"
   ]
  },
  {
   "cell_type": "markdown",
   "metadata": {},
   "source": [
    "Today we will cover some more advanced math concepts in Jupyter notebooks.  Namely, we will discuss\n",
    "1. Integration\n",
    "\n",
    "    This includes a discussion of analtytic vs numeric integration and integral tables.\n",
    "    \n",
    "    \n",
    "2. Matrix manipulations\n",
    "\n",
    "    Eigenvalue/eigenvector problems etc.\n",
    "       \n"
   ]
  },
  {
   "cell_type": "markdown",
   "metadata": {},
   "source": [
    "## Integration"
   ]
  },
  {
   "cell_type": "markdown",
   "metadata": {},
   "source": [
    "### Indefinite integration"
   ]
  },
  {
   "cell_type": "markdown",
   "metadata": {},
   "source": [
    "Consider $f(x) = \\int x^2 dx$, can we write $f(x)$ in a different way?  Sure, if we know the antiderivative of the integrand we can write out f(x) as the indefinite integral.  Namely, $f(x) = \\int x^2 dx = \\frac{x^3}{3} + C$ for arbitrary constant $C$."
   ]
  },
  {
   "cell_type": "markdown",
   "metadata": {},
   "source": [
    "What are the indefinite integrals of the following\n",
    "\n",
    "1. $\\int x^3 dx$\n",
    "2. $\\int e^{x} dx$\n",
    "3. $\\int (x^4 + 4x) dx$\n",
    "4. $\\int \\frac{1}{x} dx$"
   ]
  },
  {
   "cell_type": "markdown",
   "metadata": {},
   "source": [
    "Coding does not help with indefinite integration.  These need to be derived analytically.  Some common indefinite integrals are tabulated here: http://integral-table.com/"
   ]
  },
  {
   "cell_type": "markdown",
   "metadata": {},
   "source": [
    "### Definite integration"
   ]
  },
  {
   "cell_type": "markdown",
   "metadata": {},
   "source": [
    "Definite integration is when we want to evaluate the integral of a function (integrand) over a finite domain.  E.g. $\\int_0^4 x^2dx$.  If the domain is static (i.e. $0$ to $4$ instead of $0$ to $y$) and integration is performed over all variables in the integrand, then the result of a definite integral will be a number (as opposed to a function of x in the case of indefinite integrals).  This may all sound esoteric so let's consider some examples."
   ]
  },
  {
   "cell_type": "markdown",
   "metadata": {},
   "source": [
    "1. $\\int_0^4 x^2 dx$\n",
    "\n",
    "    $ = \\left[ \\frac{x^3}{3} + C\\right]_0^4$   In this step I replace $\\int x^2 dx$ with the indefinite integral \n",
    "    \n",
    "    $ = \\left[\\frac{4^3}{3} + C\\right] - \\left[\\frac{0^3}{3} + C\\right] $  Evaluate the indefinite integral at the limits\n",
    "    \n",
    "    $ = \\frac{64}{3} + C - 0 - C$  Algebra\n",
    "    \n",
    "    $ = \\frac{64}{3}$"
   ]
  },
  {
   "cell_type": "markdown",
   "metadata": {},
   "source": [
    "Notice that the arbitrary constant, $C$, cancels out when you subtract the value of the indefinite integral at the lower bound from that at the upper bound.  This holds true in general thus we typically don't include the arbitrary constant when evaluating the indefinite integral at the bounds of integration.  Let's do another example:"
   ]
  },
  {
   "cell_type": "markdown",
   "metadata": {},
   "source": [
    "1. $\\int_0^4 x^2 dx$\n",
    "\n",
    "    $ = \\left[ \\frac{x^3}{3} + C\\right]_0^4$   In this step I replace $\\int x^2 dx$ with the indefinite integral \n",
    "    \n",
    "    $ = \\left[\\frac{4^3}{3} + C\\right] - \\left[\\frac{0^3}{3} + C\\right] $  Evaluate the indefinite integral at the limits\n",
    "    \n",
    "    $ = \\frac{64}{3} + C - 0 - C$  Algebra\n",
    "    \n",
    "    $ = \\frac{64}{3}$"
   ]
  },
  {
   "cell_type": "code",
   "execution_count": 1,
   "metadata": {},
   "outputs": [
    {
     "data": {
      "text/plain": [
       "21.333333333333332"
      ]
     },
     "execution_count": 1,
     "metadata": {},
     "output_type": "execute_result"
    }
   ],
   "source": [
    "64/3."
   ]
  },
  {
   "cell_type": "markdown",
   "metadata": {},
   "source": [
    "### Numeric Definite Integration"
   ]
  },
  {
   "cell_type": "markdown",
   "metadata": {},
   "source": [
    "Numeric integration can only be used for definite integrals.  It is a way of approximating the analytic solution and good approaches to this will converge to that solution in certain limits.  The most common example of this is rectangular integration (or the midpoint rule).  For this method, we approximate the area under a curve as the sum of the areas of abutting rectangles that are the height of the function at the midpoint of the rectangle.  These rectangles are of a specified width and the value of the summation converges to the real solution as the width of the rectangles decrease."
   ]
  },
  {
   "cell_type": "code",
   "execution_count": 2,
   "metadata": {},
   "outputs": [
    {
     "data": {
      "text/plain": [
       "<BarContainer object of 16 artists>"
      ]
     },
     "execution_count": 2,
     "metadata": {},
     "output_type": "execute_result"
    },
    {
     "data": {
      "image/png": "[encoded data removed]",
      "text/plain": [
       "<Figure size 432x288 with 1 Axes>"
      ]
     },
     "metadata": {
      "filenames": {
       "image/png": "/Users/mmccull/Dropbox/work/chemistry_lessons_jupyter_notebook/Chemistry_Lessons_Jupyter_Notebooks/_build/jupyter_execute/jupyter_notebook_tutorials/advanced_jupyter_notebook_tutorials_15_1.png"
      },
      "needs_background": "light"
     },
     "output_type": "display_data"
    }
   ],
   "source": [
    "import numpy as np\n",
    "import matplotlib.pyplot as plt\n",
    "%matplotlib inline\n",
    "\n",
    "x = np.arange(0,6,0.1)\n",
    "xInt = np.arange(0.125,4,0.25)\n",
    "plt.plot(x,np.power(x,2))\n",
    "plt.bar(xInt,np.power(xInt,2),0.25)"
   ]
  },
  {
   "cell_type": "markdown",
   "metadata": {},
   "source": [
    "We can compute the sum of these areas using a for loop in python."
   ]
  },
  {
   "cell_type": "code",
   "execution_count": 3,
   "metadata": {},
   "outputs": [
    {
     "name": "stdout",
     "output_type": "stream",
     "text": [
      "Number of rectangles: 400\n"
     ]
    }
   ],
   "source": [
    "rectangleSum = 0.0\n",
    "rectangleWidth = 0.01\n",
    "minX = 0.00\n",
    "maxX = 4.00\n",
    "nRectangles = int( (maxX-minX)/rectangleWidth )\n",
    "print(\"Number of rectangles:\", nRectangles)"
   ]
  },
  {
   "cell_type": "code",
   "execution_count": 4,
   "metadata": {},
   "outputs": [
    {
     "name": "stdout",
     "output_type": "stream",
     "text": [
      "21.33330000000001\n"
     ]
    }
   ],
   "source": [
    "rectangleSum = 0.0\n",
    "for i in range(nRectangles):\n",
    "    areaOfRectangle =  rectangleWidth * (minX + (i+0.5)*rectangleWidth)**2\n",
    "    rectangleSum += areaOfRectangle\n",
    "print(rectangleSum)"
   ]
  },
  {
   "cell_type": "markdown",
   "metadata": {},
   "source": [
    "There are a vareity of other, more accurate, numerical integration techniques including the trapezoid rule, Simpson's rule and Gaussian quadrature. We will not go into these in detail.  Instead we will use scipy packages for these."
   ]
  },
  {
   "cell_type": "code",
   "execution_count": 5,
   "metadata": {},
   "outputs": [
    {
     "name": "stdout",
     "output_type": "stream",
     "text": [
      "Trapezoid rule: 21.25349974999999\n",
      "Simpson's rule: 21.253433416666653\n",
      "Gaussian quadrature : 21.333333333333336\n"
     ]
    }
   ],
   "source": [
    "from scipy import integrate\n",
    "def f(x):\n",
    "    return x*x\n",
    "dx = 0.01\n",
    "xInt = np.arange(0.5*dx,4,dx)\n",
    "print(\"Trapezoid rule:\",integrate.trapz(np.power(xInt,2),x=xInt))\n",
    "print(\"Simpson's rule:\",integrate.simps(np.power(xInt,2),x=xInt))\n",
    "print(\"Gaussian quadrature :\",integrate.quad(f,0,4)[0])"
   ]
  },
  {
   "cell_type": "markdown",
   "metadata": {},
   "source": [
    "## More on Matrices"
   ]
  },
  {
   "cell_type": "code",
   "execution_count": 6,
   "metadata": {},
   "outputs": [],
   "source": [
    "# in this code cell we will import numpy\n",
    "import numpy as np"
   ]
  },
  {
   "cell_type": "markdown",
   "metadata": {},
   "source": [
    "### Defining a matrix"
   ]
  },
  {
   "cell_type": "markdown",
   "metadata": {},
   "source": [
    "We can define a matrix in a number of ways.  The first is to cast a list of lists as a numpy matrix."
   ]
  },
  {
   "cell_type": "code",
   "execution_count": 7,
   "metadata": {},
   "outputs": [
    {
     "name": "stdout",
     "output_type": "stream",
     "text": [
      "[[1 2]\n",
      " [3 4]]\n",
      "[[1. 2.]\n",
      " [3. 4.]]\n",
      "[[ 5.  6.]\n",
      " [-1.  0.]]\n"
     ]
    }
   ],
   "source": [
    "# defining a matrix - these are just 2D arrays\n",
    "a = np.matrix([[1,2],[3,4]])\n",
    "b = np.matrix([[1,2],[3,4]],dtype=float)\n",
    "c = np.matrix([[5,6],[-1,0]],dtype=float)\n",
    "print(a)\n",
    "print(b)\n",
    "print(c)"
   ]
  },
  {
   "cell_type": "markdown",
   "metadata": {},
   "source": [
    "We can also declare the matrices and populate them element by element."
   ]
  },
  {
   "cell_type": "code",
   "execution_count": 8,
   "metadata": {},
   "outputs": [
    {
     "name": "stdout",
     "output_type": "stream",
     "text": [
      "[[0. 1. 2.]\n",
      " [1. 2. 3.]\n",
      " [2. 3. 4.]]\n"
     ]
    }
   ],
   "source": [
    "a = np.empty((3,3),dtype=float)   # declare an empty matrix of size 3x3 and type float\n",
    "for i in range(3):\n",
    "    for j in range(3):\n",
    "        a[i,j] = i+j              # place the value of i+j into the i,jth element of the matrix\n",
    "print(a)"
   ]
  },
  {
   "cell_type": "markdown",
   "metadata": {},
   "source": [
    "Elements in a matrix can be accessed by square brackets and the integer indeces"
   ]
  },
  {
   "cell_type": "code",
   "execution_count": 9,
   "metadata": {},
   "outputs": [
    {
     "name": "stdout",
     "output_type": "stream",
     "text": [
      "a[0,0]= 0.0\n",
      "a[1,2]= 3.0\n"
     ]
    }
   ],
   "source": [
    "print(\"a[0,0]=\",a[0,0])\n",
    "print(\"a[1,2]=\",a[1,2])"
   ]
  },
  {
   "cell_type": "markdown",
   "metadata": {},
   "source": [
    "### Matrix manipulations"
   ]
  },
  {
   "cell_type": "markdown",
   "metadata": {},
   "source": [
    "Numpy has a lot of built in functions to manipulate or assess a matrix.  "
   ]
  },
  {
   "cell_type": "code",
   "execution_count": 10,
   "metadata": {},
   "outputs": [
    {
     "name": "stdout",
     "output_type": "stream",
     "text": [
      "Tr(a)= 6.0\n",
      "|a|=det(a)= 0.0\n",
      "a^T= [[0. 1. 2.]\n",
      " [1. 2. 3.]\n",
      " [2. 3. 4.]]\n"
     ]
    }
   ],
   "source": [
    "# trace\n",
    "print(\"Tr(a)=\",np.trace(a))\n",
    "# determinant\n",
    "print(\"|a|=det(a)=\",np.linalg.det(a))\n",
    "# transpose\n",
    "print(\"a^T=\",a.T)"
   ]
  },
  {
   "cell_type": "markdown",
   "metadata": {},
   "source": [
    "More complicated matrix manipulations such as inverses and diagonalizations can also be done"
   ]
  },
  {
   "cell_type": "code",
   "execution_count": 11,
   "metadata": {},
   "outputs": [
    {
     "ename": "LinAlgError",
     "evalue": "Singular matrix",
     "output_type": "error",
     "traceback": [
      "\u001b[0;31m---------------------------------------------------------------------------\u001b[0m",
      "\u001b[0;31mLinAlgError\u001b[0m                               Traceback (most recent call last)",
      "\u001b[0;32m<ipython-input-11-c23c1e3ac411>\u001b[0m in \u001b[0;36m<module>\u001b[0;34m\u001b[0m\n\u001b[1;32m      1\u001b[0m \u001b[0;31m# inverse\u001b[0m\u001b[0;34m\u001b[0m\u001b[0;34m\u001b[0m\u001b[0;34m\u001b[0m\u001b[0m\n\u001b[0;32m----> 2\u001b[0;31m \u001b[0mnp\u001b[0m\u001b[0;34m.\u001b[0m\u001b[0mlinalg\u001b[0m\u001b[0;34m.\u001b[0m\u001b[0minv\u001b[0m\u001b[0;34m(\u001b[0m\u001b[0ma\u001b[0m\u001b[0;34m)\u001b[0m\u001b[0;34m\u001b[0m\u001b[0;34m\u001b[0m\u001b[0m\n\u001b[0m",
      "\u001b[0;32m<__array_function__ internals>\u001b[0m in \u001b[0;36minv\u001b[0;34m(*args, **kwargs)\u001b[0m\n",
      "\u001b[0;32m~/opt/anaconda3/lib/python3.8/site-packages/numpy/linalg/linalg.py\u001b[0m in \u001b[0;36minv\u001b[0;34m(a)\u001b[0m\n\u001b[1;32m    545\u001b[0m     \u001b[0msignature\u001b[0m \u001b[0;34m=\u001b[0m \u001b[0;34m'D->D'\u001b[0m \u001b[0;32mif\u001b[0m \u001b[0misComplexType\u001b[0m\u001b[0;34m(\u001b[0m\u001b[0mt\u001b[0m\u001b[0;34m)\u001b[0m \u001b[0;32melse\u001b[0m \u001b[0;34m'd->d'\u001b[0m\u001b[0;34m\u001b[0m\u001b[0;34m\u001b[0m\u001b[0m\n\u001b[1;32m    546\u001b[0m     \u001b[0mextobj\u001b[0m \u001b[0;34m=\u001b[0m \u001b[0mget_linalg_error_extobj\u001b[0m\u001b[0;34m(\u001b[0m\u001b[0m_raise_linalgerror_singular\u001b[0m\u001b[0;34m)\u001b[0m\u001b[0;34m\u001b[0m\u001b[0;34m\u001b[0m\u001b[0m\n\u001b[0;32m--> 547\u001b[0;31m     \u001b[0mainv\u001b[0m \u001b[0;34m=\u001b[0m \u001b[0m_umath_linalg\u001b[0m\u001b[0;34m.\u001b[0m\u001b[0minv\u001b[0m\u001b[0;34m(\u001b[0m\u001b[0ma\u001b[0m\u001b[0;34m,\u001b[0m \u001b[0msignature\u001b[0m\u001b[0;34m=\u001b[0m\u001b[0msignature\u001b[0m\u001b[0;34m,\u001b[0m \u001b[0mextobj\u001b[0m\u001b[0;34m=\u001b[0m\u001b[0mextobj\u001b[0m\u001b[0;34m)\u001b[0m\u001b[0;34m\u001b[0m\u001b[0;34m\u001b[0m\u001b[0m\n\u001b[0m\u001b[1;32m    548\u001b[0m     \u001b[0;32mreturn\u001b[0m \u001b[0mwrap\u001b[0m\u001b[0;34m(\u001b[0m\u001b[0mainv\u001b[0m\u001b[0;34m.\u001b[0m\u001b[0mastype\u001b[0m\u001b[0;34m(\u001b[0m\u001b[0mresult_t\u001b[0m\u001b[0;34m,\u001b[0m \u001b[0mcopy\u001b[0m\u001b[0;34m=\u001b[0m\u001b[0;32mFalse\u001b[0m\u001b[0;34m)\u001b[0m\u001b[0;34m)\u001b[0m\u001b[0;34m\u001b[0m\u001b[0;34m\u001b[0m\u001b[0m\n\u001b[1;32m    549\u001b[0m \u001b[0;34m\u001b[0m\u001b[0m\n",
      "\u001b[0;32m~/opt/anaconda3/lib/python3.8/site-packages/numpy/linalg/linalg.py\u001b[0m in \u001b[0;36m_raise_linalgerror_singular\u001b[0;34m(err, flag)\u001b[0m\n\u001b[1;32m     95\u001b[0m \u001b[0;34m\u001b[0m\u001b[0m\n\u001b[1;32m     96\u001b[0m \u001b[0;32mdef\u001b[0m \u001b[0m_raise_linalgerror_singular\u001b[0m\u001b[0;34m(\u001b[0m\u001b[0merr\u001b[0m\u001b[0;34m,\u001b[0m \u001b[0mflag\u001b[0m\u001b[0;34m)\u001b[0m\u001b[0;34m:\u001b[0m\u001b[0;34m\u001b[0m\u001b[0;34m\u001b[0m\u001b[0m\n\u001b[0;32m---> 97\u001b[0;31m     \u001b[0;32mraise\u001b[0m \u001b[0mLinAlgError\u001b[0m\u001b[0;34m(\u001b[0m\u001b[0;34m\"Singular matrix\"\u001b[0m\u001b[0;34m)\u001b[0m\u001b[0;34m\u001b[0m\u001b[0;34m\u001b[0m\u001b[0m\n\u001b[0m\u001b[1;32m     98\u001b[0m \u001b[0;34m\u001b[0m\u001b[0m\n\u001b[1;32m     99\u001b[0m \u001b[0;32mdef\u001b[0m \u001b[0m_raise_linalgerror_nonposdef\u001b[0m\u001b[0;34m(\u001b[0m\u001b[0merr\u001b[0m\u001b[0;34m,\u001b[0m \u001b[0mflag\u001b[0m\u001b[0;34m)\u001b[0m\u001b[0;34m:\u001b[0m\u001b[0;34m\u001b[0m\u001b[0;34m\u001b[0m\u001b[0m\n",
      "\u001b[0;31mLinAlgError\u001b[0m: Singular matrix"
     ]
    }
   ],
   "source": [
    "# inverse\n",
    "np.linalg.inv(a)"
   ]
  },
  {
   "cell_type": "markdown",
   "metadata": {},
   "source": [
    "Note that not all matrices are invertible!"
   ]
  },
  {
   "cell_type": "code",
   "execution_count": 15,
   "metadata": {},
   "outputs": [
    {
     "name": "stdout",
     "output_type": "stream",
     "text": [
      "Eigenvalues: [ 6.87298335e+00 -8.72983346e-01 -7.69038628e-16]\n",
      "Eigenvectors: [[-0.30646053 -0.8598926   0.40824829]\n",
      " [-0.54384383 -0.19382266 -0.81649658]\n",
      " [-0.78122713  0.47224729  0.40824829]]\n"
     ]
    }
   ],
   "source": [
    "# eigenvalues and eigenvectors\n",
    "e,v = np.linalg.eig(a)\n",
    "print(\"Eigenvalues:\",e)\n",
    "print(\"Eigenvectors:\",v)"
   ]
  },
  {
   "cell_type": "code",
   "execution_count": null,
   "metadata": {},
   "outputs": [],
   "source": []
  }
 ],
 "metadata": {
  "kernelspec": {
   "display_name": "Python 3",
   "language": "python",
   "name": "python3"
  },
  "language_info": {
   "codemirror_mode": {
    "name": "ipython",
    "version": 3
   },
   "file_extension": ".py",
   "mimetype": "text/x-python",
   "name": "python",
   "nbconvert_exporter": "python",
   "pygments_lexer": "ipython3",
   "version": "3.8.3"
  }
 },
 "nbformat": 4,
 "nbformat_minor": 2
}