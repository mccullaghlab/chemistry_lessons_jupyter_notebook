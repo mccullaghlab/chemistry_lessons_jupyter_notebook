{
 "cells": [
  {
   "cell_type": "markdown",
   "metadata": {},
   "source": [
    "# Classical Ideal Gas"
   ]
  },
  {
   "cell_type": "markdown",
   "metadata": {},
   "source": [
    "## Motivation\n",
    "\n"
   ]
  },
  {
   "cell_type": "markdown",
   "metadata": {},
   "source": [
    "## Learning Goals\n"
   ]
  },
  {
   "cell_type": "markdown",
   "metadata": {},
   "source": [
    "## Coding Concepts\n",
    "\n",
    "1. Variables\n",
    "2. Functions\n",
    "3. Numpy"
   ]
  },
  {
   "cell_type": "markdown",
   "metadata": {},
   "source": [
    "## Introduction to Classical Particles\n",
    "\n",
    "If we consider a gas to be made up of classical particles, we can no longer describe its energy using the quantized energy functions.  Instead, we must consider what it means for a particle to be \"classical\" and how we describe the energy of such particles.  \n",
    "\n",
    "A classical particle will have a position, $\\vec{r} = (r_x, r_y, r_z)$, and a momentum, $\\vec{p} = (p_x, p_y, p_z) = m\\vec{v}$.  If the particle is in a box with linear dimension $L$ (cubic box such that $L^3=V$) then each component of $\\vec{r}$ can take on values of $0 < r_x,r_y,r_z < L$.  The components of the momentum of the particle are not limited in the same manner.  Each component of the momentum can take on values of $-\\infty < p_x,p_y,p_z < \\infty$.\n",
    "\n",
    "\n",
    "In a system of $N$ classical particles, we can denote the collection of particle positions as $\\vec{R}^N$ and particle momenta as $\\vec{P}^N$.  Each of these collections is made up of $N$ different three dimensional vectors denoting the position or momentum of each particle.  \n",
    "\n",
    "The energy of a system of classical particles may depend on the particular configuration of the particles, $\\vec{R}^N$, and values of the momenta, $\\vec{P}^N$.  We might write that the energy, denoted $H$, is\n",
    "\\begin{equation}\n",
    "H(\\vec{R}^N,\\vec{P}^N) = K(\\vec{P}^N) + U(\\vec{R}^N),\n",
    "\\end{equation}\n",
    "where $K(\\vec{P}^N)$ is the kinetic energy and $U(\\vec{R}^N)$ is the potential energy."
   ]
  },
  {
   "cell_type": "markdown",
   "metadata": {},
   "source": [
    "## Example of classical particles\n",
    "\n",
    "Consider a system of two classical particles that interact with a Lennard-Jones potential of the form\n",
    "\\begin{equation}\n",
    "U(\\vec{r}^1,\\vec{r}^2) = 4\\left[ \\left( \\frac{2}{|\\vec{r}^{12}|}\\right)^{12} -  \\left( \\frac{2}{|\\vec{r}^{12}|}\\right)^{6} \\right]\n",
    "\\end{equation}\n",
    "where $|\\vec{r}^{12}| = \\sqrt{(r^1_x - r^2_x)^2 + (r^1_y - r^2_y)^2 + (r^1_z - r^2_z)^2}$ is the distance between particles 1 and 2.  Consider this potential to be in units of $\\epsilon$.  Compute the potential energy when the particle have postitions $\\vec{r}^1 = (0.25, 0.6, 1.0)$ and $\\vec{r}^2 = (3.0, 1.2, 0.8)$"
   ]
  },
  {
   "cell_type": "code",
   "execution_count": 5,
   "metadata": {},
   "outputs": [
    {
     "name": "stdout",
     "output_type": "stream",
     "text": [
      "Potential energy (units of epsilon): -0.89\n"
     ]
    }
   ],
   "source": [
    "import numpy as np\n",
    "def lj(r1,r2,eps,sigma):\n",
    "    r12 = np.sqrt((r1[0]-r2[0])**2+(r1[1]-r2[1])**2+(r1[2]-r2[2])**2)\n",
    "    return 4*eps* ((sigma/r12)**12 - (sigma/r12)**6)\n",
    "r1 = np.array([0.25,0.6,1.0])\n",
    "r2 = np.array([3.0,1.2,0.8])\n",
    "print(\"Potential energy (units of epsilon):\", np.round(lj(r1,r2,2,2),2))"
   ]
  },
  {
   "cell_type": "markdown",
   "metadata": {},
   "source": [
    "## Partition Function for a Classical Ideal Gas\n",
    "\n",
    "If we consider a collection of ideal particles to be an ideal gas then there is no potential energy between the particles.  That is, $U(\\vec{R}^N) = 0$ for all configurations of the particles.  This allows us to write that \n",
    "\\begin{equation}\n",
    "H(\\vec{R}^N,\\vec{P}^N) = K(\\vec{P}^N).\n",
    "\\end{equation}\n",
    "Furthermore, the kinetic energy of a classical particle is simply $\\frac{\\vec{p}^2}{2m} = \\frac{1}{2}m\\vec{v}^2$.  The kinetic energy of a collection of classical particles is just the sum over individual particle kinetic energies\n",
    "\\begin{equation}\n",
    "H(\\vec{R}^N,\\vec{P}^N) = K(\\vec{P}^N) = \\sum_{i=1}^N \\frac{\\vec{p}_i^2}{2m_i}.\n",
    "\\end{equation}\n",
    "\n",
    "Note that $\\vec{p}^2 = p_x^2 + p_y^2 + p_z^2$ is the squared norm of the momentum.  Also note that if the mass is the ame for all particles it can be factored out of the sum.\n",
    "\n",
    "If we wish to estimate the partition function for this ideal gas, we must estimate the Boltzmann factor for all possible configurations for the system.  Since the configurations are continuous variables, positions and momenta of the particles, we must consider an integral (rather than a sum) over all of these variables.  That is\n",
    "\\begin{eqnarray}\n",
    "Q = \\int e^{-\\beta H(\\vec{R}^N,\\vec{P}^N)} d\\vec{R}^Nd\\vec{P}^N,\n",
    "\\end{eqnarray}\n",
    "where $d\\vec{R}^N = dr_{x1}dr_{y1}dr_{z1}...dr_{xN}dr_{yN}dr_{zN}$ and $d\\vec{P}^N = dp_{x1}dp_{y1}dp_{z1}...dp_{xN}dp_{yN}dp_{zN}$.  So this is a $6N$ dimensional integral.  "
   ]
  },
  {
   "cell_type": "code",
   "execution_count": null,
   "metadata": {},
   "outputs": [],
   "source": []
  }
 ],
 "metadata": {
  "kernelspec": {
   "display_name": "Python 3",
   "language": "python",
   "name": "python3"
  },
  "language_info": {
   "codemirror_mode": {
    "name": "ipython",
    "version": 3
   },
   "file_extension": ".py",
   "mimetype": "text/x-python",
   "name": "python",
   "nbconvert_exporter": "python",
   "pygments_lexer": "ipython3",
   "version": "3.8.3"
  }
 },
 "nbformat": 4,
 "nbformat_minor": 4
}
