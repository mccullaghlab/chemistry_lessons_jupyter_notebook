{
 "cells": [
  {
   "cell_type": "markdown",
   "metadata": {},
   "source": [
    "# Classical Ideal Gas"
   ]
  },
  {
   "cell_type": "markdown",
   "metadata": {},
   "source": [
    "## Motivation\n",
    "\n",
    "So far we have considered monatomic and diatomic ideal gasses composed of quantum particles.  The energy levels of the various aspects of the particles is quantized (though we introduced some continuous approximations).  Here we ask what happens when we consider classical particles?  How does this affect the partition function for a system?"
   ]
  },
  {
   "cell_type": "markdown",
   "metadata": {},
   "source": [
    "## Learning Goals\n",
    "After these notes, students should be able to:\n",
    "1. Describe the difference between the variables that dictate the state of a quantum system and a classical system\n",
    "2. Write out the classical energy for a system of a monatomic ideal gas\n",
    "3. Discuss the units of a p.f."
   ]
  },
  {
   "cell_type": "markdown",
   "metadata": {},
   "source": [
    "## Coding Concepts\n",
    "\n",
    "1. Variables\n",
    "2. Functions\n",
    "3. Numpy"
   ]
  },
  {
   "cell_type": "markdown",
   "metadata": {},
   "source": [
    "## Introduction to Classical Particles\n",
    "\n",
    "If we consider a gas to be made up of classical particles, we can no longer describe its energy using the quantized energy functions.  Instead, we must consider what it means for a particle to be \"classical\" and how we describe the energy of such particles.  \n",
    "\n",
    "A classical particle will have a position, $\\vec{r} = (r_x, r_y, r_z)$, and a momentum, $\\vec{p} = (p_x, p_y, p_z) = m\\vec{v}$.  If the particle is in a box with linear dimension $L$ (cubic box such that $L^3=V$) then each component of $\\vec{r}$ can take on values of $0 < r_x,r_y,r_z < L$.  The components of the momentum of the particle are not limited in the same manner.  Each component of the momentum can take on values of $-\\infty < p_x,p_y,p_z < \\infty$.\n",
    "\n",
    "\n",
    "In a system of $N$ classical particles, we can denote the collection of particle positions as $\\vec{R}^N$ and particle momenta as $\\vec{P}^N$.  Each of these collections is made up of $N$ different three dimensional vectors denoting the position or momentum of each particle.  \n",
    "\n",
    "The energy of a system of classical particles may depend on the particular configuration of the particles, $\\vec{R}^N$, and values of the momenta, $\\vec{P}^N$.  We might write that the energy, denoted $H$, is\n",
    "\\begin{equation}\n",
    "H(\\vec{R}^N,\\vec{P}^N) = K(\\vec{P}^N) + U(\\vec{R}^N),\n",
    "\\end{equation}\n",
    "where $K(\\vec{P}^N)$ is the kinetic energy and $U(\\vec{R}^N)$ is the potential energy."
   ]
  },
  {
   "cell_type": "markdown",
   "metadata": {},
   "source": [
    "## Example 1: Position and Potential Energy with Classical Particles\n",
    "\n",
    "Consider a system of two classical particles that interact with a Lennard-Jones potential of the form\n",
    "\\begin{equation}\n",
    "U(\\vec{r}^1,\\vec{r}^2) = 4\\left[ \\left( \\frac{2}{|\\vec{r}^{12}|}\\right)^{12} -  \\left( \\frac{2}{|\\vec{r}^{12}|}\\right)^{6} \\right]\n",
    "\\end{equation}\n",
    "where $|\\vec{r}^{12}| = \\sqrt{(r^1_x - r^2_x)^2 + (r^1_y - r^2_y)^2 + (r^1_z - r^2_z)^2}$ is the distance between particles 1 and 2.  Consider this potential to be in units of $\\epsilon$.  Compute the potential energy when the particle have postitions $\\vec{r}^1 = (0.25, 0.6, 1.0)$ and $\\vec{r}^2 = (3.0, 1.2, 0.8)$"
   ]
  },
  {
   "cell_type": "code",
   "execution_count": 5,
   "metadata": {},
   "outputs": [
    {
     "name": "stdout",
     "output_type": "stream",
     "text": [
      "Potential energy (units of epsilon): -0.89\n"
     ]
    }
   ],
   "source": [
    "import numpy as np\n",
    "def lj(r1,r2,eps,sigma):\n",
    "    r12 = np.sqrt((r1[0]-r2[0])**2+(r1[1]-r2[1])**2+(r1[2]-r2[2])**2)\n",
    "    return 4*eps* ((sigma/r12)**12 - (sigma/r12)**6)\n",
    "r1 = np.array([0.25,0.6,1.0])\n",
    "r2 = np.array([3.0,1.2,0.8])\n",
    "print(\"Potential energy (units of epsilon):\", np.round(lj(r1,r2,2,2),2))"
   ]
  },
  {
   "cell_type": "markdown",
   "metadata": {},
   "source": [
    "## Partition Function for a Classical Monatomic Ideal Gas\n",
    "\n",
    "If we consider a collection of ideal particles to be an ideal gas then there is no potential energy between the particles.  That is, $U(\\vec{R}^N) = 0$ for all configurations of the particles.  This allows us to write that \n",
    "\\begin{equation}\n",
    "H(\\vec{R}^N,\\vec{P}^N) = K(\\vec{P}^N).\n",
    "\\end{equation}\n",
    "Furthermore, the kinetic energy of a classical particle is simply $\\frac{\\vec{p}^2}{2m} = \\frac{1}{2}m\\vec{v}^2$.  The kinetic energy of a collection of classical particles is just the sum over individual particle kinetic energies\n",
    "\\begin{equation}\n",
    "H(\\vec{R}^N,\\vec{P}^N) = K(\\vec{P}^N) = \\sum_{i=1}^N \\frac{\\vec{p}_i^2}{2m_i}.\n",
    "\\end{equation}\n",
    "\n",
    "Note that $\\vec{p}^2 = p_x^2 + p_y^2 + p_z^2$ is the squared norm of the momentum.  Also note that if the mass is the ame for all particles it can be factored out of the sum.\n",
    "\n",
    "If we wish to estimate the partition function for this ideal gas, we must estimate the Boltzmann factor for all possible configurations for the system.  Since phase space, positions and momenta of the particles, is continuous,  we must consider an integral (rather than a sum) over all of these variables.  That is\n",
    "\\begin{eqnarray}\n",
    "Q = \\int e^{-\\beta H(\\vec{R}^N,\\vec{P}^N)} d\\vec{R}^Nd\\vec{P}^N,\n",
    "\\end{eqnarray}\n",
    "where $d\\vec{R}^N = dr_{x1}dr_{y1}dr_{z1}...dr_{xN}dr_{yN}dr_{zN}$ and $d\\vec{P}^N = dp_{x1}dp_{y1}dp_{z1}...dp_{xN}dp_{yN}dp_{zN}$.  So this is a $6N$ dimensional integral.  \n",
    "\n",
    "Now we plug in the equation above for $H(\\vec{R}^N,\\vec{P}^N)$ to get\n",
    "\\begin{eqnarray}\n",
    "Q &=& \\int e^{-\\beta \\sum_{i=1}^N \\frac{\\vec{p}_i^2}{2m_i} } d\\vec{R}^Nd\\vec{P}^N,\\\\\n",
    " &=& \\int d\\vec{R}^N\\int e^{-\\beta \\sum_{i=1}^N \\frac{\\vec{p}_i^2}{2m_i} } d\\vec{P}^N\n",
    "\\end{eqnarray}\n",
    "where the last equality holds because the integrand, $e^{-\\beta \\sum_{i=1}^N \\frac{\\vec{p}_i^2}{2m_i} }$, does not depend on any of the particle positions and thus can be pulled out of those integrals.  We now must talk about bounds of integration for the $3N$ positional integrals.  Since we consider this to be a cubic box, all positions are resricted to be in the domain $0 < r_x < L$ thus yielding\n",
    "\n",
    "\\begin{eqnarray}\n",
    "\\int d\\vec{R}^N &=& \\int_0^L dr_{x1} \\int_0^L dr_{y1} \\int_0^Ldr_{z1}...\\int_0^Ldr_{xN}\\int_0^Ldr_{yN}\\int_0^Ldr_{zN} \\\\\n",
    "&=& L\\cdot L\\cdot L\\cdot ... L\\cdot L\\cdot L\\cdot \\\\\n",
    "&=& V\\cdot ... \\cdot V \\\\\n",
    "&=& V^{N}\n",
    "\\end{eqnarray}\n",
    "\n",
    "Each one of these integrals is simply equal to $L = \\int_0^L dr_{x1}$ and $L^3 = V$.  The integral for $Q$ is now\n",
    "\\begin{eqnarray}\n",
    "Q &=& V^N\\int e^{-\\beta \\sum_{i=1}^N \\frac{\\vec{p}_i^2}{2m_i} } d\\vec{P}^N \\\\\n",
    "&=& V^N \\int \\prod_{i=1}^N e^{-\\beta \\frac{\\vec{p}_i^2}{2m_i} } d\\vec{P}^N \\\\\n",
    "&=& V^N \\int\\int\\int e^{-\\beta \\frac{\\vec{p}_1^2}{2m_1} } dp_{x1}dp_{y1}dp_{z1}\\int\\int\\int e^{-\\beta \\frac{\\vec{p}_2^2}{2m_2} } dp_{x2}dp_{y2}dp_{z2}...\\int\\int\\int e^{-\\beta \\frac{\\vec{p}_N^2}{2m_N} } dp_{xN}dp_{yN}dp_{zN} \\\\\n",
    "&=& V^N \\left( \\int\\int\\int e^{-\\beta \\frac{\\vec{p}^2}{2m} } dp_{x}dp_{y}dp_{z}\\right)^N\\cdot\\frac{1}{N!}\n",
    "\\end{eqnarray}\n",
    "where the last equality holds because we consider all particles to be the same mass and indistinguishable.  \n",
    "\n",
    "We can simplify this even further if we consider that $\\vec{p}^2 = p_x^2 + p_y^2 + p_z^2$ to get that\n",
    "\\begin{eqnarray}\n",
    "\\int\\int\\int e^{-\\beta \\frac{\\vec{p}^2}{2m} } dp_{x}dp_{y}dp_{z} &=& \\int\\int\\int e^{-\\beta \\frac{p_x^2}{2m} }e^{-\\beta \\frac{p_y^2}{2m} }e^{-\\beta \\frac{p_z^2}{2m} }dp_{x}dp_{y}dp_{z} \\\\\n",
    "&=& \\int_{-\\infty}^{\\infty} e^{-\\beta \\frac{p_x^2}{2m}}dp_x\\int_{-\\infty}^{\\infty} e^{-\\beta \\frac{p_y^2}{2m} }dp_y\\int_{-\\infty}^{\\infty} e^{-\\beta \\frac{p_z^2}{2m} }dp_{z} \\\\\n",
    "&=& \\left( \\int_{-\\infty}^{\\infty} e^{-\\beta \\frac{p^2}{2m}}dp \\right)^3,\n",
    "\\end{eqnarray}\n",
    "where the last equality holds because there is no reason to consider the momentum in the $x$ direction to be different than that of the $y$ or $z$ directions.\n",
    "\n",
    "Finally, we plug this back into the equation for $Q$ to get\n",
    "\\begin{eqnarray}\n",
    "Q &=& V^N \\left( \\int_{-\\infty}^{\\infty} e^{-\\beta \\frac{p^2}{2m}}dp \\right)^{3N}\\cdot\\frac{1}{N!}\n",
    "\\end{eqnarray}\n",
    "\n",
    "The solution to $\\int_{-\\infty}^{\\infty} e^{-\\beta \\frac{p^2}{2m}}dp$ is left for homework (problem 1a).  Ultimately you will get that\n",
    "\\begin{eqnarray}\n",
    "Q &=& \\frac{V^N \\left( 2\\pi m k_BT \\right)^{3N/2}}{N!}\n",
    "\\end{eqnarray}"
   ]
  },
  {
   "cell_type": "markdown",
   "metadata": {},
   "source": [
    "## A Note on Units of $Q$\n",
    "\n",
    "You will notice above that the classical p.f. has units of $V$^N $p$^{3N}.  The quantum p.f. is unitless.  It is typical to introduce $h^{-1}$ in each direction for classical p.f.s so that it is unitless and there is greater correspondance between classical and quantum."
   ]
  },
  {
   "cell_type": "markdown",
   "metadata": {},
   "source": [
    "## Example 2: Classical Particle with a Potential\n",
    "\n",
    "Consider a single 1D classical particle tethered to the origin with a spring of force constant $k$.  The energy for such a system is given as \n",
    "\\begin{equation}\n",
    "H(x,p) = \\frac{1}{2}kx^2 + \\frac{p^2}{2m}\n",
    "\\end{equation}\n",
    "\n",
    "Derive an expression for the partition function for this system."
   ]
  },
  {
   "cell_type": "markdown",
   "metadata": {},
   "source": [
    "\\begin{eqnarray}\n",
    "Q &=& \\frac{1}{h} \\int_{-\\infty}^{\\infty}\\int_{-\\infty}^{\\infty} e^{-\\beta\\left( \\frac{1}{2}kx^2 + \\frac{p^2}{2m}\\right)}dxdp \\\\\n",
    "&=& \\frac{1}{h} \\int_{-\\infty}^{\\infty}e^{-\\frac{\\beta kx^2}{2}}dx\\int_{-\\infty}^{\\infty}e^{\\frac{-\\beta p^2}{2m}}dp \\\\\n",
    "&=& \\frac{4}{h} \\int_{0}^{\\infty}e^{-\\frac{\\beta kx^2}{2}}dx\\int_{0}^{\\infty}e^{\\frac{-\\beta p^2}{2m}}dp \\\\\n",
    "&=& \\frac{1}{h} \\sqrt{\\frac{2\\pi k_B T}{k}}\\sqrt{2\\pi m k_B T} \\\\\n",
    "&=& \\frac{2\\pi k_B T}{h}\\sqrt{\\frac{m}{k}}\n",
    "\\end{eqnarray}"
   ]
  },
  {
   "cell_type": "code",
   "execution_count": 4,
   "metadata": {},
   "outputs": [
    {
     "name": "stdout",
     "output_type": "stream",
     "text": [
      "3.5782231613264397\n"
     ]
    }
   ],
   "source": [
    "T = 300\n",
    "kB = 1.380649e-23 # m2 kg s-2 K-1 \n",
    "m = 1.66e-26  # kg \n",
    "h = 6.62607015e-34 # m2 kg / s \n",
    "k = 2.0 # kg s^-2\n",
    "import numpy as np\n",
    "print(2*np.pi*kB*T/h*np.sqrt(m/k))"
   ]
  }
 ],
 "metadata": {
  "kernelspec": {
   "display_name": "Python 3",
   "language": "python",
   "name": "python3"
  },
  "language_info": {
   "codemirror_mode": {
    "name": "ipython",
    "version": 3
   },
   "file_extension": ".py",
   "mimetype": "text/x-python",
   "name": "python",
   "nbconvert_exporter": "python",
   "pygments_lexer": "ipython3",
   "version": "3.8.8"
  }
 },
 "nbformat": 4,
 "nbformat_minor": 4
}
