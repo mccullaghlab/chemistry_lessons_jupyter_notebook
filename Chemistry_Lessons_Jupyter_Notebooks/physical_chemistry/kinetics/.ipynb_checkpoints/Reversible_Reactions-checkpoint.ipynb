{
 "cells": [
  {
   "cell_type": "markdown",
   "id": "84f6775f",
   "metadata": {},
   "source": [
    "# Reversible Reactions"
   ]
  },
  {
   "cell_type": "markdown",
   "id": "fbe3fc75",
   "metadata": {},
   "source": [
    "## Motivation\n",
    "\n",
    "Reactions that can proceed both in the forward and reverse directions are important in chemistry, as we saw in the equilibrium section of Thermodynamics. In these notes we will discuss how to write rate laws for simple \"reversible\" reactions."
   ]
  },
  {
   "cell_type": "markdown",
   "id": "b9299a7c",
   "metadata": {},
   "source": [
    "## Learning Goals\n",
    "\n",
    "After working through these notes, you should be able to:\n",
    "\n",
    "1. Define a reversible reaction in the context of kinetics\n",
    "2. Write out the derivative of concentration with respect to time for species in reversible reactions\n",
    "3. Derive and use the first order integrated rate law for a simple reversible process"
   ]
  },
  {
   "cell_type": "markdown",
   "id": "2bd9304d",
   "metadata": {},
   "source": [
    "## Coding Concepts\n",
    "\n",
    "The following coding concepts are used in this notebook:\n",
    "\n",
    "1. [Variables](../../coding_concepts/variables.ipynb)\n",
    "2. [Functions](../../coding_concepts/functions.ipynb)\n",
    "3. [Plotting with matplotlib](../../coding_concepts/plotting_with_matplotlib.ipynb)"
   ]
  },
  {
   "cell_type": "markdown",
   "id": "ca2f83fe",
   "metadata": {},
   "source": [
    "## Rate Laws for Reversible Reactions"
   ]
  },
  {
   "cell_type": "markdown",
   "id": "9152d3ef",
   "metadata": {},
   "source": [
    "Most chemical processes should be considered to go both in the forward and reverse directions.  In the context of Kinetics, we describe this as a reversible reaction (distinct from a reversible process in Thermodynamics).  A reaction that is considered to go both in the forward and reverse direction is denoted with two arrows (as we have seen in the Equilibrium portion of the Thermodynamics section).  As an example\n",
    "\\begin{equation}\n",
    "A \\overset{k_1}{\\underset{k_{-1}}{\\rightleftharpoons}} B\n",
    "\\end{equation}\n",
    "we say the $A$ transforms to $B$ with rate constant $k_1$ and $B$ transforms to $A$ with rate constant $k_{-1}$.  In situations such as these we also can write the equilibrium constant, $K_C$, as \n",
    "\\begin{equation}\n",
    "K_C = \\frac{[B]_{eq}}{[A]_{eq}}\n",
    "\\end{equation}\n",
    "\n",
    "To achieve equilibrium, we must allow the reaction to achieve the steady-state.  That is, the concentrations of $[A]$ and $[B]$ must remain constant.  This is noted mathematically as\n",
    "\\begin{equation}\n",
    "\\frac{d[A]}{dt} = \\frac{d[B]}{dt} = 0\n",
    "\\end{equation}\n",
    "Note that this does not mean that the forward and reverse reactions are not happening.  It just means that they are happening in such a way that and $A$ depleted in the forward process is created in equal amount by the reverse process.  Thus, there is no net change in $[A]$ but the equilibrium is still dynamic."
   ]
  },
  {
   "cell_type": "markdown",
   "id": "298d1ff2",
   "metadata": {},
   "source": [
    "We now consider the special case in which the forward and reverse processes are both first order. In such a case we can write \n",
    "\\begin{eqnarray}\n",
    "v_{forward} = k_1[A]\n",
    "v_{backward} = k_{-1}[B]\n",
    "\\end{eqnarray}\n",
    "\n",
    "If we want to equate these rate laws to the time derivatives of concentration of $A$, for example, we must take into account the forward and reverse processes simultaneously.  That is, $A$ will be depleted by the forward process but will also be created by the reverse process thus\n",
    "\\begin{equation}\n",
    "\\frac{d[A]}{dt} = -k_1[A] + k_{-1}[B]\n",
    "\\end{equation}\n",
    "Notice that the forward depletion is denoted by a negative sign infront of $k_1[A]$ and the reverse creation is denoted by a positive sign infront of $k_{-1}[B]$.\n",
    "\n",
    "Notice that, at equilibrium, we have that $\\frac{d[A]}{dt}=0$ which yields\n",
    "\\begin{eqnarray}\n",
    "\\frac{d[A]}{dt} = 0 &=& -k_1[A]_{eq} + k_{-1}[B]_{eq} \\\\\n",
    "\\Rightarrow k_1[A]_{eq} = k_{-1}[B]_{eq} \\\\\n",
    "\\Rightarrow \\frac{k_1}{k_{-1}} = \\frac{[B]_{eq}}{[A]_{eq}} = K_C\n",
    "\\end{eqnarray}\n",
    "This is clearly an important relationship that states that the equilibrium constant is equal to a ratio of the forward and reverse rate constants.  We will use this in our derivation below for the integrated rate law.\n",
    "\n",
    "In order to derive an integrated rate law from the differential expression, we must write $[B]$ in terms of $[A]$.  To achieve this, we regonize that the stoichiometry of the problem indicates that the total concentration of $[A] + [B]$ will remain constant and set by the initial concentrations of the experiment.  Assume $[A] = [A]_0$ and $[B]=0$ at $t=0$ thus $[B] = [A]_0-[A]$.  Substituting this into the equation above yields\n",
    "\\begin{eqnarray}\n",
    "\\frac{d[A]}{dt} &=& -k_1[A] + k_{-1}([A]_0-[A]) \\\\\n",
    "&=& -(k_1 + k_{-1})[A] + k_{-1}[A]_0 \\\\\n",
    "\\Rightarrow \\frac{d[A]}{-(k_1 + k_{-1})[A] + k_{-1}[A]_0} &=& dt \\\\\n",
    "\\Rightarrow \\int_{[A]_0}^{[A]_t} \\frac{d[A]}{(k_1 + k_{-1})[A] - k_{-1}[A]_0} &=& -\\int_0^tdt \\\\\n",
    "\\frac{1}{(k_1 + k_{-1})}\\int_{k_1[A]_0}^{(k_1 + k_{-1})[A] - k_{-1}[A]_0} \\frac{du}{u} &=& -t \n",
    "\\end{eqnarray}\n",
    "in the last step we have set $u = (k_1 + k_{-1})[A] - k_{-1}[A]_0$ and thus $du = (k_1 + k_{-1})d[A]$ or $d[A] = \\frac{du}{(k_1 + k_{-1})}$. The integral can be solved and simplified to\n",
    "\\begin{eqnarray}\n",
    "\\int_{k_1[A]_0}^{(k_1 + k_{-1})[A] - k_{-1}[A]_0} d\\ln u &=& -(k_1 + k_{-1})t \\\\\n",
    "\\ln\\left((k_1 + k_{-1})[A] - k_{-1}[A]_0\\right) - \\ln{k_1[A]_0} &=& -(k_1 + k_{-1})t \\\\\n",
    "\\ln\\frac{(k_1 + k_{-1})[A] - k_{-1}[A]_0}{k_1[A]_0} &=& -(k_1 + k_{-1})t \\\\\n",
    "\\Rightarrow \\frac{(k_1 + k_{-1})[A] - k_{-1}[A]_0}{k_1[A]_0} &=& e^{-(k_1 + k_{-1})t} \\\\\n",
    "\\frac{(k_1 + k_{-1})[A]}{k_1[A]_0} - \\frac{k_{-1}[A]_0}{k_1[A]_0} &=& e^{-(k_1 + k_{-1})t} \\\\\n",
    "\\frac{[A]}{[A]_0} + \\frac{1}{K_C}\\frac{[A]}{[A]_0} - \\frac{1}{K_C} &=& e^{-(k_1 + k_{-1})t} \\\\\n",
    "\\frac{[A]}{[A]_0} + \\frac{[A]_{eq}}{([A]_0-[A]_{eq})}\\frac{[A]}{[A]_0} - \\frac{[A]_{eq}}{([A]_0-[A]_{eq})} &=& e^{-(k_1 + k_{-1})t} \\\\\n",
    "\\Rightarrow \\frac{[A] ([A]_0-[A]_{eq}) + [A]_{eq}[A]}{([A]_0-[A]_{eq})[A]_0} &=& e^{-(k_1 + k_{-1})t} + \\frac{[A]_{eq}}{([A]_0-[A]_{eq})} \\\\\n",
    "\\frac{[A]}{([A]_0-[A]_{eq})} &=& e^{-(k_1 + k_{-1})t} + \\frac{[A]_{eq}}{([A]_0-[A]_{eq})} \\\\\n",
    "\\Rightarrow [A] &=& ([A]_0-[A]_{eq})e^{-(k_1 + k_{-1})t} + [A]_{eq}\n",
    "\\end{eqnarray}\n",
    "The final expression can be considered an integrated rate law for reversible first order processes.  A slight rearrangement yields\n",
    "\\begin{equation}\n",
    "\\ln\\left([A] - [A]_{eq}\\right) = - (k_{1} + k_{-1})t + \\ln\\left([A]_0 - [A]_{eq}\\right)\n",
    "\\end{equation}\n",
    "demonstrating that a plot of $\\ln\\left([A] - [A]_{eq}\\right) $ vs $t$ should be linear with slope $-(k_1 + k_{-1})$ and intercept $\\ln\\left([A]_0 - [A]_{eq}\\right)$."
   ]
  },
  {
   "cell_type": "markdown",
   "id": "582870a5",
   "metadata": {},
   "source": [
    "### Example: Time Dependence of $[A]/[A]_0$ for Reversible First Order Processes\n",
    "\n",
    "Consider a generic equilibrium\n",
    "\\begin{equation}\n",
    "A \\rightleftharpoons B\n",
    "\\end{equation}\n",
    "with $k_1 = 2.25\\times10^{-2}$ s$^{-1}$ and $k_2 = 1.50\\times10^{-2}$ s$^{-1}$.  Plot the time depedence of the concentration of species $A$ and species $B$ starting with 100\\% of species $A$."
   ]
  },
  {
   "cell_type": "markdown",
   "id": "5caec6df",
   "metadata": {},
   "source": [
    "We will need to do some slight rearrangements of the equation we have above to achieve this.  First, we want to plot $[A]/[A]_0$ so we divide the equation above by $[A]_0$:\n",
    "\n",
    "\\begin{eqnarray}\n",
    "\\frac{[A]}{[A]_0} &=& \\frac{([A]_0-[A]_{eq})e^{-(k_1 + k_{-1})t}}{[A]_0} + \\frac{[A]_{eq}}{[A]_0} \\\\\n",
    "\\end{eqnarray}\n",
    "\n",
    "Next, we recognize that by dictating the rate constants, the problem has also dictated the relative amounts of the species at equilibrium:\n",
    "\\begin{eqnarray}\n",
    "\\frac{B_{eq}}{A_{eq}} &=& K_C = \\frac{k_1}{k_{-1}} \\\\\n",
    "\\frac{A_0 - A_{eq}}{A_{eq}} &=& K_C \\\\\n",
    "A_0 &=& (K_C+1)A_{eq}\n",
    "\\end{eqnarray}\n",
    "\n",
    "Now we use this relationship in the equation for $[A]/[A]_0$ to get\n",
    "\\begin{eqnarray}\n",
    "\\frac{[A]}{[A]_0} &=& \\frac{([A]_0-[A]_{eq})e^{-(k_1 + k_{-1})t}}{[A]_0} + \\frac{1}{K_C+1} \\\\\n",
    "\\frac{[A]}{[A]_0} &=& \\frac{K_C[A]_{eq}e^{-(k_1 + k_{-1})t}}{[A]_0} + \\frac{1}{K_C+1} \\\\\n",
    "\\frac{[A]}{[A]_0} &=& \\frac{K_Ce^{-(k_1 + k_{-1})t}}{K_C+1} + \\frac{1}{K_C+1} \\\\\n",
    "\\end{eqnarray}\n",
    "\n",
    "Now we can plot this function with just $k_1$, $k_{-1}$ and time as input."
   ]
  },
  {
   "cell_type": "code",
   "execution_count": null,
   "id": "cb3af2b7",
   "metadata": {
    "tags": [
     "hide-input"
    ]
   },
   "outputs": [],
   "source": [
    "import numpy as np\n",
    "import matplotlib.pyplot as plt\n",
    "%matplotlib inline\n",
    "# setup plot parameters\n",
    "fontsize=16\n",
    "fig = plt.figure(figsize=(8,8), dpi= 80, facecolor='w', edgecolor='k')\n",
    "ax = plt.subplot(111)\n",
    "ax.grid(which='major', axis='both', color='#808080', linestyle='--')\n",
    "ax.set_xlabel(\"$t$ (s)\",size=fontsize)\n",
    "ax.set_ylabel(\"$[A]/[A]_0$\",size=fontsize)\n",
    "plt.tick_params(axis='both',labelsize=fontsize)\n",
    "def rev_first_order(t,k1,k2):  \n",
    "    K = k1/k2\n",
    "    return K*np.exp(-(k1+k2)*t)/(K+1) + 1/(K+1)\n",
    "k1 = 2.25e-2\n",
    "k2 = 1.50e-2\n",
    "t = np.arange(0,200,0.01)\n",
    "ax.plot(t,rev_first_order(t,k1,k2),lw=3, label=\"A\")\n",
    "ax.plot(t,1-rev_first_order(t,k1,k2),lw=3, label=\"B\")\n",
    "plt.legend(fontsize=16);"
   ]
  }
 ],
 "metadata": {
  "celltoolbar": "Tags",
  "kernelspec": {
   "display_name": "Python 3 (ipykernel)",
   "language": "python",
   "name": "python3"
  },
  "language_info": {
   "codemirror_mode": {
    "name": "ipython",
    "version": 3
   },
   "file_extension": ".py",
   "mimetype": "text/x-python",
   "name": "python",
   "nbconvert_exporter": "python",
   "pygments_lexer": "ipython3",
   "version": "3.8.8"
  }
 },
 "nbformat": 4,
 "nbformat_minor": 5
}
