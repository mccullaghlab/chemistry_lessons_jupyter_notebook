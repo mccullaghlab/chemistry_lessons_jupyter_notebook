{
 "cells": [
  {
   "cell_type": "markdown",
   "id": "69e21643",
   "metadata": {},
   "source": [
    "# Chemical Kinetics and Rate Laws"
   ]
  },
  {
   "cell_type": "markdown",
   "id": "b6f844e9",
   "metadata": {},
   "source": [
    "## Motivation\n",
    "\n",
    "The rate of a chemical reaction is a measure of how fast the reaction occurs.  This rate will not be the same for all reactions and will not stay constant as a reaction progresses.  How fast a reaction happens is an extremely important aspect of a reaction for all sorts of things.  For example, how fast food rots/decays is important in our daily lives.  All food will rot/decay but we often choose to slow this down by putting it in the refrigerator.  "
   ]
  },
  {
   "cell_type": "markdown",
   "id": "cf395a2b",
   "metadata": {},
   "source": [
    "## Learning Goals\n",
    "\n",
    "After working throught these notes, you should be able to:\n",
    "\n",
    "1. Write out the differential rate law (rate of reaction in terms of rate of change of reactants and products) for an arbitrary reaction\n",
    "2. Differentiate between a *differential rate law* and a *rate law*\n",
    "3. Describe what is meant by overall order of reaction and order of reaction with respect to a specific reactant\n",
    "4. Identify the correct units for the rate constant based on overall rate of reaction\n",
    "5. Use the mehtod of initial rates to estimate the orders of reaction with respect to reactants and the rate constant"
   ]
  },
  {
   "cell_type": "markdown",
   "id": "8c90f797",
   "metadata": {},
   "source": [
    "## Coding Concepts\n",
    "\n",
    "The following coding concepts are used in this notebook:\n",
    "\n",
    "1. numpy"
   ]
  },
  {
   "cell_type": "markdown",
   "id": "5ed85354",
   "metadata": {},
   "source": [
    "## The Differential Rate Law"
   ]
  },
  {
   "cell_type": "markdown",
   "id": "a82fb38d",
   "metadata": {},
   "source": [
    "The rate of a chemical reaction, denoted $v(t)$, is related the rate of dissapearance of the reactants and appearance of the products.  The equation relating all of these things is called the differential rate law.  \n",
    "\n",
    "The rate of disappearance and appearance of products in a certain reaction will depend on their stoichiometric coefficients.  In the reaction\n",
    "\\begin{equation}\n",
    "2NO(g) + O_2(g) \\rightarrow 2NO_2(g),\n",
    "\\end{equation}\n",
    "for example, $NO(g)$ will dissapear twice as fast as $O_2(g)$ because two moles of $NO$ are required to react with one mole of $O_2$ to form $2NO_2$.  Thus, when we define a rate of reaction, we must do so in a consistent manner with regards to the stoichiometric coefficients.   \n",
    "\n",
    "Consider the general reaction\n",
    "\\begin{equation}\n",
    "aA + bB \\rightarrow cC + dD\n",
    "\\end{equation}\n",
    "We define the extent of reaction, $\\xi$ using the moles of each reactant and product\n",
    "\\begin{eqnarray}\n",
    "n_A(t) &=& n_A(0) - a\\xi(t) \\\\\n",
    "n_B(t) &=& n_B(0) - b\\xi(t) \\\\\n",
    "n_C(t) &=& n_C(0) + c\\xi(t) \\\\\n",
    "n_D(t) &=& n_D(0) + d\\xi(t) \n",
    "\\end{eqnarray}\n",
    "This is similar to what we did in our discussion of Chemical Equilibria but here we have noted that the number of moles of reactants/products and the extent of reaction are time dependent quantities.\n",
    "\n",
    "The rate of disappearance of reactants $A$ and $B$ as well as the rate of appearance of $C$ and $D$ can be related to the single rate of change of the extent of reaction.  To see this, we differentiate the four equations above with respect to time, $t$,:\n",
    "\\begin{eqnarray}\n",
    "\\frac{dn_A(t)}{t} &=& - a\\frac{d\\xi(t)}{dt} \\\\\n",
    "\\frac{dn_B(t)}{t} &=& - b\\frac{d\\xi(t)}{dt} \\\\\n",
    "\\frac{dn_C(t)}{t} &=&  c\\frac{d\\xi(t)}{dt} \\\\\n",
    "\\frac{dn_D(t)}{t} &=&  d\\frac{d\\xi(t)}{dt} \n",
    "\\end{eqnarray}\n",
    "\n",
    "Each equation can be rearranged to solve for $\\frac{d\\xi(t)}{dt}$ to yield:\n",
    "\\begin{eqnarray}\n",
    "-\\frac{1}{a}\\frac{dn_A(t)}{t} &=& \\frac{d\\xi(t)}{dt} \\\\\n",
    "-\\frac{1}{b}\\frac{dn_B(t)}{t} &=& \\frac{d\\xi(t)}{dt} \\\\\n",
    "\\frac{1}{c}\\frac{dn_C(t)}{t} &=&  \\frac{d\\xi(t)}{dt} \\\\\n",
    "\\frac{1}{d}\\frac{dn_D(t)}{t} &=&  \\frac{d\\xi(t)}{dt} \n",
    "\\end{eqnarray}\n",
    "The rate of reaction is defined as the rate of change of extent of the reaction yielding\n",
    "\\begin{equation}\n",
    "v(t) = \\frac{d\\xi(t)}{dt} = -\\frac{1}{a}\\frac{dn_A(t)}{t} = -\\frac{1}{b}\\frac{dn_B(t)}{t} = \\frac{1}{c}\\frac{dn_C(t)}{t} = \\frac{1}{d}\\frac{dn_D(t)}{t}\n",
    "\\end{equation}\n",
    "\n",
    "We typically measure amount of reactants and/or products in concentration, so we typically write the differential rate law in terms of these by dividing the above equation by volumne, $V$:\n",
    "\\begin{equation}\n",
    "v(t) = \\frac{1}{V}\\frac{d\\xi(t)}{dt} = -\\frac{1}{a}\\frac{d[A]}{t} = -\\frac{1}{b}\\frac{d[B]}{t} = \\frac{1}{c}\\frac{d[C]}{t} = \\frac{1}{d}\\frac{d[D]}{t}\n",
    "\\end{equation}\n",
    "This equation is what is called the ***differential rate law*** as it relates the rate of reaction to the time derivatives of the concentrations of products and reactants."
   ]
  },
  {
   "cell_type": "markdown",
   "id": "93128213",
   "metadata": {},
   "source": [
    "### Example: Determine the Differential Rate Law "
   ]
  },
  {
   "cell_type": "markdown",
   "id": "fcad3b7e",
   "metadata": {},
   "source": [
    "Write out the differential rate law for the following balanced chemical reaction\n",
    "\n",
    "\\begin{equation}\n",
    "2NO(g) + 2H_2(g) \\rightarrow N_2(g) + 2H_2O(g)\n",
    "\\end{equation}"
   ]
  },
  {
   "cell_type": "markdown",
   "id": "27266037",
   "metadata": {},
   "source": [
    "The differential rate law equates the rate of reaction to the rate of dissappearance of *all reactants* and the rate of appearance of *all products*.  For this reaction it looks like:\n",
    "\\begin{equation}\n",
    "v(t) = -\\frac{1}{2}\\frac{d[NO]}{dt} = -\\frac{1}{2}\\frac{d[H_2]}{dt} = \\frac{d[N_2]}{dt} = \\frac{1}{2}\\frac{d[H_2O]}{dt}\n",
    "\\end{equation}"
   ]
  },
  {
   "cell_type": "markdown",
   "id": "d327ed65",
   "metadata": {},
   "source": [
    "## The Rate Law"
   ]
  },
  {
   "cell_type": "markdown",
   "id": "f4008330",
   "metadata": {},
   "source": [
    "The rate law for a chemical reaction is an equation that relates the rate of a reaction to the concentrations of the reactants.  For example, our reaction\n",
    "\\begin{equation}\n",
    "2NO(g) + O_2(g) \\rightarrow 2NO_2(g) \n",
    "\\end{equation}\n",
    "Has the ***differential rate law***\n",
    "\\begin{equation}\n",
    "v(t) = -\\frac{1}{2}\\frac{d[NO]}{dt} = -\\frac{d[O_2]}{dt} = \\frac{1}{2}\\frac{d[NO_2]}{dt}\n",
    "\\end{equation}\n",
    "but the ***rate law*** for this reaction, one that relates the rate, $v(t)$, to the concentrations of reactants cannot be inferred from the balanced chemical reaction.  The rate law for this reaction has been experimentally determined to be\n",
    "\\begin{equation}\n",
    "v(t) = k[NO]^2[O_2]\n",
    "\\end{equation}\n",
    "\n",
    "The rate law introduces a few new quantities and concepts to our discussion of rate of reaction.  One of these, $k$, is called the rate constant.  This important quantity determines the proportionality or scaling between the concentrations of reactants to their appropriate power and the rate of a reaction.  \n",
    "\n",
    "The rate law also introduces the concept of *order of reaction*.  This reaction is said to be *second order with resepect to $NO_2$*, *first order with respect to $O_2$*, and *third order overall*.  Second order with resepect to $NO_2$ can be inferred from the rate law because $[NO]$ is raised to the second power.  First order with respect to $O_2$ can be inferred from the rate law because $[O_2]$ is raised to the first power.  Third order overall simply stems from adding up all powers of the reactants in the rate law to get a value of three.  \n",
    "\n",
    "The order of a reaction for any reactant ***cannot*** be inferred from the overall balanced chemical reaction. Notice, however, that, in this case, the order of reaction follows the stoichiometry of the balanced chemical reaction.  \n",
    "\n",
    "The overall order of the reaction dictate the units of the force constant.  The rate of a reaction is always in units of amount per time (typically concentration per time).  The rate law equates concentration per time to some overall power of concentration times $k$ and thus the units of $k$ must allow the two sides to be equal.  Here is a table to help with this concept\n",
    "\n",
    "| Rate Law    | Order | Units of $k$    |\n",
    "|:------------|:------| :------------------- |\n",
    "|$v = k$      | 0     |  M$\\cdot$s$^{-1}$      |\n",
    "| $v =k[A]$   | 1     |  s$^{-1}$              |\n",
    "| $v =k[A]^2$ | 2     |  M$^{-1}\\cdot$s$^{-1}$ |\n",
    "| $v =k[A]^3$ | 3     |  M$^{-2}\\cdot$s$^{-1}$ |"
   ]
  },
  {
   "cell_type": "markdown",
   "id": "5ccee120",
   "metadata": {},
   "source": [
    "## Rate Laws Must be Determined Experimentally"
   ]
  },
  {
   "cell_type": "markdown",
   "id": "8da12929",
   "metadata": {},
   "source": [
    "Rate laws must be determined experimentally.  The order of a reaction cannot be inferred by the stoichiometry of the balanced chemical reaction or any other *a priori* information about the reaction.  \n",
    "\n",
    "To see how we might go about determining an order of reaction consider the generic reaction\n",
    "\\begin{equation}\n",
    "aA + bB \\rightarrow cC + dD\n",
    "\\end{equation}\n",
    "The generic rate law can be written as\n",
    "\\begin{equation}\n",
    "v(t) = k[A]^{m_A}[B]^{m_B}\n",
    "\\end{equation}\n",
    "It is our goal to determine the powers $m_A$ and $m_B$.  \n",
    "\n",
    "Here we consider the method of measuring initial rate (with some experimental technique) and varying the initial concentrations of $A$ and $B$ in different trials.  It is easiest to see how this method works in an example given below."
   ]
  },
  {
   "cell_type": "markdown",
   "id": "a67d34c6",
   "metadata": {},
   "source": [
    "### Example: Rate Law from Initial Rates"
   ]
  },
  {
   "cell_type": "markdown",
   "id": "14a5f7f7",
   "metadata": {},
   "source": [
    "Consider the following initial rate data for the reaction\n",
    "\\begin{equation}\n",
    "2NO_2(g) + F_2(g) \\rightarrow 2NO_2F(g)\n",
    "\\end{equation}\n",
    "\n",
    "| Run/Trial   | $[NO_2]_0$/mol$\\cdot$dm$^3$ | $[F_2]_0$/mol$\\cdot$dm$^{-3}$ | $v_0$/mol$\\cdot$dm$^{-3}\\cdot$s$^{-1}$ |\n",
    "| :-----------|:-------------------------- | :---------------------------- | :------------------------------- |\n",
    "| 1   | 1.15 | 1.15 | $6.12\\times10^{-4}$ |\n",
    "| 2   | 1.72 | 1.15 | $1.36\\times10^{-3}$ |\n",
    "| 3   | 1.15 | 2.30 | $1.22\\times10^{-3}$ |\n",
    "\n",
    "Determine the reaction rate law and value of the rate constant."
   ]
  },
  {
   "cell_type": "markdown",
   "id": "0a9ba5bb",
   "metadata": {},
   "source": [
    "We start by writing out the generic form of the rate law\n",
    "\\begin{equation}\n",
    "v = k[NO_2]^{m_{NO_2}}[F_2]^{m_{F_2}}\n",
    "\\end{equation}\n",
    "Here, we are using initial rates which can be written as\n",
    "\\begin{equation}\n",
    "v_0 = k[NO_2]_0^{m_{NO_2}}[F_2]_0^{m_{F_2}}\n",
    "\\end{equation}\n",
    "\n",
    "We now look at the trials/runs provided and recognize that the concentration of $NO_2$ is held constant for trials 1 and 3.  Thus, the change in initial rate between these two runs must be due to the change in initial concentration of $F_2$.  We start by writing out the initial rate law for each of these trials\n",
    "\\begin{eqnarray}\n",
    "\\text{Run 1: } 6.12\\times10^{-4} &=& k (1.15)^{m_{NO_2}}(1.15)^{m_{F_2}} \\\\\n",
    "\\text{Run 3: } 1.22\\times10^{-3} &=& k (1.15)^{m_{NO_2}}(2.30)^{m_{F_2}}\n",
    "\\end{eqnarray}\n",
    "\n",
    "We now divide the initial rate law from Run 3 by that of Run 1 to get:\n",
    "\\begin{eqnarray}\n",
    "\\frac{1.22\\times10^{-3}}{6.12\\times10^{-4}} &=& \\frac{k (1.15)^{m_{NO_2}}(2.30)^{m_{F_2}}}{k (1.15)^{m_{NO_2}}(1.15)^{m_{F_2}}} \\\\\n",
    "&=& \\left( \\frac{2.30}{1.15}\\right)^{m_{F_2}} \\\\\n",
    "\\Rightarrow \\ln \\frac{1.22\\times10^{-3}}{6.12\\times10^{-4}} &=& m_{F_2}\\ln\\frac{2.30}{1.15} \\\\\n",
    "\\Rightarrow m_{F_2} &=& \\frac{\\ln \\frac{1.22\\times10^{-3}}{6.12\\times10^{-4}}}{\\ln\\frac{2.30}{1.15}} \\\\\n",
    "&=& 0.9952776 \\approx 1\n",
    "\\end{eqnarray}"
   ]
  },
  {
   "cell_type": "code",
   "execution_count": 1,
   "id": "db65ffcb",
   "metadata": {},
   "outputs": [
    {
     "data": {
      "text/plain": [
       "0.9952775897575967"
      ]
     },
     "execution_count": 1,
     "metadata": {},
     "output_type": "execute_result"
    }
   ],
   "source": [
    "import numpy as np\n",
    "np.log(1.22e-3/6.12e-4)/np.log(2.30/1.15)"
   ]
  },
  {
   "cell_type": "markdown",
   "id": "bca7fbeb",
   "metadata": {},
   "source": [
    "To now determine $m_{NO_2}$ we use runs 1 and 2\n",
    "\\begin{eqnarray}\n",
    "\\text{Run 1: } 6.12\\times10^{-4} &=& k (1.15)^{m_{NO_2}}(1.15)^{m_{F_2}} \\\\\n",
    "\\text{Run 2: } 1.36\\times10^{-3} &=& k (1.72)^{m_{NO_2}}(1.15)^{m_{F_2}}\n",
    "\\end{eqnarray}\n",
    "\n",
    "We now divide the initial rate law from Run 2 by that of Run 1 to get:\n",
    "\\begin{eqnarray}\n",
    "\\frac{1.36\\times10^{-3}}{6.12\\times10^{-4}} &=& \\frac{k (1.72)^{m_{NO_2}}(1.15)^{m_{F_2}}}{k (1.15)^{m_{NO_2}}(1.15)^{m_{F_2}}} \\\\\n",
    "&=& \\left( \\frac{1.72}{1.15}\\right)^{m_{NO_2}} \\\\\n",
    "\\Rightarrow \\ln \\frac{1.36\\times10^{-3}}{6.12\\times10^{-4}} &=& m_{NO_2}\\ln\\frac{1.72}{1.15} \\\\\n",
    "\\Rightarrow m_{NO_2} &=& \\frac{\\ln \\frac{1.46\\times10^{-3}}{6.12\\times10^{-4}}}{\\ln\\frac{1.72}{1.15}} \\\\\n",
    "&=& 1.98 \\approx 2\n",
    "\\end{eqnarray}"
   ]
  },
  {
   "cell_type": "code",
   "execution_count": 2,
   "id": "415db4d0",
   "metadata": {},
   "outputs": [
    {
     "data": {
      "text/plain": [
       "1.9835627929236086"
      ]
     },
     "execution_count": 2,
     "metadata": {},
     "output_type": "execute_result"
    }
   ],
   "source": [
    "import numpy as np\n",
    "np.log(1.36e-3/6.12e-4)/np.log(1.72/1.15)"
   ]
  },
  {
   "cell_type": "markdown",
   "id": "26ee04e2",
   "metadata": {},
   "source": [
    "With the orders of reaction determined with respect to all reactants we can now determine the value of the rate constant.  This can be done for with any run.  Here I choose to use Run 1:\n",
    "\\begin{eqnarray}\n",
    "\\text{Run 1: } 6.12\\times10^{-4} &=& k (1.15)^{2}(1.15)^{1} \\\\\n",
    "\\Rightarrow k &=& \\frac{6.12\\times10^{-4}}{1.15^3} \\\\\n",
    "&=& 4.02\\times10^{-4} \\text{ dm}^6\\cdot\\text{mol}^{-2}\\text{s}^{-1}\n",
    "\\end{eqnarray}"
   ]
  },
  {
   "cell_type": "code",
   "execution_count": 3,
   "id": "d36be549",
   "metadata": {},
   "outputs": [
    {
     "data": {
      "text/plain": [
       "0.00040239993424837686"
      ]
     },
     "execution_count": 3,
     "metadata": {},
     "output_type": "execute_result"
    }
   ],
   "source": [
    "6.12e-4/1.15**3"
   ]
  }
 ],
 "metadata": {
  "kernelspec": {
   "display_name": "Python 3",
   "language": "python",
   "name": "python3"
  },
  "language_info": {
   "codemirror_mode": {
    "name": "ipython",
    "version": 3
   },
   "file_extension": ".py",
   "mimetype": "text/x-python",
   "name": "python",
   "nbconvert_exporter": "python",
   "pygments_lexer": "ipython3",
   "version": "3.8.8"
  }
 },
 "nbformat": 4,
 "nbformat_minor": 5
}
