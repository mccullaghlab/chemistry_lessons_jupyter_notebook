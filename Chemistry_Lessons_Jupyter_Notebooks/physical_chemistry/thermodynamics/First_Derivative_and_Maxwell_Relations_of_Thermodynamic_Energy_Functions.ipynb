{
 "cells": [
  {
   "cell_type": "markdown",
   "metadata": {
    "slideshow": {
     "slide_type": "slide"
    }
   },
   "source": [
    "# First Derivative and Maxwell Relations"
   ]
  },
  {
   "cell_type": "markdown",
   "metadata": {
    "slideshow": {
     "slide_type": "fragment"
    }
   },
   "source": [
    "## Learning goals:\n",
    "\n",
    "After this section, student's should be able to:\n",
    "\n",
    "1. Identify the two first partial derivative relationships of each Thermodynamic energy function\n",
    "2. Define a Maxwell relation\n",
    "3. Identify the Maxwell relation in each Thermodynamic energy function (of two variables)"
   ]
  },
  {
   "cell_type": "markdown",
   "metadata": {
    "slideshow": {
     "slide_type": "slide"
    }
   },
   "source": [
    "## First Partial Derivatives of Thermodynamic Energy Functions"
   ]
  },
  {
   "cell_type": "markdown",
   "metadata": {
    "slideshow": {
     "slide_type": "fragment"
    }
   },
   "source": [
    "We have already seen the differential forms of each of the four Thermodynamic energy function and how these can be transformed from one to the other using Legendre transformations.  As a reminder, here are the four differential forms:\n",
    "\n",
    "\\begin{align}\n",
    "dU &= TdS - PdV \\\\\n",
    "dH &= TdS + VdP \\\\\n",
    "dA &= -SdT - PdV \\\\\n",
    "dG &= -SdT + VdP\n",
    "\\end{align}\n",
    "\n",
    "Recall that for a differntiable function of two variables, e.g. $f(x,y)$, the *exact* or *total* differential is given as\n",
    "\n",
    "\\begin{align}\n",
    "df &= \\left( \\frac{\\partial f}{\\partial x}\\right)_ydx + \\left( \\frac{\\partial f}{\\partial y}\\right)_xdy\n",
    "\\end{align}\n",
    "\n",
    "Let's consider each Thermodynamic energy function as a function of its natural variables and compare the two forms of its differential."
   ]
  },
  {
   "cell_type": "markdown",
   "metadata": {
    "slideshow": {
     "slide_type": "slide"
    }
   },
   "source": [
    "### Internal Energy\n",
    "\n",
    "For internal energy, $U(S,V)$, we have the following two forms for its differential:\n",
    "\n",
    "\\begin{align}\n",
    "dU &= TdS - PdV \\\\\n",
    " &= \\left( \\frac{\\partial U}{\\partial S}\\right)_VdS + \\left( \\frac{\\partial U}{\\partial V}\\right)_SdV\n",
    "\\end{align}\n",
    "\n",
    "where the first one comes from the standard form of the internal energy and the second is just the mathematical relationship between a differential and the partials of the independent variables.  Notice what these equalities imply:\n",
    "\n",
    "\\begin{align}\n",
    "T & = \\left( \\frac{\\partial U}{\\partial S}\\right)_V \\\\\n",
    "-P &=\\left( \\frac{\\partial U}{\\partial V}\\right)_S\n",
    "\\end{align}"
   ]
  },
  {
   "cell_type": "markdown",
   "metadata": {
    "slideshow": {
     "slide_type": "slide"
    }
   },
   "source": [
    "### Enthalpy\n",
    "\n",
    "For enthalpy, $H(S,P)$, we have the following two forms for its differential:\n",
    "\n",
    "\\begin{align}\n",
    "dH &= TdS + VdP \\\\\n",
    " &= \\left( \\frac{\\partial H}{\\partial S}\\right)_PdS + \\left( \\frac{\\partial H}{\\partial P}\\right)_SdP\n",
    "\\end{align}\n",
    "\n",
    "where the first one comes from the standard form of the enthalpy and the second is just the mathematical relationship between a differential and the partials of the independent variables.  Notice what these equalities imply:\n",
    "\n",
    "\\begin{align}\n",
    "T & = \\left( \\frac{\\partial H}{\\partial S}\\right)_P \\\\\n",
    "V &=\\left( \\frac{\\partial H}{\\partial P}\\right)_S\n",
    "\\end{align}"
   ]
  },
  {
   "cell_type": "markdown",
   "metadata": {
    "slideshow": {
     "slide_type": "slide"
    }
   },
   "source": [
    "### Helmholtz Free Energy\n",
    "\n",
    "For Helmholtz free energy, $A(T,V)$, we have the following two forms for its differential:\n",
    "\n",
    "\\begin{align}\n",
    "dA &= -SdT - PdV \\\\\n",
    " &= \\left( \\frac{\\partial A}{\\partial T}\\right)_VdT + \\left( \\frac{\\partial A}{\\partial V}\\right)_TdV\n",
    "\\end{align}\n",
    "\n",
    "where the first one comes from the standard form of the Helmholtz free energy and the second is just the mathematical relationship between a differential and the partials of the independent variables.  Notice what these equalities imply:\n",
    "\n",
    "\\begin{align}\n",
    "-S & = \\left( \\frac{\\partial A}{\\partial T}\\right)_V \\\\\n",
    "-P &=\\left( \\frac{\\partial A}{\\partial V}\\right)_T\n",
    "\\end{align}"
   ]
  },
  {
   "cell_type": "markdown",
   "metadata": {
    "slideshow": {
     "slide_type": "slide"
    }
   },
   "source": [
    "### Gibbs Free Energy\n",
    "\n",
    "For Gibbs free energy, $G(T,P)$, we have the following two forms for its differential:\n",
    "\n",
    "\\begin{align}\n",
    "dG &= -SdT + VdP \\\\\n",
    " &= \\left( \\frac{\\partial G}{\\partial T}\\right)_PdT + \\left( \\frac{\\partial G}{\\partial P}\\right)_TdP\n",
    "\\end{align}\n",
    "\n",
    "where the first one comes from the standard form of the Helmholtz free energy and the second is just the mathematical relationship between a differential and the partials of the independent variables.  Notice what these equalities imply:\n",
    "\n",
    "\\begin{align}\n",
    "-S & = \\left( \\frac{\\partial G}{\\partial T}\\right)_P \\\\\n",
    "V &=\\left( \\frac{\\partial G}{\\partial P}\\right)_T\n",
    "\\end{align}"
   ]
  },
  {
   "cell_type": "markdown",
   "metadata": {
    "slideshow": {
     "slide_type": "slide"
    }
   },
   "source": [
    "### Summary of first derivative relationships\n",
    "\n",
    "| Energy Function                    | Differential Form   $ $     $ $ $ $      $ $ | First Derivative Relationships |         \n",
    "| :--------------------------------- | :--------------------------------------------------- | :--------------------------------------------------- | \n",
    "| U - Internal Energy                | $ dU = TdS - PdV      $          | $T  = \\left( \\frac{\\partial U}{\\partial S}\\right)_V$ and $-P =\\left( \\frac{\\partial U}{\\partial V}\\right)_S$ |\n",
    "| H - Enthalpy                       | $dH = TdS + VdP$                 | $T  = \\left( \\frac{\\partial H}{\\partial S}\\right)_P$ and $V =\\left( \\frac{\\partial H}{\\partial P}\\right)_S$|\n",
    "| A - Helmholtz Free Energy          | $dA = -SdT - PdV$                | $-S  = \\left( \\frac{\\partial A}{\\partial T}\\right)_V$ and $-P =\\left( \\frac{\\partial A}{\\partial V}\\right)_T$|\n",
    "| G - Gibbs Free Energy              | $dG = -SdT + VdP$                | $-S  = \\left( \\frac{\\partial G}{\\partial T}\\right)_P$ and $V =\\left( \\frac{\\partial G}{\\partial P}\\right)_T$|"
   ]
  },
  {
   "cell_type": "markdown",
   "metadata": {
    "slideshow": {
     "slide_type": "slide"
    }
   },
   "source": [
    "## Maxwell Relations\n",
    "\n",
    "The Maxwell relations are the equivalencies of the second cross partials of the Thermodynamic energy functions"
   ]
  },
  {
   "cell_type": "markdown",
   "metadata": {
    "slideshow": {
     "slide_type": "slide"
    }
   },
   "source": [
    "The Maxwell relations rely on an additional mathematical property of *exact* differentials. Namely, that for an exact differential of (at least) two independent variables, the ***second cross paritial derivatives*** are equivalent. \n",
    "\n",
    "What is a ***second cross partial derivative***?  Let's again consider a function, $f(x,y)$, of independent variables $x$ and $y$.  The differential, $df$, is expressed in terms of first partial derivatives of each independent variable:\n",
    "\n",
    "\\begin{align}\n",
    "df &= \\left( \\frac{\\partial f}{\\partial x}\\right)_ydx + \\left( \\frac{\\partial f}{\\partial y}\\right)_xdy\n",
    "\\end{align}\n",
    "\n",
    "where $\\left( \\frac{\\partial f}{\\partial x}\\right)$ is the first partial derivative of $f$ with respect to (wrt) $x$ and $\\left( \\frac{\\partial f}{\\partial y}\\right)$ is the first partial derivative of $f$ wrt $y$.  A ***second cross paritial derivative*** is the derivative of a first partial derivative wrt the other independent variable.  In this case, there are two cross partials:\n",
    "\n",
    "\\begin{align}\n",
    "\\left(\\frac{\\partial}{\\partial y} \\left( \\frac{\\partial f}{\\partial x}\\right)_y\\right)_x\n",
    "&= \\left( \\frac{\\partial^2 f}{\\partial y\\partial x}\\right) \\\\\n",
    "\\left(\\frac{\\partial}{\\partial x} \\left( \\frac{\\partial f}{\\partial y}\\right)_x\\right)_y &= \\left( \\frac{\\partial^2 f}{\\partial x\\partial y}\\right)\n",
    "\\end{align}\n",
    "\n",
    "This is as opposed to the second partial derivatives wrt to the same variables\n",
    "\n",
    "\\begin{align}\n",
    "\\frac{\\partial}{\\partial x} \\left( \\frac{\\partial f}{\\partial x}\\right) \n",
    "&= \\left( \\frac{\\partial^2 f}{\\partial x^2}\\right) \\\\\n",
    "\\frac{\\partial}{\\partial y} \\left( \\frac{\\partial f}{\\partial y}\\right) &= \\left( \\frac{\\partial^2 f}{\\partial y^2}\\right)\n",
    "\\end{align}"
   ]
  },
  {
   "cell_type": "markdown",
   "metadata": {
    "slideshow": {
     "slide_type": "slide"
    }
   },
   "source": [
    "The ***second cross paritial derivatives*** of an *exact* differential are equivalent, meaning:\n",
    "\n",
    "\\begin{align}\n",
    " \\left( \\frac{\\partial^2 f}{\\partial y\\partial x}\\right) &= \\left( \\frac{\\partial^2 f}{\\partial x\\partial y}\\right)\n",
    "\\end{align}"
   ]
  },
  {
   "cell_type": "markdown",
   "metadata": {
    "slideshow": {
     "slide_type": "slide"
    }
   },
   "source": [
    "### Example: Second Cross Partials are Equivalent\n",
    "\n",
    "Consider the function $f(x,y) = 2xy + x^2 + \\frac{y^3}{x}$.  Show that the second cross partials are equivalent.\n",
    "\n",
    "Strategy: Determine each cross partial by first determining the first partial derivatives and subsequently differentiating those wrt the other variable.\n",
    "\n",
    "\\begin{align}\n",
    "\\left( \\frac{\\partial f}{\\partial x}\\right)_y &= 2y + 2x - \\frac{y^3}{x^2} \\\\\n",
    "\\left( \\frac{\\partial f}{\\partial y}\\right)_y &= 2x + \\frac{3y^2}{x} \\\\\n",
    "\\end{align}\n",
    "\n",
    "Now compute the second cross partials\n",
    "\n",
    "\\begin{align}\n",
    "\\left( \\frac{\\partial ^2f}{\\partial y\\partial x}\\right) &= 2  - \\frac{3y^2}{x^2} \\\\\n",
    "\\left( \\frac{\\partial ^2f}{\\partial x\\partial y}\\right)_y &= 2 - \\frac{3y^2}{x^2} \\\\\n",
    "\\end{align}\n",
    "\n",
    "We see that these two are equivalent."
   ]
  },
  {
   "cell_type": "markdown",
   "metadata": {},
   "source": [
    "### Thermodynamic Energy Functions\n",
    "\n",
    "So what does this mean for the Thermodynamic energy functions?  We will consider the internal energy and extrapolate to the rest\n",
    "\n",
    "\\begin{align}\n",
    "dU =&  \\left( \\frac{\\partial U}{\\partial S}\\right)_VdS + \\left( \\frac{\\partial U}{\\partial V}\\right)_SdV \\\\\n",
    "\\Rightarrow \\left(\\frac{\\partial}{\\partial V}\\left( \\frac{\\partial U}{\\partial S}\\right)_V\\right)_S =& \\left(\\frac{\\partial}{\\partial S}\\left( \\frac{\\partial U}{\\partial V}\\right)_S\\right)_V\n",
    "\\end{align}\n",
    "\n",
    "The real power of this comes from plugging in for the first derivatives of the energy functions (namely $T  = \\left( \\frac{\\partial U}{\\partial S}\\right)_V$ and $-P =\\left( \\frac{\\partial U}{\\partial V}\\right)_S$ in this case)\n",
    "\n",
    "\\begin{align}\n",
    " \\left(\\frac{\\partial}{\\partial V}\\left(T\\right)\\right)_S =& \\left(\\frac{\\partial}{\\partial S}\\left( -P\\right)\\right)_V\\\\\n",
    " \\left(\\frac{\\partial T}{\\partial V}\\right)_S =& -\\left(\\frac{\\partial P}{\\partial S}\\right)_V\n",
    "\\end{align}\n",
    "\n",
    "Similar relationship can be derived from the differential forms of $H$, $A$, $G$.  These are summmarized in following table."
   ]
  },
  {
   "cell_type": "markdown",
   "metadata": {
    "slideshow": {
     "slide_type": "slide"
    }
   },
   "source": [
    "### Summary of Maxwell Relations\n",
    "\n",
    "| Energy Function                    | Differential Form   $$ $$             | Maxwell   Relations $$ $$|         \n",
    "| :--------------------------------- | :--------------------------------------------------- | :--------------------------------------------------- | \n",
    "| U - Internal Energy                | $ dU = TdS - PdV      $          | $\\left(\\frac{\\partial T}{\\partial V}\\right)_S = -\\left(\\frac{\\partial P}{\\partial S}\\right)_V$ |\n",
    "| H - Enthalpy                       | $dH = TdS + VdP$                 | $\\left(\\frac{\\partial T}{\\partial P}\\right)_S = \\left(\\frac{\\partial V}{\\partial S}\\right)_P$ |\n",
    "| A - Helmholtz Free Energy          | $dA = -SdT - PdV$                | $\\left(\\frac{\\partial S}{\\partial V}\\right)_T = \\left(\\frac{\\partial P}{\\partial T}\\right)_V$ |\n",
    "| G - Gibbs Free Energy              | $dG = -SdT + VdP$                | $\\left(\\frac{\\partial S}{\\partial P}\\right)_T = -\\left(\\frac{\\partial V}{\\partial T}\\right)_P$ |"
   ]
  }
 ],
 "metadata": {
  "celltoolbar": "Slideshow",
  "kernelspec": {
   "display_name": "Python 3",
   "language": "python",
   "name": "python3"
  },
  "language_info": {
   "codemirror_mode": {
    "name": "ipython",
    "version": 3
   },
   "file_extension": ".py",
   "mimetype": "text/x-python",
   "name": "python",
   "nbconvert_exporter": "python",
   "pygments_lexer": "ipython3",
   "version": "3.8.8"
  }
 },
 "nbformat": 4,
 "nbformat_minor": 4
}
