{
 "cells": [
  {
   "cell_type": "markdown",
   "metadata": {},
   "source": [
    "# Hartree-Fock Code for the H2 Molecule in a Minimal STO-3G basis\n",
    "\n",
    "The following notebook will attempt to follow along with the model H$_{2}$ calculations in Szabo and Ostlund section 3.5.\n",
    "\n",
    "\n",
    "1. Setup system - position molecule and define basis\n",
    "2. Define coefficient matrix, $\\mathbf{C}$, and compute density matrix, $\\mathbf{P}$.\n",
    "3. Compute $\\mathbf{S}$, $\\mathbf{H_{core}} = \\mathbf{T} + \\mathbf{V}$ and two-electron integrals.\n",
    "4. Populate the two-electron matrix, $\\mathbf{G}$, and then compute the Fock matrix $\\mathbf{F} = \\mathbf{H_{core}} + \\mathbf{G}$\n",
    "5. Diagonalize $\\mathbf{S}^{-1}\\mathbf{F}$ to obtain orbital energies\n",
    "6. Compute total energy"
   ]
  },
  {
   "cell_type": "markdown",
   "metadata": {},
   "source": [
    "## Subroutines"
   ]
  },
  {
   "cell_type": "code",
   "execution_count": 34,
   "metadata": {},
   "outputs": [],
   "source": [
    "# load some libraries\n",
    "import numpy as np\n",
    "from scipy.special import erf\n",
    "import matplotlib.pyplot as plt\n",
    "%matplotlib inline"
   ]
  },
  {
   "cell_type": "markdown",
   "metadata": {},
   "source": [
    "### Basis Function Overlap Calculation\n",
    "\n",
    "For this calculation we are using and STO-3G minimal basis for H2.  This means there are two basis functions of the form\n",
    "\n",
    "$\\phi_i(r) = \\sum_{k=1}^{3} g_{i,k}\\phi^{GF}_{1s}(\\alpha_{i,k},\\mathbf{r}-\\mathbf{R_A})$\n",
    "\n",
    "where $\\mathbf{R_A}$ (typically an atomic nucleus) is the center of the primitive gaussian given by\n",
    "\n",
    "$\\phi^{GF}_{1s}(\\alpha_{i,k},\\mathbf{r}-\\mathbf{R_A}) = \\left(\\frac{2\\alpha_{i,k}}{\\pi}\\right)^{3/4}e^{-\\alpha_{i,k} (\\mathbf{r}-\\mathbf{R_A})^2}$.\n",
    "\n",
    "The basis set overlap integral is given by\n",
    "\n",
    "$S_{ij} = \\langle \\phi_i | \\phi_j \\rangle  = \\langle\\sum_{k=1}^{3} g_{i,k}\\phi^{GF}_{1s}(\\alpha_{i,k},\\mathbf{r}-\\mathbf{R_A}) | \\sum_{l=1}^{3} g_{j,l}\\phi^{GF}_{1s}(\\alpha_{j,l},\\mathbf{r}-\\mathbf{R_B})\\rangle $\n",
    "\n",
    "$ = \\sum_{k,l} g_{i,k}g_{j,l} \\langle \\phi^{GF}_{1s}(\\alpha_{i,k},\\mathbf{r}-\\mathbf{R_A}) | \\phi^{GF}_{1s}(\\alpha_{j,l},\\mathbf{r}-\\mathbf{R_B}) \\rangle $.\n",
    "\n",
    "Thus we must determine the form of the primitive gaussian integral\n",
    "\n",
    "$\\langle \\phi^{GF}_{1s}(\\alpha_{i,k},\\mathbf{r}-\\mathbf{R_A}) | \\phi^{GF}_{1s}(\\alpha_{j,l},\\mathbf{r}-\\mathbf{R_B}) \\rangle  = \\left(\\frac{2}{\\pi}\\right)^{1.5}\\left(\\alpha_{i,k}\\alpha_{j,l}\\right)^{3/4}\\int e^{-\\alpha_{i,k} (\\mathbf{r}-\\mathbf{R_A})^2} e^{-\\alpha_{j,l} (\\mathbf{r}-\\mathbf{R_B})^2} d\\mathbf{r}$\n",
    "\n",
    "The integral on the right-hand side is of the product of two gaussian functions.  Recall that the product of two-gaussians is itself a new gaussian.  Namely:\n",
    "\n",
    "$\\int e^{-\\alpha_{i,k} (\\mathbf{r}-\\mathbf{R_A})^2} e^{-\\alpha_{j,l} (\\mathbf{r}-\\mathbf{R_B})^2} d\\mathbf{r} = K \\int e^{-p(\\mathbf{r}-\\mathbf{R_p})^2}\\mathbf{r}$\n",
    "\n",
    "where K is a constant (known form),\n",
    "\n",
    "$R_p = \\frac{\\alpha_{i,k}\\mathbf{R_A}+\\alpha_{j,l}\\mathbf{R_B}}{\\alpha_{i,k}+\\alpha_{j,l}}$\n",
    "\n",
    "and \n",
    "\n",
    "$ p = \\alpha_{i,k}+\\alpha_{j,l}$.\n",
    "\n",
    "It can be shown that this ultimately yields\n",
    "\n",
    "$\\langle \\phi^{GF}_{1s}(\\alpha_{i,k},\\mathbf{r}-\\mathbf{R_A}) | \\phi^{GF}_{1s}(\\alpha_{j,l},\\mathbf{r}-\\mathbf{R_B}) \\rangle  = \\left(\\alpha_{i,k}\\alpha_{j,l}\\right)^{3/4} \\left( \\frac{2}{\\alpha_{i,k}+\\alpha_{j,l}}\\right)^{1.5}e^{-\\alpha_{i,k}\\alpha_{j,l}/(\\alpha_{i,k}+\\alpha_{j,l})(\\mathbf{R_A}-\\mathbf{R_B})^2}$\n",
    "\n",
    "Thus we get for STO-3G Hydrogen 1s basis:\n",
    "\n",
    "$S_{ij} = \\sum_{k,l} g_{i,k}g_{j,l}\\left(\\alpha_{i,k}\\alpha_{j,l}\\right)^{3/4} \\left( \\frac{2}{\\alpha_{i,k}+\\alpha_{j,l}}\\right)^{1.5}e^{-\\alpha_{i,k}\\alpha_{j,l}/(\\alpha_{i,k}+\\alpha_{j,l})(\\mathbf{R_A}-\\mathbf{R_B})^2}$"
   ]
  },
  {
   "cell_type": "code",
   "execution_count": 35,
   "metadata": {},
   "outputs": [],
   "source": [
    "def basis_overlap(alpha,dA,RA,beta,dB,RB):\n",
    "    overlap = 0.0\n",
    "    for i in range(len(alpha)):\n",
    "        for j in range(len(beta)):\n",
    "            overlap += alpha[i]**0.75*beta[j]**0.75*dA[i]*dB[j]*gaussian_overlap(alpha[i],RA,beta[j],RB)\n",
    "    return overlap*(2.0)**1.5\n",
    "\n",
    "def gaussian_overlap(alpha, RA, beta, RB):\n",
    "    prefactor = ((alpha+beta))**(-1.5)\n",
    "    diff = RA - RB\n",
    "    dist2 = np.dot(diff,diff)\n",
    "    return prefactor*np.exp(-alpha*beta/(alpha+beta)*dist2)    "
   ]
  },
  {
   "cell_type": "markdown",
   "metadata": {},
   "source": [
    "### Kinetic Energy Matrix Elements\n",
    "\n",
    "For the kinetic energy matrix element\n",
    "\n",
    "$T_{ij} = \\langle \\phi_i | -0.5\\nabla^2| \\phi_j \\rangle  = \\langle\\sum_{k=1}^{3} g_{i,k}\\phi^{GF}_{1s}(\\alpha_{i,k},\\mathbf{r}-\\mathbf{R_A}) | -0.5\\nabla^2| \\sum_{l=1}^{3} g_{j,l}\\phi^{GF}_{1s}(\\alpha_{j,l},\\mathbf{r}-\\mathbf{R_B})\\rangle $\n",
    "\n",
    "$ = \\sum_{k,l} -0.5 g_{i,k}g_{j,l}\\langle \\phi^{GF}_{1s}(\\alpha_{i,k},\\mathbf{r}-\\mathbf{R_A}) |\\nabla^2| \\phi^{GF}_{1s}(\\alpha_{j,l},\\mathbf{r}-\\mathbf{R_B}) \\rangle$\n",
    "\n",
    "Thus we examine the primitive gaussian term\n",
    "\n",
    "$\\langle \\phi^{GF}_{1s}(\\alpha_{i,k},\\mathbf{r}-\\mathbf{R_A}) |\\nabla^2| \\phi^{GF}_{1s}(\\alpha_{j,l},\\mathbf{r}-\\mathbf{R_B}) \\rangle = \\left(\\frac{2}{\\pi}\\right)^{1.5}\\left(\\alpha_{i,k}\\alpha_{j,l}\\right)^{3/4} \\int e^{-\\alpha_{i,k} (\\mathbf{r}-\\mathbf{R_A})^2} \\nabla^2 e^{-\\alpha_{j,l} (\\mathbf{r}-\\mathbf{R_B})^2} d\\mathbf{r}$\n",
    "\n",
    "$ = \\left(\\frac{2}{\\pi}\\right)^{1.5}\\left(\\alpha_{i,k}\\alpha_{j,l}\\right)^{3/4}\\frac{\\alpha_{i,k}\\alpha_{j,l}}{\\alpha_{i,k}+\\alpha_{j,l}} \\left[ 3 - 2\\alpha_{i,k}\\alpha_{j,l}/(\\alpha_{i,k}+\\alpha_{j,l}) (\\mathbf{R_A}-\\mathbf{R_B})^2\\right] [\\pi/(\\alpha_{i,k}+\\alpha_{j,l})]^{3/2}e^{-\\alpha_{i,k}\\alpha_{j,l}/(\\alpha_{i,k}+\\alpha_{j,l}) (\\mathbf{R_A}-\\mathbf{R_B})^2}$\n",
    "\n",
    "provided here without derivation.  See Ostlund and Szabo Page 412 for the derivation."
   ]
  },
  {
   "cell_type": "code",
   "execution_count": 40,
   "metadata": {},
   "outputs": [],
   "source": [
    "def basis_kinetic(alpha,dA,RA,beta,dB,RB):\n",
    "    kinetic = 0.0\n",
    "    for i in range(len(alpha)):\n",
    "        for j in range(len(beta)):\n",
    "            kinetic += (alpha[i]*beta[j])**0.75*dA[i]*dB[j]*gaussian_kinetic(alpha[i],RA,beta[j],RB)\n",
    "    return kinetic*(2.0/np.pi)**1.5\n",
    "\n",
    "def gaussian_kinetic(alpha, RA, beta, RB):\n",
    "    AplusB = alpha + beta\n",
    "    diff = RA - RB\n",
    "    dist2 = np.dot(diff,diff)\n",
    "    prefactor = alpha*beta/AplusB*(3-2*alpha*beta/AplusB*dist2)*(np.pi/AplusB)**1.5\n",
    "    return prefactor*np.exp(-alpha*beta/AplusB*dist2)"
   ]
  },
  {
   "cell_type": "markdown",
   "metadata": {},
   "source": [
    "### One-electron Potential Energy Matrix Elements\n",
    "\n",
    "For the one-electron potential energy matrix element\n",
    "\n",
    "$V_{ij} = \\langle \\phi_i | -\\sum_C\\frac{Z_C}{|\\mathbf{r}-\\mathbf{R_C}|}| \\phi_j \\rangle  = \\langle\\sum_{k=1}^{3} g_{i,k}\\phi^{GF}_{1s}(\\alpha_{i,k},\\mathbf{r}-\\mathbf{R_A}) | -\\sum_C\\frac{Z_C}{|\\mathbf{r}-\\mathbf{R_C}|}| \\sum_{l=1}^{3} g_{j,l}\\phi^{GF}_{1s}(\\alpha_{j,l},\\mathbf{r}-\\mathbf{R_B})\\rangle $\n",
    "\n",
    "$ = -\\sum_{k,l,C} g_{i,k}g_{j,l}\\langle \\phi^{GF}_{1s}(\\alpha_{i,k},\\mathbf{r}-\\mathbf{R_A}) |\\frac{Z_C}{|\\mathbf{r}-\\mathbf{R_C}|}| \\phi^{GF}_{1s}(\\alpha_{j,l},\\mathbf{r}-\\mathbf{R_B}) \\rangle$\n",
    "\n",
    "Thus we examine the primitive gaussian term\n",
    "\n",
    "$\\langle \\phi^{GF}_{1s}(\\alpha_{i,k},\\mathbf{r}-\\mathbf{R_A}) |\\frac{Z_C}{|\\mathbf{r}-\\mathbf{R_C}|}| \\phi^{GF}_{1s}(\\alpha_{j,l},\\mathbf{r}-\\mathbf{R_B}) \\rangle = Z_C\\left(\\frac{2}{\\pi}\\right)^{1.5}\\left(\\alpha_{i,k}\\alpha_{j,l}\\right)^{3/4} \\int e^{-\\alpha_{i,k} (\\mathbf{r}-\\mathbf{R_A})^2}\\frac{1}{|\\mathbf{r}-\\mathbf{R_C}|} e^{-\\alpha_{j,l} (\\mathbf{r}-\\mathbf{R_B})^2} d\\mathbf{r}$\n",
    "\n",
    "$ = \\frac{-2\\pi Z_C}{\\alpha_{i,k} + \\alpha_{j,l}}\\exp\\left[\\frac{-\\alpha_{i,k}\\alpha_{j,l}}{\\alpha_{i,k} + \\alpha_{j,l}} |\\mathbf{R_A} - \\mathbf{R_B}|^2\\right]\\frac{1}{2}\\sqrt{\\frac{\\pi}{p|\\mathbf{R_P}-\\mathbf{R_C}|^2}}erf(p^{1/2}|\\mathbf{R_P}-\\mathbf{R_C}|)$\n",
    "\n",
    "provided here without derivation.  See Ostlund and Szabo Page 413-414 for the derivation."
   ]
  },
  {
   "cell_type": "code",
   "execution_count": 5,
   "metadata": {},
   "outputs": [],
   "source": [
    "def basis_potential(alpha,dA,RA,beta,dB,RB,Z,R):\n",
    "    potential = 0.0\n",
    "    nAtoms = len(Z)\n",
    "    for atom in range(nAtoms):\n",
    "        for i in range(len(alpha)):\n",
    "            for j in range(len(beta)):\n",
    "                prefactor = -Z[atom]*(2.0/np.pi)**1.5*(alpha[i]*beta[j])**0.75*dA[i]*dB[j]\n",
    "                potential += prefactor*gaussian_erf(alpha[i],RA,beta[j],RB,R[atom,:])\n",
    "    return potential\n",
    "\n",
    "def gaussian_erf(alpha, RA, beta, RB, RC):\n",
    "    AplusB = alpha + beta\n",
    "    RP = (alpha*RA+beta*RB)/AplusB\n",
    "    RPminusRC = RP - RC\n",
    "    RPRC2 = np.dot(RPminusRC,RPminusRC)\n",
    "    RAminusRB = RA - RB\n",
    "    RARB2 = np.dot(RAminusRB,RAminusRB)\n",
    "    if (RPRC2 == 0 and RARB2 ==0):\n",
    "        return 2.0*np.pi/AplusB\n",
    "    else:\n",
    "        t = np.sqrt(AplusB*RPRC2)\n",
    "        prefactor = 2.0*np.pi*0.5/AplusB*np.sqrt(np.pi)/t*erf(t)\n",
    "        return prefactor*np.exp(-alpha*beta/AplusB*RARB2)"
   ]
  },
  {
   "cell_type": "markdown",
   "metadata": {},
   "source": [
    "### Two-electron Integrals\n",
    "\n",
    "For the one-electron potential energy matrix element\n",
    "\n",
    "$\\langle \\mu\\nu | \\frac{1}{|\\mathbf{r}_{12}|}| \\lambda\\sigma \\rangle= \\langle \\phi_\\mu \\phi_\\nu| \\frac{1}{|\\mathbf{r}_{12}|}| \\phi_\\lambda\\phi_\\sigma \\rangle  = \\langle\\sum_{i=1}^{3} g_{\\mu,i}\\phi^{GF}_{1s}(\\alpha_{\\mu,i},\\mathbf{r}-\\mathbf{R_A})\\sum_{j=1}^{3} g_{\\nu,j}\\phi^{GF}_{1s}(\\alpha_{\\nu,j},\\mathbf{r}-\\mathbf{R_B}) | \\frac{1}{|\\mathbf{r}_{12}|}| \\sum_{k=1}^{3} g_{\\lambda,k}\\phi^{GF}_{1s}(\\alpha_{\\lambda,k},\\mathbf{r}-\\mathbf{R_C})\\sum_{l=1}^{3} g_{\\sigma,l}\\phi^{GF}_{1s}(\\alpha_{\\sigma,l},\\mathbf{r}-\\mathbf{R_D})\\rangle $\n",
    "\n",
    "$ = \\sum_{i,j,k,l} g_{\\mu,i}g_{\\nu,j}g_{\\lambda,k}g_{\\sigma,l}\\langle \\phi^{GF}_{1s}(\\alpha_{\\mu,i},\\mathbf{r}-\\mathbf{R_A}) \\phi^{GF}_{1s}(\\alpha_{\\nu,j},\\mathbf{r}-\\mathbf{R_B})|\\frac{1}{|\\mathbf{r}_{12}|}| \\phi^{GF}_{1s}(\\alpha_{\\lambda,k},\\mathbf{r}-\\mathbf{R_C}) \\phi^{GF}_{1s}(\\alpha_{\\sigma,l},\\mathbf{r}-\\mathbf{R_D})\\rangle$\n",
    "\n",
    "Thus we examine the primitive gaussian term\n",
    "\n",
    "$\\langle \\phi^{GF}_{1s}(\\alpha_{\\mu,i},\\mathbf{r}-\\mathbf{R_A}) \\phi^{GF}_{1s}(\\alpha_{\\nu,j},\\mathbf{r}-\\mathbf{R_B})|\\frac{1}{|\\mathbf{r}_{12}|}| \\phi^{GF}_{1s}(\\alpha_{\\lambda,k},\\mathbf{r}-\\mathbf{R_C}) \\phi^{GF}_{1s}(\\alpha_{\\sigma,l},\\mathbf{r}-\\mathbf{R_D})\\rangle $\n",
    "\n",
    "$ = \\frac{2\\pi^{5/2}}{(\\alpha_{\\mu,i}+\\alpha_{\\nu,j}) (\\alpha_{\\lambda,k}+\\alpha_{\\sigma,l}) (\\alpha_{\\mu,i}+\\alpha_{\\nu,j} + \\alpha_{\\lambda,k}+\\alpha_{\\sigma,l})^{1/2}} \\exp\\left[ \\frac{-\\alpha_{\\mu,i}\\alpha_{\\nu,j}}{\\alpha_{\\mu,i}+\\alpha_{\\nu,j}} |\\mathbf{R}_A-\\mathbf{R}_B|^2 -\\frac{\\alpha_{\\lambda,k}\\alpha_{\\sigma,l}}{\\alpha_{\\lambda,k}+\\alpha_{\\sigma,l}} |\\mathbf{R}_C-\\mathbf{R}_D|^2  \\right]F_0\\left[ \\frac{(\\alpha_{\\mu,i}+\\alpha_{\\nu,j}) (\\alpha_{\\lambda,k}+\\alpha_{\\sigma,l})}{(\\alpha_{\\mu,i}+\\alpha_{\\nu,j} + \\alpha_{\\lambda,k}+\\alpha_{\\sigma,l})}|\\mathbf{R}_P-\\mathbf{R}_Q|^2 \\right]$\n",
    "\n",
    "provided here without derivation.  See Ostlund and Szabo Page 415-416 for the derivation."
   ]
  },
  {
   "cell_type": "code",
   "execution_count": 44,
   "metadata": {},
   "outputs": [],
   "source": [
    "# two electron integrals\n",
    "def basis_2e(alpha,dA,RA,beta,dB,RB,gamma,dC,RC,delta,dD,RD):\n",
    "    twoE = 0.0\n",
    "    for i in range(len(alpha)):\n",
    "        for j in range(len(beta)):\n",
    "            for k in range(len(gamma)):\n",
    "                for l in range(len(delta)):\n",
    "                    prefactor = (alpha[i]*beta[j]*gamma[k]*delta[l])**0.75*dA[i]*dB[j]*dC[k]*dD[l]\n",
    "                    twoE += prefactor*gaussian_2e(alpha[i],RA,beta[j],RB,gamma[k],RC,delta[l],RD)\n",
    "    return twoE*(2.0/np.pi)**3  \n",
    "\n",
    "def gaussian_2e(alpha,RA,beta,RB,gamma,RC,delta,RD):\n",
    "    AplusB = alpha + beta\n",
    "    # weighted average of RA and RB\n",
    "    RP = (alpha*RA+beta*RB)/AplusB\n",
    "    GplusD = gamma + delta\n",
    "    # weighted average of RC and RD\n",
    "    RQ = (gamma*RC+delta*RD)/GplusD\n",
    "    RAminusRB = RA - RB\n",
    "    RARB2 = np.dot(RAminusRB,RAminusRB)\n",
    "    RCminusRD = RC - RD\n",
    "    RCRD2 = np.dot(RCminusRD,RCminusRD)\n",
    "    RPminusRQ = RP - RQ\n",
    "    RPRQ2 = np.dot(RPminusRQ,RPminusRQ)\n",
    "    denom = AplusB*GplusD*np.sqrt(AplusB+GplusD)\n",
    "    prefactor = 2.0*np.pi**2.5/denom\n",
    "    t = np.sqrt(AplusB*GplusD/(AplusB+GplusD)*RPRQ2)\n",
    "    if (RPRQ2 !=0):\n",
    "        prefactor *= 0.5*np.sqrt(np.pi)/t*erf(t)\n",
    "    return prefactor*np.exp( -alpha*beta/AplusB*RARB2 - gamma*delta/GplusD*RCRD2)\n",
    "    "
   ]
  },
  {
   "cell_type": "code",
   "execution_count": 45,
   "metadata": {},
   "outputs": [],
   "source": [
    "def constructDensityMat(C):\n",
    "    M = C.shape[0]\n",
    "    P = np.zeros((M,M),dtype=float)\n",
    "    for i in range(M):\n",
    "        for j in range(i,M):\n",
    "            for a in range(M//2):\n",
    "                P[i,j] += C[i,a]*C[j,a]\n",
    "            P[i,j] *= 2.0\n",
    "            P[j,i] = P[i,j]\n",
    "    return P"
   ]
  },
  {
   "cell_type": "markdown",
   "metadata": {},
   "source": [
    "## Main Program"
   ]
  },
  {
   "cell_type": "code",
   "execution_count": 36,
   "metadata": {},
   "outputs": [],
   "source": [
    "# define some system parameters\n",
    "Z = np.array([1,1])    # nuclear charge in electron charge units\n",
    "M = 2                  # number of basis functions"
   ]
  },
  {
   "cell_type": "code",
   "execution_count": 37,
   "metadata": {},
   "outputs": [],
   "source": [
    "# set STO-3G basis for zeta = 1.24\n",
    "alpha = np.array([0.168856,0.623913,3.42525])\n",
    "d = np.array([0.444635,0.535328,0.154329])\n",
    "R = np.empty((2,3),dtype=float)\n",
    "R[0,0] = R[0,1] = R[0,2] = 0.0\n",
    "R[1,0] = 1.4\n",
    "R[1,1] = R[1,2] = 0.0"
   ]
  },
  {
   "cell_type": "code",
   "execution_count": 38,
   "metadata": {},
   "outputs": [
    {
     "data": {
      "text/plain": [
       "<matplotlib.legend.Legend at 0x818244be0>"
      ]
     },
     "execution_count": 38,
     "metadata": {},
     "output_type": "execute_result"
    },
    {
     "data": {
      "image/png": "[encoded data removed]",
      "text/plain": [
       "<Figure size 800x640 with 1 Axes>"
      ]
     },
     "metadata": {},
     "output_type": "display_data"
    }
   ],
   "source": [
    "# plot basis function and compare to STO\n",
    "# define function for making figures\n",
    "def define_figure(xlabel=\"X\",ylabel=\"Y\"):\n",
    "    # setup plot parameters\n",
    "    fig = plt.figure(figsize=(10,8), dpi= 80, facecolor='w', edgecolor='k')\n",
    "    ax = plt.subplot(111)\n",
    "    ax.grid(b=True, which='major', axis='both', color='#808080', linestyle='--')\n",
    "    ax.set_xlabel(xlabel,size=20)\n",
    "    ax.set_ylabel(ylabel,size=20)\n",
    "    plt.tick_params(axis='both',labelsize=20)\n",
    "    return ax\n",
    "# define the radially symmetric slater type orbitals\n",
    "def sto(n,zeta,r):\n",
    "    f =  np.sqrt(zeta**3/np.pi)*np.exp(-zeta*r)\n",
    "    return f \n",
    "# approximation of STO with n gaussians\n",
    "def sto_ng(n,alpha,d,r):\n",
    "    g = 0.0\n",
    "    for i in range(n):\n",
    "        g += d[i]*(2*alpha[i]/np.pi)**0.75*np.exp(-alpha[i]*r*r)\n",
    "    return g \n",
    "# initialize a figure\n",
    "ax = define_figure(xlabel=\"$r$\",ylabel=\"$\\phi$\")\n",
    "r = np.arange(0,5,0.001)\n",
    "alphaSTO1G = [0.270950]\n",
    "alphaSTO2G = [0.151623,0.851819]\n",
    "dSTO2G = [0.678914,0.430129]\n",
    "alphaSTO3G = [0.109818,0.405771,2.22766]\n",
    "dSTO3G = [0.444635,0.535328,0.154329]\n",
    "ax.plot(r,sto(1,1,r),lw=3,label=\"STO\")\n",
    "ax.plot(r,sto_ng(1,alphaSTO1G,[1.0],r),label=\"STO-1G\")\n",
    "ax.plot(r,sto_ng(2,alphaSTO2G,dSTO2G,r),label=\"STO-2G\")\n",
    "ax.plot(r,sto_ng(3,alphaSTO3G,dSTO3G,r),label=\"STO-3G\")\n",
    "plt.legend(fontsize=16)"
   ]
  },
  {
   "cell_type": "code",
   "execution_count": 39,
   "metadata": {},
   "outputs": [
    {
     "name": "stdout",
     "output_type": "stream",
     "text": [
      "[[1.00000134 0.65931916]\n",
      " [0.65931916 1.00000134]]\n"
     ]
    }
   ],
   "source": [
    "# compute S, the overlap matrix\n",
    "S = np.empty((M,M),dtype=float)\n",
    "for i in range(M):\n",
    "    for j in range(M):\n",
    "        S[i,j] = basis_overlap(alpha,d,R[i,:],alpha,d,R[j,:])\n",
    "Sinv = np.linalg.inv(S)\n",
    "print(S)"
   ]
  },
  {
   "cell_type": "markdown",
   "metadata": {},
   "source": [
    "Here we dictate the coefficient matrix, $\\mathbf{C}$, and then compute the density matrix, $\\mathbf{P}$.  The density matrix is given as\n",
    "\n",
    "$P_{\\mu\\nu} = 2\\sum_{a}^{N/2}C_{\\mu a}C^*_{\\nu a}$."
   ]
  },
  {
   "cell_type": "code",
   "execution_count": 46,
   "metadata": {},
   "outputs": [
    {
     "name": "stdout",
     "output_type": "stream",
     "text": [
      "[[0.60265682 0.60265682]\n",
      " [0.60265682 0.60265682]]\n"
     ]
    }
   ],
   "source": [
    "# basis set coefficient matrix\n",
    "C = np.empty((M,M),dtype=float)\n",
    "# in this case we know the answer so can set it to be\n",
    "C[0,0] = 1.0/np.sqrt(2*(1+S[0,1]))\n",
    "C[0,1] = 1.0/np.sqrt(2*(1-S[0,1]))\n",
    "C[1,0] = C[0,0]\n",
    "C[1,1] = -C[0,1]\n",
    "P = constructDensityMat(C)\n",
    "print(P)"
   ]
  },
  {
   "cell_type": "code",
   "execution_count": 41,
   "metadata": {},
   "outputs": [
    {
     "name": "stdout",
     "output_type": "stream",
     "text": [
      "[[0.76003235 0.23645527]\n",
      " [0.23645527 0.76003235]]\n"
     ]
    }
   ],
   "source": [
    "# compute T, the kinetic energy matrix\n",
    "T = np.empty((M,M),dtype=float)\n",
    "for i in range(M):\n",
    "    for j in range(M):\n",
    "        T[i,j] = basis_kinetic(alpha,d,R[i,:],alpha,d,R[j,:])\n",
    "print(T)"
   ]
  },
  {
   "cell_type": "code",
   "execution_count": 42,
   "metadata": {},
   "outputs": [
    {
     "name": "stdout",
     "output_type": "stream",
     "text": [
      "[[-1.88044303 -1.19483649]\n",
      " [-1.19483649 -1.88044303]]\n"
     ]
    }
   ],
   "source": [
    "# compute V, the potential energy matrix\n",
    "V = np.empty((M,M),dtype=float)\n",
    "for i in range(M):\n",
    "    for j in range(M):\n",
    "        V[i,j] = basis_potential(alpha,d,R[i,:],alpha,d,R[j,:],Z,R)\n",
    "print(V)"
   ]
  },
  {
   "cell_type": "code",
   "execution_count": 43,
   "metadata": {},
   "outputs": [
    {
     "name": "stdout",
     "output_type": "stream",
     "text": [
      "[[-1.12041067 -0.95838123]\n",
      " [-0.95838123 -1.12041067]]\n"
     ]
    }
   ],
   "source": [
    "# save H-core\n",
    "Hcore = T + V\n",
    "print(Hcore)"
   ]
  },
  {
   "cell_type": "code",
   "execution_count": 47,
   "metadata": {},
   "outputs": [
    {
     "name": "stdout",
     "output_type": "stream",
     "text": [
      "< 1 1 |1/r12| 1 1 >= 0.7746079055149173\n",
      "< 1 1 |1/r12| 1 2 >= 0.44410895821293\n",
      "< 1 1 |1/r12| 2 1 >= 0.44410895821292995\n",
      "< 1 1 |1/r12| 2 2 >= 0.5696774985883132\n",
      "< 1 2 |1/r12| 1 1 >= 0.4441089582129298\n",
      "< 1 2 |1/r12| 1 2 >= 0.29702949599279366\n",
      "< 1 2 |1/r12| 2 1 >= 0.2970294959927937\n",
      "< 1 2 |1/r12| 2 2 >= 0.4441089582129301\n",
      "< 2 1 |1/r12| 1 1 >= 0.4441089582129301\n",
      "< 2 1 |1/r12| 1 2 >= 0.29702949599279366\n",
      "< 2 1 |1/r12| 2 1 >= 0.29702949599279366\n",
      "< 2 1 |1/r12| 2 2 >= 0.4441089582129298\n",
      "< 2 2 |1/r12| 1 1 >= 0.5696774985883132\n",
      "< 2 2 |1/r12| 1 2 >= 0.44410895821292995\n",
      "< 2 2 |1/r12| 2 1 >= 0.44410895821293\n",
      "< 2 2 |1/r12| 2 2 >= 0.7746079055149173\n"
     ]
    }
   ],
   "source": [
    "# Compute and save all two-electron integrals\n",
    "twoE = np.empty((M,M,M,M),dtype=float)\n",
    "for i in range(M):\n",
    "    for j in range(M):\n",
    "        for k in range(M):\n",
    "            for l in range(M):\n",
    "                twoE[i,j,k,l] = basis_2e(alpha,d,R[i,:],alpha,d,R[j,:],alpha,d,R[k,:],alpha,d,R[l,:])\n",
    "                print(\"<\",i+1,j+1,\"|1/r12|\",k+1,l+1,\">=\",twoE[i,j,k,l])"
   ]
  },
  {
   "cell_type": "markdown",
   "metadata": {},
   "source": [
    "The two electron matrix, $\\mathbf{G}$, has the form:\n",
    "\n",
    "$G_{\\mu\\nu} = \\sum_{\\lambda\\sigma}P_{\\mu\\nu}\\left(\\langle \\mu\\nu |\\frac{1}{r_{12}}| \\lambda\\sigma\\rangle - \\langle \\mu\\lambda |\\frac{1}{r_{12}}| \\sigma\\nu \\rangle \\right)$"
   ]
  },
  {
   "cell_type": "code",
   "execution_count": 48,
   "metadata": {},
   "outputs": [
    {
     "name": "stdout",
     "output_type": "stream",
     "text": [
      "[[0.75487326 0.36449555]\n",
      " [0.36449555 0.75487326]]\n"
     ]
    }
   ],
   "source": [
    "# populate G matrix using two-electron integrals and density matrix\n",
    "G = np.zeros((M,M),dtype=float)\n",
    "\n",
    "for i in range(M):\n",
    "    for j in range(M):\n",
    "        G[i,j] = 0.0\n",
    "        for k in range(M):\n",
    "            for l in range(M):\n",
    "                G[i,j] += P[k,l]*(twoE[i,j,l,k]-0.5*twoE[i,k,l,j])\n",
    "print(G)"
   ]
  },
  {
   "cell_type": "code",
   "execution_count": 49,
   "metadata": {},
   "outputs": [
    {
     "name": "stdout",
     "output_type": "stream",
     "text": [
      "[-0.5782024   0.67026769]\n"
     ]
    }
   ],
   "source": [
    "F = Hcore + G\n",
    "\n",
    "e,v = np.linalg.eig(np.dot(Sinv,F))\n",
    "\n",
    "print(e)"
   ]
  },
  {
   "cell_type": "code",
   "execution_count": 50,
   "metadata": {},
   "outputs": [
    {
     "name": "stdout",
     "output_type": "stream",
     "text": [
      "Ground-state Electronic Energy: -1.8310009691491826\n",
      "Ground-state Total Energy: -1.1167152548634682\n"
     ]
    }
   ],
   "source": [
    "Etotal = 0.0\n",
    "\n",
    "for i in range(M):\n",
    "    for j in range(M):\n",
    "        Etotal += P[i,j]*(Hcore[i,j]+F[i,j])\n",
    "Etotal*=0.5\n",
    "print(\"Ground-state Electronic Energy:\",Etotal)\n",
    "Etotal += 1/R[1,0]\n",
    "print(\"Ground-state Total Energy:\",Etotal)"
   ]
  },
  {
   "cell_type": "code",
   "execution_count": null,
   "metadata": {},
   "outputs": [],
   "source": []
  }
 ],
 "metadata": {
  "kernelspec": {
   "display_name": "Python 3",
   "language": "python",
   "name": "python3"
  },
  "language_info": {
   "codemirror_mode": {
    "name": "ipython",
    "version": 3
   },
   "file_extension": ".py",
   "mimetype": "text/x-python",
   "name": "python",
   "nbconvert_exporter": "python",
   "pygments_lexer": "ipython3",
   "version": "3.6.5"
  }
 },
 "nbformat": 4,
 "nbformat_minor": 2
}
