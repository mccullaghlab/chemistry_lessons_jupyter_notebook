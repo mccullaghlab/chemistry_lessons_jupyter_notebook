{
 "cells": [
  {
   "cell_type": "markdown",
   "metadata": {},
   "source": [
    "# Hartree-Fock"
   ]
  },
  {
   "cell_type": "markdown",
   "metadata": {},
   "source": [
    "For the sake of these notes we will consider a two electron Hamiltonian of the form\n",
    "\n",
    "$ \\hat{H} = -\\frac{1}{2}\\nabla_1^2 + \\frac{Z}{r_1} - \\frac{1}{2}\\nabla_2^2 + \\frac{Z}{r_2} + \\frac{1}{r_{12}} $,\n",
    "\n",
    "where $r_1$ is the distance of electron $1$ from the nucleus, $Z$ is the nuclear charge and $r_{12}$ is the distance between the two electrons.  The goal, as always, is to solve the Schrodinger equation with this Hamiltonian.  This will yield the energies and wavefunctions of the system. \n",
    "\n",
    "As we have seen, the Schrodinger equation with this Hamiltonian cannot be solved analytically.  Instead, we have previously utilized both perturbation theory and the variational approach to solve for the approximate energies and wavefunctions.  The Hartree-Fock approach is based heavily on the variational approach so will focus on that.\n",
    "\n",
    "For the variational approach, we posit a trial wavefunction with variational parameters.  We previously used\n",
    "\n",
    "$\\psi_t(r_1,r_2) = \\frac{\\zeta^3}{\\pi}e^{-\\zeta(r_1+r_2)}$,\n",
    "\n",
    "due to this being a product of two Hydrogen 1s like orbitals and $\\zeta$ is our variational parameter.  The first step in the variational approach is to solve for the expectation value of the Hamiltonian in this trial wavefunction.  We showed that\n",
    "\n",
    "$\\langle E \\rangle_t = \\frac{ \\langle \\psi_t | \\hat{H} | \\psi_t \\rangle}{\\langle \\psi_t | \\psi_t \\rangle} = \\zeta^2 - \\frac{27}{8}\\zeta$\n",
    "\n",
    "We then minimize $\\langle E \\rangle_t$ with respect to the variational parameter\n",
    "\n",
    "$\\frac{d \\langle E \\rangle_t}{d\\zeta}|_{\\zeta_{min}} = 0$\n",
    "\n",
    "$\\Rightarrow \\zeta_{min} = \\frac{27}{16}$\n",
    "\n",
    "$\\Rightarrow E_{min} = -2.8477$ Hartree"
   ]
  },
  {
   "cell_type": "markdown",
   "metadata": {},
   "source": [
    "In following this procedure for the variational approach we have completely ignored the spin of the electron.  Recall from postulate 6 of quantum mechanics, an electronic wavefunction must be antisymmetric with respect to exhange of an electron."
   ]
  },
  {
   "cell_type": "markdown",
   "metadata": {},
   "source": [
    "## Antisymmetric Wavefunctions"
   ]
  },
  {
   "cell_type": "markdown",
   "metadata": {},
   "source": [
    "We need to ensure that our wavefunctions our antisymmetric with respect to exchange of electrons.  This will be achieved using slater determinants of spin-orbits.  For the minimal basis helium atom we will have two spin orbits\n",
    "\n",
    "$\\chi_1(1) = \\psi_1(1) \\alpha(1)$\n",
    "\n",
    "$\\chi_2(1) = \\psi_1(1) \\beta(1)$\n",
    "\n",
    "where $\\psi_1$ is the spatial function and $\\alpha$ and $\\beta$ are the spin functions. The $1$ in parantheses, $(1)$, denotes that these are functions of the coordinates of electron $1$.   We construct an antisymmetric wavefunction using Slater determinants:\n",
    "\n",
    "$|\\Psi(1,2)\\rangle = \\frac{1}{\\sqrt{2}} \\begin{vmatrix}\\chi_1(1) & \\chi_1(2)\\\\ \\chi_2(1) & \\chi_2(2)  \\end{vmatrix}  = \\frac{1}{\\sqrt{2}} (\\chi_1(1)\\chi_2(2) - \\chi_2(1) \\chi_1(2)) $"
   ]
  },
  {
   "cell_type": "markdown",
   "metadata": {},
   "source": [
    "## Coulomb and Exhange Integrals"
   ]
  },
  {
   "cell_type": "markdown",
   "metadata": {},
   "source": [
    "We now want to determine the expectation value of the Hamiltonian in the antisymmetric trial wavefunction.  Let's start by rewriting the Hamiltonian as\n",
    "\n",
    "\\begin{align}\n",
    "\\hat{H} &=& -\\frac{1}{2}\\nabla_1^2 + \\frac{Z}{r_1} - \\frac{1}{2}\\nabla_2^2 + \\frac{Z}{r_2} + \\frac{1}{r_{12}} \\\\\n",
    " &=& h(1) + h(2) + \\frac{1}{r_{12}},\n",
    "\\end{align}\n",
    "\n",
    "where $h(i) = -\\frac{1}{2}\\nabla_i^2 + \\frac{Z}{r_i}$ is the one electron operator for electron $i$.  Using this form of Hamiltonian, we can write the expectation value\n",
    "\n",
    "\\begin{align}\n",
    "\\langle\\Psi(1,2)| \\hat{H} |\\Psi(1,2)\\rangle &=& \\langle\\Psi(1,2)| h(1) + h(2) + \\frac{1}{r_{12}} |\\Psi(1,2)\\rangle\\\\\n",
    "&=& \\langle\\Psi(1,2)| h(1)|\\Psi(1,2)\\rangle  +  \\langle\\Psi(1,2)|h(2)|\\Psi(1,2)\\rangle +  \\langle\\Psi(1,2)|\\frac{1}{r_{12}} |\\Psi(1,2)\\rangle\n",
    "\\end{align}\n",
    "\n",
    "We can now evaluate these terms separately.  \n",
    "\n",
    "\\begin{align}\n",
    "\\langle\\Psi(1,2)| h(1)|\\Psi(1,2)\\rangle &=& \\langle \\frac{1}{\\sqrt{2}} (\\chi_1(1)\\chi_2(2) - \\chi_2(1) \\chi_1(2)) | h(1) | \\frac{1}{\\sqrt{2}} (\\chi_1(1)\\chi_2(2) - \\chi_2(1) \\chi_1(2)) \\rangle\\\\\n",
    "&=& \\frac{1}{2} \\langle(\\chi_1(1)\\chi_2(2) - \\chi_2(1) \\chi_1(2)) | h(1) | (\\chi_1(1)\\chi_2(2) - \\chi_2(1) \\chi_1(2)) \\rangle \\\\\n",
    "&=& \\frac{1}{2} \\left( \\langle\\chi_1(1)\\chi_2(2) | h(1) | \\chi_1(1)\\chi_2(2) \\rangle + \\langle\\chi_2(1)\\chi_1(2) | h(1) | \\chi_2(1)\\chi_1(2) \\rangle - \\langle\\chi_1(1)\\chi_2(2) | h(1) | \\chi_2(1)\\chi_1(2) \\rangle - \\langle\\chi_2(1)\\chi_1(2) | h(1) | \\chi_1(1)\\chi_2(2) \\rangle \\right)\\\\\n",
    "&=& \\frac{1}{2}\\left(\\langle\\chi_1(1) | h(1) | \\chi_1(1) \\rangle + \\langle\\chi_2(1) | h(1) | \\chi_2(1) \\rangle\\right)\n",
    "\\end{align}\n",
    "\n",
    "where the last equality holds if $\\chi_1$ is orthogonal to $\\chi_2$.  It can be readily seen that you will get a similar result for the $h(2)$ term.\n",
    "\n",
    "The two electron integral is more interesting.  \n",
    "\n",
    "\\begin{align}\n",
    "\\langle\\Psi(1,2)| \\frac{1}{r_{12}}|\\Psi(1,2)\\rangle &=& \\langle \\frac{1}{\\sqrt{2}} (\\chi_1(1)\\chi_2(2) - \\chi_2(1) \\chi_1(2)) | \\frac{1}{r_{12}} | \\frac{1}{\\sqrt{2}} (\\chi_1(1)\\chi_2(2) - \\chi_2(1) \\chi_1(2)) \\rangle\\\\\n",
    "&=&\\frac{1}{2} \\left( \\langle\\chi_1(1)\\chi_2(2) | \\frac{1}{r_{12}} | \\chi_1(1)\\chi_2(2) \\rangle + \\langle\\chi_2(1)\\chi_1(2) | \\frac{1}{r_{12}} | \\chi_2(1)\\chi_1(2) \\rangle - \\langle\\chi_1(1)\\chi_2(2) |\\frac{1}{r_{12}} | \\chi_2(1)\\chi_1(2) \\rangle - \\langle\\chi_2(1)\\chi_1(2) | \\frac{1}{r_{12}} | \\chi_1(1)\\chi_2(2) \\rangle \\right)\\\\\n",
    "&=& \\langle\\chi_1(1)\\chi_2(2) | \\frac{1}{r_{12}} | \\chi_1(1)\\chi_2(2) \\rangle - \\langle\\chi_1(1)\\chi_2(2) |\\frac{1}{r_{12}} | \\chi_2(1)\\chi_1(2) \\rangle\n",
    "\\end{align}\n",
    "\n",
    "where the final equality holds due to commutative multiplication in this case.  The first term in the last line is called a Coulomb integral and the second term is called an Exchange integral."
   ]
  },
  {
   "cell_type": "markdown",
   "metadata": {},
   "source": [
    "## Self-consistent Field (SCF)"
   ]
  },
  {
   "cell_type": "markdown",
   "metadata": {},
   "source": []
  }
 ],
 "metadata": {
  "kernelspec": {
   "display_name": "Python 3",
   "language": "python",
   "name": "python3"
  },
  "language_info": {
   "codemirror_mode": {
    "name": "ipython",
    "version": 3
   },
   "file_extension": ".py",
   "mimetype": "text/x-python",
   "name": "python",
   "nbconvert_exporter": "python",
   "pygments_lexer": "ipython3",
   "version": "3.6.5"
  }
 },
 "nbformat": 4,
 "nbformat_minor": 2
}
