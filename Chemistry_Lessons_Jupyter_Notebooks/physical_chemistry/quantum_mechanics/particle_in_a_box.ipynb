{
 "cells": [
  {
   "cell_type": "markdown",
   "id": "ff96a4e4",
   "metadata": {},
   "source": [
    "# Particle in a Box"
   ]
  },
  {
   "cell_type": "markdown",
   "id": "c19f703e",
   "metadata": {},
   "source": [
    "## Motivation\n",
    "\n",
    "To demonstrate how to use the Schrodinger equation we will look at one of the simplest quantum problems: particle in a box.  This problem simply asks what are the solutions to the Shrodinger equation for a particle that is allowed to travel in one dimension in a finite domain."
   ]
  },
  {
   "cell_type": "markdown",
   "id": "0b27b252",
   "metadata": {},
   "source": [
    "## Learning Goals\n",
    "\n",
    "After working through these notes, you will be able to:\n",
    "\n",
    "1. Setup and solve the Schrodinger equation for a 1D particle in a finite box\n",
    "2. Normalize standard wave functions\n",
    "3. Compute stastical properties from wave functions"
   ]
  },
  {
   "cell_type": "markdown",
   "id": "31fd85ef",
   "metadata": {},
   "source": [
    "## Coding Concepts\n",
    "\n",
    "The following coding concepts are used in this notebook:\n",
    "\n",
    "1. [Plotting with matplotlib](../../coding_concepts/plotting_with_matplotlib.pyplot)"
   ]
  },
  {
   "cell_type": "markdown",
   "id": "1ae86010",
   "metadata": {},
   "source": [
    "## Particle in a Box: Setting up the Problem"
   ]
  },
  {
   "cell_type": "markdown",
   "id": "2bd6099d",
   "metadata": {},
   "source": [
    "To see the utility of the Schrodinger equation we will see what it predicts for the energy of a particle that can travel in one dimension but is restricted to a finite domain.  This can be seen as asking what the allowed energy is for a particle in a one dimensional box.  The only energy that this particle has is kinetic energy.  \n",
    "\n",
    "![title](img/InfiniteSquareWellAnimation.gif)"
   ]
  },
  {
   "cell_type": "markdown",
   "id": "8ecd9f4a",
   "metadata": {},
   "source": [
    "The first step in solving this problem, as is the case for all problem involving the Schrodinger equation, is to write out the Hamiltonian.  From there, we can hopefully solve for the wave functions and the energies.  To do so we can start by writing out the classical energy and then converting the terms to quantum operators.\n",
    "\n",
    "\\begin{align}\n",
    "E_{classical}(x,v) &= K(v) + V(x) \\\\\n",
    "&= \\frac{1}{2}mv^2\n",
    "\\end{align}\n",
    "where we have used that $V(x) = 0$ as is stated in the problem.  So the total energy is just equivalent to the total kinetic energy. Since this is for a single particle the classical kinetic energy is just $\\frac{1}{2}mv^2$.  \n",
    "\n",
    "In order to write out the Hamiltonian we can always start with\n",
    "\\begin{align}\n",
    "\\hat{H} &= \\hat{K} + \\hat{V} \\\\\n",
    "&= \\hat{K}\n",
    "\\end{align}\n",
    "where $\\hat{K}$ is the kinetic energy operator.  If we consult the table provided in the [Schrodinger Equation notes](Schrodinger_Equation.ipynb) we see that \n",
    "\\begin{align}\n",
    "\\hat{K} = -\\frac{\\hbar^2}{2m}\\left(\\frac{\\partial^2}{\\partial x^2} + \\frac{\\partial^2}{\\partial y^2} + \\frac{\\partial^2}{\\partial x^2} \\right).\n",
    "\\end{align}\n",
    "Since this problem only involves a single dimension, we can write\n",
    "\\begin{align}\n",
    "\\hat{K} = -\\frac{\\hbar^2}{2m}\\frac{d^2}{d x^2}.\n",
    "\\end{align}\n",
    "\n",
    "Thus, the Schrodinger equation for this problem is\n",
    "\\begin{equation}\n",
    "-\\frac{\\hbar^2}{2m}\\frac{d^2}{d x^2}\\psi(x) = E\\psi(x) \\quad 0\\leq x\\leq a\n",
    "\\end{equation}\n",
    "and the goal is to determine $\\psi(x)$ and $E$."
   ]
  },
  {
   "cell_type": "markdown",
   "id": "fcaa9f86",
   "metadata": {},
   "source": [
    "## Particle in a Box: Solution"
   ]
  },
  {
   "cell_type": "markdown",
   "id": "15af2e73",
   "metadata": {},
   "source": [
    "We start by rewriting the Schrodinger equation for the particle in a box in the more standard differential equation form:\n",
    "\\begin{align}\n",
    "&\\frac{d^2\\psi}{dx^2} = \\frac{-2mE}{\\hbar^2}\\psi(x) \\\\\n",
    "\\Rightarrow \\frac{d^2\\psi}{dx^2} + \\frac{2mE}{\\hbar^2}\\psi(x) = 0\n",
    "\\end{align}\n",
    "\n",
    "Additionally, we have the boundary conditions that \n",
    "\\begin{align}\n",
    "\\psi(0) &= 0 \\\\\n",
    "\\psi(l) &= 0\n",
    "\\end{align}\n",
    "The idea here is that the particle can not sit inside/on the wall.  You can think of the wall as being an infinite potential at $x=0$ and $x=l$.  \n",
    "\n",
    "This form of differential equation and boundary conditions are exactly the problem we solved in the [Classical Wave Equation](wave_particle_duality_classical_wave_equation.ipynb) notes.  The general solution is\n",
    "\\begin{equation}\n",
    "\\psi(x) = A\\cos(kx) + B\\sin(kx),\n",
    "\\end{equation}\n",
    "where $k^2 = \\frac{2mE}{\\hbar^2}$ in this case. \n",
    "\n",
    "Applying the boundary conditions to this general solution yields\n",
    "\\begin{align}\n",
    "&A = 0 \\\\\n",
    "&k = \\frac{n\\pi}{a}\n",
    "\\end{align}\n",
    "Using two expressions for $k$ yields our solutions for $E$:\n",
    "\\begin{align}\n",
    "E_n = \\frac{h^2n^2}{8ma^2}\n",
    "\\end{align}"
   ]
  },
  {
   "cell_type": "code",
   "execution_count": 1,
   "id": "b07f1176",
   "metadata": {},
   "outputs": [],
   "source": [
    "# Plot of the Particle in a box Energy Levels"
   ]
  },
  {
   "cell_type": "markdown",
   "id": "3620ba9a",
   "metadata": {},
   "source": [
    "## Particle in a Box: Applications"
   ]
  },
  {
   "cell_type": "markdown",
   "id": "744fe30c",
   "metadata": {},
   "source": [
    "Although this seems like a trivial problem, the model of a free particle in a finite box has been applied to actual physical systems with reasonable success.  One example is the $\\pi$ electrons in a conjugated molecule.  The free electron model for butadiene does a reasonable job at reproducing the the $\\pi\\rightarrow\\pi^*$ absorption band."
   ]
  },
  {
   "cell_type": "markdown",
   "id": "2bbb7bd6",
   "metadata": {},
   "source": [
    "## Probabilistic Intepretation of the Wave Function"
   ]
  },
  {
   "cell_type": "markdown",
   "id": "91764a70",
   "metadata": {},
   "source": [
    "The wave function of a particle, such as the free particle, can be interpreted as the amplitude of the wave at that position.  This is analagous to the classical wave equation.  \n",
    "\n",
    "The probability of finding a particle at position $x$ is proportional to the square of the wave function.  Specifically, \n",
    "\\begin{align}\n",
    "P(x) \\propto \\psi^*(x)\\psi(x),\n",
    "\\end{align}\n",
    "where $\\psi^*(x)$ is the complex conjugate of $\\psi(x)$.  Note that wave functions can be complex but, if they are not, then $\\psi^*(x) = \\psi(x)$ and $P \\propto \\psi(x)^2$.\n",
    "\n",
    "This intepretation of the wave function has some interesting and useful outcomes.  Here we will only consider three of them:\n",
    "\n",
    "1. The wave function must be normalized\n",
    "2. Probability of observing a particle in a particular domain is $\\text{Prob}(x_1 \\leq x \\leq x_2) = \\int_{x_1}^{x_2} \\psi^*(x)\\psi(x)dx$\n",
    "3. Average properties of a particle can be computed as $<A> = \\int \\psi^*(x)\\hat{A}\\psi(x)dx$"
   ]
  },
  {
   "cell_type": "markdown",
   "id": "03ffe0e4",
   "metadata": {},
   "source": [
    "### Wave functions must be normalized"
   ]
  },
  {
   "cell_type": "markdown",
   "id": "4cdf4639",
   "metadata": {},
   "source": [
    "Because the square of the wave function is related to the probability we can normalize the wave function based on \n",
    "\\begin{equation}\n",
    "\\int_{-\\infty}^{\\infty} P(x) dx = \\int_{-\\infty}^{\\infty} \\psi^*(x)\\psi(x)dx = 1\n",
    "\\end{equation}\n",
    "\n",
    "Let's consider what this means for the particle in a box wave functions.\n",
    "\\begin{align}\n",
    "\\psi_n(x) = B_n \\sin\\frac{n\\pi x}{a} \\\\\n",
    "\\psi_n^*(x) \\psi_n(x)  = B_n^*B_n \\sin^2\\frac{n\\pi x}{a}\n",
    "\\end{align}\n",
    "\n",
    "We can determine the value for $B_n$ based on the normalization condition.\n",
    "\\begin{align}\n",
    "\\int_0^a \\psi_n^*(x) \\psi_n(x)dx  = |B_n|^2 \\int_0^a\\sin^2\\frac{n\\pi x}{a}dx = 1\n",
    "\\end{align}\n",
    "where we have use the domain $0\\leq x \\leq a$ rather than $-\\infty< x < \\infty$ because that is the finite domain of this particular problem.  Now let's solve the $\\sin^2$ integral\n",
    "\\begin{align}\n",
    "\\int_0^a\\sin^2\\frac{n\\pi x}{a}dx = \\frac{a}{2}\n",
    "\\end{align}\n",
    "Thus, we have that \n",
    "\\begin{align}\n",
    "B = \\sqrt{\\frac{2}{a}}\n",
    "\\end{align}\n",
    "\n",
    "Finally, our normalized particle in a box wave functions are \n",
    "\\begin{equation}\n",
    "\\psi_n(x) = \\sqrt{\\frac{2}{a}} \\sin\\frac{n\\pi x}{a}\n",
    "\\end{equation}"
   ]
  },
  {
   "cell_type": "markdown",
   "id": "efa20bff",
   "metadata": {},
   "source": [
    "### Probabiliity of Observing Particle in Finite Domain"
   ]
  },
  {
   "cell_type": "markdown",
   "id": "1b3dbfc0",
   "metadata": {},
   "source": [
    "Since the square of the wave function is a probability function, we can determine the probability of observing a particle in a particular domain using the relationship\n",
    "\\begin{equation}\n",
    "\\text{Prob}(x_1 \\leq x \\leq x_2) = \\int_{x_1}^{x_2}P(x)dx = \\int_{x_1}^{x_2} \\psi^*(x)\\psi(x)dx\n",
    "\\end{equation}\n",
    "\n",
    "For example, compute the probability of observing the particle in a box being in the domain $\\frac{a}{3} \\leq x \\leq \\frac{2a}{3}$. We simply use the above equation and the normalized particle in a box wave function:\n",
    "\\begin{align}\n",
    "\\text{Prob}(\\frac{a}{3} \\leq x \\leq \\frac{2a}{3}) = \\frac{2}{a}\\int_{\\frac{a}{3}}^{\\frac{2a}{3}} \\sin^2\\frac{n\\pi x}{a}dx\n",
    "\\end{align}\n",
    "\n",
    "We will use the definite integral of $\\sin^2ax$ from a table:\n",
    "\\begin{equation}\n",
    "\\int\\sin^2axdx = \\frac{x}{2} - \\frac{\\sin2ax}{4a}\n",
    "\\end{equation}\n",
    "Perform $u = $ substition of the integral above to get into the table form\n",
    "\\begin{align}\n",
    "\\text{Prob}(\\frac{a}{3} \\leq x \\leq \\frac{2a}{3}) &= \\frac{2}{a}\\left[ \\frac{x}{2} - \\frac{\\sin\\frac{2n\\pi x}{a}}{\\frac{4n\\pi}{a}}\\right]_{\\frac{a}{3}}^{\\frac{2a}{3}} \\\\\n",
    "&= \\frac{2}{a}\\left[ \\frac{x}{2} - \\frac{a\\sin\\frac{2n\\pi x}{a}}{4n\\pi}\\right]_{\\frac{a}{3}}^{\\frac{2a}{3}} \\\\\n",
    "&= \\frac{2}{a}\\left[ \\frac{a}{3} - \\frac{a\\sin\\frac{4n\\pi}{3}}{4n\\pi} - \\frac{a}{6} + \\frac{a\\sin\\frac{2n\\pi }{3}}{4n\\pi}\\right] \\\\\n",
    "&= 2\\left[ \\frac{1}{6}  + \\frac{\\sin\\frac{2n\\pi }{3} - \\sin\\frac{4n\\pi}{3}}{4n\\pi}\\right]\n",
    "\\end{align}"
   ]
  },
  {
   "cell_type": "markdown",
   "id": "a29c8c50",
   "metadata": {},
   "source": [
    "### Computing Average Properties from a Wave Function"
   ]
  },
  {
   "cell_type": "markdown",
   "id": "46d0cbc9",
   "metadata": {},
   "source": [
    "Because of the probabilistic interpretation of the wave funtion, average properties can be computed from the wave function.  The general formula is\n",
    "\\begin{equation}\n",
    "<A> = \\int \\psi^*(x)\\hat{A}\\psi(x)dx\n",
    "\\end{equation}\n",
    "where $\\hat{A}$ is any operator.  This could be momentum, kinetic energy, etc."
   ]
  }
 ],
 "metadata": {
  "kernelspec": {
   "display_name": "Python 3",
   "language": "python",
   "name": "python3"
  },
  "language_info": {
   "codemirror_mode": {
    "name": "ipython",
    "version": 3
   },
   "file_extension": ".py",
   "mimetype": "text/x-python",
   "name": "python",
   "nbconvert_exporter": "python",
   "pygments_lexer": "ipython3",
   "version": "3.8.8"
  }
 },
 "nbformat": 4,
 "nbformat_minor": 5
}
