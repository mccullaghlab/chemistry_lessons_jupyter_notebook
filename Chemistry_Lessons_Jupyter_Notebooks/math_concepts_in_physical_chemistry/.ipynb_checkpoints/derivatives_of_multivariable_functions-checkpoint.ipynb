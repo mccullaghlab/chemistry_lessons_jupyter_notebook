{
 "cells": [
  {
   "cell_type": "markdown",
   "id": "badc6a9e",
   "metadata": {},
   "source": [
    "# Derivatives of Multivariable Functions"
   ]
  },
  {
   "cell_type": "markdown",
   "id": "92e69ebe",
   "metadata": {},
   "source": [
    "## Learning goals:\n",
    "\n",
    "After working through these notes, you will be able to:\n",
    "\n",
    "1. Define what a multivariable function is\n",
    "2. Identify at least one multivariable function\n",
    "3. Determine *partial derivatives* of multivariable functions\n",
    "4. Write out the *total differential* of a multivariable function\n",
    "5. Determine *total derivatives* of multivariable functions"
   ]
  },
  {
   "cell_type": "markdown",
   "id": "d9a63968",
   "metadata": {},
   "source": [
    "## Coding concepts:\n",
    "\n",
    "No coding concepts are used in this notebook. "
   ]
  },
  {
   "cell_type": "markdown",
   "id": "34145e32",
   "metadata": {},
   "source": [
    "## Multivariable Functions"
   ]
  },
  {
   "cell_type": "markdown",
   "id": "fc92e3eb",
   "metadata": {},
   "source": [
    "Multivariable functions relate a dependent variable (e.g. $f(x,y)$) to *at least two* independent variables.  These types of functions are more common than you might think.  The elevation of the surface of the earth, for example, is a function of two variables, the latitude and longitude.  A common example in chemistry is the ideal gas law:\n",
    "\\begin{equation}\n",
    "PV = nRT\n",
    "\\end{equation}\n",
    "This can be rewritten as\n",
    "\\begin{equation}\n",
    "P(\\rho,T) = \\rho RT,\n",
    "\\end{equation}\n",
    "where $\\rho=n/V$ is the concentration or molar density of the gas.  This form of the equation makes it clear that the pressure, $P$, depends on the concentration and temperature of the gas.  "
   ]
  },
  {
   "cell_type": "markdown",
   "id": "8c891b7d",
   "metadata": {},
   "source": [
    "## Derivatives of Multivariable Functions"
   ]
  },
  {
   "cell_type": "markdown",
   "id": "5f0672c5",
   "metadata": {},
   "source": [
    "Taking derivatives of multivariable functions is not as straightforward as derivatives in 1D.  This is simply because we can differentiate with respect to one or more of the independent variables.  *Partial derivatives* are the derivatives of a multivariable function along one independent variable while holding the others constant and *Total derivatives* are derivatives of the function while allowing the other variables to vary."
   ]
  },
  {
   "cell_type": "markdown",
   "id": "1e20d4a7",
   "metadata": {},
   "source": [
    "### Partial Derivatives"
   ]
  },
  {
   "cell_type": "markdown",
   "id": "4e994048",
   "metadata": {},
   "source": [
    "*Partial derivatives* are the derivatives of a multivariable function along one independent variable while holding the others constant.  Let's consider an example function of two variables\n",
    "\\begin{equation}\n",
    "f(x,y) = x^2 + 2xy + 3\n",
    "\\end{equation}\n",
    "\n",
    "If we consider taking the derivative of this function we must ask the question \"derivative with respect to which variable?\"  We can do either and when we do so and hold the other constant we call these partial derivatives.  Partial derivatives are distinguished from total derivatives by their squigly-backed ds.\n",
    "\n",
    "Let's take the partial derivative of $f(x,y)$ w.r.t $x$:\n",
    "\\begin{align}\n",
    "\\frac{\\partial f}{\\partial x} = 2x + 2y\n",
    "\\end{align}\n",
    "We see that the same rules apply when we do partial derivatives and normal derivatives in 1D.  When we take the *partial derivative* with respect to $x$ we treat $y$ as a constant. Similarly for the *partial derivative* with respect to $y$:\n",
    "\\begin{align}\n",
    "\\frac{\\partial f}{\\partial y} = 2x\n",
    "\\end{align}\n",
    "\n",
    "*Partial derivatives* of multivariable functions are about as easy as derivatives of 1D functions.  We just need to remember the rules of differentiation in 1D and to treat all other variables as constants."
   ]
  },
  {
   "cell_type": "markdown",
   "id": "48b16156",
   "metadata": {},
   "source": [
    "### Total Derivatives"
   ]
  },
  {
   "cell_type": "markdown",
   "id": "24b0aa83",
   "metadata": {},
   "source": [
    "If we consider the derivative of a function to be the slope of that function at a given point, the slope of a 2D function should itself be 2D.  If you are at the top of the mountain, for example, the slope may be different in front of you than to your left.  The quantity that represents the *total* change of the function is called the *total differential*.  For a function, $f(x,y)$, of two variables the *total differential* is given by\n",
    "\\begin{equation}\n",
    "df = \\left(\\frac{\\partial f}{\\partial x} \\right)dx + \\left( \\frac{\\partial f}{\\partial \n",
    "y}\\right)dy\n",
    "\\end{equation}\n",
    "\n",
    "This equation states that the change in $f$, $df$, will be the slope in $x$, $\\frac{\\partial f}{\\partial x}$, times the change in $x$, $dx$, plus the slope in $y$, $\\frac{\\partial f}{\\partial y}$, times the change in $y$, $dy$.  That is, if I am standing at a particular latitute and longitude and take a step ($(dx,dy)$), then the change in elevation that I went through is equal to the slope along the latitude times my change in latitude plut the slope along the longitude times my change in longitude.  \n",
    "\n",
    "One can also determine *total derivatives* in $x$ and $y$ from the above equation (or using the chain rule).  The total derivative of $f$ with respect to $x$ can be determined by effectively dividing both sides of the above equation by $dx$ to yield:\n",
    "\\begin{equation}\n",
    "\\frac{df}{dx} = \\left(\\frac{\\partial f}{\\partial x} \\right) + \\left( \\frac{\\partial f}{\\partial \n",
    "y}\\right)\\frac{dy}{dx}\n",
    "\\end{equation}\n",
    "An analagous equation can be determined for the total derivative with respect to $y$.  We see that the total derivative is equivalent to the partial derivative if $x$ and $y$ are independent (i.e. $\\frac{dy}{dx}=0$)."
   ]
  },
  {
   "cell_type": "markdown",
   "id": "ace002c4",
   "metadata": {},
   "source": [
    "### Total and Partial Derivatives of the Ideal Gas Law"
   ]
  },
  {
   "cell_type": "markdown",
   "id": "c73e3666",
   "metadata": {},
   "source": [
    "Let's use the ideal gas law to determine some total and partial derivatives.  We will use the form\n",
    "\\begin{equation}\n",
    "P(\\rho,T) = \\rho RT,\n",
    "\\end{equation}\n",
    "\n",
    "The *partial derivatives* of $P$ with respect to $\\rho$ and $T$ are:\n",
    "\\begin{align}\n",
    "\\frac{\\partial P}{\\partial \\rho} &= RT \\\\\n",
    "\\frac{\\partial P}{\\partial T} &= \\rho R\n",
    "\\end{align}\n",
    "\n",
    "The *total differential* of $P$ is given by\n",
    "\\begin{align}\n",
    "dP &= \\frac{\\partial P}{\\partial \\rho}d\\rho + \\frac{\\partial P}{\\partial T}dT \\\\\n",
    "&= RTd\\rho + \\rho R dT\n",
    "\\end{align}\n",
    "\n",
    "Finally, the *total derivatives* of $P$ are\n",
    "\\begin{align}\n",
    "\\frac{d P}{d \\rho} &= RT + \\rho R\\frac{dT}{d\\rho} \\\\\n",
    "\\frac{d P}{d T} &= RT\\frac{d\\rho}{dT} + \\rho R \n",
    "\\end{align}\n",
    "\n",
    "In this case, we would expect the molar density of the gas to be temperature dependent and thus $\\frac{d\\rho}{dT} \\neq 0$.  This implies that the total derivatives and partial derivatives are not equivalent in this case. "
   ]
  }
 ],
 "metadata": {
  "kernelspec": {
   "display_name": "Python 3 (ipykernel)",
   "language": "python",
   "name": "python3"
  },
  "language_info": {
   "codemirror_mode": {
    "name": "ipython",
    "version": 3
   },
   "file_extension": ".py",
   "mimetype": "text/x-python",
   "name": "python",
   "nbconvert_exporter": "python",
   "pygments_lexer": "ipython3",
   "version": "3.9.13"
  }
 },
 "nbformat": 4,
 "nbformat_minor": 5
}
