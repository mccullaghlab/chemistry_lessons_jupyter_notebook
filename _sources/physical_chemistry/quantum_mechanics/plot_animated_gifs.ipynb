{
 "cells": [
  {
   "cell_type": "code",
   "execution_count": 11,
   "id": "cb1cc19b",
   "metadata": {},
   "outputs": [
    {
     "name": "stdout",
     "output_type": "stream",
     "text": [
      "3.012396805357339e-13\n",
      "3041021944.924917\n"
     ]
    }
   ],
   "source": [
    "me = 9.109e-31\n",
    "h = 6.626e-34\n",
    "a = 1e-12\n",
    "c = 2.99e8\n",
    "cm_per_m = 100\n",
    "print(h**2*5/(8*a**2*me))\n",
    "print(h/(8*a**2*me*c)/cm_per_m)"
   ]
  },
  {
   "cell_type": "code",
   "execution_count": 13,
   "id": "abe540b1",
   "metadata": {},
   "outputs": [
    {
     "name": "stdout",
     "output_type": "stream",
     "text": [
      "45512.83427109526\n"
     ]
    }
   ],
   "source": [
    "print(3041021944.924917/578**2*(3*3-2*2))"
   ]
  },
  {
   "cell_type": "code",
   "execution_count": 14,
   "id": "b6de59cc",
   "metadata": {},
   "outputs": [
    {
     "name": "stdout",
     "output_type": "stream",
     "text": [
      "8840636.239006279\n"
     ]
    }
   ],
   "source": [
    "print(3041021944.924917/234.6**2*(13*13-3*3))"
   ]
  },
  {
   "cell_type": "code",
   "execution_count": 15,
   "id": "d9a34354",
   "metadata": {},
   "outputs": [
    {
     "name": "stdout",
     "output_type": "stream",
     "text": [
      "2162470.570320745\n"
     ]
    }
   ],
   "source": [
    "print(3041021944.924917/481.7**2*(13*13-2*2))"
   ]
  },
  {
   "cell_type": "code",
   "execution_count": null,
   "id": "f416a66f",
   "metadata": {},
   "outputs": [],
   "source": []
  },
  {
   "cell_type": "code",
   "execution_count": 19,
   "id": "d1eb72d4",
   "metadata": {},
   "outputs": [],
   "source": [
    "import matplotlib.pyplot as plt\n",
    "%matplotlib inline"
   ]
  },
  {
   "cell_type": "code",
   "execution_count": 39,
   "id": "5919d42c",
   "metadata": {},
   "outputs": [],
   "source": [
    "# plot a frame\n",
    "\n",
    "def plot_frame(t, x0, v, a):\n",
    "    x = x0 + v*t\n",
    "    if x > a:\n",
    "        x = 2*a-x\n",
    "        v *= -1\n",
    "    elif x < 0:\n",
    "        x = -x\n",
    "        v*= -1\n",
    "    # setup plot parameters\n",
    "    fig = plt.figure(figsize=(6,4), dpi= 80, facecolor='w', edgecolor='k')\n",
    "    ax = plt.subplot(111)\n",
    "    ax.plot(x,0,marker='o',markersize=30)\n",
    "    ax.set_xlabel(r'$x/a$',size=20)\n",
    "    ax.get_yaxis().set_visible(False)\n",
    "    plt.ylim((-0.03,0.03))\n",
    "    plt.xlim((0.0,1.0))\n",
    "    plt.savefig(f'./img/img_{t}.png', \n",
    "                transparent = False,  \n",
    "                facecolor = 'white'\n",
    "               )\n",
    "    plt.close()"
   ]
  },
  {
   "cell_type": "code",
   "execution_count": 40,
   "id": "8337ef30",
   "metadata": {},
   "outputs": [],
   "source": [
    "a = 1.0\n",
    "v = a/100\n",
    "x0 = 0\n",
    "plot_frame(120, x0, v, a)"
   ]
  },
  {
   "cell_type": "code",
   "execution_count": 57,
   "id": "58fd3008",
   "metadata": {},
   "outputs": [],
   "source": [
    "import numpy as np\n",
    "time = np.arange(0,50)\n",
    "a = 1.0\n",
    "v = a/25\n",
    "x0 = 0\n",
    "for t in time:\n",
    "    plot_frame(t, x0, v, a)"
   ]
  },
  {
   "cell_type": "code",
   "execution_count": 58,
   "id": "ecc370c0",
   "metadata": {},
   "outputs": [],
   "source": [
    "import imageio\n",
    "frames = []\n",
    "for t in time:\n",
    "    #image = iio.imread(f'./img/img_{t}.png')\n",
    "    image = imageio.imread(f'./img/img_{t}.png')\n",
    "    frames.append(image)"
   ]
  },
  {
   "cell_type": "code",
   "execution_count": 60,
   "id": "1367b33a",
   "metadata": {},
   "outputs": [],
   "source": [
    "imageio.mimsave('./img/particle_in_a_box.gif', # output gif\n",
    "                frames,          # array of input frames\n",
    "                fps = 10)         # optional: frames per second"
   ]
  },
  {
   "cell_type": "code",
   "execution_count": 78,
   "id": "c65b7d56",
   "metadata": {},
   "outputs": [],
   "source": [
    "def plot_sin_frame(t, x0, v, a, n):\n",
    "    x = x0 + v*t\n",
    "    if x > a:\n",
    "        x = 2*a-x\n",
    "        v *= -1\n",
    "    elif x < 0:\n",
    "        x = -x\n",
    "        v*= -1\n",
    "    # setup plot parameters\n",
    "    fig = plt.figure(figsize=(6,4), dpi= 80, facecolor='w', edgecolor='k')\n",
    "    ax = plt.subplot(111)\n",
    "    ax.plot(x,np.sin(n*np.pi*x/a),marker='o',markersize=30)\n",
    "    all_x = np.arange(0,a,0.01)\n",
    "    ax.plot(all_x,np.sin(n*np.pi*all_x/a),'--',lw=2)\n",
    "    ax.set_xlabel(r'$x/a$',size=20)\n",
    "    ax.get_yaxis().set_visible(False)\n",
    "    plt.ylim((-1,1))\n",
    "    plt.xlim((0.0,1.0))\n",
    "    #plt.show();\n",
    "    plt.savefig(f'./img/img_{t}.png', \n",
    "                transparent = False,  \n",
    "                facecolor = 'white'\n",
    "               )\n",
    "    plt.close()"
   ]
  },
  {
   "cell_type": "code",
   "execution_count": 70,
   "id": "766841d2",
   "metadata": {},
   "outputs": [],
   "source": [
    "a = 1.0\n",
    "v = a/100\n",
    "x0 = 0\n",
    "n = 1\n",
    "plot_sin_frame(1, x0, v, a, n)"
   ]
  },
  {
   "cell_type": "code",
   "execution_count": 71,
   "id": "2ee255ca",
   "metadata": {},
   "outputs": [],
   "source": [
    "import numpy as np\n",
    "time = np.arange(0,50)\n",
    "a = 1.0\n",
    "n = 1\n",
    "v = a/25\n",
    "x0 = 0\n",
    "for t in time:\n",
    "    plot_sin_frame(t, x0, v, a, 1)\n",
    "frames = []\n",
    "for t in time:\n",
    "    #image = iio.imread(f'./img/img_{t}.png')\n",
    "    image = imageio.imread(f'./img/img_{t}.png')\n",
    "    frames.append(image)\n",
    "imageio.mimsave('./img/particle_in_sin_wave.gif', # output gif\n",
    "                frames,          # array of input frames\n",
    "                fps = 10)         # optional: frames per second"
   ]
  },
  {
   "cell_type": "markdown",
   "id": "904abe0d",
   "metadata": {},
   "source": [
    "![title](img/particle_in_sin_wave.gif)"
   ]
  },
  {
   "cell_type": "code",
   "execution_count": 75,
   "id": "5057f0c4",
   "metadata": {},
   "outputs": [],
   "source": [
    "import numpy as np\n",
    "time = np.arange(0,100)\n",
    "a = 1.0\n",
    "n = 3\n",
    "v = a/50\n",
    "x0 = 0\n",
    "for t in time:\n",
    "    plot_sin_frame(t, x0, v, a, n)\n",
    "frames = []\n",
    "for t in time:\n",
    "    #image = iio.imread(f'./img/img_{t}.png')\n",
    "    image = imageio.imread(f'./img/img_{t}.png')\n",
    "    frames.append(image)\n",
    "imageio.mimsave('./img/particle_in_sin_wave_n_3.gif', # output gif\n",
    "                frames,          # array of input frames\n",
    "                fps = 10)   "
   ]
  },
  {
   "cell_type": "markdown",
   "id": "968eeae8",
   "metadata": {},
   "source": [
    "![title](img/particle_in_sin_wave_n_3.gif)"
   ]
  },
  {
   "cell_type": "code",
   "execution_count": 79,
   "id": "deabfba3",
   "metadata": {},
   "outputs": [],
   "source": [
    "import numpy as np\n",
    "time = np.arange(0,100)\n",
    "a = 1.0\n",
    "n = 4\n",
    "v = a/50\n",
    "x0 = 0\n",
    "for t in time:\n",
    "    plot_sin_frame(t, x0, v, a, n)\n",
    "frames = []\n",
    "for t in time:\n",
    "    #image = iio.imread(f'./img/img_{t}.png')\n",
    "    image = imageio.imread(f'./img/img_{t}.png')\n",
    "    frames.append(image)\n",
    "imageio.mimsave('./img/particle_in_sin_wave_n_4.gif', # output gif\n",
    "                frames,          # array of input frames\n",
    "                fps = 10)  "
   ]
  },
  {
   "cell_type": "markdown",
   "id": "0d788828",
   "metadata": {},
   "source": [
    "![title](img/particle_in_sin_wave_n_4.gif)"
   ]
  },
  {
   "cell_type": "code",
   "execution_count": 145,
   "id": "d907d2df",
   "metadata": {},
   "outputs": [],
   "source": [
    "def plot_classical_wave_frame(t, nu, max_n):\n",
    "    a = 1\n",
    "    # setup plot parameters\n",
    "    fig = plt.figure(figsize=(6,4), dpi= 80, facecolor='w', edgecolor='k')\n",
    "    ax = plt.subplot(111)\n",
    "    all_x = np.arange(0,a,0.01)\n",
    "    n = 1\n",
    "    partial_sum = np.sin(n*np.pi*all_x/a)*np.cos(nu*n*t/(2*a))\n",
    "    ax.plot(all_x,partial_sum,'--',lw=2, label=\"n=1\")\n",
    "    n = 2\n",
    "    partial_sum += np.sin(n*np.pi*all_x/a)*np.cos(nu*n*t/(2*a)+np.pi/2)\n",
    "    ax.plot(all_x,np.sin(n*np.pi*all_x/a)*np.cos(nu*n*t/(2*a)+np.pi/2),'--',lw=2, label=\"n=2\") \n",
    "    ax.plot(all_x,partial_sum,'-',lw=3, label=\"u(x,t)\")\n",
    "    plt.legend(fontsize=12)\n",
    "    ax.set_xlabel(r'$x/l$',size=20)\n",
    "    ax.get_yaxis().set_visible(False)\n",
    "    plt.ylim((-2,2))\n",
    "    plt.xlim((0.0,1.0))\n",
    "#    plt.show();\n",
    "    plt.savefig(f'./img/img_{t}.png', \n",
    "                transparent = False,  \n",
    "                facecolor = 'white'\n",
    "               )\n",
    "    plt.close()"
   ]
  },
  {
   "cell_type": "code",
   "execution_count": 131,
   "id": "300b214c",
   "metadata": {},
   "outputs": [
    {
     "data": {
      "image/png": "[encoded data removed]",
      "text/plain": [
       "<Figure size 480x320 with 1 Axes>"
      ]
     },
     "metadata": {},
     "output_type": "display_data"
    }
   ],
   "source": [
    "plot_classical_wave_frame(12,0.2,1)"
   ]
  },
  {
   "cell_type": "code",
   "execution_count": 146,
   "id": "bdef7f2c",
   "metadata": {},
   "outputs": [],
   "source": [
    "import numpy as np\n",
    "time = np.arange(0,120)\n",
    "for t in time:\n",
    "    plot_classical_wave_frame(t,0.1,1)\n",
    "frames = []\n",
    "for t in time:\n",
    "    #image = iio.imread(f'./img/img_{t}.png')\n",
    "    image = imageio.imread(f'./img/img_{t}.png')\n",
    "    frames.append(image)\n",
    "imageio.mimsave('./img/classical_wave_two_modes_v02.gif', # output gif\n",
    "                frames,          # array of input frames\n",
    "                fps = 10)  "
   ]
  },
  {
   "cell_type": "markdown",
   "id": "5e39207a",
   "metadata": {},
   "source": [
    "![title](img/classical_wave_two_modes_v02.gif)"
   ]
  },
  {
   "cell_type": "markdown",
   "id": "1ac47dd6",
   "metadata": {},
   "source": [
    "![title](img/classical_wave_three_modes_v01.gif)"
   ]
  },
  {
   "cell_type": "code",
   "execution_count": null,
   "id": "1c267c9d",
   "metadata": {},
   "outputs": [],
   "source": []
  }
 ],
 "metadata": {
  "kernelspec": {
   "display_name": "Python 3",
   "language": "python",
   "name": "python3"
  },
  "language_info": {
   "codemirror_mode": {
    "name": "ipython",
    "version": 3
   },
   "file_extension": ".py",
   "mimetype": "text/x-python",
   "name": "python",
   "nbconvert_exporter": "python",
   "pygments_lexer": "ipython3",
   "version": "3.8.8"
  }
 },
 "nbformat": 4,
 "nbformat_minor": 5
}
