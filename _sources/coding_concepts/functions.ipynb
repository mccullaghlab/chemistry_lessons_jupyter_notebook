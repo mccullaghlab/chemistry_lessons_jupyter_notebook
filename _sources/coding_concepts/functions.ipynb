{
 "cells": [
  {
   "cell_type": "markdown",
   "metadata": {},
   "source": [
    "# Functions\n",
    "\n",
    "Functions are pieces of code that we will want to use numerous times.  This could be as simple as $f(x) = sin(x)$, or something much more complicated."
   ]
  },
  {
   "cell_type": "markdown",
   "metadata": {},
   "source": [
    "## Learning goals\n",
    "\n",
    "After this notebook, you should be able to\n",
    "\n",
    "1. Define a python function\n",
    "2. Use a python function"
   ]
  },
  {
   "cell_type": "markdown",
   "metadata": {},
   "source": [
    "## Syntax"
   ]
  },
  {
   "cell_type": "markdown",
   "metadata": {},
   "source": [
    "If we want to compute $f(x) = sin(x)$ numerous times throughout our code or our notebook, it can be useful to define a function that performs this manipulation and returns the result.  The syntax for this is \n",
    "\n",
    "`def function_name(arguments):`\n",
    "\n",
    "Tabbed in below the definition, you write the lines of code that you want to perform.  Importantly, the last line should read \n",
    "\n",
    "`return some_value`\n",
    "\n",
    "where your code needs to have defined variable `some_value` prior to the return line. This line returns this value just like $f(x)$ returns the value of $f$ at position $x$.\n",
    "\n",
    "I will define a couple of example functions below"
   ]
  },
  {
   "cell_type": "code",
   "execution_count": 1,
   "metadata": {},
   "outputs": [],
   "source": [
    "import numpy as np\n",
    "def function_sin(x):\n",
    "    return np.sin(x)"
   ]
  },
  {
   "cell_type": "code",
   "execution_count": 2,
   "metadata": {},
   "outputs": [
    {
     "name": "stdout",
     "output_type": "stream",
     "text": [
      "sin(pi/4) =  0.7071067811865475\n"
     ]
    }
   ],
   "source": [
    "x = np.pi/4\n",
    "print(\"sin(pi/4) = \", function_sin(x))"
   ]
  },
  {
   "cell_type": "markdown",
   "metadata": {},
   "source": [
    "Now this function is a bit silly for two reasons.  First is that the function is pretty simple so it is not really necessary to define a function to do this manipulation.  Second, our function actually just calls a `numpy` function for sin.  We didn't really write our own.  But that is ok for now."
   ]
  },
  {
   "cell_type": "code",
   "execution_count": 4,
   "metadata": {},
   "outputs": [],
   "source": [
    "def polynomial_function(x):\n",
    "    return x**5 + 4*x**2 - 2*x + 6"
   ]
  },
  {
   "cell_type": "code",
   "execution_count": 5,
   "metadata": {},
   "outputs": [
    {
     "name": "stdout",
     "output_type": "stream",
     "text": [
      "3^5 + 4*3^2 - 2*3 +6 =  279\n"
     ]
    }
   ],
   "source": [
    "x = 3\n",
    "print(\"3^5 + 4*3^2 - 2*3 +6 = \", polynomial_function(x))"
   ]
  },
  {
   "cell_type": "markdown",
   "metadata": {},
   "source": [
    "## Functions with more than one argument"
   ]
  },
  {
   "cell_type": "markdown",
   "metadata": {},
   "source": [
    "You can feed multiple arguments to fuction.  This could be because your function has more than one variable, e.g. $f(x,y)$, or because there are parameters/constants that need to be fed to the function at different times. \n",
    "\n",
    "We will use the ideal gas law as an example: $PV = nRT$.  This can be written as $P$ as a function of $n, V, T$\n",
    "\\begin{equation}\n",
    "P(n,V,T) = \\frac{nRT}{V}\n",
    "\\end{equation}\n",
    "\n",
    "but we see that we also have $R$, the universal gas constant to deal with.  The value of this constant will depend on the units that you are using for volume and the desired units of pressure."
   ]
  },
  {
   "cell_type": "code",
   "execution_count": 6,
   "metadata": {},
   "outputs": [],
   "source": [
    "def p_ideal(n, V, T, R):\n",
    "    return n*R*T/V"
   ]
  },
  {
   "cell_type": "code",
   "execution_count": 9,
   "metadata": {},
   "outputs": [
    {
     "name": "stdout",
     "output_type": "stream",
     "text": [
      "P(1mol, 22.4 L, 300K) =  1.099017857142857 atm\n"
     ]
    }
   ],
   "source": [
    "R = 0.08206 # units of L atm mol^{-1} K^{-1}\n",
    "n = 1       # units of mol\n",
    "T = 300     # K\n",
    "V = 22.4    # L\n",
    "print(\"P(1mol, 22.4 L, 300K) = \", p_ideal(n,V,T,R), \"atm\")"
   ]
  },
  {
   "cell_type": "code",
   "execution_count": null,
   "metadata": {},
   "outputs": [],
   "source": []
  }
 ],
 "metadata": {
  "kernelspec": {
   "display_name": "Python 3",
   "language": "python",
   "name": "python3"
  },
  "language_info": {
   "codemirror_mode": {
    "name": "ipython",
    "version": 3
   },
   "file_extension": ".py",
   "mimetype": "text/x-python",
   "name": "python",
   "nbconvert_exporter": "python",
   "pygments_lexer": "ipython3",
   "version": "3.8.8"
  }
 },
 "nbformat": 4,
 "nbformat_minor": 2
}
